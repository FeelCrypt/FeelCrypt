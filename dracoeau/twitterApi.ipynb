{
 "cells": [
  {
   "cell_type": "markdown",
   "metadata": {},
   "source": [
    "Import de l'API twitter"
   ]
  },
  {
   "cell_type": "code",
   "execution_count": 7,
   "metadata": {},
   "outputs": [],
   "source": [
    "import twitter"
   ]
  },
  {
   "cell_type": "markdown",
   "metadata": {},
   "source": [
    "Authentification à l'API twitter en mode developper"
   ]
  },
  {
   "cell_type": "code",
   "execution_count": 8,
   "metadata": {},
   "outputs": [],
   "source": [
    "api = twitter.Api(consumer_key='WfQELhZV1qiIvYVfBc5wqO5xr',\n",
    "                      consumer_secret='wdldaj2Hw6h7nRp2KTYYOLk7kkmkPA6SfXdwAppYoIQa5Z19P1',\n",
    "                      access_token_key='1174300508384911365-U8PxqaeUtfyy7jV4Rwtc9DTU2IQj7L',\n",
    "                      access_token_secret='zIoV392S1t062tFprvGhWwkqtCla5iMSRJdzYZa8VO7at')"
   ]
  },
  {
   "cell_type": "markdown",
   "metadata": {},
   "source": [
    "La on recupere tous les tweets : 9 967 ici"
   ]
  },
  {
   "cell_type": "code",
   "execution_count": 9,
   "metadata": {},
   "outputs": [
    {
     "name": "stdout",
     "output_type": "stream",
     "text": [
      "9967\n"
     ]
    }
   ],
   "source": [
    "searchTweets = api.GetSearch(term='Bitcoin', lang='en', result_type='recent', count=100, max_id='')\n",
    "lowerCurrentID = searchTweets[len(searchTweets)-1].id\n",
    "for i in range(100):\n",
    "    searchTweets += api.GetSearch(term='Bitcoin', lang='en', result_type='recent', count=100, max_id=lowerCurrentID-1)\n",
    "    lowerCurrentID = searchTweets[len(searchTweets)-1].id\n",
    "print(len(searchTweets))"
   ]
  },
  {
   "cell_type": "markdown",
   "metadata": {},
   "source": [
    "On sauvegarde dans nos fichiers tous nos tweets"
   ]
  },
  {
   "cell_type": "code",
   "execution_count": 12,
   "metadata": {},
   "outputs": [],
   "source": [
    "mon_fichier = open(\"tweets2.txt\",\"w\")\n",
    "for tweet in searchTweets:\n",
    "    mon_fichier.write(str(tweet))\n",
    "    mon_fichier.write(\"\\n\")\n",
    "mon_fichier.close()"
   ]
  },
  {
   "cell_type": "markdown",
   "metadata": {},
   "source": [
    "Clean Datas"
   ]
  },
  {
   "cell_type": "code",
   "execution_count": 13,
   "metadata": {},
   "outputs": [],
   "source": [
    "import re"
   ]
  },
  {
   "cell_type": "code",
   "execution_count": 72,
   "metadata": {},
   "outputs": [],
   "source": [
    "def clean_tweet(tweet, pattern):\n",
    "    occurence = re.findall(pattern, tweet)\n",
    "    tweetClean = tweet\n",
    "    for element in occurence:\n",
    "        tweetClean = re.sub(element,'',tweetClean)\n",
    "    return tweetClean"
   ]
  },
  {
   "cell_type": "markdown",
   "metadata": {},
   "source": [
    "TWEET AVANT NETTOYAGE"
   ]
  },
  {
   "cell_type": "code",
   "execution_count": 70,
   "metadata": {},
   "outputs": [
    {
     "name": "stdout",
     "output_type": "stream",
     "text": [
      "\"They are speed holes, they make the car go faster.\" \n",
      "\n",
      "$btc $xrp $eth $ltc $ada $etc $doge $link $xlm $bnb $trx… https://t.co/nSM5mKyh2E\n"
     ]
    }
   ],
   "source": [
    "strTweet = searchTweets[1].text\n",
    "print(strTweet)"
   ]
  },
  {
   "cell_type": "markdown",
   "metadata": {},
   "source": [
    "TWEET APRES NETTOYAGE"
   ]
  },
  {
   "cell_type": "code",
   "execution_count": 74,
   "metadata": {},
   "outputs": [
    {
     "name": "stdout",
     "output_type": "stream",
     "text": [
      "\n",
      "They are speed holes, they make the car go faster. btc xrp eth ltc ada etc doge link xlm bnb trx… \n"
     ]
    }
   ],
   "source": [
    "strtest = \"They are speed holes, they make the car go faster. btc xrp eth ltc ada etc doge link xlm bnb trx… https://t.co/nSM5mKyh2E\"\n",
    "cleanTweet = clean_tweet(strtest, \"@[\\w]*\")\n",
    "# clean URL reference\n",
    "cleanTweet = clean_tweet(cleanTweet, \"https?://[A-Za-z0-9./]+\")\n",
    "# Clean hashtag\n",
    "cleanTweet = clean_tweet(cleanTweet, \"#\")\n",
    "print()\n",
    "print(cleanTweet)"
   ]
  },
  {
   "cell_type": "markdown",
   "metadata": {},
   "source": [
    "On clean les tweets"
   ]
  },
  {
   "cell_type": "code",
   "execution_count": 78,
   "metadata": {},
   "outputs": [],
   "source": [
    "tweetCleanArray = []\n",
    "# clean @ reference\n",
    "for tweet in searchTweets:\n",
    "    tweetText = tweet.text\n",
    "    tweetClean = clean_tweet(tweetText, \"@[\\w]*\")\n",
    "    # clean URL reference\n",
    "    tweetClean = clean_tweet(tweetClean, \"https?://[A-Za-z0-9./]+\")\n",
    "    # Clean hashtag\n",
    "    tweetClean = clean_tweet(tweetClean, \"#\")\n",
    "    tweetCleanArray.append(tweetClean)"
   ]
  },
  {
   "cell_type": "markdown",
   "metadata": {},
   "source": [
    "ALGO NLP VADER"
   ]
  },
  {
   "cell_type": "code",
   "execution_count": 80,
   "metadata": {},
   "outputs": [],
   "source": [
    "from vaderSentiment.vaderSentiment import SentimentIntensityAnalyzer"
   ]
  },
  {
   "cell_type": "code",
   "execution_count": 81,
   "metadata": {},
   "outputs": [],
   "source": [
    "analyser = SentimentIntensityAnalyzer()"
   ]
  },
  {
   "cell_type": "markdown",
   "metadata": {},
   "source": [
    "polarity_score donne la propertion dans le texte de positif, negatif et neutre.\n",
    "Compound utilise un lexique de notations de tous les mots COMPOUND INDIQUE SI LE SENTIMENT EST POSITIF OU NEGATIF"
   ]
  },
  {
   "cell_type": "code",
   "execution_count": 83,
   "metadata": {},
   "outputs": [],
   "source": [
    "sentiment = []\n",
    "for tweetText in tweetCleanArray:\n",
    "    score = analyser.polarity_scores(tweetText)\n",
    "    sentiment.append(score)"
   ]
  },
  {
   "cell_type": "code",
   "execution_count": 84,
   "metadata": {},
   "outputs": [],
   "source": [
    "import pandas as pd\n",
    "tweetScore = pd.DataFrame(sentiment)"
   ]
  },
  {
   "cell_type": "code",
   "execution_count": 85,
   "metadata": {},
   "outputs": [
    {
     "name": "stdout",
     "output_type": "stream",
     "text": [
      "compound    0.128006\n",
      "neg         0.048115\n",
      "neu         0.851329\n",
      "pos         0.100048\n",
      "dtype: float64\n"
     ]
    }
   ],
   "source": [
    "print(tweetScore.mean())"
   ]
  }
 ],
 "metadata": {
  "kernelspec": {
   "display_name": "Python 3",
   "language": "python",
   "name": "python3"
  },
  "language_info": {
   "codemirror_mode": {
    "name": "ipython",
    "version": 3
   },
   "file_extension": ".py",
   "mimetype": "text/x-python",
   "name": "python",
   "nbconvert_exporter": "python",
   "pygments_lexer": "ipython3",
   "version": "3.7.3"
  }
 },
 "nbformat": 4,
 "nbformat_minor": 2
}
