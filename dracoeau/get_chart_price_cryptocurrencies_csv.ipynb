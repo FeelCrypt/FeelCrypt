{
 "cells": [
  {
   "cell_type": "code",
   "execution_count": 72,
   "metadata": {},
   "outputs": [],
   "source": [
    "def get_csv_cryptocurrency_prices(currency):\n",
    "    import requests\n",
    "    import json\n",
    "    import csv\n",
    "    import pandas as pd\n",
    "    url = f'http://api.coincap.io/v2/assets/{currency}/history?interval=d1'\n",
    "    payload = {}\n",
    "    headers = {}\n",
    "    response = requests.request('GET', url, headers = headers, data = payload)\n",
    "    currencyJson = json.loads(response.text)\n",
    "    del currencyJson[\"timestamp\"]\n",
    "    currencyJsonClean = formatJson[\"data\"]\n",
    "    df = pd.DataFrame(currencyJsonClean)\n",
    "    df.to_csv(f'chart_price_{currency}.csv',index=False)"
   ]
  },
  {
   "cell_type": "code",
   "execution_count": 73,
   "metadata": {},
   "outputs": [],
   "source": [
    "get_csv_cryptocurrency_prices(\"bitcoin\")"
   ]
  }
 ],
 "metadata": {
  "kernelspec": {
   "display_name": "Python 3",
   "language": "python",
   "name": "python3"
  },
  "language_info": {
   "codemirror_mode": {
    "name": "ipython",
    "version": 3
   },
   "file_extension": ".py",
   "mimetype": "text/x-python",
   "name": "python",
   "nbconvert_exporter": "python",
   "pygments_lexer": "ipython3",
   "version": "3.7.3"
  }
 },
 "nbformat": 4,
 "nbformat_minor": 2
}
