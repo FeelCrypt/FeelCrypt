{
 "cells": [
  {
   "cell_type": "code",
   "execution_count": 206,
   "metadata": {},
   "outputs": [],
   "source": [
    "import requests\n",
    "import json\n",
    "import csv\n",
    "import pandas as pd\n",
    "import time as t\n",
    "import urllib.request\n",
    "from datetime import date"
   ]
  },
  {
   "cell_type": "code",
   "execution_count": 213,
   "metadata": {},
   "outputs": [],
   "source": [
    "def get_csv_crypto_prices(currency):\n",
    "    currentTimeStamp = int(t.time())\n",
    "    url=f'https://min-api.cryptocompare.com/data/v2/histoday?fsym=BTC&tsym=USD&allData=true'\n",
    "    urllib.request.urlretrieve(url, 'btc.json')\n",
    "    f = open('btc.json')\n",
    "    data = pd.read_json(f)\n",
    "    btc_csv = data.to_csv('btc.csv')\n",
    "    df = pd.read_csv('btc.csv')\n",
    "    df = clean_csv(df)\n",
    "    btc_data = df['Data']\n",
    "    btc_list = pd.Series(btc_data.iloc[0])\n",
    "    btc_list = btc_list[0]\n",
    "    btc_list = btc_list.replace(\"\\'\",\"\\\"\")\n",
    "    btc_res = json.loads(btc_list)\n",
    "    btc_res = pd.DataFrame(btc_res)\n",
    "    del btc_res['open']\n",
    "    del btc_res['high']\n",
    "    del btc_res['low']\n",
    "    del btc_res['conversionSymbol']\n",
    "    del btc_res['conversionType']\n",
    "    del btc_res['volumefrom']\n",
    "    del btc_res['volumeto']\n",
    "    dates = []\n",
    "    for time in btc_res['time']:\n",
    "        dates.append(date.fromtimestamp(time))\n",
    "    btc_res['date'] = dates\n",
    "    del btc_res['time']\n",
    "    btc_res = btc_res.rename(columns={\"close\":\"priceBTC\",\"date\":\"dateMidnight\"})\n",
    "    btc_res.to_csv(f'chart_price_{currency}.csv',index=False)"
   ]
  },
  {
   "cell_type": "code",
   "execution_count": 214,
   "metadata": {},
   "outputs": [],
   "source": [
    "def clean_csv(df):\n",
    "    del df['Unnamed: 0']\n",
    "    del df['Message']\n",
    "    del df['Type']\n",
    "    del df['RateLimit']\n",
    "    del df['HasWarning']\n",
    "    df = df.drop([0, 2, 3])\n",
    "    return df"
   ]
  },
  {
   "cell_type": "code",
   "execution_count": 215,
   "metadata": {},
   "outputs": [],
   "source": [
    "get_csv_crypto_prices(\"BTC\")"
   ]
  }
 ],
 "metadata": {
  "kernelspec": {
   "display_name": "Python 3",
   "language": "python",
   "name": "python3"
  },
  "language_info": {
   "codemirror_mode": {
    "name": "ipython",
    "version": 3
   },
   "file_extension": ".py",
   "mimetype": "text/x-python",
   "name": "python",
   "nbconvert_exporter": "python",
   "pygments_lexer": "ipython3",
   "version": "3.7.3"
  }
 },
 "nbformat": 4,
 "nbformat_minor": 2
}
