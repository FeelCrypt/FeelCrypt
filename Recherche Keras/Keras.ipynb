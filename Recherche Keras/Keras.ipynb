{
 "cells": [
  {
   "cell_type": "code",
   "execution_count": null,
   "metadata": {},
   "outputs": [],
   "source": [
    "!pip uninstall moment"
   ]
  },
  {
   "cell_type": "code",
   "execution_count": 8,
   "metadata": {},
   "outputs": [],
   "source": [
    "import keras_bitcoin\n",
    "import dataset\n",
    "import collections\n",
    "import pandas as pd\n",
    "from itertools import permutations, combinations\n",
    "from sklearn.model_selection import train_test_split\n",
    "import moment"
   ]
  },
  {
   "cell_type": "code",
   "execution_count": 13,
   "metadata": {},
   "outputs": [
    {
     "name": "stdout",
     "output_type": "stream",
     "text": [
      "Number of files loaded :  12\n",
      "Counter({1: 3228, 4: 2646, 5: 564, 2: 550, 3: 188})\n",
      "(7176, 8)\n",
      "                                                text  label        date  \\\n",
      "0          So how does that make it not a currency?       3  2018-01-03   \n",
      "1  I didn't say it wasn't a currency, I'm just sa...      3  2018-01-03   \n",
      "2  I don't think spam has ever been a problem in ...      3  2018-01-03   \n",
      "3  It was electrum wallet bro ._.\\r\\nMy transacti...      3  2018-01-03   \n",
      "4  My laptop has 4 GB Ram, I think it can handle ...      3  2018-01-03   \n",
      "\n",
      "   score  nb_replies  stickied  label_m1  label_m2  \n",
      "0      2           1     False         4         5  \n",
      "1      1           0     False         4         5  \n",
      "2      1           1     False         4         5  \n",
      "3      1           0     False         4         5  \n",
      "4      1           0     False         4         5  \n"
     ]
    }
   ],
   "source": [
    "df = dataset.get_labeled_dataset(number_of_file=10, binary= False, values = [-5, -0.2, 0.2, 5], from_date = \"2018-01-01\")\n",
    "print(collections.Counter(df[\"label\"]))\n",
    "\n",
    "df.head()\n",
    "print(df.shape)\n",
    "print(df.head())"
   ]
  },
  {
   "cell_type": "code",
   "execution_count": 14,
   "metadata": {},
   "outputs": [],
   "source": [
    "texts = df[\"text\"]\n",
    "labels = df[\"label\"]\n",
    "texts_train, texts_test , labels_train, labels_test, vocab_length, max_sentence_size\\\n",
    "= keras_bitcoin.get_train_test_data(texts, labels)"
   ]
  },
  {
   "cell_type": "code",
   "execution_count": 285,
   "metadata": {},
   "outputs": [
    {
     "name": "stdout",
     "output_type": "stream",
     "text": [
      "1 1\n"
     ]
    },
    {
     "name": "stderr",
     "output_type": "stream",
     "text": [
      "C:\\Users\\33777\\Anaconda3\\lib\\site-packages\\tensorflow_core\\python\\framework\\indexed_slices.py:424: UserWarning: Converting sparse IndexedSlices to a dense Tensor of unknown shape. This may consume a large amount of memory.\n",
      "  \"Converting sparse IndexedSlices to a dense Tensor of unknown shape. \"\n"
     ]
    }
   ],
   "source": [
    "epochs=5\n",
    "batch_size=None\n",
    "perfs = {}\n",
    "dropouts = []\n",
    "\n",
    "temp = []\n",
    "\n",
    "function_list =  list(combinations(keras_bitcoin.available_activation_functions, 3))\n",
    "\n",
    "size = len(function_list)\n",
    "count = 0\n",
    "for function in function_list:\n",
    "    count += 1\n",
    "    print(count, size)\n",
    "    if isinstance(function, str):\n",
    "        function = [function]\n",
    "    else :\n",
    "        function = list(function)\n",
    "        dropouts = [0.1, 0.1, 0.2]\n",
    "    model = keras_bitcoin.get_model(texts_train, labels_train, vocab_length,\\\n",
    "                                    max_sentence_size, epochs=epochs,\\\n",
    "                                    batch_size=batch_size, activations_functions=function,\\\n",
    "                                    dropouts=dropouts, verbose = 0)\n",
    "    loss, accuracy = model.evaluate(texts_test, labels_test, verbose=0)\n",
    "    preds = model.predict(texts_test)\n",
    "    if accuracy >= 0.5:\n",
    "        temp.append(function)\n",
    "    perfs[\"_\".join(function)] = [accuracy, mean_squared_error(labels_test, preds)]"
   ]
  },
  {
   "cell_type": "code",
   "execution_count": 288,
   "metadata": {
    "scrolled": true
   },
   "outputs": [
    {
     "data": {
      "text/plain": [
       "{'softsign_relu_sigmoid_tanh': [0.0, 15.333236874968053]}"
      ]
     },
     "execution_count": 288,
     "metadata": {},
     "output_type": "execute_result"
    }
   ],
   "source": [
    "perfs"
   ]
  },
  {
   "cell_type": "code",
   "execution_count": 19,
   "metadata": {},
   "outputs": [
    {
     "name": "stdout",
     "output_type": "stream",
     "text": [
      "Number of files loaded :  10\n"
     ]
    }
   ],
   "source": [
    "df_test = dataset.get_labeled_dataset(number_of_file = 100, from_date = \"2017-02-10\", date_included = False)"
   ]
  },
  {
   "cell_type": "code",
   "execution_count": 20,
   "metadata": {},
   "outputs": [],
   "source": [
    "preds = keras_bitcoin.get_predictions(list(df_test[\"text\"]), model, vocab_length, max_sentence_size)\n",
    "df_test[\"preds\"] = list(map(lambda x : int(x), preds))\n",
    "df_test[\"correct\"] = np.equal(preds, df_test[\"label\"])"
   ]
  },
  {
   "cell_type": "code",
   "execution_count": 21,
   "metadata": {},
   "outputs": [
    {
     "name": "stdout",
     "output_type": "stream",
     "text": [
      "Number Correct/Wrong Guess : 5/363\n",
      "              Accuracy : 1.358695652173913\n",
      "Invalid sentences count 0\n"
     ]
    }
   ],
   "source": [
    "dataset.get_prediction_stats(df_test)"
   ]
  }
 ],
 "metadata": {
  "kernelspec": {
   "display_name": "Python 3",
   "language": "python",
   "name": "python3"
  },
  "language_info": {
   "codemirror_mode": {
    "name": "ipython",
    "version": 3
   },
   "file_extension": ".py",
   "mimetype": "text/x-python",
   "name": "python",
   "nbconvert_exporter": "python",
   "pygments_lexer": "ipython3",
   "version": "3.7.3"
  }
 },
 "nbformat": 4,
 "nbformat_minor": 2
}
