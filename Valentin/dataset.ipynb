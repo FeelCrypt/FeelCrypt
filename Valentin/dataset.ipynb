{
 "cells": [
  {
   "cell_type": "code",
   "execution_count": 2,
   "metadata": {},
   "outputs": [
    {
     "name": "stdout",
     "output_type": "stream",
     "text": [
      "'writeandexecute' magic loaded.\n"
     ]
    }
   ],
   "source": [
    "%load_ext ipyext.writeandexecute"
   ]
  },
  {
   "cell_type": "code",
   "execution_count": 9,
   "metadata": {},
   "outputs": [
    {
     "name": "stdout",
     "output_type": "stream",
     "text": [
      "'writeandexecute' magic loaded.\n"
     ]
    }
   ],
   "source": [
    "%reload_ext ipyext.writeandexecute"
   ]
  },
  {
   "cell_type": "code",
   "execution_count": 4,
   "metadata": {},
   "outputs": [],
   "source": [
    "%%writeandexecute -i user_accounts dataset.py\n",
    "\n",
    "import collections\n",
    "from os import listdir\n",
    "import pandas as pd\n",
    "import os\n",
    "\n",
    "def get_labeled_bitcoin_price():\n",
    "    df_bitcoin_values = pd.read_csv(\"../Data/Bitcoin_Price/chart_price_BTC.csv\")\n",
    "    \n",
    "    length = len(df_bitcoin_values)\n",
    "    data = {} \n",
    "\n",
    "    for index in range(1,length):\n",
    "        value = float(df_bitcoin_values[\"priceBTC\"][index]) - float(df_bitcoin_values[\"priceBTC\"][index - 1])\n",
    "        data[df_bitcoin_values[\"dateMidnight\"][index][0:10]] = 1 if value > 0 else 0\n",
    "    \n",
    "    return data\n",
    "\n",
    "def get_labeled_dataset(number_of_file, from_date = \"2015-01-01\", date_included = True):\n",
    "    limit_year = 2021\n",
    "    dataset = {\"text\" : [], \"label\" : [], \"date\" : []}\n",
    "    directory = \"../Data/Reddit_Data/\"\n",
    "    count = 0\n",
    "    \n",
    "    max_number_of_files_number = len(os.listdir(directory))\n",
    "    year = int(from_date[0:4])\n",
    "    month = int(from_date[5:7])\n",
    "    day = int(from_date[8:10]) + (0 if date_included else 1)\n",
    "    bictoin_price_dict = get_labeled_bitcoin_price()\n",
    "    \n",
    "    number_of_file = max_number_of_files_number if number_of_file > max_number_of_files_number else number_of_file\n",
    "\n",
    "    while count < number_of_file and year < limit_year:\n",
    "        month_string = month if month >= 10 else f\"0{month}\"\n",
    "        day_string = day if day >= 10 else f\"0{day}\"\n",
    "        \n",
    "        date = f\"{year}-{month_string}-{day_string}\"\n",
    "        file = f\"{directory}{date}.csv\"\n",
    "       \n",
    "        if os.path.exists(file) and date in bictoin_price_dict.keys():\n",
    "            print(\"file\", file)\n",
    "            label = bictoin_price_dict[date]\n",
    "            df = pd.read_csv(file, sep=\";\", header=None)\n",
    "            \n",
    "            dataset[\"text\"].extend(list(map(lambda s : str(s), df[0])))\n",
    "            dataset[\"label\"].extend([label for i in df[0]])\n",
    "            dataset[\"date\"].extend([date for i in df[0]])\n",
    "            count += 1\n",
    "            \n",
    "        day += 1\n",
    "        if day > 31:\n",
    "            day = 1\n",
    "            month += 1\n",
    "            \n",
    "        if month > 12:\n",
    "            month = 1\n",
    "            year += 1\n",
    "    \n",
    "    return pd.DataFrame(dataset)\n",
    "\n",
    "def get_prediction_stats(df_prediction):\n",
    "    counter_correct_preds = collections.Counter(df_prediction[\"correct\"])\n",
    "    correct_pred = counter_correct_preds[True]\n",
    "    wrong_pred = counter_correct_preds[False]\n",
    "    \n",
    "    print(f\"\"\"Number Correct/Wrong Guess : {correct_pred}/{wrong_pred}\n",
    "              Accuracy : {(correct_pred/(correct_pred + wrong_pred)) * 100}\"\"\" )\n",
    "    print(\"Invalid sentences count\", collections.Counter(df_prediction[\"preds\"])[-1])\n"
   ]
  },
  {
   "cell_type": "code",
   "execution_count": null,
   "metadata": {},
   "outputs": [],
   "source": []
  }
 ],
 "metadata": {
  "kernelspec": {
   "display_name": "Python 3",
   "language": "python",
   "name": "python3"
  },
  "language_info": {
   "codemirror_mode": {
    "name": "ipython",
    "version": 3
   },
   "file_extension": ".py",
   "mimetype": "text/x-python",
   "name": "python",
   "nbconvert_exporter": "python",
   "pygments_lexer": "ipython3",
   "version": "3.7.3"
  }
 },
 "nbformat": 4,
 "nbformat_minor": 2
}
