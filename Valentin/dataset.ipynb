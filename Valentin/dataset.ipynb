{
 "cells": [
  {
   "cell_type": "code",
   "execution_count": 27,
   "metadata": {},
   "outputs": [
    {
     "name": "stdout",
     "output_type": "stream",
     "text": [
      "The ipyext.writeandexecute extension is already loaded. To reload it, use:\n",
      "  %reload_ext ipyext.writeandexecute\n"
     ]
    }
   ],
   "source": [
    "%load_ext ipyext.writeandexecute"
   ]
  },
  {
   "cell_type": "code",
   "execution_count": 28,
   "metadata": {},
   "outputs": [],
   "source": [
    "%%writeandexecute -i user_accounts dataset.py\n",
    "import pandas as pd\n",
    "def get_labeled_bitcoin_price():\n",
    "    df_bitcoin_values = pd.read_csv(\"./csv/chart_price_bitcoin.csv\")\n",
    "    df_bitcoin_values = df_bitcoin_values.drop(\"time\", 1)\n",
    "    \n",
    "    length = len(df_bitcoin_values)\n",
    "    data = {'date': [], \n",
    "            'label': []} \n",
    "\n",
    "    for index in range(1,length):\n",
    "        value = float(df_bitcoin_values[\"priceUsd\"][index]) - float(df_bitcoin_values[\"priceUsd\"][index - 1])\n",
    "        data[\"date\"].append(df_bitcoin_values[\"date\"][index][0:10])\n",
    "        data[\"label\"].append(1 if value > 0 else 0)\n",
    "    return pd.DataFrame(data)\n",
    "\n",
    "def get_labeled_dataset(file = \"scrapping_BTC_comments_sorted\"):\n",
    "    df_reddit = pd.read_csv(f\"./csv/{file}.csv\", sep=\";\")\n",
    "    df_bictoin_price = get_labeled_bitcoin_price()\n",
    "    \n",
    "    data_training = {\n",
    "        \"text\" : [],\n",
    "        \"label\" : []\n",
    "    }\n",
    "\n",
    "    for i in range(len(df_reddit)):\n",
    "        date_reddit = df_reddit[\"date\"][i]\n",
    "        for j in range(len(df_bictoin_price)):\n",
    "            date_bitcoin = df_bictoin_price[\"date\"][j]\n",
    "            if date_reddit == date_bitcoin:\n",
    "                data_training[\"text\"].append(df_reddit[\"body\"][i])\n",
    "                data_training[\"label\"].append(df_bictoin_price[\"label\"][j])\n",
    "    return pd.DataFrame(data_training)"
   ]
  }
 ],
 "metadata": {
  "kernelspec": {
   "display_name": "Python 3",
   "language": "python",
   "name": "python3"
  },
  "language_info": {
   "codemirror_mode": {
    "name": "ipython",
    "version": 3
   },
   "file_extension": ".py",
   "mimetype": "text/x-python",
   "name": "python",
   "nbconvert_exporter": "python",
   "pygments_lexer": "ipython3",
   "version": "3.7.3"
  }
 },
 "nbformat": 4,
 "nbformat_minor": 2
}
