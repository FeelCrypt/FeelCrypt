{
 "cells": [
  {
   "cell_type": "code",
   "execution_count": 1,
   "metadata": {},
   "outputs": [
    {
     "name": "stderr",
     "output_type": "stream",
     "text": [
      "Using TensorFlow backend.\n"
     ]
    }
   ],
   "source": [
    "from numpy import array\n",
    "from keras.preprocessing.text import one_hot\n",
    "from keras.preprocessing.sequence import pad_sequences\n",
    "from keras.models import Sequential\n",
    "from keras.layers import Dense\n",
    "from keras.layers import Flatten\n",
    "from keras.layers.embeddings import Embedding"
   ]
  },
  {
   "cell_type": "code",
   "execution_count": 2,
   "metadata": {},
   "outputs": [],
   "source": [
    "corpus = [\n",
    "    # Positive Reviews\n",
    "\n",
    "    'This is an excellent movie',\n",
    "    'The move was fantastic I like it',\n",
    "    'You should watch it is brilliant',\n",
    "    'Exceptionally good',\n",
    "    'Wonderfully directed and executed I like it',\n",
    "    'Its a fantastic series',\n",
    "    'Never watched such a brillent movie',\n",
    "    'It is a Wonderful movie',\n",
    "\n",
    "    # Negtive Reviews\n",
    "\n",
    "    \"horrible acting\",\n",
    "    'waste of money',\n",
    "    'pathetic picture',\n",
    "    'It was very boring',\n",
    "    'I did not like the movie',\n",
    "    'The movie was horrible',\n",
    "    'I will not recommend',\n",
    "    'The acting is pathetic'\n",
    "]"
   ]
  },
  {
   "cell_type": "code",
   "execution_count": 3,
   "metadata": {},
   "outputs": [],
   "source": [
    "sentiments = array([1,1,1,1,1,1,1,1,0,0,0,0,0,0,0,0])"
   ]
  },
  {
   "cell_type": "code",
   "execution_count": 4,
   "metadata": {},
   "outputs": [
    {
     "name": "stdout",
     "output_type": "stream",
     "text": [
      "['This', 'is', 'an', 'excellent', 'movie', 'The', 'move', 'was', 'fantastic', 'I', 'like', 'it', 'You', 'should', 'watch', 'it', 'is', 'brilliant', 'Exceptionally', 'good', 'Wonderfully', 'directed', 'and', 'executed', 'I', 'like', 'it', 'Its', 'a', 'fantastic', 'series', 'Never', 'watched', 'such', 'a', 'brillent', 'movie', 'It', 'is', 'a', 'Wonderful', 'movie', 'horrible', 'acting', 'waste', 'of', 'money', 'pathetic', 'picture', 'It', 'was', 'very', 'boring', 'I', 'did', 'not', 'like', 'the', 'movie', 'The', 'movie', 'was', 'horrible', 'I', 'will', 'not', 'recommend', 'The', 'acting', 'is', 'pathetic']\n"
     ]
    }
   ],
   "source": [
    "from nltk.tokenize import word_tokenize\n",
    "\n",
    "all_words = []\n",
    "for sent in corpus:\n",
    "    tokenize_word = word_tokenize(sent)\n",
    "    for word in tokenize_word:\n",
    "        all_words.append(word)\n",
    "print(all_words)"
   ]
  },
  {
   "cell_type": "code",
   "execution_count": 5,
   "metadata": {},
   "outputs": [
    {
     "name": "stdout",
     "output_type": "stream",
     "text": [
      "45\n",
      "71\n"
     ]
    }
   ],
   "source": [
    "unique_words = set(all_words)\n",
    "print(len(unique_words))\n",
    "print(len(all_words))"
   ]
  },
  {
   "cell_type": "code",
   "execution_count": 6,
   "metadata": {},
   "outputs": [
    {
     "name": "stdout",
     "output_type": "stream",
     "text": [
      "[[7, 31, 43, 17, 25], [4, 48, 24, 20, 10, 48, 31], [23, 4, 45, 31, 31, 12], [4, 7], [39, 28, 4, 41, 10, 48, 31], [5, 42, 20, 21], [8, 14, 45, 42, 45, 25], [31, 31, 42, 13, 25], [35, 27], [5, 45, 28], [42, 38], [31, 24, 43, 9], [10, 46, 7, 48, 4, 25], [4, 25, 24, 35], [10, 5, 7, 45], [4, 27, 31, 42]]\n"
     ]
    }
   ],
   "source": [
    "vocab_length = 50\n",
    "embedded_sentences = [one_hot(sent, vocab_length) for sent in corpus]\n",
    "print(embedded_sentences )"
   ]
  },
  {
   "cell_type": "code",
   "execution_count": 7,
   "metadata": {},
   "outputs": [
    {
     "name": "stdout",
     "output_type": "stream",
     "text": [
      "7\n"
     ]
    }
   ],
   "source": [
    "max_sentence_size = max(list(map(lambda sentence : len(word_tokenize(sentence)), corpus)))\n",
    "print(max_sentence_size)"
   ]
  },
  {
   "cell_type": "code",
   "execution_count": 8,
   "metadata": {},
   "outputs": [
    {
     "name": "stdout",
     "output_type": "stream",
     "text": [
      "[[ 7 31 43 17 25  0  0]\n",
      " [ 4 48 24 20 10 48 31]\n",
      " [23  4 45 31 31 12  0]\n",
      " [ 4  7  0  0  0  0  0]\n",
      " [39 28  4 41 10 48 31]\n",
      " [ 5 42 20 21  0  0  0]\n",
      " [ 8 14 45 42 45 25  0]\n",
      " [31 31 42 13 25  0  0]\n",
      " [35 27  0  0  0  0  0]\n",
      " [ 5 45 28  0  0  0  0]\n",
      " [42 38  0  0  0  0  0]\n",
      " [31 24 43  9  0  0  0]\n",
      " [10 46  7 48  4 25  0]\n",
      " [ 4 25 24 35  0  0  0]\n",
      " [10  5  7 45  0  0  0]\n",
      " [ 4 27 31 42  0  0  0]]\n"
     ]
    }
   ],
   "source": [
    "padded_sentences = pad_sequences(embedded_sentences, max_sentence_size, padding='post')\n",
    "print(padded_sentences)"
   ]
  },
  {
   "cell_type": "code",
   "execution_count": 9,
   "metadata": {},
   "outputs": [],
   "source": [
    "model = Sequential()\n",
    "model.add(Embedding(vocab_length, 20, input_length=max_sentence_size))\n",
    "model.add(Flatten())\n",
    "model.add(Dense(1, activation='sigmoid'))"
   ]
  },
  {
   "cell_type": "code",
   "execution_count": 10,
   "metadata": {},
   "outputs": [
    {
     "name": "stdout",
     "output_type": "stream",
     "text": [
      "Model: \"sequential_1\"\n",
      "_________________________________________________________________\n",
      "Layer (type)                 Output Shape              Param #   \n",
      "=================================================================\n",
      "embedding_1 (Embedding)      (None, 7, 20)             1000      \n",
      "_________________________________________________________________\n",
      "flatten_1 (Flatten)          (None, 140)               0         \n",
      "_________________________________________________________________\n",
      "dense_1 (Dense)              (None, 1)                 141       \n",
      "=================================================================\n",
      "Total params: 1,141\n",
      "Trainable params: 1,141\n",
      "Non-trainable params: 0\n",
      "_________________________________________________________________\n",
      "None\n"
     ]
    }
   ],
   "source": [
    "model.compile(optimizer='adam', loss='binary_crossentropy', metrics=['acc'])\n",
    "print(model.summary())"
   ]
  },
  {
   "cell_type": "code",
   "execution_count": 9,
   "metadata": {},
   "outputs": [],
   "source": [
    "train_sentences = padded_sentences[:-1]\n",
    "test_sentences = padded_sentences[-1]\n",
    "train_sentiments = sentiments[:-1]\n",
    "test_sentiments = sentiments[-1]"
   ]
  },
  {
   "cell_type": "code",
   "execution_count": 12,
   "metadata": {},
   "outputs": [
    {
     "name": "stderr",
     "output_type": "stream",
     "text": [
      "C:\\Users\\33777\\Anaconda3\\lib\\site-packages\\tensorflow_core\\python\\framework\\indexed_slices.py:424: UserWarning: Converting sparse IndexedSlices to a dense Tensor of unknown shape. This may consume a large amount of memory.\n",
      "  \"Converting sparse IndexedSlices to a dense Tensor of unknown shape. \"\n"
     ]
    },
    {
     "name": "stdout",
     "output_type": "stream",
     "text": [
      "Epoch 1/100\n",
      "15/15 [==============================] - 0s 12ms/step - loss: 0.6898 - acc: 0.5333\n",
      "Epoch 2/100\n",
      "15/15 [==============================] - 0s 134us/step - loss: 0.6865 - acc: 0.7333\n",
      "Epoch 3/100\n",
      "15/15 [==============================] - 0s 133us/step - loss: 0.6831 - acc: 0.7333\n",
      "Epoch 4/100\n",
      "15/15 [==============================] - 0s 200us/step - loss: 0.6798 - acc: 0.8000\n",
      "Epoch 5/100\n",
      "15/15 [==============================] - 0s 200us/step - loss: 0.6765 - acc: 0.8000\n",
      "Epoch 6/100\n",
      "15/15 [==============================] - 0s 200us/step - loss: 0.6732 - acc: 0.9333\n",
      "Epoch 7/100\n",
      "15/15 [==============================] - 0s 200us/step - loss: 0.6699 - acc: 0.9333\n",
      "Epoch 8/100\n",
      "15/15 [==============================] - 0s 199us/step - loss: 0.6666 - acc: 0.9333\n",
      "Epoch 9/100\n",
      "15/15 [==============================] - 0s 200us/step - loss: 0.6633 - acc: 0.9333\n",
      "Epoch 10/100\n",
      "15/15 [==============================] - 0s 200us/step - loss: 0.6600 - acc: 0.9333\n",
      "Epoch 11/100\n",
      "15/15 [==============================] - 0s 200us/step - loss: 0.6567 - acc: 0.9333\n",
      "Epoch 12/100\n",
      "15/15 [==============================] - 0s 200us/step - loss: 0.6534 - acc: 0.9333\n",
      "Epoch 13/100\n",
      "15/15 [==============================] - 0s 200us/step - loss: 0.6500 - acc: 0.9333\n",
      "Epoch 14/100\n",
      "15/15 [==============================] - 0s 267us/step - loss: 0.6467 - acc: 0.9333\n",
      "Epoch 15/100\n",
      "15/15 [==============================] - 0s 133us/step - loss: 0.6434 - acc: 0.9333\n",
      "Epoch 16/100\n",
      "15/15 [==============================] - 0s 200us/step - loss: 0.6400 - acc: 0.9333\n",
      "Epoch 17/100\n",
      "15/15 [==============================] - 0s 133us/step - loss: 0.6366 - acc: 0.9333\n",
      "Epoch 18/100\n",
      "15/15 [==============================] - 0s 199us/step - loss: 0.6332 - acc: 0.9333\n",
      "Epoch 19/100\n",
      "15/15 [==============================] - 0s 133us/step - loss: 0.6298 - acc: 0.9333\n",
      "Epoch 20/100\n",
      "15/15 [==============================] - 0s 200us/step - loss: 0.6263 - acc: 0.9333\n",
      "Epoch 21/100\n",
      "15/15 [==============================] - 0s 267us/step - loss: 0.6228 - acc: 0.9333\n",
      "Epoch 22/100\n",
      "15/15 [==============================] - 0s 200us/step - loss: 0.6193 - acc: 0.9333\n",
      "Epoch 23/100\n",
      "15/15 [==============================] - 0s 200us/step - loss: 0.6157 - acc: 0.9333\n",
      "Epoch 24/100\n",
      "15/15 [==============================] - 0s 133us/step - loss: 0.6121 - acc: 0.9333\n",
      "Epoch 25/100\n",
      "15/15 [==============================] - 0s 133us/step - loss: 0.6085 - acc: 0.9333\n",
      "Epoch 26/100\n",
      "15/15 [==============================] - 0s 200us/step - loss: 0.6049 - acc: 0.9333\n",
      "Epoch 27/100\n",
      "15/15 [==============================] - 0s 133us/step - loss: 0.6012 - acc: 0.9333\n",
      "Epoch 28/100\n",
      "15/15 [==============================] - 0s 133us/step - loss: 0.5974 - acc: 0.9333\n",
      "Epoch 29/100\n",
      "15/15 [==============================] - 0s 134us/step - loss: 0.5937 - acc: 0.9333\n",
      "Epoch 30/100\n",
      "15/15 [==============================] - 0s 134us/step - loss: 0.5899 - acc: 0.9333\n",
      "Epoch 31/100\n",
      "15/15 [==============================] - 0s 200us/step - loss: 0.5860 - acc: 0.9333\n",
      "Epoch 32/100\n",
      "15/15 [==============================] - 0s 200us/step - loss: 0.5821 - acc: 0.9333\n",
      "Epoch 33/100\n",
      "15/15 [==============================] - 0s 194us/step - loss: 0.5782 - acc: 0.9333\n",
      "Epoch 34/100\n",
      "15/15 [==============================] - 0s 133us/step - loss: 0.5742 - acc: 0.9333\n",
      "Epoch 35/100\n",
      "15/15 [==============================] - 0s 200us/step - loss: 0.5702 - acc: 0.9333\n",
      "Epoch 36/100\n",
      "15/15 [==============================] - 0s 200us/step - loss: 0.5662 - acc: 0.9333\n",
      "Epoch 37/100\n",
      "15/15 [==============================] - 0s 200us/step - loss: 0.5621 - acc: 0.9333\n",
      "Epoch 38/100\n",
      "15/15 [==============================] - 0s 200us/step - loss: 0.5580 - acc: 0.9333\n",
      "Epoch 39/100\n",
      "15/15 [==============================] - 0s 200us/step - loss: 0.5539 - acc: 0.9333\n",
      "Epoch 40/100\n",
      "15/15 [==============================] - 0s 200us/step - loss: 0.5497 - acc: 0.9333\n",
      "Epoch 41/100\n",
      "15/15 [==============================] - 0s 133us/step - loss: 0.5455 - acc: 0.9333\n",
      "Epoch 42/100\n",
      "15/15 [==============================] - 0s 200us/step - loss: 0.5412 - acc: 0.9333\n",
      "Epoch 43/100\n",
      "15/15 [==============================] - 0s 200us/step - loss: 0.5369 - acc: 0.9333\n",
      "Epoch 44/100\n",
      "15/15 [==============================] - 0s 133us/step - loss: 0.5326 - acc: 0.9333\n",
      "Epoch 45/100\n",
      "15/15 [==============================] - 0s 203us/step - loss: 0.5282 - acc: 0.9333\n",
      "Epoch 46/100\n",
      "15/15 [==============================] - 0s 200us/step - loss: 0.5238 - acc: 0.9333\n",
      "Epoch 47/100\n",
      "15/15 [==============================] - 0s 133us/step - loss: 0.5194 - acc: 0.9333\n",
      "Epoch 48/100\n",
      "15/15 [==============================] - 0s 267us/step - loss: 0.5150 - acc: 0.9333\n",
      "Epoch 49/100\n",
      "15/15 [==============================] - 0s 267us/step - loss: 0.5105 - acc: 0.9333\n",
      "Epoch 50/100\n",
      "15/15 [==============================] - 0s 133us/step - loss: 0.5060 - acc: 0.9333\n",
      "Epoch 51/100\n",
      "15/15 [==============================] - 0s 267us/step - loss: 0.5015 - acc: 0.9333\n",
      "Epoch 52/100\n",
      "15/15 [==============================] - 0s 267us/step - loss: 0.4969 - acc: 0.9333\n",
      "Epoch 53/100\n",
      "15/15 [==============================] - 0s 133us/step - loss: 0.4924 - acc: 0.9333\n",
      "Epoch 54/100\n",
      "15/15 [==============================] - 0s 200us/step - loss: 0.4878 - acc: 0.9333\n",
      "Epoch 55/100\n",
      "15/15 [==============================] - 0s 200us/step - loss: 0.4832 - acc: 0.9333\n",
      "Epoch 56/100\n",
      "15/15 [==============================] - 0s 133us/step - loss: 0.4786 - acc: 0.9333\n",
      "Epoch 57/100\n",
      "15/15 [==============================] - 0s 200us/step - loss: 0.4739 - acc: 0.9333\n",
      "Epoch 58/100\n",
      "15/15 [==============================] - 0s 200us/step - loss: 0.4693 - acc: 0.9333\n",
      "Epoch 59/100\n",
      "15/15 [==============================] - 0s 200us/step - loss: 0.4646 - acc: 0.9333\n",
      "Epoch 60/100\n",
      "15/15 [==============================] - 0s 133us/step - loss: 0.4600 - acc: 0.9333\n",
      "Epoch 61/100\n",
      "15/15 [==============================] - 0s 133us/step - loss: 0.4553 - acc: 0.9333\n",
      "Epoch 62/100\n",
      "15/15 [==============================] - 0s 199us/step - loss: 0.4506 - acc: 0.9333\n",
      "Epoch 63/100\n",
      "15/15 [==============================] - 0s 133us/step - loss: 0.4459 - acc: 1.0000\n",
      "Epoch 64/100\n",
      "15/15 [==============================] - 0s 199us/step - loss: 0.4412 - acc: 1.0000\n",
      "Epoch 65/100\n",
      "15/15 [==============================] - 0s 200us/step - loss: 0.4365 - acc: 1.0000\n",
      "Epoch 66/100\n",
      "15/15 [==============================] - 0s 200us/step - loss: 0.4318 - acc: 1.0000\n",
      "Epoch 67/100\n",
      "15/15 [==============================] - 0s 133us/step - loss: 0.4272 - acc: 1.0000\n",
      "Epoch 68/100\n",
      "15/15 [==============================] - 0s 133us/step - loss: 0.4225 - acc: 1.0000\n",
      "Epoch 69/100\n",
      "15/15 [==============================] - 0s 267us/step - loss: 0.4178 - acc: 1.0000\n",
      "Epoch 70/100\n",
      "15/15 [==============================] - 0s 133us/step - loss: 0.4131 - acc: 1.0000\n",
      "Epoch 71/100\n",
      "15/15 [==============================] - 0s 200us/step - loss: 0.4085 - acc: 1.0000\n",
      "Epoch 72/100\n",
      "15/15 [==============================] - 0s 134us/step - loss: 0.4038 - acc: 1.0000\n",
      "Epoch 73/100\n",
      "15/15 [==============================] - 0s 133us/step - loss: 0.3992 - acc: 1.0000\n",
      "Epoch 74/100\n",
      "15/15 [==============================] - 0s 200us/step - loss: 0.3946 - acc: 1.0000\n",
      "Epoch 75/100\n",
      "15/15 [==============================] - 0s 133us/step - loss: 0.3900 - acc: 1.0000\n",
      "Epoch 76/100\n",
      "15/15 [==============================] - 0s 68us/step - loss: 0.3854 - acc: 1.0000\n",
      "Epoch 77/100\n",
      "15/15 [==============================] - 0s 134us/step - loss: 0.3808 - acc: 1.0000\n",
      "Epoch 78/100\n",
      "15/15 [==============================] - 0s 133us/step - loss: 0.3762 - acc: 1.0000\n",
      "Epoch 79/100\n",
      "15/15 [==============================] - 0s 133us/step - loss: 0.3717 - acc: 1.0000\n",
      "Epoch 80/100\n",
      "15/15 [==============================] - 0s 134us/step - loss: 0.3672 - acc: 1.0000\n",
      "Epoch 81/100\n",
      "15/15 [==============================] - 0s 200us/step - loss: 0.3627 - acc: 1.0000\n",
      "Epoch 82/100\n",
      "15/15 [==============================] - 0s 267us/step - loss: 0.3583 - acc: 1.0000\n",
      "Epoch 83/100\n",
      "15/15 [==============================] - 0s 200us/step - loss: 0.3538 - acc: 1.0000\n",
      "Epoch 84/100\n",
      "15/15 [==============================] - 0s 200us/step - loss: 0.3494 - acc: 1.0000\n",
      "Epoch 85/100\n",
      "15/15 [==============================] - 0s 133us/step - loss: 0.3451 - acc: 1.0000\n"
     ]
    },
    {
     "name": "stdout",
     "output_type": "stream",
     "text": [
      "Epoch 86/100\n",
      "15/15 [==============================] - 0s 200us/step - loss: 0.3407 - acc: 1.0000\n",
      "Epoch 87/100\n",
      "15/15 [==============================] - 0s 133us/step - loss: 0.3364 - acc: 1.0000\n",
      "Epoch 88/100\n",
      "15/15 [==============================] - 0s 200us/step - loss: 0.3321 - acc: 1.0000\n",
      "Epoch 89/100\n",
      "15/15 [==============================] - 0s 133us/step - loss: 0.3278 - acc: 1.0000\n",
      "Epoch 90/100\n",
      "15/15 [==============================] - 0s 201us/step - loss: 0.3236 - acc: 1.0000\n",
      "Epoch 91/100\n",
      "15/15 [==============================] - 0s 200us/step - loss: 0.3194 - acc: 1.0000\n",
      "Epoch 92/100\n",
      "15/15 [==============================] - 0s 133us/step - loss: 0.3153 - acc: 1.0000\n",
      "Epoch 93/100\n",
      "15/15 [==============================] - 0s 200us/step - loss: 0.3112 - acc: 1.0000\n",
      "Epoch 94/100\n",
      "15/15 [==============================] - 0s 266us/step - loss: 0.3071 - acc: 1.0000\n",
      "Epoch 95/100\n",
      "15/15 [==============================] - 0s 133us/step - loss: 0.3030 - acc: 1.0000\n",
      "Epoch 96/100\n",
      "15/15 [==============================] - 0s 267us/step - loss: 0.2990 - acc: 1.0000\n",
      "Epoch 97/100\n",
      "15/15 [==============================] - 0s 133us/step - loss: 0.2951 - acc: 1.0000\n",
      "Epoch 98/100\n",
      "15/15 [==============================] - 0s 200us/step - loss: 0.2911 - acc: 1.0000\n",
      "Epoch 99/100\n",
      "15/15 [==============================] - 0s 133us/step - loss: 0.2872 - acc: 1.0000\n",
      "Epoch 100/100\n",
      "15/15 [==============================] - 0s 132us/step - loss: 0.2834 - acc: 1.0000\n"
     ]
    },
    {
     "data": {
      "text/plain": [
       "<keras.callbacks.callbacks.History at 0x210553ec9e8>"
      ]
     },
     "execution_count": 12,
     "metadata": {},
     "output_type": "execute_result"
    }
   ],
   "source": [
    "model.fit(train_sentences, train_sentiments, epochs=100, verbose=1)"
   ]
  },
  {
   "cell_type": "code",
   "execution_count": 14,
   "metadata": {},
   "outputs": [
    {
     "name": "stdout",
     "output_type": "stream",
     "text": [
      "Accuracy: 100.000000\n"
     ]
    }
   ],
   "source": [
    "loss, accuracy = model.evaluate(train_sentences, train_sentiments, verbose=0)\n",
    "print('Accuracy: %f' % (accuracy*100))"
   ]
  },
  {
   "cell_type": "code",
   "execution_count": 16,
   "metadata": {},
   "outputs": [
    {
     "data": {
      "text/plain": [
       "array([[37,  7, 36, 10,  0,  0,  0]])"
      ]
     },
     "execution_count": 16,
     "metadata": {},
     "output_type": "execute_result"
    }
   ],
   "source": [
    "a = array([test_sentences])\n",
    "a"
   ]
  },
  {
   "cell_type": "code",
   "execution_count": 20,
   "metadata": {},
   "outputs": [
    {
     "data": {
      "text/plain": [
       "[0.0]"
      ]
     },
     "execution_count": 20,
     "metadata": {},
     "output_type": "execute_result"
    }
   ],
   "source": [
    "predictions = model.predict(a)\n",
    "rounded = [round(x[0]) for x in predictions]\n",
    "rounded"
   ]
  },
  {
   "cell_type": "markdown",
   "metadata": {},
   "source": [
    "###  ============================  Other Text ============================ "
   ]
  },
  {
   "cell_type": "code",
   "execution_count": 28,
   "metadata": {},
   "outputs": [
    {
     "data": {
      "text/html": [
       "<div>\n",
       "<style scoped>\n",
       "    .dataframe tbody tr th:only-of-type {\n",
       "        vertical-align: middle;\n",
       "    }\n",
       "\n",
       "    .dataframe tbody tr th {\n",
       "        vertical-align: top;\n",
       "    }\n",
       "\n",
       "    .dataframe thead th {\n",
       "        text-align: right;\n",
       "    }\n",
       "</style>\n",
       "<table border=\"1\" class=\"dataframe\">\n",
       "  <thead>\n",
       "    <tr style=\"text-align: right;\">\n",
       "      <th></th>\n",
       "      <th>Review</th>\n",
       "      <th>Status</th>\n",
       "    </tr>\n",
       "  </thead>\n",
       "  <tbody>\n",
       "    <tr>\n",
       "      <th>0</th>\n",
       "      <td>A very, very, very slow-moving, aimless movie ...</td>\n",
       "      <td>0</td>\n",
       "    </tr>\n",
       "    <tr>\n",
       "      <th>1</th>\n",
       "      <td>Not sure who was more lost - the flat characte...</td>\n",
       "      <td>0</td>\n",
       "    </tr>\n",
       "    <tr>\n",
       "      <th>2</th>\n",
       "      <td>Attempting artiness with black &amp; white and cle...</td>\n",
       "      <td>0</td>\n",
       "    </tr>\n",
       "    <tr>\n",
       "      <th>3</th>\n",
       "      <td>Very little music or anything to speak of.</td>\n",
       "      <td>0</td>\n",
       "    </tr>\n",
       "    <tr>\n",
       "      <th>4</th>\n",
       "      <td>The best scene in the movie was when Gerardo i...</td>\n",
       "      <td>1</td>\n",
       "    </tr>\n",
       "  </tbody>\n",
       "</table>\n",
       "</div>"
      ],
      "text/plain": [
       "                                              Review  Status\n",
       "0  A very, very, very slow-moving, aimless movie ...       0\n",
       "1  Not sure who was more lost - the flat characte...       0\n",
       "2  Attempting artiness with black & white and cle...       0\n",
       "3       Very little music or anything to speak of.         0\n",
       "4  The best scene in the movie was when Gerardo i...       1"
      ]
     },
     "execution_count": 28,
     "metadata": {},
     "output_type": "execute_result"
    }
   ],
   "source": [
    "import pandas as pd\n",
    "import numpy as np\n",
    "\n",
    "df = pd.read_csv('imdb_labelled.txt', delimiter = '\\t', engine='python', quoting = 3)\n",
    "df.head(5)"
   ]
  },
  {
   "cell_type": "code",
   "execution_count": 35,
   "metadata": {},
   "outputs": [],
   "source": [
    "text = df[\"Review\"]\n",
    "labels = df[\"Status\"]"
   ]
  },
  {
   "cell_type": "code",
   "execution_count": 36,
   "metadata": {},
   "outputs": [],
   "source": [
    "from nltk.tokenize import word_tokenize\n",
    "all_words = []\n",
    "\n",
    "for sentence in text:\n",
    "    words = word_tokenize(sentence)\n",
    "    for word in words:\n",
    "        all_words.append(word)"
   ]
  },
  {
   "cell_type": "code",
   "execution_count": 40,
   "metadata": {},
   "outputs": [
    {
     "name": "stdout",
     "output_type": "stream",
     "text": [
      "16645\n",
      "3421\n"
     ]
    }
   ],
   "source": [
    "unique_words = set(all_words)\n",
    "print(len(all_words))\n",
    "print(len(unique_words))"
   ]
  },
  {
   "cell_type": "code",
   "execution_count": 43,
   "metadata": {},
   "outputs": [
    {
     "name": "stdout",
     "output_type": "stream",
     "text": [
      "[[654, 710, 710, 710, 941, 1125, 2270, 3314, 1612, 654, 1365, 2314, 2832, 2558], [953, 970, 1967, 135, 2593, 1708, 2475, 1319, 3282, 1973, 2475, 1985, 2117, 3247, 898, 1807, 452, 254], [1387, 3197, 1513, 1079, 288, 891, 2517, 1565, 2374, 2475, 3314, 2152, 1546, 1116, 2593, 792, 324, 2475, 1322, 135, 3313, 891, 2475, 2005, 891, 2598, 1858, 2997, 2103], [710, 2441, 1660, 1973, 2246, 3304, 1671, 898], [2475, 1107, 2093, 3037, 2475, 3314, 135, 945, 335, 1482, 1129, 3304, 389, 654, 657, 3352, 327, 1992, 3276, 1843, 2675]]\n"
     ]
    }
   ],
   "source": [
    "vocab_length = 3430\n",
    "coded_sentences = [one_hot(sentence, vocab_length) for sentence in text]\n",
    "print(coded_sentences[0:5])"
   ]
  },
  {
   "cell_type": "code",
   "execution_count": 45,
   "metadata": {},
   "outputs": [
    {
     "name": "stdout",
     "output_type": "stream",
     "text": [
      "80\n"
     ]
    }
   ],
   "source": [
    "max_sentence_size = max(list(map(lambda sentence : len(word_tokenize(sentence)), text)))\n",
    "print(max_sentence_size)"
   ]
  },
  {
   "cell_type": "code",
   "execution_count": 47,
   "metadata": {},
   "outputs": [
    {
     "name": "stdout",
     "output_type": "stream",
     "text": [
      "[[ 654  710  710 ...    0    0    0]\n",
      " [ 953  970 1967 ...    0    0    0]\n",
      " [1387 3197 1513 ...    0    0    0]\n",
      " ...\n",
      " [3037  654 2638 ...    0    0    0]\n",
      " [1297 1147    0 ...    0    0    0]\n",
      " [2504 3037 2504 ...    0    0    0]]\n"
     ]
    }
   ],
   "source": [
    "padded_sentences = pad_sequences(coded_sentences, max_sentence_size, padding='post')\n",
    "print(padded_sentences)"
   ]
  },
  {
   "cell_type": "code",
   "execution_count": 10,
   "metadata": {},
   "outputs": [],
   "source": [
    "def getModel(texts_train, labels_train):\n",
    "    model = Sequential()\n",
    "    model.add(Embedding(vocab_length, 20, input_length=max_sentence_size))\n",
    "    model.add(Flatten())\n",
    "    model.add(Dense(1, activation='sigmoid'))\n",
    "    model.compile(optimizer='adam', loss='binary_crossentropy', metrics=['acc'])\n",
    "    model.fit(train_sentences, train_sentiments, epochs=100, verbose=1)\n",
    "    loss, accuracy = model.evaluate(train_sentences, train_sentiments, verbose=0)\n",
    "    print('Accuracy: %f' % (accuracy*100))\n",
    "    return model"
   ]
  },
  {
   "cell_type": "code",
   "execution_count": 12,
   "metadata": {},
   "outputs": [
    {
     "name": "stderr",
     "output_type": "stream",
     "text": [
      "C:\\Users\\33777\\Anaconda3\\lib\\site-packages\\tensorflow_core\\python\\framework\\indexed_slices.py:424: UserWarning: Converting sparse IndexedSlices to a dense Tensor of unknown shape. This may consume a large amount of memory.\n",
      "  \"Converting sparse IndexedSlices to a dense Tensor of unknown shape. \"\n"
     ]
    },
    {
     "name": "stdout",
     "output_type": "stream",
     "text": [
      "Epoch 1/100\n",
      "15/15 [==============================] - 0s 19ms/step - loss: 0.6871 - acc: 0.6000\n",
      "Epoch 2/100\n",
      "15/15 [==============================] - 0s 132us/step - loss: 0.6839 - acc: 0.6667\n",
      "Epoch 3/100\n",
      "15/15 [==============================] - 0s 200us/step - loss: 0.6807 - acc: 0.7333\n",
      "Epoch 4/100\n",
      "15/15 [==============================] - 0s 268us/step - loss: 0.6775 - acc: 0.8000\n",
      "Epoch 5/100\n",
      "15/15 [==============================] - 0s 200us/step - loss: 0.6743 - acc: 0.8667\n",
      "Epoch 6/100\n",
      "15/15 [==============================] - 0s 200us/step - loss: 0.6712 - acc: 0.8667\n",
      "Epoch 7/100\n",
      "15/15 [==============================] - 0s 200us/step - loss: 0.6680 - acc: 0.9333\n",
      "Epoch 8/100\n",
      "15/15 [==============================] - 0s 333us/step - loss: 0.6649 - acc: 0.9333\n",
      "Epoch 9/100\n",
      "15/15 [==============================] - 0s 200us/step - loss: 0.6618 - acc: 0.9333\n",
      "Epoch 10/100\n",
      "15/15 [==============================] - 0s 335us/step - loss: 0.6586 - acc: 0.9333\n",
      "Epoch 11/100\n",
      "15/15 [==============================] - 0s 200us/step - loss: 0.6555 - acc: 0.9333\n",
      "Epoch 12/100\n",
      "15/15 [==============================] - 0s 333us/step - loss: 0.6523 - acc: 0.9333\n",
      "Epoch 13/100\n",
      "15/15 [==============================] - 0s 267us/step - loss: 0.6491 - acc: 0.9333\n",
      "Epoch 14/100\n",
      "15/15 [==============================] - 0s 333us/step - loss: 0.6460 - acc: 0.9333\n",
      "Epoch 15/100\n",
      "15/15 [==============================] - 0s 200us/step - loss: 0.6428 - acc: 0.9333\n",
      "Epoch 16/100\n",
      "15/15 [==============================] - 0s 200us/step - loss: 0.6395 - acc: 0.9333\n",
      "Epoch 17/100\n",
      "15/15 [==============================] - 0s 267us/step - loss: 0.6363 - acc: 0.9333\n",
      "Epoch 18/100\n",
      "15/15 [==============================] - 0s 333us/step - loss: 0.6330 - acc: 0.9333\n",
      "Epoch 19/100\n",
      "15/15 [==============================] - 0s 267us/step - loss: 0.6298 - acc: 0.9333\n",
      "Epoch 20/100\n",
      "15/15 [==============================] - 0s 200us/step - loss: 0.6265 - acc: 0.9333\n",
      "Epoch 21/100\n",
      "15/15 [==============================] - 0s 267us/step - loss: 0.6232 - acc: 0.9333\n",
      "Epoch 22/100\n",
      "15/15 [==============================] - 0s 267us/step - loss: 0.6199 - acc: 0.9333\n",
      "Epoch 23/100\n",
      "15/15 [==============================] - 0s 333us/step - loss: 0.6165 - acc: 0.9333\n",
      "Epoch 24/100\n",
      "15/15 [==============================] - 0s 266us/step - loss: 0.6131 - acc: 0.9333\n",
      "Epoch 25/100\n",
      "15/15 [==============================] - 0s 267us/step - loss: 0.6097 - acc: 0.9333\n",
      "Epoch 26/100\n",
      "15/15 [==============================] - 0s 200us/step - loss: 0.6063 - acc: 0.9333\n",
      "Epoch 27/100\n",
      "15/15 [==============================] - 0s 200us/step - loss: 0.6028 - acc: 0.9333\n",
      "Epoch 28/100\n",
      "15/15 [==============================] - 0s 333us/step - loss: 0.5993 - acc: 0.9333\n",
      "Epoch 29/100\n",
      "15/15 [==============================] - 0s 201us/step - loss: 0.5958 - acc: 0.9333\n",
      "Epoch 30/100\n",
      "15/15 [==============================] - 0s 267us/step - loss: 0.5922 - acc: 0.9333\n",
      "Epoch 31/100\n",
      "15/15 [==============================] - 0s 200us/step - loss: 0.5886 - acc: 0.9333\n",
      "Epoch 32/100\n",
      "15/15 [==============================] - 0s 267us/step - loss: 0.5850 - acc: 0.9333\n",
      "Epoch 33/100\n",
      "15/15 [==============================] - 0s 200us/step - loss: 0.5813 - acc: 0.9333\n",
      "Epoch 34/100\n",
      "15/15 [==============================] - 0s 200us/step - loss: 0.5776 - acc: 0.9333\n",
      "Epoch 35/100\n",
      "15/15 [==============================] - 0s 333us/step - loss: 0.5739 - acc: 0.9333\n",
      "Epoch 36/100\n",
      "15/15 [==============================] - 0s 266us/step - loss: 0.5702 - acc: 0.9333\n",
      "Epoch 37/100\n",
      "15/15 [==============================] - 0s 200us/step - loss: 0.5664 - acc: 0.9333\n",
      "Epoch 38/100\n",
      "15/15 [==============================] - 0s 333us/step - loss: 0.5625 - acc: 0.9333\n",
      "Epoch 39/100\n",
      "15/15 [==============================] - 0s 266us/step - loss: 0.5587 - acc: 0.9333\n",
      "Epoch 40/100\n",
      "15/15 [==============================] - 0s 267us/step - loss: 0.5548 - acc: 0.9333\n",
      "Epoch 41/100\n",
      "15/15 [==============================] - 0s 333us/step - loss: 0.5509 - acc: 0.9333\n",
      "Epoch 42/100\n",
      "15/15 [==============================] - 0s 266us/step - loss: 0.5469 - acc: 0.9333\n",
      "Epoch 43/100\n",
      "15/15 [==============================] - 0s 267us/step - loss: 0.5430 - acc: 0.9333\n",
      "Epoch 44/100\n",
      "15/15 [==============================] - 0s 334us/step - loss: 0.5390 - acc: 0.9333\n",
      "Epoch 45/100\n",
      "15/15 [==============================] - 0s 267us/step - loss: 0.5349 - acc: 0.9333\n",
      "Epoch 46/100\n",
      "15/15 [==============================] - 0s 267us/step - loss: 0.5309 - acc: 0.9333\n",
      "Epoch 47/100\n",
      "15/15 [==============================] - 0s 400us/step - loss: 0.5268 - acc: 0.9333\n",
      "Epoch 48/100\n",
      "15/15 [==============================] - 0s 200us/step - loss: 0.5227 - acc: 0.9333\n",
      "Epoch 49/100\n",
      "15/15 [==============================] - 0s 333us/step - loss: 0.5186 - acc: 0.9333\n",
      "Epoch 50/100\n",
      "15/15 [==============================] - 0s 267us/step - loss: 0.5144 - acc: 0.9333\n",
      "Epoch 51/100\n",
      "15/15 [==============================] - 0s 267us/step - loss: 0.5102 - acc: 0.9333\n",
      "Epoch 52/100\n",
      "15/15 [==============================] - 0s 267us/step - loss: 0.5061 - acc: 0.9333\n",
      "Epoch 53/100\n",
      "15/15 [==============================] - 0s 267us/step - loss: 0.5018 - acc: 0.9333\n",
      "Epoch 54/100\n",
      "15/15 [==============================] - 0s 266us/step - loss: 0.4976 - acc: 0.9333\n",
      "Epoch 55/100\n",
      "15/15 [==============================] - 0s 267us/step - loss: 0.4933 - acc: 0.9333\n",
      "Epoch 56/100\n",
      "15/15 [==============================] - 0s 400us/step - loss: 0.4891 - acc: 0.9333\n",
      "Epoch 57/100\n",
      "15/15 [==============================] - 0s 270us/step - loss: 0.4848 - acc: 0.9333\n",
      "Epoch 58/100\n",
      "15/15 [==============================] - 0s 267us/step - loss: 0.4805 - acc: 0.9333\n",
      "Epoch 59/100\n",
      "15/15 [==============================] - 0s 267us/step - loss: 0.4763 - acc: 0.9333\n",
      "Epoch 60/100\n",
      "15/15 [==============================] - 0s 200us/step - loss: 0.4720 - acc: 0.9333\n",
      "Epoch 61/100\n",
      "15/15 [==============================] - 0s 200us/step - loss: 0.4677 - acc: 0.9333\n",
      "Epoch 62/100\n",
      "15/15 [==============================] - 0s 200us/step - loss: 0.4633 - acc: 0.9333\n",
      "Epoch 63/100\n",
      "15/15 [==============================] - 0s 267us/step - loss: 0.4590 - acc: 0.9333\n",
      "Epoch 64/100\n",
      "15/15 [==============================] - 0s 268us/step - loss: 0.4547 - acc: 0.9333\n",
      "Epoch 65/100\n",
      "15/15 [==============================] - 0s 333us/step - loss: 0.4504 - acc: 0.9333\n",
      "Epoch 66/100\n",
      "15/15 [==============================] - 0s 200us/step - loss: 0.4461 - acc: 0.9333\n",
      "Epoch 67/100\n",
      "15/15 [==============================] - 0s 267us/step - loss: 0.4417 - acc: 0.9333\n",
      "Epoch 68/100\n",
      "15/15 [==============================] - 0s 133us/step - loss: 0.4374 - acc: 0.9333\n",
      "Epoch 69/100\n",
      "15/15 [==============================] - 0s 267us/step - loss: 0.4331 - acc: 0.9333\n",
      "Epoch 70/100\n",
      "15/15 [==============================] - 0s 200us/step - loss: 0.4288 - acc: 0.9333\n",
      "Epoch 71/100\n",
      "15/15 [==============================] - 0s 200us/step - loss: 0.4245 - acc: 0.9333\n",
      "Epoch 72/100\n",
      "15/15 [==============================] - 0s 200us/step - loss: 0.4202 - acc: 0.9333\n",
      "Epoch 73/100\n",
      "15/15 [==============================] - 0s 200us/step - loss: 0.4159 - acc: 0.9333\n",
      "Epoch 74/100\n",
      "15/15 [==============================] - 0s 267us/step - loss: 0.4116 - acc: 0.9333\n",
      "Epoch 75/100\n",
      "15/15 [==============================] - 0s 267us/step - loss: 0.4073 - acc: 0.9333\n",
      "Epoch 76/100\n",
      "15/15 [==============================] - 0s 266us/step - loss: 0.4031 - acc: 0.9333\n",
      "Epoch 77/100\n",
      "15/15 [==============================] - 0s 200us/step - loss: 0.3988 - acc: 0.9333\n",
      "Epoch 78/100\n",
      "15/15 [==============================] - 0s 200us/step - loss: 0.3946 - acc: 0.9333\n",
      "Epoch 79/100\n",
      "15/15 [==============================] - 0s 133us/step - loss: 0.3904 - acc: 0.9333\n",
      "Epoch 80/100\n",
      "15/15 [==============================] - 0s 267us/step - loss: 0.3862 - acc: 0.9333\n",
      "Epoch 81/100\n",
      "15/15 [==============================] - 0s 200us/step - loss: 0.3820 - acc: 0.9333\n",
      "Epoch 82/100\n",
      "15/15 [==============================] - 0s 200us/step - loss: 0.3779 - acc: 0.9333\n",
      "Epoch 83/100\n",
      "15/15 [==============================] - 0s 200us/step - loss: 0.3737 - acc: 0.9333\n",
      "Epoch 84/100\n",
      "15/15 [==============================] - 0s 267us/step - loss: 0.3696 - acc: 0.9333\n",
      "Epoch 85/100\n",
      "15/15 [==============================] - 0s 267us/step - loss: 0.3655 - acc: 0.9333\n"
     ]
    },
    {
     "name": "stdout",
     "output_type": "stream",
     "text": [
      "Epoch 86/100\n",
      "15/15 [==============================] - 0s 200us/step - loss: 0.3614 - acc: 0.9333\n",
      "Epoch 87/100\n",
      "15/15 [==============================] - 0s 200us/step - loss: 0.3574 - acc: 0.9333\n",
      "Epoch 88/100\n",
      "15/15 [==============================] - 0s 200us/step - loss: 0.3533 - acc: 0.9333\n",
      "Epoch 89/100\n",
      "15/15 [==============================] - 0s 304us/step - loss: 0.3493 - acc: 0.9333\n",
      "Epoch 90/100\n",
      "15/15 [==============================] - 0s 200us/step - loss: 0.3453 - acc: 0.9333\n",
      "Epoch 91/100\n",
      "15/15 [==============================] - 0s 200us/step - loss: 0.3414 - acc: 0.9333\n",
      "Epoch 92/100\n",
      "15/15 [==============================] - 0s 200us/step - loss: 0.3375 - acc: 0.9333\n",
      "Epoch 93/100\n",
      "15/15 [==============================] - 0s 200us/step - loss: 0.3336 - acc: 0.9333\n",
      "Epoch 94/100\n",
      "15/15 [==============================] - 0s 200us/step - loss: 0.3297 - acc: 0.9333\n",
      "Epoch 95/100\n",
      "15/15 [==============================] - 0s 200us/step - loss: 0.3259 - acc: 0.9333\n",
      "Epoch 96/100\n",
      "15/15 [==============================] - 0s 200us/step - loss: 0.3220 - acc: 0.9333\n",
      "Epoch 97/100\n",
      "15/15 [==============================] - 0s 200us/step - loss: 0.3183 - acc: 0.9333\n",
      "Epoch 98/100\n",
      "15/15 [==============================] - 0s 267us/step - loss: 0.3145 - acc: 0.9333\n",
      "Epoch 99/100\n",
      "15/15 [==============================] - 0s 267us/step - loss: 0.3108 - acc: 0.9333\n",
      "Epoch 100/100\n",
      "15/15 [==============================] - 0s 267us/step - loss: 0.3071 - acc: 0.9333\n",
      "Accuracy: 93.333334\n"
     ]
    }
   ],
   "source": [
    "model = getModel(texts_train= train_sentences, labels_train = train_sentiments)"
   ]
  },
  {
   "cell_type": "code",
   "execution_count": 1,
   "metadata": {},
   "outputs": [
    {
     "ename": "NameError",
     "evalue": "name 'model' is not defined",
     "output_type": "error",
     "traceback": [
      "\u001b[1;31m---------------------------------------------------------------------------\u001b[0m",
      "\u001b[1;31mNameError\u001b[0m                                 Traceback (most recent call last)",
      "\u001b[1;32m<ipython-input-1-112c964930c0>\u001b[0m in \u001b[0;36m<module>\u001b[1;34m\u001b[0m\n\u001b[1;32m----> 1\u001b[1;33m \u001b[0mpredictions\u001b[0m \u001b[1;33m=\u001b[0m \u001b[0mmodel\u001b[0m\u001b[1;33m.\u001b[0m\u001b[0mpredict\u001b[0m\u001b[1;33m(\u001b[0m\u001b[0marray\u001b[0m\u001b[1;33m(\u001b[0m\u001b[1;33m[\u001b[0m\u001b[0mtest_sentences\u001b[0m\u001b[1;33m]\u001b[0m\u001b[1;33m)\u001b[0m\u001b[1;33m)\u001b[0m\u001b[1;33m\u001b[0m\u001b[1;33m\u001b[0m\u001b[0m\n\u001b[0m\u001b[0;32m      2\u001b[0m \u001b[0mrounded\u001b[0m \u001b[1;33m=\u001b[0m \u001b[1;33m[\u001b[0m\u001b[0mround\u001b[0m\u001b[1;33m(\u001b[0m\u001b[0mx\u001b[0m\u001b[1;33m[\u001b[0m\u001b[1;36m0\u001b[0m\u001b[1;33m]\u001b[0m\u001b[1;33m)\u001b[0m \u001b[1;32mfor\u001b[0m \u001b[0mx\u001b[0m \u001b[1;32min\u001b[0m \u001b[0mpredictions\u001b[0m\u001b[1;33m]\u001b[0m\u001b[1;33m\u001b[0m\u001b[1;33m\u001b[0m\u001b[0m\n\u001b[0;32m      3\u001b[0m \u001b[0mrounded\u001b[0m\u001b[1;33m\u001b[0m\u001b[1;33m\u001b[0m\u001b[0m\n",
      "\u001b[1;31mNameError\u001b[0m: name 'model' is not defined"
     ]
    }
   ],
   "source": [
    "predictions = model.predict(array([test_sentences]))\n",
    "rounded = [round(x[0]) for x in predictions]\n",
    "rounded"
   ]
  },
  {
   "cell_type": "code",
   "execution_count": 2,
   "metadata": {},
   "outputs": [],
   "source": [
    "def test():\n",
    "    print(\"test export\")"
   ]
  }
 ],
 "metadata": {
  "kernelspec": {
   "display_name": "Python 3",
   "language": "python",
   "name": "python3"
  },
  "language_info": {
   "codemirror_mode": {
    "name": "ipython",
    "version": 3
   },
   "file_extension": ".py",
   "mimetype": "text/x-python",
   "name": "python",
   "nbconvert_exporter": "python",
   "pygments_lexer": "ipython3",
   "version": "3.7.3"
  }
 },
 "nbformat": 4,
 "nbformat_minor": 2
}
