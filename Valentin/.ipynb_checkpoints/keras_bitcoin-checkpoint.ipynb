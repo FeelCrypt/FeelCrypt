{
 "cells": [
  {
   "cell_type": "code",
   "execution_count": 3,
   "metadata": {},
   "outputs": [
    {
     "name": "stdout",
     "output_type": "stream",
     "text": [
      "The ipyext.writeandexecute extension is already loaded. To reload it, use:\n",
      "  %reload_ext ipyext.writeandexecute\n"
     ]
    }
   ],
   "source": [
    "#!pip install ipyext\n",
    "%load_ext ipyext.writeandexecute"
   ]
  },
  {
   "cell_type": "code",
   "execution_count": 4,
   "metadata": {},
   "outputs": [
    {
     "name": "stderr",
     "output_type": "stream",
     "text": [
      "Using TensorFlow backend.\n"
     ]
    }
   ],
   "source": [
    "%%writeandexecute -i user_accounts keras_bitcoin.py\n",
    "from numpy import array\n",
    "from keras.preprocessing.text import one_hot\n",
    "from keras.preprocessing.sequence import pad_sequences\n",
    "from keras.models import Sequential\n",
    "from keras.layers import Dense\n",
    "from keras.layers import Flatten\n",
    "from keras.layers.embeddings import Embedding\n",
    "from nltk.tokenize import word_tokenize\n",
    "from sklearn.model_selection import train_test_split\n",
    "import math\n",
    "def get_unique_words_count(texts):\n",
    "    words_set = set()\n",
    "    for sentence in texts:\n",
    "        tokenize_word = word_tokenize(sentence)\n",
    "        for word in tokenize_word:\n",
    "            words_set.add(word)\n",
    "    return len(words_set)\n",
    "\n",
    "def get_above_multiple(num, divisor):\n",
    "    return math.ceil(num / divisor) * divisor\n",
    "\n",
    "def get_train_test_data(texts, labels):\n",
    "    vocab_length = get_above_multiple(get_unique_words_count(texts), 10)\n",
    "    coded_sentences = [one_hot(sentence, vocab_length) for sentence in texts]\n",
    "    max_sentence_size = max(list(map(lambda sentence : len(word_tokenize(sentence)), texts)))\n",
    "    padded_coded_sentences = pad_sequences(coded_sentences, max_sentence_size, padding='post') \n",
    "    texts_train, texts_test , labels_train, labels_test = train_test_split(padded_coded_sentences, labels , test_size = 0.20)\n",
    "    return texts_train,texts_test,labels_train,labels_test,vocab_length,max_sentence_size\n",
    "\n",
    "def get_model(texts_train, labels_train, vocab_length, max_sentence_size):\n",
    "    model = Sequential()\n",
    "    model.add(Embedding(vocab_length, 20, input_length=max_sentence_size))\n",
    "    model.add(Flatten())\n",
    "    model.add(Dense(1, activation='sigmoid'))\n",
    "    model.compile(optimizer='adam', loss='binary_crossentropy', metrics=['acc'])\n",
    "    model.fit(texts_train, labels_train, epochs=100, verbose=1)\n",
    "    return model\n",
    "\n",
    "def get_data_to_predict(texts, vocab_length, max_sentence_size):\n",
    "    valid_sentences = list(filter(lambda sentence : len(word_tokenize(sentence)) <= max_sentence_size, texts))\n",
    "    valid_coded_sentences = list(map(lambda sentence : one_hot(sentence, vocab_length), valid_sentences))\n",
    "    \n",
    "    return pad_sequences(valid_coded_sentences, max_sentence_size, padding='post'),valid_sentences\n",
    "\n",
    "def get_predictions(texts, model, vocab_length, max_sentence_size):\n",
    "    to_predict, valid_texts = get_data_to_predict(texts, vocab_length, max_sentence_size)\n",
    "    predictions_values = model.predict(to_predict)\n",
    "    predictions_rounded = [round(pred[0]) for pred in predictions_values]\n",
    "    predictions = {}\n",
    "    for i in range(len(texts) -1):\n",
    "        predictions[valid_texts[i]] = predictions_rounded[i]\n",
    "    return predictions"
   ]
  }
 ],
 "metadata": {
  "kernelspec": {
   "display_name": "Python 3",
   "language": "python",
   "name": "python3"
  },
  "language_info": {
   "codemirror_mode": {
    "name": "ipython",
    "version": 3
   },
   "file_extension": ".py",
   "mimetype": "text/x-python",
   "name": "python",
   "nbconvert_exporter": "python",
   "pygments_lexer": "ipython3",
   "version": "3.7.3"
  }
 },
 "nbformat": 4,
 "nbformat_minor": 2
}
