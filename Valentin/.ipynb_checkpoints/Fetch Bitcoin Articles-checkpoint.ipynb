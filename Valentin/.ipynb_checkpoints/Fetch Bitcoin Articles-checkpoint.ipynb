{
 "cells": [
  {
   "cell_type": "code",
   "execution_count": 15,
   "metadata": {},
   "outputs": [
    {
     "data": {
      "text/plain": [
       "['Rencontre mensuelle organisée par\\xa0Maxime, Thibault et Lola.\\xa0Pas de présentation, mais juste un verre pour discuter de l’actualité des cryptomonnaies. C’est aussi l’occasion pour ceux qui débutent de venir poser leurs questions.',\n",
       " '«\\xa0Combien de bitcoins distribuait le premier faucet bitcoin\\xa0? Quelle est la plus petite unité utilisable actuellement\\xa0? En 2010, un bug créa accidentellement une énorme quantité de bitcoin. Combien exactement\\xa0? Quel est le pseudo Bitcointalk de l’auteur de la célèbre expression HODL\\xa0?\\xa0» Voilà quelques-unes des questions du LNquiz lancé le 6 mars 2019 par Jazaronaut sur Twitter avec la simple ambition de promouvoir le Lightning Network.  Suite à une donation, les récompenses du LNQuiz seront doublées durant deux semaines\\xa0: 2000 satoshis pour chaque gagnant.']"
      ]
     },
     "execution_count": 15,
     "metadata": {},
     "output_type": "execute_result"
    }
   ],
   "source": [
    "import requests\n",
    "\n",
    "fromDate = \"2019-08-14\"\n",
    "toDate = \"2019-08-14\"\n",
    "URL = f\"https://bloskfnnnsqm.herokuapp.com/scrap?from={fromDate}&to={toDate}\"\n",
    "URLlocal = f\"http://localhost:8080/scrap?from={fromDate}&to={toDate}\"\n",
    "r = requests.get(url = URL) \n",
    "\n",
    "data = r.json()"
   ]
  },
  {
   "cell_type": "code",
   "execution_count": 63,
   "metadata": {},
   "outputs": [
    {
     "name": "stdout",
     "output_type": "stream",
     "text": [
      "{\"data\":[\"Rencontre mensuelle organisée par Maxime, Thibault et Lola. Pas de présentation, mais juste un verre pour discuter de l’actualité des cryptomonnaies. C’est aussi l’occasion pour ceux qui débutent de venir poser leurs questions.\",\"« Combien de bitcoins distribuait le premier faucet bitcoin ? Quelle est la plus petite unité utilisable actuellement ? En 2010, un bug créa accidentellement une énorme quantité de bitcoin. Combien exactement ? Quel est le pseudo Bitcointalk de l’auteur de la célèbre expression HODL ? » Voilà quelques-unes des questions du LNquiz lancé le 6 mars 2019 par Jazaronaut sur Twitter avec la simple ambition de promouvoir le Lightning Network.  Suite à une donation, les récompenses du LNQuiz seront doublées durant deux semaines : 2000 satoshis pour chaque gagnant.\"] }\n"
     ]
    }
   ],
   "source": [
    "import json\n",
    "jsonData = '{{\"data\":{} }}'.format(r.text.replace(\"\\xa0\", \" \").replace(\"'\", '\"'))\n",
    "print(jsonData)\n",
    "f = open(\"./Articles/temp.json\", \"w\")\n",
    "f.write(jsonData)\n",
    "f.close()"
   ]
  },
  {
   "cell_type": "code",
   "execution_count": 64,
   "metadata": {},
   "outputs": [],
   "source": [
    "import requests\n",
    "import json\n",
    "    \n",
    "for i in range(1,31):\n",
    "    day = f\"{i}\"\n",
    "    if(len(day) < 2):\n",
    "        day = f\"0{day}\"\n",
    "    date = f\"2019-10-{day}\"\n",
    "    URLlocal = f\"http://localhost:8080/scrap?from={date}&to={date}&local=true\"\n",
    "    r = requests.get(url = URL) \n",
    "\n",
    "    jsonData = '{{\"data\":{} }}'.format(r.text.replace(\"\\xa0\", \" \").replace(\"'\", '\"'))\n",
    "    \n",
    "    f = open(f\"./Articles/{date}.json\", \"w\")\n",
    "    f.write(jsonData)\n",
    "    f.close()\n",
    "   "
   ]
  },
  {
   "cell_type": "code",
   "execution_count": 58,
   "metadata": {},
   "outputs": [
    {
     "name": "stdout",
     "output_type": "stream",
     "text": [
      "['Rencontre mensuelle organisée par Maxime, Thibault et Lola. Pas de présentation, mais juste un verre pour discuter de l’actualité des cryptomonnaies. C’est aussi l’occasion pour ceux qui débutent de venir poser leurs questions.', '« Combien de bitcoins distribuait le premier faucet bitcoin ? Quelle est la plus petite unité utilisable actuellement ? En 2010, un bug créa accidentellement une énorme quantité de bitcoin. Combien exactement ? Quel est le pseudo Bitcointalk de l’auteur de la célèbre expression HODL ? » Voilà quelques-unes des questions du LNquiz lancé le 6 mars 2019 par Jazaronaut sur Twitter avec la simple ambition de promouvoir le Lightning Network.  Suite à une donation, les récompenses du LNQuiz seront doublées durant deux semaines : 2000 satoshis pour chaque gagnant.']\n"
     ]
    }
   ],
   "source": [
    "f = open(\"2019-10-01.json\", \"r\")\n",
    "parsed_json = json.loads(f.read())\n",
    "print(parsed_json[\"data\"])\n",
    "f.close()"
   ]
  }
 ],
 "metadata": {
  "kernelspec": {
   "display_name": "Python 3",
   "language": "python",
   "name": "python3"
  },
  "language_info": {
   "codemirror_mode": {
    "name": "ipython",
    "version": 3
   },
   "file_extension": ".py",
   "mimetype": "text/x-python",
   "name": "python",
   "nbconvert_exporter": "python",
   "pygments_lexer": "ipython3",
   "version": "3.7.3"
  }
 },
 "nbformat": 4,
 "nbformat_minor": 2
}
