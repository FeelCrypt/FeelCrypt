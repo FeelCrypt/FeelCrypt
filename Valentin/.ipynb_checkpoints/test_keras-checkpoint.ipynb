{
 "cells": [
  {
   "cell_type": "code",
   "execution_count": 4,
   "metadata": {},
   "outputs": [],
   "source": [
    "import dataset\n",
    "import tfidf"
   ]
  },
  {
   "cell_type": "code",
   "execution_count": 5,
   "metadata": {},
   "outputs": [
    {
     "name": "stdout",
     "output_type": "stream",
     "text": [
      "Number of files loaded :  10\n"
     ]
    },
    {
     "data": {
      "text/html": [
       "<div>\n",
       "<style scoped>\n",
       "    .dataframe tbody tr th:only-of-type {\n",
       "        vertical-align: middle;\n",
       "    }\n",
       "\n",
       "    .dataframe tbody tr th {\n",
       "        vertical-align: top;\n",
       "    }\n",
       "\n",
       "    .dataframe thead th {\n",
       "        text-align: right;\n",
       "    }\n",
       "</style>\n",
       "<table border=\"1\" class=\"dataframe\">\n",
       "  <thead>\n",
       "    <tr style=\"text-align: right;\">\n",
       "      <th></th>\n",
       "      <th>text</th>\n",
       "      <th>label</th>\n",
       "      <th>date</th>\n",
       "      <th>score</th>\n",
       "      <th>nb_replies</th>\n",
       "      <th>stickied</th>\n",
       "    </tr>\n",
       "  </thead>\n",
       "  <tbody>\n",
       "    <tr>\n",
       "      <th>0</th>\n",
       "      <td>I mistakenly read as /u/segwitCop that would b...</td>\n",
       "      <td>1</td>\n",
       "      <td>2017-12-16</td>\n",
       "      <td>None</td>\n",
       "      <td>None</td>\n",
       "      <td>None</td>\n",
       "    </tr>\n",
       "    <tr>\n",
       "      <th>1</th>\n",
       "      <td>That's not a conspiracy. That's how bitfinex w...</td>\n",
       "      <td>0</td>\n",
       "      <td>2017-12-17</td>\n",
       "      <td>None</td>\n",
       "      <td>None</td>\n",
       "      <td>None</td>\n",
       "    </tr>\n",
       "    <tr>\n",
       "      <th>2</th>\n",
       "      <td>It gives me joy that ToTheMoonGuy has chosen t...</td>\n",
       "      <td>0</td>\n",
       "      <td>2017-12-18</td>\n",
       "      <td>None</td>\n",
       "      <td>None</td>\n",
       "      <td>None</td>\n",
       "    </tr>\n",
       "    <tr>\n",
       "      <th>3</th>\n",
       "      <td>Should have read: Tether \"Spawns out of nowher...</td>\n",
       "      <td>0</td>\n",
       "      <td>2017-12-19</td>\n",
       "      <td>None</td>\n",
       "      <td>None</td>\n",
       "      <td>None</td>\n",
       "    </tr>\n",
       "    <tr>\n",
       "      <th>4</th>\n",
       "      <td>&gt;Bitcoin Cash purchases are temporarily disabl...</td>\n",
       "      <td>0</td>\n",
       "      <td>2017-12-20</td>\n",
       "      <td>None</td>\n",
       "      <td>None</td>\n",
       "      <td>None</td>\n",
       "    </tr>\n",
       "  </tbody>\n",
       "</table>\n",
       "</div>"
      ],
      "text/plain": [
       "                                                text  label        date score  \\\n",
       "0  I mistakenly read as /u/segwitCop that would b...      1  2017-12-16  None   \n",
       "1  That's not a conspiracy. That's how bitfinex w...      0  2017-12-17  None   \n",
       "2  It gives me joy that ToTheMoonGuy has chosen t...      0  2017-12-18  None   \n",
       "3  Should have read: Tether \"Spawns out of nowher...      0  2017-12-19  None   \n",
       "4  >Bitcoin Cash purchases are temporarily disabl...      0  2017-12-20  None   \n",
       "\n",
       "  nb_replies stickied  \n",
       "0       None     None  \n",
       "1       None     None  \n",
       "2       None     None  \n",
       "3       None     None  \n",
       "4       None     None  "
      ]
     },
     "execution_count": 5,
     "metadata": {},
     "output_type": "execute_result"
    }
   ],
   "source": [
    "number_of_file = 10\n",
    "df = dataset.get_labeled_dataset(number_of_file=number_of_file, from_date=\"2017-12-16\", group_by_date=True)\n",
    "df.head()"
   ]
  },
  {
   "cell_type": "code",
   "execution_count": 6,
   "metadata": {},
   "outputs": [],
   "source": [
    "from nltk.corpus import stopwords\n",
    "from nltk.tokenize import RegexpTokenizer\n",
    "tokenizer = RegexpTokenizer(r'\\w+')\n",
    "\n",
    "def remove_stopwords(text):\n",
    "    return [w for w in tokenizer.tokenize(text) if w.lower() not in stopwords.words(\"english\")]"
   ]
  },
  {
   "cell_type": "code",
   "execution_count": 7,
   "metadata": {},
   "outputs": [],
   "source": [
    "from nltk.stem import PorterStemmer\n",
    "porter = PorterStemmer()\n",
    "\n",
    "def stem_sentence(words):\n",
    "    return \" \".join([porter.stem(word) for word in words])"
   ]
  },
  {
   "cell_type": "code",
   "execution_count": 8,
   "metadata": {},
   "outputs": [],
   "source": [
    "from IPython.display import clear_output\n",
    "\n",
    "def clean_df(df):\n",
    "    count = 0\n",
    "    clean_text = []\n",
    "    for sentence in df[\"text\"]:\n",
    "        clean_text.append(remove_stopwords(sentence))\n",
    "        count+=1\n",
    "        clear_output()\n",
    "        print(f\"{count}/{number_of_file}\")\n",
    "    df[\"text\"] = clean_text\n",
    "    df[\"text\"] = [stem_sentence(x) for x in df[\"text\"]]\n",
    "    return df"
   ]
  },
  {
   "cell_type": "code",
   "execution_count": 9,
   "metadata": {},
   "outputs": [
    {
     "name": "stdout",
     "output_type": "stream",
     "text": [
      "10/10\n"
     ]
    }
   ],
   "source": [
    "df = clean_df(df)"
   ]
  },
  {
   "cell_type": "code",
   "execution_count": 11,
   "metadata": {},
   "outputs": [
    {
     "data": {
      "text/html": [
       "<div>\n",
       "<style scoped>\n",
       "    .dataframe tbody tr th:only-of-type {\n",
       "        vertical-align: middle;\n",
       "    }\n",
       "\n",
       "    .dataframe tbody tr th {\n",
       "        vertical-align: top;\n",
       "    }\n",
       "\n",
       "    .dataframe thead th {\n",
       "        text-align: right;\n",
       "    }\n",
       "</style>\n",
       "<table border=\"1\" class=\"dataframe\">\n",
       "  <thead>\n",
       "    <tr style=\"text-align: right;\">\n",
       "      <th></th>\n",
       "      <th>text</th>\n",
       "      <th>label</th>\n",
       "      <th>date</th>\n",
       "      <th>score</th>\n",
       "      <th>nb_replies</th>\n",
       "      <th>stickied</th>\n",
       "    </tr>\n",
       "  </thead>\n",
       "  <tbody>\n",
       "    <tr>\n",
       "      <th>0</th>\n",
       "      <td>mistakenli read u segwitcop would funni bodi l...</td>\n",
       "      <td>1</td>\n",
       "      <td>2017-12-16</td>\n",
       "      <td>None</td>\n",
       "      <td>None</td>\n",
       "      <td>None</td>\n",
       "    </tr>\n",
       "    <tr>\n",
       "      <th>1</th>\n",
       "      <td>conspiraci bitfinex work accept deposit withdr...</td>\n",
       "      <td>0</td>\n",
       "      <td>2017-12-17</td>\n",
       "      <td>None</td>\n",
       "      <td>None</td>\n",
       "      <td>None</td>\n",
       "    </tr>\n",
       "    <tr>\n",
       "      <th>2</th>\n",
       "      <td>give joy tothemoonguy chosen support whitepap ...</td>\n",
       "      <td>0</td>\n",
       "      <td>2017-12-18</td>\n",
       "      <td>None</td>\n",
       "      <td>None</td>\n",
       "      <td>None</td>\n",
       "    </tr>\n",
       "    <tr>\n",
       "      <th>3</th>\n",
       "      <td>read tether spawn nowher holi hell Ok bitconne...</td>\n",
       "      <td>0</td>\n",
       "      <td>2017-12-19</td>\n",
       "      <td>None</td>\n",
       "      <td>None</td>\n",
       "      <td>None</td>\n",
       "    </tr>\n",
       "    <tr>\n",
       "      <th>4</th>\n",
       "      <td>bitcoin cash purchas temporarili disabl shut t...</td>\n",
       "      <td>0</td>\n",
       "      <td>2017-12-20</td>\n",
       "      <td>None</td>\n",
       "      <td>None</td>\n",
       "      <td>None</td>\n",
       "    </tr>\n",
       "  </tbody>\n",
       "</table>\n",
       "</div>"
      ],
      "text/plain": [
       "                                                text  label        date score  \\\n",
       "0  mistakenli read u segwitcop would funni bodi l...      1  2017-12-16  None   \n",
       "1  conspiraci bitfinex work accept deposit withdr...      0  2017-12-17  None   \n",
       "2  give joy tothemoonguy chosen support whitepap ...      0  2017-12-18  None   \n",
       "3  read tether spawn nowher holi hell Ok bitconne...      0  2017-12-19  None   \n",
       "4  bitcoin cash purchas temporarili disabl shut t...      0  2017-12-20  None   \n",
       "\n",
       "  nb_replies stickied  \n",
       "0       None     None  \n",
       "1       None     None  \n",
       "2       None     None  \n",
       "3       None     None  \n",
       "4       None     None  "
      ]
     },
     "execution_count": 11,
     "metadata": {},
     "output_type": "execute_result"
    }
   ],
   "source": [
    "df.head()"
   ]
  },
  {
   "cell_type": "markdown",
   "metadata": {},
   "source": [
    "### Methode 1 : each positive text of a day to each negative text of a day"
   ]
  },
  {
   "cell_type": "code",
   "execution_count": 12,
   "metadata": {},
   "outputs": [
    {
     "data": {
      "text/plain": [
       "{'0': [1, 2, 3, 4, 5, 6, 8], '1': [0, 7, 9]}"
      ]
     },
     "execution_count": 12,
     "metadata": {},
     "output_type": "execute_result"
    }
   ],
   "source": [
    "index_dico = {\"0\" : [], \"1\" : []}\n",
    "for i in range(len(df)):\n",
    "    if df[\"label\"][i] == 0:\n",
    "        index_dico[\"0\"].append(i)\n",
    "    else :\n",
    "        index_dico[\"1\"].append(i)\n",
    "index_dico"
   ]
  },
  {
   "cell_type": "code",
   "execution_count": 13,
   "metadata": {},
   "outputs": [],
   "source": [
    "list_combinaisons = []\n",
    "for index_a in index_dico[\"0\"]:\n",
    "    for index_b in index_dico[\"1\"]:\n",
    "        list_combinaisons.append({\"index_a\" : index_a, \"index_b\" :index_b})"
   ]
  },
  {
   "cell_type": "code",
   "execution_count": 14,
   "metadata": {},
   "outputs": [],
   "source": [
    "for comb in list_combinaisons:\n",
    "    comb[\"df\"] = tfidf.get_tfidf(df[\"text\"][comb[\"index_a\"]], df[\"text\"][comb[\"index_b\"]], max_words = 100)"
   ]
  },
  {
   "cell_type": "code",
   "execution_count": 15,
   "metadata": {},
   "outputs": [],
   "source": [
    "#MEAN VALUE OF ALL\n",
    "m_dic = {}\n",
    "for i in range(number_of_file):\n",
    "    m_dic[i] = {\"__sum__\" : 0}\n",
    "\n",
    "for comb in list_combinaisons:\n",
    "    index_a = comb[\"index_a\"]\n",
    "    index_b = comb[\"index_b\"]\n",
    "    df_temp = comb[\"df\"]\n",
    "    m_dic[index_a][\"__sum__\"]+=1\n",
    "    m_dic[index_b][\"__sum__\"]+=1\n",
    "    df_a = df_temp.iloc[0]\n",
    "    df_b = df_temp.iloc[1]\n",
    "    \n",
    "    for word in df_temp.keys():\n",
    "        if word in m_dic[index_a].keys():\n",
    "            m_dic[index_a][word]+= df_a[word]\n",
    "        else:\n",
    "            m_dic[index_a][word]= df_a[word]\n",
    "            \n",
    "        if word in m_dic[index_b].keys():\n",
    "            m_dic[index_b][word]+= df_b[word]\n",
    "        else:\n",
    "            m_dic[index_b][word]= df_b[word]\n",
    "\n",
    "for index in m_dic.keys():\n",
    "    sum_words = m_dic[index][\"__sum__\"]\n",
    "    for key in m_dic[index].keys():\n",
    "        m_dic[index][key] /= sum_words"
   ]
  },
  {
   "cell_type": "code",
   "execution_count": 19,
   "metadata": {},
   "outputs": [
    {
     "name": "stdout",
     "output_type": "stream",
     "text": [
      "['__sum__', '32', 'accept', 'account', 'actual', 'also', 'api', 'ask', 'back', 'bcash', 'bch', 'better', 'bitcoin', 'block', 'bodi', 'btc', 'buy', 'call', 'cash', 'chain', 'chang', 'coin', 'coinbas', 'com', 'come', 'comment', 'core', 'could', 'crypto', 'day', 'delet', 'differ', 'even', 'everi', 'exchang', 'fee', 'fork', 'free', 'get', 'go', 'good', 'happen', 'http', 'index', 'keep', 'know', 'less', 'like', 'make', 'mean', 'mine', 'miner', 'money', 'much', 'name', 'need', 'net', 'np', 'one', 'pay', 'peopl', 'point', 'pool', 'post', 'power', 'profit', 'receiv', 'reddit', 'right', 'rocketr', 'roger', 'say', 'see', 'segwit', 'small', 'someth', 'start', 'still', 'support', 'sure', 'take', 'thank', 'thing', 'think', 'time', 'tippr', 'transact', 'tri', 'usd', 'use', 'valu', 'ver', 'wallet', 'want', 'well', 'wiki', 'withdraw', 'work', 'would', 'www', 'year', 'address', 'adopt', 'answer', 'hi', 'livestream', 'mani', 'minut', 'month', 'network', 'new', 'possibl', 'problem', 'question', 'realli', 'said', 'sell', 'someon', 'understand', 'us', 'user', 'way', 'ye', 'alreadi', 'bank', 'central', 'channel', 'got', 'ln', 'long', 'never', 'open', 'payment', 'probabl', 'real', 'sub', 'everyon', 'fuck', 'full', 'increas', 'lol', 'look', 'made', 'market', 'move', 'node', 'price', 'run', 'scale', 'trade', '00', '20', 'blockchain', 'decentr', 'let', 'meme', 'read', 'reason', 'world', 'attack', 'currenc', 'lightn', 'acceptbitcoin', 'ethereum', 'learnbitcoin', 'origin', 'satoshi']\n",
      "['__sum__', '32', 'accept', 'account', 'actual', 'also', 'api', 'ask', 'back', 'bcash', 'bch', 'better', 'bitcoin', 'block', 'bodi', 'btc', 'buy', 'call', 'cash', 'chain', 'chang', 'coin', 'coinbas', 'com', 'come', 'comment', 'core', 'could', 'crypto', 'day', 'delet', 'differ', 'even', 'everi', 'exchang', 'fee', 'fork', 'free', 'get', 'go', 'good', 'happen', 'http', 'index', 'keep', 'know', 'less', 'like', 'make', 'mean', 'mine', 'miner', 'money', 'much', 'name', 'need', 'net', 'np', 'one', 'pay', 'peopl', 'point', 'pool', 'post', 'power', 'profit', 'receiv', 'reddit', 'right', 'rocketr', 'roger', 'say', 'see', 'segwit', 'small', 'someth', 'start', 'still', 'support', 'sure', 'take', 'thank', 'thing', 'think', 'time', 'tippr', 'transact', 'tri', 'usd', 'use', 'valu', 'ver', 'wallet', 'want', 'well', 'wiki', 'withdraw', 'work', 'would', 'www', 'year', 'acceptbitcoin', 'believ', 'currenc', 'donat', 'everyon', 'first', 'give', 'got', 'learnbitcoin', 'look', 'lot', 'market', 'messag', 'network', 'node', 'price', 'real', 'realli', 'scale', 'someon', 'though', 'way', 'amaz', 'awesom', 'bchsanta', 'blockstream', 'cheer', 'christma', 'commun', 'great', 'guy', 'happi', 'help', 'ho', 'holiday', 'love', 'merri', 'new', 'nice', 'santa', 'spread', 'tip', 'wow']\n",
      "['__sum__', 'accept', 'actual', 'address', 'adopt', 'also', 'answer', 'ask', 'back', 'bcash', 'bch', 'bitcoin', 'block', 'btc', 'buy', 'cash', 'chang', 'coin', 'coinbas', 'com', 'come', 'comment', 'core', 'could', 'crypto', 'day', 'delet', 'differ', 'even', 'exchang', 'fee', 'get', 'go', 'good', 'hi', 'http', 'keep', 'know', 'like', 'livestream', 'make', 'mani', 'mean', 'mine', 'miner', 'minut', 'money', 'month', 'much', 'need', 'network', 'new', 'np', 'one', 'pay', 'peopl', 'point', 'possibl', 'power', 'problem', 'profit', 'question', 'realli', 'reddit', 'right', 'rocketr', 'roger', 'said', 'say', 'see', 'segwit', 'sell', 'someon', 'someth', 'start', 'still', 'support', 'take', 'thank', 'thing', 'think', 'time', 'tippr', 'transact', 'tri', 'understand', 'us', 'usd', 'use', 'user', 'valu', 'ver', 'wallet', 'want', 'way', 'well', 'work', 'would', 'www', 'ye', 'year', 'acceptbitcoin', 'better', 'chain', 'currenc', 'first', 'fork', 'give', 'got', 'help', 'index', 'learnbitcoin', 'look', 'lot', 'market', 'messag', 'net', 'post', 'price', 'real', 'receiv', 'scale', 'wiki', 'awesom', 'bchsanta', 'christma', 'commun', 'everyon', 'great', 'guy', 'ho', 'love', 'merri', 'santa', 'spread', 'tip']\n",
      "['__sum__', 'accept', 'actual', 'alreadi', 'also', 'ask', 'back', 'bank', 'bcash', 'bch', 'better', 'bitcoin', 'block', 'btc', 'buy', 'cash', 'central', 'chain', 'chang', 'channel', 'coin', 'com', 'come', 'comment', 'core', 'could', 'crypto', 'day', 'delet', 'differ', 'even', 'everi', 'exchang', 'fee', 'free', 'get', 'go', 'good', 'got', 'happen', 'http', 'keep', 'know', 'less', 'like', 'ln', 'long', 'make', 'mani', 'mean', 'mine', 'miner', 'money', 'much', 'need', 'network', 'never', 'np', 'one', 'open', 'pay', 'payment', 'peopl', 'point', 'post', 'power', 'probabl', 'profit', 'real', 'realli', 'reddit', 'right', 'rocketr', 'roger', 'say', 'see', 'segwit', 'someth', 'start', 'still', 'sub', 'sure', 'take', 'thank', 'thing', 'think', 'time', 'tippr', 'transact', 'tri', 'usd', 'use', 'valu', 'wallet', 'want', 'way', 'well', 'work', 'would', 'www', 'year', 'acceptbitcoin', 'believ', 'currenc', 'everyon', 'first', 'fork', 'give', 'index', 'learnbitcoin', 'look', 'lot', 'market', 'messag', 'net', 'node', 'receiv', 'someon', 'wiki', 'awesom', 'bchsanta', 'christma', 'commun', 'great', 'guy', 'help', 'ho', 'love', 'merri', 'nice', 'santa', 'spread', 'tip', 'wow']\n",
      "['__sum__', 'accept', 'actual', 'also', 'ask', 'back', 'bank', 'bcash', 'bch', 'bitcoin', 'block', 'btc', 'buy', 'cash', 'central', 'chang', 'coin', 'coinbas', 'com', 'comment', 'core', 'could', 'crypto', 'day', 'delet', 'even', 'everyon', 'exchang', 'fee', 'fork', 'fuck', 'full', 'get', 'go', 'good', 'got', 'happen', 'http', 'increas', 'index', 'know', 'like', 'lol', 'look', 'made', 'make', 'mani', 'market', 'mean', 'mine', 'miner', 'money', 'move', 'much', 'need', 'net', 'network', 'never', 'new', 'node', 'np', 'one', 'peopl', 'point', 'post', 'power', 'price', 'real', 'realli', 'receiv', 'reddit', 'right', 'rocketr', 'run', 'say', 'scale', 'see', 'segwit', 'sell', 'still', 'support', 'take', 'thank', 'thing', 'think', 'time', 'tippr', 'trade', 'transact', 'tri', 'usd', 'use', 'wallet', 'want', 'way', 'well', 'wiki', 'work', 'would', 'www', 'year', 'acceptbitcoin', 'account', 'better', 'currenc', 'learnbitcoin', 'messag', 'valu', 'awesom', 'christma', 'commun', 'give', 'great', 'guy', 'ho', 'keep', 'love', 'merri', 'santa', 'tip']\n",
      "['__sum__', '00', '20', 'actual', 'also', 'back', 'bank', 'bcash', 'bch', 'better', 'bitcoin', 'block', 'blockchain', 'btc', 'cash', 'chain', 'chang', 'coin', 'coinbas', 'com', 'comment', 'core', 'could', 'crypto', 'day', 'decentr', 'differ', 'even', 'everi', 'exchang', 'fee', 'fork', 'full', 'get', 'go', 'good', 'http', 'increas', 'keep', 'know', 'let', 'like', 'long', 'look', 'make', 'mani', 'mean', 'meme', 'mine', 'miner', 'money', 'much', 'need', 'network', 'new', 'node', 'np', 'one', 'peopl', 'point', 'post', 'problem', 'read', 'real', 'realli', 'reason', 'reddit', 'right', 'roger', 'run', 'said', 'say', 'scale', 'see', 'segwit', 'someth', 'still', 'sub', 'support', 'take', 'thank', 'thing', 'think', 'time', 'tippr', 'trade', 'transact', 'tri', 'understand', 'use', 'user', 'valu', 'wallet', 'want', 'way', 'well', 'work', 'world', 'would', 'www', 'year', 'accept', 'ask', 'currenc', 'everyon', 'give', 'help', 'market', 'net', 'power', 'rocketr', 'sure', 'usd', 'wiki', 'acceptbitcoin', 'christma', 'commun', 'delet', 'great', 'guy', 'ho', 'index', 'learnbitcoin', 'love', 'merri', 'receiv', 'santa', 'tip']\n",
      "['__sum__', 'accept', 'actual', 'also', 'ask', 'attack', 'back', 'bcash', 'bch', 'better', 'bitcoin', 'block', 'btc', 'buy', 'call', 'cash', 'chain', 'coin', 'com', 'come', 'comment', 'core', 'could', 'crypto', 'currenc', 'day', 'delet', 'differ', 'even', 'everi', 'exchang', 'fee', 'fork', 'full', 'get', 'go', 'good', 'got', 'happen', 'http', 'index', 'keep', 'know', 'lightn', 'like', 'long', 'make', 'market', 'mean', 'mine', 'miner', 'money', 'move', 'much', 'need', 'network', 'never', 'new', 'node', 'np', 'one', 'pay', 'peopl', 'point', 'post', 'power', 'problem', 'realli', 'receiv', 'reddit', 'right', 'rocketr', 'roger', 'run', 'say', 'scale', 'see', 'segwit', 'still', 'sub', 'support', 'sure', 'thing', 'think', 'time', 'tippr', 'transact', 'tri', 'usd', 'use', 'valu', 'ver', 'wallet', 'want', 'way', 'well', 'wiki', 'work', 'would', 'www', 'year', 'acceptbitcoin', 'believ', 'everyon', 'first', 'learnbitcoin', 'let', 'look', 'messag', 'net', 'price', 'said', 'someon', 'someth', 'thank', 'though', 'awesom', 'bchsanta', 'christma', 'commun', 'give', 'great', 'guy', 'ho', 'lol', 'love', 'merri', 'santa', 'spread', 'take', 'tip']\n",
      "['__sum__', 'accept', 'acceptbitcoin', 'account', 'actual', 'also', 'ask', 'back', 'bch', 'believ', 'better', 'bitcoin', 'block', 'btc', 'buy', 'call', 'cash', 'chain', 'coin', 'coinbas', 'com', 'comment', 'core', 'could', 'crypto', 'currenc', 'day', 'delet', 'donat', 'even', 'everyon', 'exchang', 'fee', 'first', 'fork', 'get', 'give', 'go', 'good', 'got', 'http', 'index', 'know', 'learnbitcoin', 'like', 'look', 'lot', 'make', 'market', 'mean', 'messag', 'mine', 'miner', 'money', 'much', 'need', 'net', 'network', 'node', 'np', 'one', 'pay', 'peopl', 'point', 'post', 'power', 'price', 'real', 'realli', 'receiv', 'reddit', 'right', 'rocketr', 'say', 'scale', 'see', 'segwit', 'someon', 'someth', 'still', 'support', 'sure', 'thank', 'thing', 'think', 'though', 'time', 'tippr', 'transact', 'tri', 'usd', 'use', 'valu', 'want', 'way', 'well', 'wiki', 'work', 'would', 'www', 'year', 'answer', 'help', 'keep', 'livestream', 'minut', 'question', 'roger', 'said', 'take', 'us', 'user', 'wallet', 'bank', 'channel', 'ln', 'long', 'never', 'open', 'payment', 'start', 'sub', 'chang', 'happen', 'increas', 'made', 'mani', 'new', 'run', 'sell', 'trade', 'blockchain', 'everi', 'full', 'let', 'problem', 'reason', 'world', 'attack', 'commun', 'origin', 'read', 'satoshi', 'understand']\n",
      "['__sum__', 'accept', 'acceptbitcoin', 'actual', 'also', 'ask', 'attack', 'back', 'bcash', 'bch', 'bitcoin', 'block', 'blockchain', 'btc', 'buy', 'call', 'cash', 'chain', 'chang', 'coin', 'com', 'comment', 'core', 'could', 'day', 'decentr', 'differ', 'ethereum', 'even', 'everi', 'fee', 'get', 'go', 'good', 'http', 'increas', 'index', 'keep', 'know', 'learnbitcoin', 'like', 'look', 'make', 'mani', 'mean', 'mine', 'miner', 'money', 'much', 'need', 'net', 'network', 'never', 'new', 'node', 'np', 'one', 'origin', 'peopl', 'point', 'pool', 'post', 'power', 'problem', 'profit', 'read', 'realli', 'receiv', 'reddit', 'right', 'rocketr', 'roger', 'run', 'satoshi', 'say', 'scale', 'see', 'segwit', 'start', 'still', 'take', 'thank', 'thing', 'think', 'time', 'tippr', 'transact', 'tri', 'understand', 'usd', 'use', 'ver', 'wallet', 'want', 'way', 'well', 'wiki', 'work', 'would', 'www', 'year', 'believ', 'better', 'commun', 'crypto', 'currenc', 'delet', 'donat', 'everyon', 'exchang', 'fork', 'give', 'got', 'lot', 'market', 'messag', 'price', 'support', 'valu', 'awesom', 'bchsanta', 'christma', 'great', 'guy', 'happi', 'help', 'ho', 'love', 'merri', 'nice', 'santa', 'spread', 'system', 'tip', 'wow']\n",
      "['__sum__', 'accept', 'acceptbitcoin', 'actual', 'also', 'amaz', 'ask', 'awesom', 'bch', 'bchsanta', 'bitcoin', 'block', 'blockstream', 'btc', 'cash', 'cheer', 'christma', 'coin', 'com', 'come', 'comment', 'commun', 'core', 'could', 'crypto', 'day', 'delet', 'even', 'everyon', 'fee', 'fork', 'get', 'give', 'go', 'good', 'great', 'guy', 'happi', 'help', 'ho', 'holiday', 'http', 'index', 'keep', 'know', 'learnbitcoin', 'like', 'lot', 'love', 'make', 'mean', 'merri', 'mine', 'miner', 'money', 'much', 'need', 'net', 'network', 'new', 'nice', 'np', 'one', 'peopl', 'post', 'power', 'real', 'realli', 'receiv', 'reddit', 'right', 'rocketr', 'santa', 'say', 'see', 'someon', 'spread', 'still', 'sure', 'take', 'thank', 'thing', 'think', 'time', 'tip', 'tippr', 'transact', 'tri', 'usd', 'use', 'valu', 'wallet', 'want', 'way', 'well', 'wiki', 'work', 'would', 'wow', 'www', 'year', 'answer', 'back', 'buy', 'livestream', 'look', 'mani', 'minut', 'problem', 'question', 'roger', 'support', 'us', 'user', 'bank', 'better', 'channel', 'got', 'open', 'start', 'sub', 'coinbas', 'exchang', 'happen', 'increas', 'lol', 'made', 'node', 'point', 'price', 'run', 'sell', 'blockchain', 'chain', 'everi', 'full', 'let', 'someth', 'world', 'currenc', 'read', 'satoshi', 'scale', 'system']\n"
     ]
    }
   ],
   "source": [
    "for keys in m_dic.keys():\n",
    "    words = list(m_dic[keys].keys()).remove()\n",
    "    print(words)"
   ]
  },
  {
   "cell_type": "code",
   "execution_count": 140,
   "metadata": {},
   "outputs": [],
   "source": [
    "#MAX VALUE OF ALL\n",
    "m_dic = {}\n",
    "for i in range(number_of_file):\n",
    "    m_dic[i] = {}\n",
    "    \n",
    "for comb in list_combinaisons:\n",
    "    index_a = comb[\"index_a\"]\n",
    "    index_b = comb[\"index_b\"]\n",
    "    df_temp = comb[\"df\"]\n",
    "   \n",
    "    df_a = df_temp.iloc[0]\n",
    "    df_b = df_temp.iloc[1]\n",
    "    \n",
    "    for word in df_temp.keys():\n",
    "        if word not in m_dic[index_a].keys():\n",
    "            m_dic[index_a][word] = df_a[word]\n",
    "        elif df_a[word] > m_dic[index_a][word]:\n",
    "            m_dic[index_a][word] = df_a[word]\n",
    "        if word not in m_dic[index_b].keys():\n",
    "            m_dic[index_b][word] = df_b[word]\n",
    "        elif df_b[word] > m_dic[index_b][word]:\n",
    "            m_dic[index_b][word] = df_b[word]\n"
   ]
  },
  {
   "cell_type": "code",
   "execution_count": 178,
   "metadata": {},
   "outputs": [],
   "source": [
    "import operator\n",
    "def order_dic(dic):\n",
    "    return sorted(dic.items(), key=operator.itemgetter(1), reverse=True)"
   ]
  },
  {
   "cell_type": "markdown",
   "metadata": {},
   "source": [
    "### Methode 2: each text to all the opposite together"
   ]
  },
  {
   "cell_type": "code",
   "execution_count": 182,
   "metadata": {},
   "outputs": [],
   "source": [
    "extracted_words = []\n",
    "for i in range(len(df)):\n",
    "    idf = []\n",
    "    if df[\"label\"][i] == 0:\n",
    "        idf = tfidf.get_tfidf(df[\"text\"][i], all_positive_texts, max_words = 100)\n",
    "    else :\n",
    "        idf = tfidf.get_tfidf(df[\"text\"][i], all_negative_texts, max_words = 100)\n",
    "    extracted_words.append(idf.keys())"
   ]
  },
  {
   "cell_type": "code",
   "execution_count": 3,
   "metadata": {},
   "outputs": [
    {
     "name": "stdout",
     "output_type": "stream",
     "text": [
      "10/10\n"
     ]
    },
    {
     "data": {
      "text/html": [
       "<div>\n",
       "<style scoped>\n",
       "    .dataframe tbody tr th:only-of-type {\n",
       "        vertical-align: middle;\n",
       "    }\n",
       "\n",
       "    .dataframe tbody tr th {\n",
       "        vertical-align: top;\n",
       "    }\n",
       "\n",
       "    .dataframe thead th {\n",
       "        text-align: right;\n",
       "    }\n",
       "</style>\n",
       "<table border=\"1\" class=\"dataframe\">\n",
       "  <thead>\n",
       "    <tr style=\"text-align: right;\">\n",
       "      <th></th>\n",
       "      <th>text</th>\n",
       "      <th>label</th>\n",
       "      <th>date</th>\n",
       "      <th>score</th>\n",
       "      <th>nb_replies</th>\n",
       "      <th>stickied</th>\n",
       "      <th>tfidf</th>\n",
       "    </tr>\n",
       "  </thead>\n",
       "  <tbody>\n",
       "    <tr>\n",
       "      <th>0</th>\n",
       "      <td>mistakenli read u segwitcop would funni bodi l...</td>\n",
       "      <td>1</td>\n",
       "      <td>2017-12-16</td>\n",
       "      <td>None</td>\n",
       "      <td>None</td>\n",
       "      <td>None</td>\n",
       "      <td>[accept, actual, also, ask, back, bank, bcash,...</td>\n",
       "    </tr>\n",
       "    <tr>\n",
       "      <th>1</th>\n",
       "      <td>conspiraci bitfinex work accept deposit withdr...</td>\n",
       "      <td>0</td>\n",
       "      <td>2017-12-17</td>\n",
       "      <td>None</td>\n",
       "      <td>None</td>\n",
       "      <td>None</td>\n",
       "      <td>[accept, acceptbitcoin, actual, also, ask, awe...</td>\n",
       "    </tr>\n",
       "    <tr>\n",
       "      <th>2</th>\n",
       "      <td>give joy tothemoonguy chosen support whitepap ...</td>\n",
       "      <td>0</td>\n",
       "      <td>2017-12-18</td>\n",
       "      <td>None</td>\n",
       "      <td>None</td>\n",
       "      <td>None</td>\n",
       "      <td>[accept, acceptbitcoin, actual, also, answer, ...</td>\n",
       "    </tr>\n",
       "    <tr>\n",
       "      <th>3</th>\n",
       "      <td>read tether spawn nowher holi hell Ok bitconne...</td>\n",
       "      <td>0</td>\n",
       "      <td>2017-12-19</td>\n",
       "      <td>None</td>\n",
       "      <td>None</td>\n",
       "      <td>None</td>\n",
       "      <td>[accept, acceptbitcoin, actual, also, ask, bac...</td>\n",
       "    </tr>\n",
       "    <tr>\n",
       "      <th>4</th>\n",
       "      <td>bitcoin cash purchas temporarili disabl shut t...</td>\n",
       "      <td>0</td>\n",
       "      <td>2017-12-20</td>\n",
       "      <td>None</td>\n",
       "      <td>None</td>\n",
       "      <td>None</td>\n",
       "      <td>[accept, acceptbitcoin, actual, also, ask, bac...</td>\n",
       "    </tr>\n",
       "  </tbody>\n",
       "</table>\n",
       "</div>"
      ],
      "text/plain": [
       "                                                text  label        date score  \\\n",
       "0  mistakenli read u segwitcop would funni bodi l...      1  2017-12-16  None   \n",
       "1  conspiraci bitfinex work accept deposit withdr...      0  2017-12-17  None   \n",
       "2  give joy tothemoonguy chosen support whitepap ...      0  2017-12-18  None   \n",
       "3  read tether spawn nowher holi hell Ok bitconne...      0  2017-12-19  None   \n",
       "4  bitcoin cash purchas temporarili disabl shut t...      0  2017-12-20  None   \n",
       "\n",
       "  nb_replies stickied                                              tfidf  \n",
       "0       None     None  [accept, actual, also, ask, back, bank, bcash,...  \n",
       "1       None     None  [accept, acceptbitcoin, actual, also, ask, awe...  \n",
       "2       None     None  [accept, acceptbitcoin, actual, also, answer, ...  \n",
       "3       None     None  [accept, acceptbitcoin, actual, also, ask, bac...  \n",
       "4       None     None  [accept, acceptbitcoin, actual, also, ask, bac...  "
      ]
     },
     "execution_count": 3,
     "metadata": {},
     "output_type": "execute_result"
    }
   ],
   "source": [
    "tfidf.get_tfidf_words(df, 100).head()"
   ]
  },
  {
   "cell_type": "code",
   "execution_count": 25,
   "metadata": {},
   "outputs": [
    {
     "data": {
      "text/plain": [
       "[1, 3, 5, 7, 9, None]"
      ]
     },
     "execution_count": 25,
     "metadata": {},
     "output_type": "execute_result"
    }
   ],
   "source": [
    "epochs = list(range(1,10,2))\n",
    "batch_sizes = list(range(1,10,2))\n",
    "batch_sizes.append(None)\n",
    "drop_outs = [0.1, 0.2, 0.3]\n",
    "activation_functions = []\n",
    "#for epoch in epochs:\n",
    "#    for batch_size in batch_sizes:\n",
    "for activation_fun in activation_functions:\n",
    "    \n",
    "    "
   ]
  },
  {
   "cell_type": "code",
   "execution_count": 31,
   "metadata": {},
   "outputs": [
    {
     "data": {
      "text/plain": [
       "[(0.1, 0.1), (0.1, 0.2), (0.1, 0.3), (0.2, 0.2), (0.2, 0.3), (0.3, 0.3)]"
      ]
     },
     "execution_count": 31,
     "metadata": {},
     "output_type": "execute_result"
    }
   ],
   "source": [
    "import itertools\n",
    "\n",
    "stuff = [0.1, 0.2, 0.3]\n",
    "list(itertools.combinations_with_replacement(stuff, 2))\n"
   ]
  }
 ],
 "metadata": {
  "kernelspec": {
   "display_name": "Python 3",
   "language": "python",
   "name": "python3"
  },
  "language_info": {
   "codemirror_mode": {
    "name": "ipython",
    "version": 3
   },
   "file_extension": ".py",
   "mimetype": "text/x-python",
   "name": "python",
   "nbconvert_exporter": "python",
   "pygments_lexer": "ipython3",
   "version": "3.7.3"
  }
 },
 "nbformat": 4,
 "nbformat_minor": 2
}
