{
 "cells": [
  {
   "cell_type": "markdown",
   "metadata": {},
   "source": [
    "### 1) Methods"
   ]
  },
  {
   "cell_type": "markdown",
   "metadata": {},
   "source": [
    "### 1) Import methods"
   ]
  },
  {
   "cell_type": "code",
   "execution_count": 8,
   "metadata": {},
   "outputs": [],
   "source": [
    "import keras_bitcoin"
   ]
  },
  {
   "cell_type": "markdown",
   "metadata": {},
   "source": [
    "### 2) Create texts"
   ]
  },
  {
   "cell_type": "markdown",
   "metadata": {},
   "source": [
    "#### A) Text 1"
   ]
  },
  {
   "cell_type": "code",
   "execution_count": 13,
   "metadata": {},
   "outputs": [],
   "source": [
    "import keras_bitcoin"
   ]
  },
  {
   "cell_type": "code",
   "execution_count": 14,
   "metadata": {},
   "outputs": [],
   "source": [
    "corpus = [\n",
    "    # Positive Reviews\n",
    "\n",
    "    'This is an excellent movie',\n",
    "    'The move was fantastic I like it',\n",
    "    'You should watch it is brilliant',\n",
    "    'Exceptionally good',\n",
    "    'Wonderfully directed and executed I like it',\n",
    "    'Its a fantastic series',\n",
    "    'Never watched such a brillent movie',\n",
    "    'It is a Wonderful movie',\n",
    "\n",
    "    # Negtive Reviews\n",
    "\n",
    "    \"horrible acting\",\n",
    "    'waste of money',\n",
    "    'pathetic picture',\n",
    "    'It was very boring',\n",
    "    'I did not like the movie',\n",
    "    'The movie was horrible',\n",
    "    'I will not recommend',\n",
    "    'The acting is pathetic'\n",
    "]"
   ]
  },
  {
   "cell_type": "code",
   "execution_count": 15,
   "metadata": {},
   "outputs": [],
   "source": [
    "sentiments = array([1,1,1,1,1,1,1,1,0,0,0,0,0,0,0,0])"
   ]
  },
  {
   "cell_type": "markdown",
   "metadata": {},
   "source": [
    "#### B) Text 2"
   ]
  },
  {
   "cell_type": "code",
   "execution_count": 213,
   "metadata": {},
   "outputs": [
    {
     "data": {
      "text/html": [
       "<div>\n",
       "<style scoped>\n",
       "    .dataframe tbody tr th:only-of-type {\n",
       "        vertical-align: middle;\n",
       "    }\n",
       "\n",
       "    .dataframe tbody tr th {\n",
       "        vertical-align: top;\n",
       "    }\n",
       "\n",
       "    .dataframe thead th {\n",
       "        text-align: right;\n",
       "    }\n",
       "</style>\n",
       "<table border=\"1\" class=\"dataframe\">\n",
       "  <thead>\n",
       "    <tr style=\"text-align: right;\">\n",
       "      <th></th>\n",
       "      <th>Review</th>\n",
       "      <th>Status</th>\n",
       "    </tr>\n",
       "  </thead>\n",
       "  <tbody>\n",
       "    <tr>\n",
       "      <th>0</th>\n",
       "      <td>A very, very, very slow-moving, aimless movie ...</td>\n",
       "      <td>0</td>\n",
       "    </tr>\n",
       "  </tbody>\n",
       "</table>\n",
       "</div>"
      ],
      "text/plain": [
       "                                              Review  Status\n",
       "0  A very, very, very slow-moving, aimless movie ...       0"
      ]
     },
     "execution_count": 213,
     "metadata": {},
     "output_type": "execute_result"
    }
   ],
   "source": [
    "import pandas as pd\n",
    "import numpy as np\n",
    "\n",
    "df = pd.read_csv('imdb_labelled.txt', delimiter = '\\t', engine='python', quoting = 3)\n",
    "docs = df['Review']\n",
    "labels = array(df['Status'])\n",
    "df.head(1)"
   ]
  },
  {
   "cell_type": "markdown",
   "metadata": {},
   "source": [
    "### 3) Train model"
   ]
  },
  {
   "cell_type": "code",
   "execution_count": 16,
   "metadata": {},
   "outputs": [
    {
     "name": "stderr",
     "output_type": "stream",
     "text": [
      "C:\\Users\\33777\\Anaconda3\\lib\\site-packages\\tensorflow_core\\python\\framework\\indexed_slices.py:424: UserWarning: Converting sparse IndexedSlices to a dense Tensor of unknown shape. This may consume a large amount of memory.\n",
      "  \"Converting sparse IndexedSlices to a dense Tensor of unknown shape. \"\n"
     ]
    },
    {
     "name": "stdout",
     "output_type": "stream",
     "text": [
      "Epoch 1/100\n",
      "12/12 [==============================] - 0s 15ms/step - loss: 0.6908 - acc: 0.5833\n",
      "Epoch 2/100\n",
      "12/12 [==============================] - 0s 250us/step - loss: 0.6872 - acc: 0.5833\n",
      "Epoch 3/100\n",
      "12/12 [==============================] - 0s 250us/step - loss: 0.6837 - acc: 0.5833\n",
      "Epoch 4/100\n",
      "12/12 [==============================] - 0s 250us/step - loss: 0.6805 - acc: 0.5833\n",
      "Epoch 5/100\n",
      "12/12 [==============================] - 0s 250us/step - loss: 0.6770 - acc: 0.5833\n",
      "Epoch 6/100\n",
      "12/12 [==============================] - 0s 167us/step - loss: 0.6737 - acc: 0.6667\n",
      "Epoch 7/100\n",
      "12/12 [==============================] - 0s 166us/step - loss: 0.6702 - acc: 0.7500\n",
      "Epoch 8/100\n",
      "12/12 [==============================] - 0s 167us/step - loss: 0.6668 - acc: 0.8333\n",
      "Epoch 9/100\n",
      "12/12 [==============================] - 0s 333us/step - loss: 0.6634 - acc: 0.8333\n",
      "Epoch 10/100\n",
      "12/12 [==============================] - 0s 250us/step - loss: 0.6599 - acc: 0.8333\n",
      "Epoch 11/100\n",
      "12/12 [==============================] - 0s 416us/step - loss: 0.6565 - acc: 0.8333\n",
      "Epoch 12/100\n",
      "12/12 [==============================] - 0s 167us/step - loss: 0.6531 - acc: 0.8333\n",
      "Epoch 13/100\n",
      "12/12 [==============================] - 0s 250us/step - loss: 0.6497 - acc: 0.8333\n",
      "Epoch 14/100\n",
      "12/12 [==============================] - 0s 416us/step - loss: 0.6462 - acc: 0.8333\n",
      "Epoch 15/100\n",
      "12/12 [==============================] - 0s 250us/step - loss: 0.6428 - acc: 0.8333\n",
      "Epoch 16/100\n",
      "12/12 [==============================] - 0s 333us/step - loss: 0.6393 - acc: 0.8333\n",
      "Epoch 17/100\n",
      "12/12 [==============================] - 0s 333us/step - loss: 0.6359 - acc: 0.8333\n",
      "Epoch 18/100\n",
      "12/12 [==============================] - 0s 250us/step - loss: 0.6324 - acc: 0.8333\n",
      "Epoch 19/100\n",
      "12/12 [==============================] - 0s 249us/step - loss: 0.6289 - acc: 0.8333\n",
      "Epoch 20/100\n",
      "12/12 [==============================] - 0s 250us/step - loss: 0.6254 - acc: 0.8333\n",
      "Epoch 21/100\n",
      "12/12 [==============================] - 0s 250us/step - loss: 0.6219 - acc: 0.8333\n",
      "Epoch 22/100\n",
      "12/12 [==============================] - 0s 167us/step - loss: 0.6184 - acc: 0.8333\n",
      "Epoch 23/100\n",
      "12/12 [==============================] - 0s 250us/step - loss: 0.6148 - acc: 0.8333\n",
      "Epoch 24/100\n",
      "12/12 [==============================] - 0s 250us/step - loss: 0.6112 - acc: 0.8333\n",
      "Epoch 25/100\n",
      "12/12 [==============================] - 0s 333us/step - loss: 0.6077 - acc: 0.8333\n",
      "Epoch 26/100\n",
      "12/12 [==============================] - 0s 333us/step - loss: 0.6040 - acc: 0.8333\n",
      "Epoch 27/100\n",
      "12/12 [==============================] - 0s 250us/step - loss: 0.6004 - acc: 0.8333\n",
      "Epoch 28/100\n",
      "12/12 [==============================] - 0s 331us/step - loss: 0.5968 - acc: 0.8333\n",
      "Epoch 29/100\n",
      "12/12 [==============================] - 0s 333us/step - loss: 0.5931 - acc: 0.8333\n",
      "Epoch 30/100\n",
      "12/12 [==============================] - 0s 252us/step - loss: 0.5894 - acc: 0.8333\n",
      "Epoch 31/100\n",
      "12/12 [==============================] - 0s 250us/step - loss: 0.5856 - acc: 0.8333\n",
      "Epoch 32/100\n",
      "12/12 [==============================] - 0s 250us/step - loss: 0.5818 - acc: 0.8333\n",
      "Epoch 33/100\n",
      "12/12 [==============================] - 0s 164us/step - loss: 0.5780 - acc: 0.8333\n",
      "Epoch 34/100\n",
      "12/12 [==============================] - 0s 333us/step - loss: 0.5742 - acc: 0.8333\n",
      "Epoch 35/100\n",
      "12/12 [==============================] - 0s 166us/step - loss: 0.5704 - acc: 0.8333\n",
      "Epoch 36/100\n",
      "12/12 [==============================] - 0s 332us/step - loss: 0.5665 - acc: 0.8333\n",
      "Epoch 37/100\n",
      "12/12 [==============================] - 0s 250us/step - loss: 0.5627 - acc: 0.8333\n",
      "Epoch 38/100\n",
      "12/12 [==============================] - 0s 250us/step - loss: 0.5588 - acc: 0.8333\n",
      "Epoch 39/100\n",
      "12/12 [==============================] - 0s 250us/step - loss: 0.5548 - acc: 0.8333\n",
      "Epoch 40/100\n",
      "12/12 [==============================] - 0s 334us/step - loss: 0.5509 - acc: 0.8333\n",
      "Epoch 41/100\n",
      "12/12 [==============================] - 0s 331us/step - loss: 0.5469 - acc: 0.8333\n",
      "Epoch 42/100\n",
      "12/12 [==============================] - 0s 333us/step - loss: 0.5429 - acc: 0.8333\n",
      "Epoch 43/100\n",
      "12/12 [==============================] - 0s 167us/step - loss: 0.5389 - acc: 0.8333\n",
      "Epoch 44/100\n",
      "12/12 [==============================] - 0s 333us/step - loss: 0.5349 - acc: 0.8333\n",
      "Epoch 45/100\n",
      "12/12 [==============================] - 0s 167us/step - loss: 0.5308 - acc: 0.8333\n",
      "Epoch 46/100\n",
      "12/12 [==============================] - 0s 248us/step - loss: 0.5267 - acc: 0.8333\n",
      "Epoch 47/100\n",
      "12/12 [==============================] - 0s 333us/step - loss: 0.5227 - acc: 0.8333\n",
      "Epoch 48/100\n",
      "12/12 [==============================] - 0s 333us/step - loss: 0.5185 - acc: 0.8333\n",
      "Epoch 49/100\n",
      "12/12 [==============================] - 0s 167us/step - loss: 0.5144 - acc: 0.8333\n",
      "Epoch 50/100\n",
      "12/12 [==============================] - 0s 167us/step - loss: 0.5102 - acc: 0.9167\n",
      "Epoch 51/100\n",
      "12/12 [==============================] - 0s 250us/step - loss: 0.5061 - acc: 0.9167\n",
      "Epoch 52/100\n",
      "12/12 [==============================] - 0s 250us/step - loss: 0.5019 - acc: 0.9167\n",
      "Epoch 53/100\n",
      "12/12 [==============================] - 0s 250us/step - loss: 0.4977 - acc: 0.9167\n",
      "Epoch 54/100\n",
      "12/12 [==============================] - 0s 167us/step - loss: 0.4935 - acc: 0.9167\n",
      "Epoch 55/100\n",
      "12/12 [==============================] - 0s 333us/step - loss: 0.4893 - acc: 0.9167\n",
      "Epoch 56/100\n",
      "12/12 [==============================] - 0s 167us/step - loss: 0.4851 - acc: 0.9167\n",
      "Epoch 57/100\n",
      "12/12 [==============================] - 0s 250us/step - loss: 0.4809 - acc: 0.9167\n",
      "Epoch 58/100\n",
      "12/12 [==============================] - 0s 250us/step - loss: 0.4766 - acc: 0.9167\n",
      "Epoch 59/100\n",
      "12/12 [==============================] - 0s 334us/step - loss: 0.4724 - acc: 0.9167\n",
      "Epoch 60/100\n",
      "12/12 [==============================] - 0s 246us/step - loss: 0.4681 - acc: 0.9167\n",
      "Epoch 61/100\n",
      "12/12 [==============================] - 0s 250us/step - loss: 0.4639 - acc: 0.9167\n",
      "Epoch 62/100\n",
      "12/12 [==============================] - 0s 250us/step - loss: 0.4596 - acc: 0.9167\n",
      "Epoch 63/100\n",
      "12/12 [==============================] - 0s 250us/step - loss: 0.4553 - acc: 0.9167\n",
      "Epoch 64/100\n",
      "12/12 [==============================] - 0s 250us/step - loss: 0.4511 - acc: 0.9167\n",
      "Epoch 65/100\n",
      "12/12 [==============================] - 0s 166us/step - loss: 0.4468 - acc: 0.9167\n",
      "Epoch 66/100\n",
      "12/12 [==============================] - 0s 167us/step - loss: 0.4425 - acc: 0.9167\n",
      "Epoch 67/100\n",
      "12/12 [==============================] - 0s 333us/step - loss: 0.4382 - acc: 0.9167\n",
      "Epoch 68/100\n",
      "12/12 [==============================] - 0s 167us/step - loss: 0.4339 - acc: 0.9167\n",
      "Epoch 69/100\n",
      "12/12 [==============================] - 0s 333us/step - loss: 0.4296 - acc: 0.9167\n",
      "Epoch 70/100\n",
      "12/12 [==============================] - 0s 333us/step - loss: 0.4254 - acc: 0.9167\n",
      "Epoch 71/100\n",
      "12/12 [==============================] - 0s 333us/step - loss: 0.4211 - acc: 0.9167\n",
      "Epoch 72/100\n",
      "12/12 [==============================] - 0s 166us/step - loss: 0.4168 - acc: 0.9167\n",
      "Epoch 73/100\n",
      "12/12 [==============================] - 0s 250us/step - loss: 0.4126 - acc: 0.9167\n",
      "Epoch 74/100\n",
      "12/12 [==============================] - 0s 250us/step - loss: 0.4083 - acc: 0.9167\n",
      "Epoch 75/100\n",
      "12/12 [==============================] - 0s 250us/step - loss: 0.4040 - acc: 0.9167\n",
      "Epoch 76/100\n",
      "12/12 [==============================] - 0s 333us/step - loss: 0.3998 - acc: 0.9167\n",
      "Epoch 77/100\n",
      "12/12 [==============================] - 0s 250us/step - loss: 0.3955 - acc: 0.9167\n",
      "Epoch 78/100\n",
      "12/12 [==============================] - 0s 250us/step - loss: 0.3913 - acc: 0.9167\n",
      "Epoch 79/100\n",
      "12/12 [==============================] - 0s 333us/step - loss: 0.3871 - acc: 0.9167\n",
      "Epoch 80/100\n",
      "12/12 [==============================] - 0s 250us/step - loss: 0.3829 - acc: 0.9167\n",
      "Epoch 81/100\n",
      "12/12 [==============================] - 0s 332us/step - loss: 0.3787 - acc: 0.9167\n",
      "Epoch 82/100\n",
      "12/12 [==============================] - 0s 250us/step - loss: 0.3746 - acc: 0.9167\n",
      "Epoch 83/100\n",
      "12/12 [==============================] - 0s 249us/step - loss: 0.3704 - acc: 0.9167\n",
      "Epoch 84/100\n",
      "12/12 [==============================] - 0s 250us/step - loss: 0.3663 - acc: 0.9167\n",
      "Epoch 85/100\n",
      "12/12 [==============================] - 0s 166us/step - loss: 0.3621 - acc: 0.9167\n"
     ]
    },
    {
     "name": "stdout",
     "output_type": "stream",
     "text": [
      "Epoch 86/100\n",
      "12/12 [==============================] - 0s 250us/step - loss: 0.3580 - acc: 0.9167\n",
      "Epoch 87/100\n",
      "12/12 [==============================] - 0s 250us/step - loss: 0.3539 - acc: 0.9167\n",
      "Epoch 88/100\n",
      "12/12 [==============================] - 0s 334us/step - loss: 0.3499 - acc: 0.9167\n",
      "Epoch 89/100\n",
      "12/12 [==============================] - 0s 167us/step - loss: 0.3458 - acc: 0.9167\n",
      "Epoch 90/100\n",
      "12/12 [==============================] - 0s 167us/step - loss: 0.3418 - acc: 0.9167\n",
      "Epoch 91/100\n",
      "12/12 [==============================] - 0s 251us/step - loss: 0.3378 - acc: 0.9167\n",
      "Epoch 92/100\n",
      "12/12 [==============================] - 0s 250us/step - loss: 0.3338 - acc: 0.9167\n",
      "Epoch 93/100\n",
      "12/12 [==============================] - 0s 250us/step - loss: 0.3299 - acc: 0.9167\n",
      "Epoch 94/100\n",
      "12/12 [==============================] - 0s 333us/step - loss: 0.3260 - acc: 0.9167\n",
      "Epoch 95/100\n",
      "12/12 [==============================] - 0s 167us/step - loss: 0.3221 - acc: 0.9167\n",
      "Epoch 96/100\n",
      "12/12 [==============================] - 0s 83us/step - loss: 0.3182 - acc: 0.9167\n",
      "Epoch 97/100\n",
      "12/12 [==============================] - 0s 251us/step - loss: 0.3144 - acc: 0.9167\n",
      "Epoch 98/100\n",
      "12/12 [==============================] - 0s 332us/step - loss: 0.3105 - acc: 0.9167\n",
      "Epoch 99/100\n",
      "12/12 [==============================] - 0s 167us/step - loss: 0.3068 - acc: 0.9167\n",
      "Epoch 100/100\n",
      "12/12 [==============================] - 0s 155us/step - loss: 0.3030 - acc: 0.9167\n"
     ]
    }
   ],
   "source": [
    "#texts_train, texts_test , labels_train, labels_test, vocab_length, max_sentence_size = get_train_test_data(docs, labels)\n",
    "texts_train, texts_test , labels_train, labels_test, vocab_length, max_sentence_size = keras_bitcoin.get_train_test_data(corpus, sentiments)\n",
    "model = keras_bitcoin.get_model(texts_train, labels_train, vocab_length, max_sentence_size)"
   ]
  },
  {
   "cell_type": "markdown",
   "metadata": {},
   "source": [
    "### 4) Get Predictions"
   ]
  },
  {
   "cell_type": "code",
   "execution_count": 228,
   "metadata": {},
   "outputs": [],
   "source": [
    "new_text = [\n",
    "    \"excellent movie\",\n",
    "    \"i hated that movie\",\n",
    "    \"this is a great movie and the actor were really good, and it almost made me cry. That was awesome\"\n",
    "]"
   ]
  },
  {
   "cell_type": "code",
   "execution_count": 231,
   "metadata": {},
   "outputs": [
    {
     "name": "stdout",
     "output_type": "stream",
     "text": [
      "[[0.51316816]\n",
      " [0.33023047]]\n"
     ]
    },
    {
     "data": {
      "text/plain": [
       "{'excellent movie': 1.0, 'i hated that movie': 0.0}"
      ]
     },
     "execution_count": 231,
     "metadata": {},
     "output_type": "execute_result"
    }
   ],
   "source": [
    "get_predictions(new_text, model, vocab_length, max_sentence_size)"
   ]
  },
  {
   "cell_type": "markdown",
   "metadata": {},
   "source": [
    "### 5) Model Evaluation"
   ]
  },
  {
   "cell_type": "code",
   "execution_count": 234,
   "metadata": {},
   "outputs": [
    {
     "name": "stdout",
     "output_type": "stream",
     "text": [
      "4/4 [==============================] - 0s 44ms/step\n",
      "Accuracy: 0.000000\n"
     ]
    }
   ],
   "source": [
    "loss, accuracy = model.evaluate(texts_test, labels_test, verbose=1)\n",
    "print('Accuracy: %f' % (accuracy*100))"
   ]
  },
  {
   "cell_type": "markdown",
   "metadata": {},
   "source": [
    "### Read bitcoin articles files "
   ]
  },
  {
   "cell_type": "code",
   "execution_count": 252,
   "metadata": {},
   "outputs": [],
   "source": [
    "texts = []\n",
    "date = \"2019-10-\"\n",
    "for i in range(1, 29):\n",
    "    day = f\"{i}\"\n",
    "    if(len(day) < 2):\n",
    "        day = f\"0{day}\"\n",
    "    f = open(f\"./Articles/{date}{day}.json\")\n",
    "    jsonData = json.loads(f.read())\n",
    "    f.close()\n",
    "    texts.append(\" \".join(jsonData[\"data\"]))"
   ]
  }
 ],
 "metadata": {
  "kernelspec": {
   "display_name": "Python 3",
   "language": "python",
   "name": "python3"
  },
  "language_info": {
   "codemirror_mode": {
    "name": "ipython",
    "version": 3
   },
   "file_extension": ".py",
   "mimetype": "text/x-python",
   "name": "python",
   "nbconvert_exporter": "python",
   "pygments_lexer": "ipython3",
   "version": "3.7.3"
  }
 },
 "nbformat": 4,
 "nbformat_minor": 2
}
