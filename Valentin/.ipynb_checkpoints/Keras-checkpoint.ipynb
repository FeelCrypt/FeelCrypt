{
 "cells": [
  {
   "cell_type": "markdown",
   "metadata": {},
   "source": [
    "### Import modules"
   ]
  },
  {
   "cell_type": "code",
   "execution_count": 1,
   "metadata": {},
   "outputs": [
    {
     "name": "stderr",
     "output_type": "stream",
     "text": [
      "Using TensorFlow backend.\n"
     ]
    }
   ],
   "source": [
    "import keras_bitcoin\n",
    "import dataset\n",
    "import collections\n",
    "import numpy as np\n",
    "import tfidf"
   ]
  },
  {
   "cell_type": "code",
   "execution_count": null,
   "metadata": {},
   "outputs": [],
   "source": [
    "#poolling"
   ]
  },
  {
   "cell_type": "markdown",
   "metadata": {},
   "source": [
    "### Create Train/Test Dataset"
   ]
  },
  {
   "cell_type": "code",
   "execution_count": 3,
   "metadata": {},
   "outputs": [
    {
     "name": "stdout",
     "output_type": "stream",
     "text": [
      "Number of files loaded :  5\n",
      "Counter({1: 124, 0: 76})\n",
      "0      Might be more factual if you said they were fi...\n",
      "1      My opinion is this. Reddit is built to filter ...\n",
      "2      It is indeed impressive how thin-skinned some ...\n",
      "3      Welcome to Reddit /u/Coloco.\\r\\n\\r\\n\\r\\nOdd ho...\n",
      "4      Roger's intentions are (probably/hopefully) pu...\n",
      "5      >contradicting his words with his actions\\r\\n\\...\n",
      "6      It's just the result of principled idealism. I...\n",
      "7      In my opinion btcdrak is unsuitable to be a fo...\n",
      "8      You must be new if you think /u/memorydealers ...\n",
      "9      Don't spend it all in one place. It might be w...\n",
      "10     Hot damn, it's the most valuable quarter I eve...\n",
      "11     Yes, but I don't see how it relates to it bein...\n",
      "12                                   /r/BTC_CessPool lol\n",
      "13     Let me give some examples of the moderation st...\n",
      "14     Blocked a post by Gavin (at least I suspect he...\n",
      "15           We could all go and restart /r/WeAreBitcoin\n",
      "16                                            /r/truebtc\n",
      "17     He's welcome to participate as a user of cours...\n",
      "18     Yeah, that's not so good. It looks like he's a...\n",
      "19     Too many mod rules there, too. No repetitive p...\n",
      "20                                             [deleted]\n",
      "21     I don't know all the mods, but from what I've ...\n",
      "22     As I said, you can have any reason you want, t...\n",
      "23     I think that is the moderator acting like a sp...\n",
      "24     You're welcome man. Glad I could be the first ...\n",
      "25     Why not /r/WeAreBitcoin? It has a similar goal...\n",
      "26     r/Bitcoinarchy no spam so bad that it can be m...\n",
      "27     Whoah, thanks!!!! My first ChangeTip receipt e...\n",
      "28                                           Which Borg?\n",
      "29     I support the removeal of btcdrak as moderator...\n",
      "                             ...                        \n",
      "170    > theymos will ban Reddit\\r\\n\\r\\nI'm hoping it...\n",
      "171     And then turn off the internet for good measure.\n",
      "172    /u/bitcoinfreespeech, bitsko wants to send you...\n",
      "173    Hijacking the top post so everyone sees this: ...\n",
      "174                          This sub is not uncensored.\n",
      "175    Thank you for doing this.\\r\\n\\r\\n/u/changetip ...\n",
      "176                                /u/changetip 0.1 BTC \n",
      "177    I'm seeing a different, but similar ad: http:/...\n",
      "178                            9723.44 bits /u/changetip\n",
      "179    Nice, this is what I call voting with your feet !\n",
      "180    Fabulous.\\r\\n\\r\\nhave 1 LOL on me, bitcoinfree...\n",
      "181                        Lol. That's really funny.\\r\\n\n",
      "182                               2000 bits /u/changetip\n",
      "183    Nice!\\r\\n\\r\\nI would have made it read somethi...\n",
      "184    I don't see it... Is it intermittent, or is it...\n",
      "185    Nice:)\\r\\nHere's some contribution to the camp...\n",
      "186    How about something more explicit like. \"The m...\n",
      "187                                   LOL!!!!   real LOL\n",
      "188    A friendly add highlighting how posts are sort...\n",
      "189                            holiday meal /u/changetip\n",
      "190    This is awesome. Please do put these to good u...\n",
      "191               Ad not showing up when I go /r/bitcoin\n",
      "192      Yes! Good work, have a FuckTheymos /u/changetip\n",
      "193              awesome!\\r\\n\\r\\n/u/changetip 2,300 bits\n",
      "194                                            [deleted]\n",
      "195    Is \"Fight censorship, mine bip101\" consise eno...\n",
      "196    No, your ad was removed by the Reddit Advertis...\n",
      "197    Has this been blocked? I have not seen this ad...\n",
      "198                        Was wondering the same thing.\n",
      "199                 mods have no control over reddit ads\n",
      "Name: text, Length: 200, dtype: object\n"
     ]
    }
   ],
   "source": [
    "df = dataset.get_labeled_dataset(number_of_file=5, from_date=\"2015-12-16\")\n",
    "print(collections.Counter(df[\"label\"]))\n",
    "print(df[\"text\"])"
   ]
  },
  {
   "cell_type": "code",
   "execution_count": 21,
   "metadata": {},
   "outputs": [
    {
     "data": {
      "text/html": [
       "<div>\n",
       "<style scoped>\n",
       "    .dataframe tbody tr th:only-of-type {\n",
       "        vertical-align: middle;\n",
       "    }\n",
       "\n",
       "    .dataframe tbody tr th {\n",
       "        vertical-align: top;\n",
       "    }\n",
       "\n",
       "    .dataframe thead th {\n",
       "        text-align: right;\n",
       "    }\n",
       "</style>\n",
       "<table border=\"1\" class=\"dataframe\">\n",
       "  <thead>\n",
       "    <tr style=\"text-align: right;\">\n",
       "      <th></th>\n",
       "      <th>Unnamed: 0</th>\n",
       "      <th>day</th>\n",
       "      <th>result</th>\n",
       "      <th>label</th>\n",
       "    </tr>\n",
       "  </thead>\n",
       "  <tbody>\n",
       "    <tr>\n",
       "      <th>0</th>\n",
       "      <td>0</td>\n",
       "      <td>2015-12-15</td>\n",
       "      <td>glad moderation http community wwwredditcom d...</td>\n",
       "      <td>1</td>\n",
       "    </tr>\n",
       "    <tr>\n",
       "      <th>1</th>\n",
       "      <td>1</td>\n",
       "      <td>2015-12-16</td>\n",
       "      <td>glad furthermore moderation subreddit communi...</td>\n",
       "      <td>0</td>\n",
       "    </tr>\n",
       "    <tr>\n",
       "      <th>2</th>\n",
       "      <td>2</td>\n",
       "      <td>2015-12-17</td>\n",
       "      <td>develop function fashbinder_pwn similar power...</td>\n",
       "      <td>1</td>\n",
       "    </tr>\n",
       "    <tr>\n",
       "      <th>3</th>\n",
       "      <td>3</td>\n",
       "      <td>2015-12-30</td>\n",
       "      <td>subreddit block ad money hear think cs away p...</td>\n",
       "      <td>0</td>\n",
       "    </tr>\n",
       "    <tr>\n",
       "      <th>4</th>\n",
       "      <td>4</td>\n",
       "      <td>2015-12-31</td>\n",
       "      <td>glad holiday http ha hold wwwredditcom fund u...</td>\n",
       "      <td>1</td>\n",
       "    </tr>\n",
       "  </tbody>\n",
       "</table>\n",
       "</div>"
      ],
      "text/plain": [
       "   Unnamed: 0         day                                             result  \\\n",
       "0           0  2015-12-15   glad moderation http community wwwredditcom d...   \n",
       "1           1  2015-12-16   glad furthermore moderation subreddit communi...   \n",
       "2           2  2015-12-17   develop function fashbinder_pwn similar power...   \n",
       "3           3  2015-12-30   subreddit block ad money hear think cs away p...   \n",
       "4           4  2015-12-31   glad holiday http ha hold wwwredditcom fund u...   \n",
       "\n",
       "   label  \n",
       "0      1  \n",
       "1      0  \n",
       "2      1  \n",
       "3      0  \n",
       "4      1  "
      ]
     },
     "execution_count": 21,
     "metadata": {},
     "output_type": "execute_result"
    }
   ],
   "source": [
    "#LDA\n",
    "df = dataset.get_LDA_data()\n",
    "df.head()"
   ]
  },
  {
   "cell_type": "code",
   "execution_count": 7,
   "metadata": {},
   "outputs": [
    {
     "data": {
      "text/html": [
       "<div>\n",
       "<style scoped>\n",
       "    .dataframe tbody tr th:only-of-type {\n",
       "        vertical-align: middle;\n",
       "    }\n",
       "\n",
       "    .dataframe tbody tr th {\n",
       "        vertical-align: top;\n",
       "    }\n",
       "\n",
       "    .dataframe thead th {\n",
       "        text-align: right;\n",
       "    }\n",
       "</style>\n",
       "<table border=\"1\" class=\"dataframe\">\n",
       "  <thead>\n",
       "    <tr style=\"text-align: right;\">\n",
       "      <th></th>\n",
       "      <th>Unnamed: 0</th>\n",
       "      <th>date</th>\n",
       "      <th>words</th>\n",
       "      <th>label</th>\n",
       "    </tr>\n",
       "  </thead>\n",
       "  <tbody>\n",
       "    <tr>\n",
       "      <th>0</th>\n",
       "      <td>0</td>\n",
       "      <td>2015-12-15</td>\n",
       "      <td>['yes', 'mod', 'bullshit', 'btc', 'post', 'lol...</td>\n",
       "      <td>1</td>\n",
       "    </tr>\n",
       "    <tr>\n",
       "      <th>1</th>\n",
       "      <td>1</td>\n",
       "      <td>2015-12-16</td>\n",
       "      <td>['bitcoin', 'btc', 'borg', 'play', 'well', 'do...</td>\n",
       "      <td>0</td>\n",
       "    </tr>\n",
       "    <tr>\n",
       "      <th>2</th>\n",
       "      <td>2</td>\n",
       "      <td>2015-12-17</td>\n",
       "      <td>['downvote', 'ignore', 'someone', 'similar', '...</td>\n",
       "      <td>1</td>\n",
       "    </tr>\n",
       "    <tr>\n",
       "      <th>3</th>\n",
       "      <td>3</td>\n",
       "      <td>2015-12-30</td>\n",
       "      <td>['reddit', 'ad', 'away', 'block', 'body', 'css...</td>\n",
       "      <td>0</td>\n",
       "    </tr>\n",
       "    <tr>\n",
       "      <th>4</th>\n",
       "      <td>4</td>\n",
       "      <td>2015-12-31</td>\n",
       "      <td>['changetip', 'ads', 'lol', 'theymos', 'nice',...</td>\n",
       "      <td>1</td>\n",
       "    </tr>\n",
       "  </tbody>\n",
       "</table>\n",
       "</div>"
      ],
      "text/plain": [
       "   Unnamed: 0        date                                              words  \\\n",
       "0           0  2015-12-15  ['yes', 'mod', 'bullshit', 'btc', 'post', 'lol...   \n",
       "1           1  2015-12-16  ['bitcoin', 'btc', 'borg', 'play', 'well', 'do...   \n",
       "2           2  2015-12-17  ['downvote', 'ignore', 'someone', 'similar', '...   \n",
       "3           3  2015-12-30  ['reddit', 'ad', 'away', 'block', 'body', 'css...   \n",
       "4           4  2015-12-31  ['changetip', 'ads', 'lol', 'theymos', 'nice',...   \n",
       "\n",
       "   label  \n",
       "0      1  \n",
       "1      0  \n",
       "2      1  \n",
       "3      0  \n",
       "4      1  "
      ]
     },
     "execution_count": 7,
     "metadata": {},
     "output_type": "execute_result"
    }
   ],
   "source": [
    "#TFIDF\n",
    "df_idf = dataset.get_TFIDF_data()\n",
    "labels_dic = dataset.get_labeled_bitcoin_price()\n",
    "df_idf.head()\n",
    "labels = []\n",
    "for date in df_idf[\"date\"]:\n",
    "    labels.append(labels_dic[date])\n",
    "df_idf[\"label\"] = labels\n",
    "df_idf.head()"
   ]
  },
  {
   "cell_type": "markdown",
   "metadata": {},
   "source": [
    "### Format Dataset"
   ]
  },
  {
   "cell_type": "code",
   "execution_count": 5,
   "metadata": {},
   "outputs": [],
   "source": [
    "texts = df[\"text\"]\n",
    "labels = df[\"label\"]\n",
    "texts_train, texts_test , labels_train, labels_test, vocab_length, max_sentence_size = keras_bitcoin.get_train_test_data(texts, labels)"
   ]
  },
  {
   "cell_type": "code",
   "execution_count": 22,
   "metadata": {},
   "outputs": [],
   "source": [
    "#LDA\n",
    "texts = df[\"result\"]\n",
    "labels = df[\"label\"]\n",
    "texts_train, texts_test , labels_train, labels_test, vocab_length, max_sentence_size = keras_bitcoin.get_train_test_data(texts, labels)"
   ]
  },
  {
   "cell_type": "code",
   "execution_count": 9,
   "metadata": {},
   "outputs": [],
   "source": [
    "#IDF\n",
    "texts = df_idf[\"words\"]\n",
    "labels = df_idf[\"label\"]\n",
    "texts_train, texts_test , labels_train, labels_test, vocab_length, max_sentence_size = keras_bitcoin.get_train_test_data(texts, labels)"
   ]
  },
  {
   "cell_type": "markdown",
   "metadata": {},
   "source": [
    "### Set Model Params"
   ]
  },
  {
   "cell_type": "code",
   "execution_count": 16,
   "metadata": {},
   "outputs": [],
   "source": [
    "\n",
    "epochs=20\n",
    "batch_size=None\n",
    "activations_functions=[\"sigmoid\", \"relu\"]\n",
    "dropouts = {}"
   ]
  },
  {
   "cell_type": "markdown",
   "metadata": {},
   "source": [
    "### Train Mode"
   ]
  },
  {
   "cell_type": "code",
   "execution_count": 17,
   "metadata": {},
   "outputs": [
    {
     "name": "stderr",
     "output_type": "stream",
     "text": [
      "C:\\Users\\33777\\Anaconda3\\lib\\site-packages\\tensorflow_core\\python\\framework\\indexed_slices.py:424: UserWarning: Converting sparse IndexedSlices to a dense Tensor of unknown shape. This may consume a large amount of memory.\n",
      "  \"Converting sparse IndexedSlices to a dense Tensor of unknown shape. \"\n"
     ]
    },
    {
     "name": "stdout",
     "output_type": "stream",
     "text": [
      "Epoch 1/20\n",
      "534/534 [==============================] - 0s 494us/step - loss: 0.7808 - acc: 0.4494\n",
      "Epoch 2/20\n",
      "534/534 [==============================] - 0s 148us/step - loss: 0.7320 - acc: 0.4494\n",
      "Epoch 3/20\n",
      "534/534 [==============================] - 0s 145us/step - loss: 0.6930 - acc: 0.4494\n",
      "Epoch 4/20\n",
      "534/534 [==============================] - 0s 127us/step - loss: 0.6603 - acc: 0.5599\n",
      "Epoch 5/20\n",
      "534/534 [==============================] - 0s 133us/step - loss: 0.6272 - acc: 0.8914\n",
      "Epoch 6/20\n",
      "534/534 [==============================] - 0s 129us/step - loss: 0.5946 - acc: 0.9382\n",
      "Epoch 7/20\n",
      "534/534 [==============================] - 0s 124us/step - loss: 0.5589 - acc: 0.9288\n",
      "Epoch 8/20\n",
      "534/534 [==============================] - 0s 120us/step - loss: 0.5193 - acc: 0.9345\n",
      "Epoch 9/20\n",
      "534/534 [==============================] - 0s 116us/step - loss: 0.4738 - acc: 0.9551\n",
      "Epoch 10/20\n",
      "534/534 [==============================] - 0s 110us/step - loss: 0.4254 - acc: 0.9738\n",
      "Epoch 11/20\n",
      "534/534 [==============================] - 0s 120us/step - loss: 0.3762 - acc: 0.9775\n",
      "Epoch 12/20\n",
      "534/534 [==============================] - 0s 140us/step - loss: 0.3281 - acc: 0.9794\n",
      "Epoch 13/20\n",
      "534/534 [==============================] - 0s 122us/step - loss: 0.2838 - acc: 0.9850\n",
      "Epoch 14/20\n",
      "534/534 [==============================] - 0s 125us/step - loss: 0.2441 - acc: 0.9888\n",
      "Epoch 15/20\n",
      "534/534 [==============================] - 0s 114us/step - loss: 0.2092 - acc: 0.9906\n",
      "Epoch 16/20\n",
      "534/534 [==============================] - 0s 112us/step - loss: 0.1785 - acc: 0.9906\n",
      "Epoch 17/20\n",
      "534/534 [==============================] - 0s 99us/step - loss: 0.1518 - acc: 0.9925\n",
      "Epoch 18/20\n",
      "534/534 [==============================] - 0s 114us/step - loss: 0.1283 - acc: 0.9944\n",
      "Epoch 19/20\n",
      "534/534 [==============================] - 0s 107us/step - loss: 0.1091 - acc: 0.9944\n",
      "Epoch 20/20\n",
      "534/534 [==============================] - 0s 103us/step - loss: 0.0951 - acc: 0.9963\n",
      "Model: \"sequential_5\"\n",
      "_________________________________________________________________\n",
      "Layer (type)                 Output Shape              Param #   \n",
      "=================================================================\n",
      "embedding_5 (Embedding)      (None, 30, 20)            83800     \n",
      "_________________________________________________________________\n",
      "flatten_5 (Flatten)          (None, 600)               0         \n",
      "_________________________________________________________________\n",
      "dense_6 (Dense)              (None, 1)                 601       \n",
      "_________________________________________________________________\n",
      "dense_7 (Dense)              (None, 1)                 2         \n",
      "=================================================================\n",
      "Total params: 84,403\n",
      "Trainable params: 84,403\n",
      "Non-trainable params: 0\n",
      "_________________________________________________________________\n",
      "None\n"
     ]
    }
   ],
   "source": [
    "model = keras_bitcoin.get_model(texts_train, labels_train, vocab_length, max_sentence_size, epochs=epochs, batch_size=batch_size, activations_functions=activations_functions, verbose=1)"
   ]
  },
  {
   "cell_type": "markdown",
   "metadata": {},
   "source": [
    "###  Model Evaluation"
   ]
  },
  {
   "cell_type": "code",
   "execution_count": 18,
   "metadata": {},
   "outputs": [
    {
     "name": "stdout",
     "output_type": "stream",
     "text": [
      "134/134 [==============================] - 0s 463us/step\n",
      "Accuracy: 52.238804\n"
     ]
    }
   ],
   "source": [
    "loss, accuracy = model.evaluate(texts_test, labels_test, verbose=1)\n",
    "print('Accuracy: %f' % (accuracy*100))"
   ]
  },
  {
   "cell_type": "markdown",
   "metadata": {},
   "source": [
    "###  Get Predictions"
   ]
  },
  {
   "cell_type": "code",
   "execution_count": 20,
   "metadata": {},
   "outputs": [
    {
     "name": "stdout",
     "output_type": "stream",
     "text": [
      "Number of files loaded :  668\n",
      "(117152, 3)                                                 text  label        date\n",
      "0                                               body      1  2015-12-15\n",
      "1  Recent comment by him with regards to Gavin An...      1  2015-12-15\n"
     ]
    }
   ],
   "source": [
    "df_test = dataset.get_labeled_dataset(number_of_file = 10, from_date = \"2017-02-10\", date_included = False, all_files=True)\n",
    "print(df_test.shape,df_test.head(2))"
   ]
  },
  {
   "cell_type": "code",
   "execution_count": 21,
   "metadata": {},
   "outputs": [],
   "source": [
    "preds = keras_bitcoin.get_predictions(list(df_test[\"text\"]), model, vocab_length, max_sentence_size)\n",
    "df_test[\"preds\"] = list(map(lambda x : int(x), preds))\n",
    "df_test[\"correct\"] = np.equal(preds, df_test[\"label\"])"
   ]
  },
  {
   "cell_type": "markdown",
   "metadata": {},
   "source": [
    "### Predictions Stats"
   ]
  },
  {
   "cell_type": "code",
   "execution_count": 22,
   "metadata": {},
   "outputs": [
    {
     "name": "stdout",
     "output_type": "stream",
     "text": [
      "Number Correct/Wrong Guess : 18267/98885\n",
      "              Accuracy : 15.592563507238461\n",
      "Invalid sentences count 82195\n"
     ]
    }
   ],
   "source": [
    "dataset.get_prediction_stats(df_test)"
   ]
  },
  {
   "cell_type": "markdown",
   "metadata": {},
   "source": [
    "### Find best settings"
   ]
  },
  {
   "cell_type": "code",
   "execution_count": 25,
   "metadata": {},
   "outputs": [],
   "source": [
    "def get_combinations(arr):\n",
    "    combinations = []\n",
    "    for i in range(len(arr)):\n",
    "        item = arr[i]\n",
    "        for j in range(i + 1, len(arr)):\n",
    "            combinations.append([item, arr[j]])\n",
    "    return combinations"
   ]
  },
  {
   "cell_type": "code",
   "execution_count": 30,
   "metadata": {},
   "outputs": [
    {
     "name": "stderr",
     "output_type": "stream",
     "text": [
      "C:\\Users\\33777\\Anaconda3\\lib\\site-packages\\tensorflow_core\\python\\framework\\indexed_slices.py:424: UserWarning: Converting sparse IndexedSlices to a dense Tensor of unknown shape. This may consume a large amount of memory.\n",
      "  \"Converting sparse IndexedSlices to a dense Tensor of unknown shape. \"\n"
     ]
    },
    {
     "name": "stdout",
     "output_type": "stream",
     "text": [
      "Model: \"sequential_128\"\n",
      "_________________________________________________________________\n",
      "Layer (type)                 Output Shape              Param #   \n",
      "=================================================================\n",
      "embedding_128 (Embedding)    (None, 100, 20)           2600      \n",
      "_________________________________________________________________\n",
      "flatten_128 (Flatten)        (None, 2000)              0         \n",
      "_________________________________________________________________\n",
      "dense_244 (Dense)            (None, 1)                 2001      \n",
      "_________________________________________________________________\n",
      "dense_245 (Dense)            (None, 1)                 2         \n",
      "=================================================================\n",
      "Total params: 4,603\n",
      "Trainable params: 4,603\n",
      "Non-trainable params: 0\n",
      "_________________________________________________________________\n",
      "None\n"
     ]
    },
    {
     "name": "stderr",
     "output_type": "stream",
     "text": [
      "C:\\Users\\33777\\Anaconda3\\lib\\site-packages\\tensorflow_core\\python\\framework\\indexed_slices.py:424: UserWarning: Converting sparse IndexedSlices to a dense Tensor of unknown shape. This may consume a large amount of memory.\n",
      "  \"Converting sparse IndexedSlices to a dense Tensor of unknown shape. \"\n"
     ]
    },
    {
     "name": "stdout",
     "output_type": "stream",
     "text": [
      "Model: \"sequential_129\"\n",
      "_________________________________________________________________\n",
      "Layer (type)                 Output Shape              Param #   \n",
      "=================================================================\n",
      "embedding_129 (Embedding)    (None, 100, 20)           2600      \n",
      "_________________________________________________________________\n",
      "flatten_129 (Flatten)        (None, 2000)              0         \n",
      "_________________________________________________________________\n",
      "dense_246 (Dense)            (None, 1)                 2001      \n",
      "_________________________________________________________________\n",
      "dense_247 (Dense)            (None, 1)                 2         \n",
      "=================================================================\n",
      "Total params: 4,603\n",
      "Trainable params: 4,603\n",
      "Non-trainable params: 0\n",
      "_________________________________________________________________\n",
      "None\n"
     ]
    },
    {
     "name": "stderr",
     "output_type": "stream",
     "text": [
      "C:\\Users\\33777\\Anaconda3\\lib\\site-packages\\tensorflow_core\\python\\framework\\indexed_slices.py:424: UserWarning: Converting sparse IndexedSlices to a dense Tensor of unknown shape. This may consume a large amount of memory.\n",
      "  \"Converting sparse IndexedSlices to a dense Tensor of unknown shape. \"\n"
     ]
    },
    {
     "name": "stdout",
     "output_type": "stream",
     "text": [
      "Model: \"sequential_130\"\n",
      "_________________________________________________________________\n",
      "Layer (type)                 Output Shape              Param #   \n",
      "=================================================================\n",
      "embedding_130 (Embedding)    (None, 100, 20)           2600      \n",
      "_________________________________________________________________\n",
      "flatten_130 (Flatten)        (None, 2000)              0         \n",
      "_________________________________________________________________\n",
      "dense_248 (Dense)            (None, 1)                 2001      \n",
      "_________________________________________________________________\n",
      "dense_249 (Dense)            (None, 1)                 2         \n",
      "=================================================================\n",
      "Total params: 4,603\n",
      "Trainable params: 4,603\n",
      "Non-trainable params: 0\n",
      "_________________________________________________________________\n",
      "None\n"
     ]
    },
    {
     "name": "stderr",
     "output_type": "stream",
     "text": [
      "C:\\Users\\33777\\Anaconda3\\lib\\site-packages\\tensorflow_core\\python\\framework\\indexed_slices.py:424: UserWarning: Converting sparse IndexedSlices to a dense Tensor of unknown shape. This may consume a large amount of memory.\n",
      "  \"Converting sparse IndexedSlices to a dense Tensor of unknown shape. \"\n"
     ]
    },
    {
     "name": "stdout",
     "output_type": "stream",
     "text": [
      "Model: \"sequential_131\"\n",
      "_________________________________________________________________\n",
      "Layer (type)                 Output Shape              Param #   \n",
      "=================================================================\n",
      "embedding_131 (Embedding)    (None, 100, 20)           2600      \n",
      "_________________________________________________________________\n",
      "flatten_131 (Flatten)        (None, 2000)              0         \n",
      "_________________________________________________________________\n",
      "dense_250 (Dense)            (None, 1)                 2001      \n",
      "_________________________________________________________________\n",
      "dense_251 (Dense)            (None, 1)                 2         \n",
      "=================================================================\n",
      "Total params: 4,603\n",
      "Trainable params: 4,603\n",
      "Non-trainable params: 0\n",
      "_________________________________________________________________\n",
      "None\n"
     ]
    },
    {
     "name": "stderr",
     "output_type": "stream",
     "text": [
      "C:\\Users\\33777\\Anaconda3\\lib\\site-packages\\tensorflow_core\\python\\framework\\indexed_slices.py:424: UserWarning: Converting sparse IndexedSlices to a dense Tensor of unknown shape. This may consume a large amount of memory.\n",
      "  \"Converting sparse IndexedSlices to a dense Tensor of unknown shape. \"\n"
     ]
    },
    {
     "name": "stdout",
     "output_type": "stream",
     "text": [
      "Model: \"sequential_132\"\n",
      "_________________________________________________________________\n",
      "Layer (type)                 Output Shape              Param #   \n",
      "=================================================================\n",
      "embedding_132 (Embedding)    (None, 100, 20)           2600      \n",
      "_________________________________________________________________\n",
      "flatten_132 (Flatten)        (None, 2000)              0         \n",
      "_________________________________________________________________\n",
      "dense_252 (Dense)            (None, 1)                 2001      \n",
      "_________________________________________________________________\n",
      "dense_253 (Dense)            (None, 1)                 2         \n",
      "=================================================================\n",
      "Total params: 4,603\n",
      "Trainable params: 4,603\n",
      "Non-trainable params: 0\n",
      "_________________________________________________________________\n",
      "None\n"
     ]
    },
    {
     "name": "stderr",
     "output_type": "stream",
     "text": [
      "C:\\Users\\33777\\Anaconda3\\lib\\site-packages\\tensorflow_core\\python\\framework\\indexed_slices.py:424: UserWarning: Converting sparse IndexedSlices to a dense Tensor of unknown shape. This may consume a large amount of memory.\n",
      "  \"Converting sparse IndexedSlices to a dense Tensor of unknown shape. \"\n"
     ]
    },
    {
     "name": "stdout",
     "output_type": "stream",
     "text": [
      "Model: \"sequential_133\"\n",
      "_________________________________________________________________\n",
      "Layer (type)                 Output Shape              Param #   \n",
      "=================================================================\n",
      "embedding_133 (Embedding)    (None, 100, 20)           2600      \n",
      "_________________________________________________________________\n",
      "flatten_133 (Flatten)        (None, 2000)              0         \n",
      "_________________________________________________________________\n",
      "dense_254 (Dense)            (None, 1)                 2001      \n",
      "_________________________________________________________________\n",
      "dense_255 (Dense)            (None, 1)                 2         \n",
      "=================================================================\n",
      "Total params: 4,603\n",
      "Trainable params: 4,603\n",
      "Non-trainable params: 0\n",
      "_________________________________________________________________\n",
      "None\n"
     ]
    },
    {
     "name": "stderr",
     "output_type": "stream",
     "text": [
      "C:\\Users\\33777\\Anaconda3\\lib\\site-packages\\tensorflow_core\\python\\framework\\indexed_slices.py:424: UserWarning: Converting sparse IndexedSlices to a dense Tensor of unknown shape. This may consume a large amount of memory.\n",
      "  \"Converting sparse IndexedSlices to a dense Tensor of unknown shape. \"\n"
     ]
    },
    {
     "name": "stdout",
     "output_type": "stream",
     "text": [
      "Model: \"sequential_134\"\n",
      "_________________________________________________________________\n",
      "Layer (type)                 Output Shape              Param #   \n",
      "=================================================================\n",
      "embedding_134 (Embedding)    (None, 100, 20)           2600      \n",
      "_________________________________________________________________\n",
      "flatten_134 (Flatten)        (None, 2000)              0         \n",
      "_________________________________________________________________\n",
      "dense_256 (Dense)            (None, 1)                 2001      \n",
      "_________________________________________________________________\n",
      "dense_257 (Dense)            (None, 1)                 2         \n",
      "=================================================================\n",
      "Total params: 4,603\n",
      "Trainable params: 4,603\n",
      "Non-trainable params: 0\n",
      "_________________________________________________________________\n",
      "None\n"
     ]
    },
    {
     "name": "stderr",
     "output_type": "stream",
     "text": [
      "C:\\Users\\33777\\Anaconda3\\lib\\site-packages\\tensorflow_core\\python\\framework\\indexed_slices.py:424: UserWarning: Converting sparse IndexedSlices to a dense Tensor of unknown shape. This may consume a large amount of memory.\n",
      "  \"Converting sparse IndexedSlices to a dense Tensor of unknown shape. \"\n"
     ]
    },
    {
     "name": "stdout",
     "output_type": "stream",
     "text": [
      "Model: \"sequential_135\"\n",
      "_________________________________________________________________\n",
      "Layer (type)                 Output Shape              Param #   \n",
      "=================================================================\n",
      "embedding_135 (Embedding)    (None, 100, 20)           2600      \n",
      "_________________________________________________________________\n",
      "flatten_135 (Flatten)        (None, 2000)              0         \n",
      "_________________________________________________________________\n",
      "dense_258 (Dense)            (None, 1)                 2001      \n",
      "_________________________________________________________________\n",
      "dense_259 (Dense)            (None, 1)                 2         \n",
      "=================================================================\n",
      "Total params: 4,603\n",
      "Trainable params: 4,603\n",
      "Non-trainable params: 0\n",
      "_________________________________________________________________\n",
      "None\n"
     ]
    },
    {
     "name": "stderr",
     "output_type": "stream",
     "text": [
      "C:\\Users\\33777\\Anaconda3\\lib\\site-packages\\tensorflow_core\\python\\framework\\indexed_slices.py:424: UserWarning: Converting sparse IndexedSlices to a dense Tensor of unknown shape. This may consume a large amount of memory.\n",
      "  \"Converting sparse IndexedSlices to a dense Tensor of unknown shape. \"\n"
     ]
    },
    {
     "name": "stdout",
     "output_type": "stream",
     "text": [
      "Model: \"sequential_136\"\n",
      "_________________________________________________________________\n",
      "Layer (type)                 Output Shape              Param #   \n",
      "=================================================================\n",
      "embedding_136 (Embedding)    (None, 100, 20)           2600      \n",
      "_________________________________________________________________\n",
      "flatten_136 (Flatten)        (None, 2000)              0         \n",
      "_________________________________________________________________\n",
      "dense_260 (Dense)            (None, 1)                 2001      \n",
      "_________________________________________________________________\n",
      "dense_261 (Dense)            (None, 1)                 2         \n",
      "=================================================================\n",
      "Total params: 4,603\n",
      "Trainable params: 4,603\n",
      "Non-trainable params: 0\n",
      "_________________________________________________________________\n",
      "None\n"
     ]
    },
    {
     "name": "stderr",
     "output_type": "stream",
     "text": [
      "C:\\Users\\33777\\Anaconda3\\lib\\site-packages\\tensorflow_core\\python\\framework\\indexed_slices.py:424: UserWarning: Converting sparse IndexedSlices to a dense Tensor of unknown shape. This may consume a large amount of memory.\n",
      "  \"Converting sparse IndexedSlices to a dense Tensor of unknown shape. \"\n"
     ]
    },
    {
     "name": "stdout",
     "output_type": "stream",
     "text": [
      "Model: \"sequential_137\"\n",
      "_________________________________________________________________\n",
      "Layer (type)                 Output Shape              Param #   \n",
      "=================================================================\n",
      "embedding_137 (Embedding)    (None, 100, 20)           2600      \n",
      "_________________________________________________________________\n",
      "flatten_137 (Flatten)        (None, 2000)              0         \n",
      "_________________________________________________________________\n",
      "dense_262 (Dense)            (None, 1)                 2001      \n",
      "_________________________________________________________________\n",
      "dense_263 (Dense)            (None, 1)                 2         \n",
      "=================================================================\n",
      "Total params: 4,603\n",
      "Trainable params: 4,603\n",
      "Non-trainable params: 0\n",
      "_________________________________________________________________\n",
      "None\n"
     ]
    },
    {
     "name": "stderr",
     "output_type": "stream",
     "text": [
      "C:\\Users\\33777\\Anaconda3\\lib\\site-packages\\tensorflow_core\\python\\framework\\indexed_slices.py:424: UserWarning: Converting sparse IndexedSlices to a dense Tensor of unknown shape. This may consume a large amount of memory.\n",
      "  \"Converting sparse IndexedSlices to a dense Tensor of unknown shape. \"\n"
     ]
    },
    {
     "name": "stdout",
     "output_type": "stream",
     "text": [
      "Model: \"sequential_138\"\n",
      "_________________________________________________________________\n",
      "Layer (type)                 Output Shape              Param #   \n",
      "=================================================================\n",
      "embedding_138 (Embedding)    (None, 100, 20)           2600      \n",
      "_________________________________________________________________\n",
      "flatten_138 (Flatten)        (None, 2000)              0         \n",
      "_________________________________________________________________\n",
      "dense_264 (Dense)            (None, 1)                 2001      \n",
      "_________________________________________________________________\n",
      "dense_265 (Dense)            (None, 1)                 2         \n",
      "=================================================================\n",
      "Total params: 4,603\n",
      "Trainable params: 4,603\n",
      "Non-trainable params: 0\n",
      "_________________________________________________________________\n",
      "None\n"
     ]
    },
    {
     "name": "stderr",
     "output_type": "stream",
     "text": [
      "C:\\Users\\33777\\Anaconda3\\lib\\site-packages\\tensorflow_core\\python\\framework\\indexed_slices.py:424: UserWarning: Converting sparse IndexedSlices to a dense Tensor of unknown shape. This may consume a large amount of memory.\n",
      "  \"Converting sparse IndexedSlices to a dense Tensor of unknown shape. \"\n"
     ]
    },
    {
     "name": "stdout",
     "output_type": "stream",
     "text": [
      "Model: \"sequential_139\"\n",
      "_________________________________________________________________\n",
      "Layer (type)                 Output Shape              Param #   \n",
      "=================================================================\n",
      "embedding_139 (Embedding)    (None, 100, 20)           2600      \n",
      "_________________________________________________________________\n",
      "flatten_139 (Flatten)        (None, 2000)              0         \n",
      "_________________________________________________________________\n",
      "dense_266 (Dense)            (None, 1)                 2001      \n",
      "_________________________________________________________________\n",
      "dense_267 (Dense)            (None, 1)                 2         \n",
      "=================================================================\n",
      "Total params: 4,603\n",
      "Trainable params: 4,603\n",
      "Non-trainable params: 0\n",
      "_________________________________________________________________\n",
      "None\n"
     ]
    },
    {
     "name": "stderr",
     "output_type": "stream",
     "text": [
      "C:\\Users\\33777\\Anaconda3\\lib\\site-packages\\tensorflow_core\\python\\framework\\indexed_slices.py:424: UserWarning: Converting sparse IndexedSlices to a dense Tensor of unknown shape. This may consume a large amount of memory.\n",
      "  \"Converting sparse IndexedSlices to a dense Tensor of unknown shape. \"\n"
     ]
    },
    {
     "name": "stdout",
     "output_type": "stream",
     "text": [
      "Model: \"sequential_140\"\n",
      "_________________________________________________________________\n",
      "Layer (type)                 Output Shape              Param #   \n",
      "=================================================================\n",
      "embedding_140 (Embedding)    (None, 100, 20)           2600      \n",
      "_________________________________________________________________\n",
      "flatten_140 (Flatten)        (None, 2000)              0         \n",
      "_________________________________________________________________\n",
      "dense_268 (Dense)            (None, 1)                 2001      \n",
      "_________________________________________________________________\n",
      "dense_269 (Dense)            (None, 1)                 2         \n",
      "=================================================================\n",
      "Total params: 4,603\n",
      "Trainable params: 4,603\n",
      "Non-trainable params: 0\n",
      "_________________________________________________________________\n",
      "None\n"
     ]
    },
    {
     "name": "stderr",
     "output_type": "stream",
     "text": [
      "C:\\Users\\33777\\Anaconda3\\lib\\site-packages\\tensorflow_core\\python\\framework\\indexed_slices.py:424: UserWarning: Converting sparse IndexedSlices to a dense Tensor of unknown shape. This may consume a large amount of memory.\n",
      "  \"Converting sparse IndexedSlices to a dense Tensor of unknown shape. \"\n"
     ]
    },
    {
     "name": "stdout",
     "output_type": "stream",
     "text": [
      "Model: \"sequential_141\"\n",
      "_________________________________________________________________\n",
      "Layer (type)                 Output Shape              Param #   \n",
      "=================================================================\n",
      "embedding_141 (Embedding)    (None, 100, 20)           2600      \n",
      "_________________________________________________________________\n",
      "flatten_141 (Flatten)        (None, 2000)              0         \n",
      "_________________________________________________________________\n",
      "dense_270 (Dense)            (None, 1)                 2001      \n",
      "_________________________________________________________________\n",
      "dense_271 (Dense)            (None, 1)                 2         \n",
      "=================================================================\n",
      "Total params: 4,603\n",
      "Trainable params: 4,603\n",
      "Non-trainable params: 0\n",
      "_________________________________________________________________\n",
      "None\n"
     ]
    },
    {
     "name": "stderr",
     "output_type": "stream",
     "text": [
      "C:\\Users\\33777\\Anaconda3\\lib\\site-packages\\tensorflow_core\\python\\framework\\indexed_slices.py:424: UserWarning: Converting sparse IndexedSlices to a dense Tensor of unknown shape. This may consume a large amount of memory.\n",
      "  \"Converting sparse IndexedSlices to a dense Tensor of unknown shape. \"\n"
     ]
    },
    {
     "name": "stdout",
     "output_type": "stream",
     "text": [
      "Model: \"sequential_142\"\n",
      "_________________________________________________________________\n",
      "Layer (type)                 Output Shape              Param #   \n",
      "=================================================================\n",
      "embedding_142 (Embedding)    (None, 100, 20)           2600      \n",
      "_________________________________________________________________\n",
      "flatten_142 (Flatten)        (None, 2000)              0         \n",
      "_________________________________________________________________\n",
      "dense_272 (Dense)            (None, 1)                 2001      \n",
      "_________________________________________________________________\n",
      "dense_273 (Dense)            (None, 1)                 2         \n",
      "=================================================================\n",
      "Total params: 4,603\n",
      "Trainable params: 4,603\n",
      "Non-trainable params: 0\n",
      "_________________________________________________________________\n",
      "None\n"
     ]
    },
    {
     "name": "stderr",
     "output_type": "stream",
     "text": [
      "C:\\Users\\33777\\Anaconda3\\lib\\site-packages\\tensorflow_core\\python\\framework\\indexed_slices.py:424: UserWarning: Converting sparse IndexedSlices to a dense Tensor of unknown shape. This may consume a large amount of memory.\n",
      "  \"Converting sparse IndexedSlices to a dense Tensor of unknown shape. \"\n"
     ]
    },
    {
     "name": "stdout",
     "output_type": "stream",
     "text": [
      "Model: \"sequential_143\"\n",
      "_________________________________________________________________\n",
      "Layer (type)                 Output Shape              Param #   \n",
      "=================================================================\n",
      "embedding_143 (Embedding)    (None, 100, 20)           2600      \n",
      "_________________________________________________________________\n",
      "flatten_143 (Flatten)        (None, 2000)              0         \n",
      "_________________________________________________________________\n",
      "dense_274 (Dense)            (None, 1)                 2001      \n",
      "_________________________________________________________________\n",
      "dense_275 (Dense)            (None, 1)                 2         \n",
      "=================================================================\n",
      "Total params: 4,603\n",
      "Trainable params: 4,603\n",
      "Non-trainable params: 0\n",
      "_________________________________________________________________\n",
      "None\n"
     ]
    },
    {
     "name": "stderr",
     "output_type": "stream",
     "text": [
      "C:\\Users\\33777\\Anaconda3\\lib\\site-packages\\tensorflow_core\\python\\framework\\indexed_slices.py:424: UserWarning: Converting sparse IndexedSlices to a dense Tensor of unknown shape. This may consume a large amount of memory.\n",
      "  \"Converting sparse IndexedSlices to a dense Tensor of unknown shape. \"\n"
     ]
    },
    {
     "name": "stdout",
     "output_type": "stream",
     "text": [
      "Model: \"sequential_144\"\n",
      "_________________________________________________________________\n",
      "Layer (type)                 Output Shape              Param #   \n",
      "=================================================================\n",
      "embedding_144 (Embedding)    (None, 100, 20)           2600      \n",
      "_________________________________________________________________\n",
      "flatten_144 (Flatten)        (None, 2000)              0         \n",
      "_________________________________________________________________\n",
      "dense_276 (Dense)            (None, 1)                 2001      \n",
      "_________________________________________________________________\n",
      "dense_277 (Dense)            (None, 1)                 2         \n",
      "=================================================================\n",
      "Total params: 4,603\n",
      "Trainable params: 4,603\n",
      "Non-trainable params: 0\n",
      "_________________________________________________________________\n",
      "None\n"
     ]
    },
    {
     "name": "stderr",
     "output_type": "stream",
     "text": [
      "C:\\Users\\33777\\Anaconda3\\lib\\site-packages\\tensorflow_core\\python\\framework\\indexed_slices.py:424: UserWarning: Converting sparse IndexedSlices to a dense Tensor of unknown shape. This may consume a large amount of memory.\n",
      "  \"Converting sparse IndexedSlices to a dense Tensor of unknown shape. \"\n"
     ]
    },
    {
     "name": "stdout",
     "output_type": "stream",
     "text": [
      "Model: \"sequential_145\"\n",
      "_________________________________________________________________\n",
      "Layer (type)                 Output Shape              Param #   \n",
      "=================================================================\n",
      "embedding_145 (Embedding)    (None, 100, 20)           2600      \n",
      "_________________________________________________________________\n",
      "flatten_145 (Flatten)        (None, 2000)              0         \n",
      "_________________________________________________________________\n",
      "dense_278 (Dense)            (None, 1)                 2001      \n",
      "_________________________________________________________________\n",
      "dense_279 (Dense)            (None, 1)                 2         \n",
      "=================================================================\n",
      "Total params: 4,603\n",
      "Trainable params: 4,603\n",
      "Non-trainable params: 0\n",
      "_________________________________________________________________\n",
      "None\n"
     ]
    },
    {
     "name": "stderr",
     "output_type": "stream",
     "text": [
      "C:\\Users\\33777\\Anaconda3\\lib\\site-packages\\tensorflow_core\\python\\framework\\indexed_slices.py:424: UserWarning: Converting sparse IndexedSlices to a dense Tensor of unknown shape. This may consume a large amount of memory.\n",
      "  \"Converting sparse IndexedSlices to a dense Tensor of unknown shape. \"\n"
     ]
    },
    {
     "name": "stdout",
     "output_type": "stream",
     "text": [
      "Model: \"sequential_146\"\n",
      "_________________________________________________________________\n",
      "Layer (type)                 Output Shape              Param #   \n",
      "=================================================================\n",
      "embedding_146 (Embedding)    (None, 100, 20)           2600      \n",
      "_________________________________________________________________\n",
      "flatten_146 (Flatten)        (None, 2000)              0         \n",
      "_________________________________________________________________\n",
      "dense_280 (Dense)            (None, 1)                 2001      \n",
      "_________________________________________________________________\n",
      "dense_281 (Dense)            (None, 1)                 2         \n",
      "=================================================================\n",
      "Total params: 4,603\n",
      "Trainable params: 4,603\n",
      "Non-trainable params: 0\n",
      "_________________________________________________________________\n",
      "None\n"
     ]
    },
    {
     "name": "stderr",
     "output_type": "stream",
     "text": [
      "C:\\Users\\33777\\Anaconda3\\lib\\site-packages\\tensorflow_core\\python\\framework\\indexed_slices.py:424: UserWarning: Converting sparse IndexedSlices to a dense Tensor of unknown shape. This may consume a large amount of memory.\n",
      "  \"Converting sparse IndexedSlices to a dense Tensor of unknown shape. \"\n"
     ]
    },
    {
     "name": "stdout",
     "output_type": "stream",
     "text": [
      "Model: \"sequential_147\"\n",
      "_________________________________________________________________\n",
      "Layer (type)                 Output Shape              Param #   \n",
      "=================================================================\n",
      "embedding_147 (Embedding)    (None, 100, 20)           2600      \n",
      "_________________________________________________________________\n",
      "flatten_147 (Flatten)        (None, 2000)              0         \n",
      "_________________________________________________________________\n",
      "dense_282 (Dense)            (None, 1)                 2001      \n",
      "_________________________________________________________________\n",
      "dense_283 (Dense)            (None, 1)                 2         \n",
      "=================================================================\n",
      "Total params: 4,603\n",
      "Trainable params: 4,603\n",
      "Non-trainable params: 0\n",
      "_________________________________________________________________\n",
      "None\n"
     ]
    },
    {
     "name": "stderr",
     "output_type": "stream",
     "text": [
      "C:\\Users\\33777\\Anaconda3\\lib\\site-packages\\tensorflow_core\\python\\framework\\indexed_slices.py:424: UserWarning: Converting sparse IndexedSlices to a dense Tensor of unknown shape. This may consume a large amount of memory.\n",
      "  \"Converting sparse IndexedSlices to a dense Tensor of unknown shape. \"\n"
     ]
    },
    {
     "name": "stdout",
     "output_type": "stream",
     "text": [
      "Model: \"sequential_148\"\n",
      "_________________________________________________________________\n",
      "Layer (type)                 Output Shape              Param #   \n",
      "=================================================================\n",
      "embedding_148 (Embedding)    (None, 100, 20)           2600      \n",
      "_________________________________________________________________\n",
      "flatten_148 (Flatten)        (None, 2000)              0         \n",
      "_________________________________________________________________\n",
      "dense_284 (Dense)            (None, 1)                 2001      \n",
      "_________________________________________________________________\n",
      "dense_285 (Dense)            (None, 1)                 2         \n",
      "=================================================================\n",
      "Total params: 4,603\n",
      "Trainable params: 4,603\n",
      "Non-trainable params: 0\n",
      "_________________________________________________________________\n",
      "None\n"
     ]
    },
    {
     "name": "stderr",
     "output_type": "stream",
     "text": [
      "C:\\Users\\33777\\Anaconda3\\lib\\site-packages\\tensorflow_core\\python\\framework\\indexed_slices.py:424: UserWarning: Converting sparse IndexedSlices to a dense Tensor of unknown shape. This may consume a large amount of memory.\n",
      "  \"Converting sparse IndexedSlices to a dense Tensor of unknown shape. \"\n"
     ]
    },
    {
     "name": "stdout",
     "output_type": "stream",
     "text": [
      "Model: \"sequential_149\"\n",
      "_________________________________________________________________\n",
      "Layer (type)                 Output Shape              Param #   \n",
      "=================================================================\n",
      "embedding_149 (Embedding)    (None, 100, 20)           2600      \n",
      "_________________________________________________________________\n",
      "flatten_149 (Flatten)        (None, 2000)              0         \n",
      "_________________________________________________________________\n",
      "dense_286 (Dense)            (None, 1)                 2001      \n",
      "_________________________________________________________________\n",
      "dense_287 (Dense)            (None, 1)                 2         \n",
      "=================================================================\n",
      "Total params: 4,603\n",
      "Trainable params: 4,603\n",
      "Non-trainable params: 0\n",
      "_________________________________________________________________\n",
      "None\n"
     ]
    },
    {
     "name": "stderr",
     "output_type": "stream",
     "text": [
      "C:\\Users\\33777\\Anaconda3\\lib\\site-packages\\tensorflow_core\\python\\framework\\indexed_slices.py:424: UserWarning: Converting sparse IndexedSlices to a dense Tensor of unknown shape. This may consume a large amount of memory.\n",
      "  \"Converting sparse IndexedSlices to a dense Tensor of unknown shape. \"\n"
     ]
    },
    {
     "name": "stdout",
     "output_type": "stream",
     "text": [
      "Model: \"sequential_150\"\n",
      "_________________________________________________________________\n",
      "Layer (type)                 Output Shape              Param #   \n",
      "=================================================================\n",
      "embedding_150 (Embedding)    (None, 100, 20)           2600      \n",
      "_________________________________________________________________\n",
      "flatten_150 (Flatten)        (None, 2000)              0         \n",
      "_________________________________________________________________\n",
      "dense_288 (Dense)            (None, 1)                 2001      \n",
      "_________________________________________________________________\n",
      "dense_289 (Dense)            (None, 1)                 2         \n",
      "=================================================================\n",
      "Total params: 4,603\n",
      "Trainable params: 4,603\n",
      "Non-trainable params: 0\n",
      "_________________________________________________________________\n",
      "None\n"
     ]
    },
    {
     "name": "stderr",
     "output_type": "stream",
     "text": [
      "C:\\Users\\33777\\Anaconda3\\lib\\site-packages\\tensorflow_core\\python\\framework\\indexed_slices.py:424: UserWarning: Converting sparse IndexedSlices to a dense Tensor of unknown shape. This may consume a large amount of memory.\n",
      "  \"Converting sparse IndexedSlices to a dense Tensor of unknown shape. \"\n"
     ]
    },
    {
     "name": "stdout",
     "output_type": "stream",
     "text": [
      "Model: \"sequential_151\"\n",
      "_________________________________________________________________\n",
      "Layer (type)                 Output Shape              Param #   \n",
      "=================================================================\n",
      "embedding_151 (Embedding)    (None, 100, 20)           2600      \n",
      "_________________________________________________________________\n",
      "flatten_151 (Flatten)        (None, 2000)              0         \n",
      "_________________________________________________________________\n",
      "dense_290 (Dense)            (None, 1)                 2001      \n",
      "_________________________________________________________________\n",
      "dense_291 (Dense)            (None, 1)                 2         \n",
      "=================================================================\n",
      "Total params: 4,603\n",
      "Trainable params: 4,603\n",
      "Non-trainable params: 0\n",
      "_________________________________________________________________\n",
      "None\n"
     ]
    },
    {
     "name": "stderr",
     "output_type": "stream",
     "text": [
      "C:\\Users\\33777\\Anaconda3\\lib\\site-packages\\tensorflow_core\\python\\framework\\indexed_slices.py:424: UserWarning: Converting sparse IndexedSlices to a dense Tensor of unknown shape. This may consume a large amount of memory.\n",
      "  \"Converting sparse IndexedSlices to a dense Tensor of unknown shape. \"\n"
     ]
    },
    {
     "name": "stdout",
     "output_type": "stream",
     "text": [
      "Model: \"sequential_152\"\n",
      "_________________________________________________________________\n",
      "Layer (type)                 Output Shape              Param #   \n",
      "=================================================================\n",
      "embedding_152 (Embedding)    (None, 100, 20)           2600      \n",
      "_________________________________________________________________\n",
      "flatten_152 (Flatten)        (None, 2000)              0         \n",
      "_________________________________________________________________\n",
      "dense_292 (Dense)            (None, 1)                 2001      \n",
      "_________________________________________________________________\n",
      "dense_293 (Dense)            (None, 1)                 2         \n",
      "=================================================================\n",
      "Total params: 4,603\n",
      "Trainable params: 4,603\n",
      "Non-trainable params: 0\n",
      "_________________________________________________________________\n",
      "None\n"
     ]
    },
    {
     "name": "stderr",
     "output_type": "stream",
     "text": [
      "C:\\Users\\33777\\Anaconda3\\lib\\site-packages\\tensorflow_core\\python\\framework\\indexed_slices.py:424: UserWarning: Converting sparse IndexedSlices to a dense Tensor of unknown shape. This may consume a large amount of memory.\n",
      "  \"Converting sparse IndexedSlices to a dense Tensor of unknown shape. \"\n"
     ]
    },
    {
     "name": "stdout",
     "output_type": "stream",
     "text": [
      "Model: \"sequential_153\"\n",
      "_________________________________________________________________\n",
      "Layer (type)                 Output Shape              Param #   \n",
      "=================================================================\n",
      "embedding_153 (Embedding)    (None, 100, 20)           2600      \n",
      "_________________________________________________________________\n",
      "flatten_153 (Flatten)        (None, 2000)              0         \n",
      "_________________________________________________________________\n",
      "dense_294 (Dense)            (None, 1)                 2001      \n",
      "_________________________________________________________________\n",
      "dense_295 (Dense)            (None, 1)                 2         \n",
      "=================================================================\n",
      "Total params: 4,603\n",
      "Trainable params: 4,603\n",
      "Non-trainable params: 0\n",
      "_________________________________________________________________\n",
      "None\n"
     ]
    },
    {
     "name": "stderr",
     "output_type": "stream",
     "text": [
      "C:\\Users\\33777\\Anaconda3\\lib\\site-packages\\tensorflow_core\\python\\framework\\indexed_slices.py:424: UserWarning: Converting sparse IndexedSlices to a dense Tensor of unknown shape. This may consume a large amount of memory.\n",
      "  \"Converting sparse IndexedSlices to a dense Tensor of unknown shape. \"\n"
     ]
    },
    {
     "name": "stdout",
     "output_type": "stream",
     "text": [
      "Model: \"sequential_154\"\n",
      "_________________________________________________________________\n",
      "Layer (type)                 Output Shape              Param #   \n",
      "=================================================================\n",
      "embedding_154 (Embedding)    (None, 100, 20)           2600      \n",
      "_________________________________________________________________\n",
      "flatten_154 (Flatten)        (None, 2000)              0         \n",
      "_________________________________________________________________\n",
      "dense_296 (Dense)            (None, 1)                 2001      \n",
      "_________________________________________________________________\n",
      "dense_297 (Dense)            (None, 1)                 2         \n",
      "=================================================================\n",
      "Total params: 4,603\n",
      "Trainable params: 4,603\n",
      "Non-trainable params: 0\n",
      "_________________________________________________________________\n",
      "None\n"
     ]
    },
    {
     "name": "stderr",
     "output_type": "stream",
     "text": [
      "C:\\Users\\33777\\Anaconda3\\lib\\site-packages\\tensorflow_core\\python\\framework\\indexed_slices.py:424: UserWarning: Converting sparse IndexedSlices to a dense Tensor of unknown shape. This may consume a large amount of memory.\n",
      "  \"Converting sparse IndexedSlices to a dense Tensor of unknown shape. \"\n"
     ]
    },
    {
     "name": "stdout",
     "output_type": "stream",
     "text": [
      "Model: \"sequential_155\"\n",
      "_________________________________________________________________\n",
      "Layer (type)                 Output Shape              Param #   \n",
      "=================================================================\n",
      "embedding_155 (Embedding)    (None, 100, 20)           2600      \n",
      "_________________________________________________________________\n",
      "flatten_155 (Flatten)        (None, 2000)              0         \n",
      "_________________________________________________________________\n",
      "dense_298 (Dense)            (None, 1)                 2001      \n",
      "_________________________________________________________________\n",
      "dense_299 (Dense)            (None, 1)                 2         \n",
      "=================================================================\n",
      "Total params: 4,603\n",
      "Trainable params: 4,603\n",
      "Non-trainable params: 0\n",
      "_________________________________________________________________\n",
      "None\n"
     ]
    },
    {
     "name": "stderr",
     "output_type": "stream",
     "text": [
      "C:\\Users\\33777\\Anaconda3\\lib\\site-packages\\tensorflow_core\\python\\framework\\indexed_slices.py:424: UserWarning: Converting sparse IndexedSlices to a dense Tensor of unknown shape. This may consume a large amount of memory.\n",
      "  \"Converting sparse IndexedSlices to a dense Tensor of unknown shape. \"\n"
     ]
    },
    {
     "name": "stdout",
     "output_type": "stream",
     "text": [
      "Model: \"sequential_156\"\n",
      "_________________________________________________________________\n",
      "Layer (type)                 Output Shape              Param #   \n",
      "=================================================================\n",
      "embedding_156 (Embedding)    (None, 100, 20)           2600      \n",
      "_________________________________________________________________\n",
      "flatten_156 (Flatten)        (None, 2000)              0         \n",
      "_________________________________________________________________\n",
      "dense_300 (Dense)            (None, 1)                 2001      \n",
      "_________________________________________________________________\n",
      "dense_301 (Dense)            (None, 1)                 2         \n",
      "=================================================================\n",
      "Total params: 4,603\n",
      "Trainable params: 4,603\n",
      "Non-trainable params: 0\n",
      "_________________________________________________________________\n",
      "None\n"
     ]
    },
    {
     "name": "stderr",
     "output_type": "stream",
     "text": [
      "C:\\Users\\33777\\Anaconda3\\lib\\site-packages\\tensorflow_core\\python\\framework\\indexed_slices.py:424: UserWarning: Converting sparse IndexedSlices to a dense Tensor of unknown shape. This may consume a large amount of memory.\n",
      "  \"Converting sparse IndexedSlices to a dense Tensor of unknown shape. \"\n"
     ]
    },
    {
     "name": "stdout",
     "output_type": "stream",
     "text": [
      "Model: \"sequential_157\"\n",
      "_________________________________________________________________\n",
      "Layer (type)                 Output Shape              Param #   \n",
      "=================================================================\n",
      "embedding_157 (Embedding)    (None, 100, 20)           2600      \n",
      "_________________________________________________________________\n",
      "flatten_157 (Flatten)        (None, 2000)              0         \n",
      "_________________________________________________________________\n",
      "dense_302 (Dense)            (None, 1)                 2001      \n",
      "_________________________________________________________________\n",
      "dense_303 (Dense)            (None, 1)                 2         \n",
      "=================================================================\n",
      "Total params: 4,603\n",
      "Trainable params: 4,603\n",
      "Non-trainable params: 0\n",
      "_________________________________________________________________\n",
      "None\n"
     ]
    },
    {
     "name": "stderr",
     "output_type": "stream",
     "text": [
      "C:\\Users\\33777\\Anaconda3\\lib\\site-packages\\tensorflow_core\\python\\framework\\indexed_slices.py:424: UserWarning: Converting sparse IndexedSlices to a dense Tensor of unknown shape. This may consume a large amount of memory.\n",
      "  \"Converting sparse IndexedSlices to a dense Tensor of unknown shape. \"\n"
     ]
    },
    {
     "name": "stdout",
     "output_type": "stream",
     "text": [
      "Model: \"sequential_158\"\n",
      "_________________________________________________________________\n",
      "Layer (type)                 Output Shape              Param #   \n",
      "=================================================================\n",
      "embedding_158 (Embedding)    (None, 100, 20)           2600      \n",
      "_________________________________________________________________\n",
      "flatten_158 (Flatten)        (None, 2000)              0         \n",
      "_________________________________________________________________\n",
      "dense_304 (Dense)            (None, 1)                 2001      \n",
      "_________________________________________________________________\n",
      "dense_305 (Dense)            (None, 1)                 2         \n",
      "=================================================================\n",
      "Total params: 4,603\n",
      "Trainable params: 4,603\n",
      "Non-trainable params: 0\n",
      "_________________________________________________________________\n",
      "None\n"
     ]
    },
    {
     "name": "stderr",
     "output_type": "stream",
     "text": [
      "C:\\Users\\33777\\Anaconda3\\lib\\site-packages\\tensorflow_core\\python\\framework\\indexed_slices.py:424: UserWarning: Converting sparse IndexedSlices to a dense Tensor of unknown shape. This may consume a large amount of memory.\n",
      "  \"Converting sparse IndexedSlices to a dense Tensor of unknown shape. \"\n"
     ]
    },
    {
     "name": "stdout",
     "output_type": "stream",
     "text": [
      "Model: \"sequential_159\"\n",
      "_________________________________________________________________\n",
      "Layer (type)                 Output Shape              Param #   \n",
      "=================================================================\n",
      "embedding_159 (Embedding)    (None, 100, 20)           2600      \n",
      "_________________________________________________________________\n",
      "flatten_159 (Flatten)        (None, 2000)              0         \n",
      "_________________________________________________________________\n",
      "dense_306 (Dense)            (None, 1)                 2001      \n",
      "_________________________________________________________________\n",
      "dense_307 (Dense)            (None, 1)                 2         \n",
      "=================================================================\n",
      "Total params: 4,603\n",
      "Trainable params: 4,603\n",
      "Non-trainable params: 0\n",
      "_________________________________________________________________\n",
      "None\n"
     ]
    },
    {
     "name": "stderr",
     "output_type": "stream",
     "text": [
      "C:\\Users\\33777\\Anaconda3\\lib\\site-packages\\tensorflow_core\\python\\framework\\indexed_slices.py:424: UserWarning: Converting sparse IndexedSlices to a dense Tensor of unknown shape. This may consume a large amount of memory.\n",
      "  \"Converting sparse IndexedSlices to a dense Tensor of unknown shape. \"\n"
     ]
    },
    {
     "name": "stdout",
     "output_type": "stream",
     "text": [
      "Model: \"sequential_160\"\n",
      "_________________________________________________________________\n",
      "Layer (type)                 Output Shape              Param #   \n",
      "=================================================================\n",
      "embedding_160 (Embedding)    (None, 100, 20)           2600      \n",
      "_________________________________________________________________\n",
      "flatten_160 (Flatten)        (None, 2000)              0         \n",
      "_________________________________________________________________\n",
      "dense_308 (Dense)            (None, 1)                 2001      \n",
      "_________________________________________________________________\n",
      "dense_309 (Dense)            (None, 1)                 2         \n",
      "=================================================================\n",
      "Total params: 4,603\n",
      "Trainable params: 4,603\n",
      "Non-trainable params: 0\n",
      "_________________________________________________________________\n",
      "None\n"
     ]
    },
    {
     "name": "stderr",
     "output_type": "stream",
     "text": [
      "C:\\Users\\33777\\Anaconda3\\lib\\site-packages\\tensorflow_core\\python\\framework\\indexed_slices.py:424: UserWarning: Converting sparse IndexedSlices to a dense Tensor of unknown shape. This may consume a large amount of memory.\n",
      "  \"Converting sparse IndexedSlices to a dense Tensor of unknown shape. \"\n"
     ]
    },
    {
     "name": "stdout",
     "output_type": "stream",
     "text": [
      "Model: \"sequential_161\"\n",
      "_________________________________________________________________\n",
      "Layer (type)                 Output Shape              Param #   \n",
      "=================================================================\n",
      "embedding_161 (Embedding)    (None, 100, 20)           2600      \n",
      "_________________________________________________________________\n",
      "flatten_161 (Flatten)        (None, 2000)              0         \n",
      "_________________________________________________________________\n",
      "dense_310 (Dense)            (None, 1)                 2001      \n",
      "_________________________________________________________________\n",
      "dense_311 (Dense)            (None, 1)                 2         \n",
      "=================================================================\n",
      "Total params: 4,603\n",
      "Trainable params: 4,603\n",
      "Non-trainable params: 0\n",
      "_________________________________________________________________\n",
      "None\n"
     ]
    },
    {
     "name": "stderr",
     "output_type": "stream",
     "text": [
      "C:\\Users\\33777\\Anaconda3\\lib\\site-packages\\tensorflow_core\\python\\framework\\indexed_slices.py:424: UserWarning: Converting sparse IndexedSlices to a dense Tensor of unknown shape. This may consume a large amount of memory.\n",
      "  \"Converting sparse IndexedSlices to a dense Tensor of unknown shape. \"\n"
     ]
    },
    {
     "name": "stdout",
     "output_type": "stream",
     "text": [
      "Model: \"sequential_162\"\n",
      "_________________________________________________________________\n",
      "Layer (type)                 Output Shape              Param #   \n",
      "=================================================================\n",
      "embedding_162 (Embedding)    (None, 100, 20)           2600      \n",
      "_________________________________________________________________\n",
      "flatten_162 (Flatten)        (None, 2000)              0         \n",
      "_________________________________________________________________\n",
      "dense_312 (Dense)            (None, 1)                 2001      \n",
      "_________________________________________________________________\n",
      "dense_313 (Dense)            (None, 1)                 2         \n",
      "=================================================================\n",
      "Total params: 4,603\n",
      "Trainable params: 4,603\n",
      "Non-trainable params: 0\n",
      "_________________________________________________________________\n",
      "None\n"
     ]
    },
    {
     "name": "stderr",
     "output_type": "stream",
     "text": [
      "C:\\Users\\33777\\Anaconda3\\lib\\site-packages\\tensorflow_core\\python\\framework\\indexed_slices.py:424: UserWarning: Converting sparse IndexedSlices to a dense Tensor of unknown shape. This may consume a large amount of memory.\n",
      "  \"Converting sparse IndexedSlices to a dense Tensor of unknown shape. \"\n"
     ]
    },
    {
     "name": "stdout",
     "output_type": "stream",
     "text": [
      "Model: \"sequential_163\"\n",
      "_________________________________________________________________\n",
      "Layer (type)                 Output Shape              Param #   \n",
      "=================================================================\n",
      "embedding_163 (Embedding)    (None, 100, 20)           2600      \n",
      "_________________________________________________________________\n",
      "flatten_163 (Flatten)        (None, 2000)              0         \n",
      "_________________________________________________________________\n",
      "dense_314 (Dense)            (None, 1)                 2001      \n",
      "_________________________________________________________________\n",
      "dense_315 (Dense)            (None, 1)                 2         \n",
      "=================================================================\n",
      "Total params: 4,603\n",
      "Trainable params: 4,603\n",
      "Non-trainable params: 0\n",
      "_________________________________________________________________\n",
      "None\n"
     ]
    },
    {
     "name": "stderr",
     "output_type": "stream",
     "text": [
      "C:\\Users\\33777\\Anaconda3\\lib\\site-packages\\tensorflow_core\\python\\framework\\indexed_slices.py:424: UserWarning: Converting sparse IndexedSlices to a dense Tensor of unknown shape. This may consume a large amount of memory.\n",
      "  \"Converting sparse IndexedSlices to a dense Tensor of unknown shape. \"\n"
     ]
    },
    {
     "name": "stdout",
     "output_type": "stream",
     "text": [
      "Model: \"sequential_164\"\n",
      "_________________________________________________________________\n",
      "Layer (type)                 Output Shape              Param #   \n",
      "=================================================================\n",
      "embedding_164 (Embedding)    (None, 100, 20)           2600      \n",
      "_________________________________________________________________\n",
      "flatten_164 (Flatten)        (None, 2000)              0         \n",
      "_________________________________________________________________\n",
      "dense_316 (Dense)            (None, 1)                 2001      \n",
      "_________________________________________________________________\n",
      "dense_317 (Dense)            (None, 1)                 2         \n",
      "=================================================================\n",
      "Total params: 4,603\n",
      "Trainable params: 4,603\n",
      "Non-trainable params: 0\n",
      "_________________________________________________________________\n",
      "None\n"
     ]
    },
    {
     "name": "stderr",
     "output_type": "stream",
     "text": [
      "C:\\Users\\33777\\Anaconda3\\lib\\site-packages\\tensorflow_core\\python\\framework\\indexed_slices.py:424: UserWarning: Converting sparse IndexedSlices to a dense Tensor of unknown shape. This may consume a large amount of memory.\n",
      "  \"Converting sparse IndexedSlices to a dense Tensor of unknown shape. \"\n"
     ]
    },
    {
     "name": "stdout",
     "output_type": "stream",
     "text": [
      "Model: \"sequential_165\"\n",
      "_________________________________________________________________\n",
      "Layer (type)                 Output Shape              Param #   \n",
      "=================================================================\n",
      "embedding_165 (Embedding)    (None, 100, 20)           2600      \n",
      "_________________________________________________________________\n",
      "flatten_165 (Flatten)        (None, 2000)              0         \n",
      "_________________________________________________________________\n",
      "dense_318 (Dense)            (None, 1)                 2001      \n",
      "_________________________________________________________________\n",
      "dense_319 (Dense)            (None, 1)                 2         \n",
      "=================================================================\n",
      "Total params: 4,603\n",
      "Trainable params: 4,603\n",
      "Non-trainable params: 0\n",
      "_________________________________________________________________\n",
      "None\n"
     ]
    },
    {
     "name": "stderr",
     "output_type": "stream",
     "text": [
      "C:\\Users\\33777\\Anaconda3\\lib\\site-packages\\tensorflow_core\\python\\framework\\indexed_slices.py:424: UserWarning: Converting sparse IndexedSlices to a dense Tensor of unknown shape. This may consume a large amount of memory.\n",
      "  \"Converting sparse IndexedSlices to a dense Tensor of unknown shape. \"\n"
     ]
    },
    {
     "name": "stdout",
     "output_type": "stream",
     "text": [
      "Model: \"sequential_166\"\n",
      "_________________________________________________________________\n",
      "Layer (type)                 Output Shape              Param #   \n",
      "=================================================================\n",
      "embedding_166 (Embedding)    (None, 100, 20)           2600      \n",
      "_________________________________________________________________\n",
      "flatten_166 (Flatten)        (None, 2000)              0         \n",
      "_________________________________________________________________\n",
      "dense_320 (Dense)            (None, 1)                 2001      \n",
      "_________________________________________________________________\n",
      "dense_321 (Dense)            (None, 1)                 2         \n",
      "=================================================================\n",
      "Total params: 4,603\n",
      "Trainable params: 4,603\n",
      "Non-trainable params: 0\n",
      "_________________________________________________________________\n",
      "None\n"
     ]
    },
    {
     "name": "stderr",
     "output_type": "stream",
     "text": [
      "C:\\Users\\33777\\Anaconda3\\lib\\site-packages\\tensorflow_core\\python\\framework\\indexed_slices.py:424: UserWarning: Converting sparse IndexedSlices to a dense Tensor of unknown shape. This may consume a large amount of memory.\n",
      "  \"Converting sparse IndexedSlices to a dense Tensor of unknown shape. \"\n"
     ]
    },
    {
     "name": "stdout",
     "output_type": "stream",
     "text": [
      "Model: \"sequential_167\"\n",
      "_________________________________________________________________\n",
      "Layer (type)                 Output Shape              Param #   \n",
      "=================================================================\n",
      "embedding_167 (Embedding)    (None, 100, 20)           2600      \n",
      "_________________________________________________________________\n",
      "flatten_167 (Flatten)        (None, 2000)              0         \n",
      "_________________________________________________________________\n",
      "dense_322 (Dense)            (None, 1)                 2001      \n",
      "_________________________________________________________________\n",
      "dense_323 (Dense)            (None, 1)                 2         \n",
      "=================================================================\n",
      "Total params: 4,603\n",
      "Trainable params: 4,603\n",
      "Non-trainable params: 0\n",
      "_________________________________________________________________\n",
      "None\n"
     ]
    },
    {
     "name": "stderr",
     "output_type": "stream",
     "text": [
      "C:\\Users\\33777\\Anaconda3\\lib\\site-packages\\tensorflow_core\\python\\framework\\indexed_slices.py:424: UserWarning: Converting sparse IndexedSlices to a dense Tensor of unknown shape. This may consume a large amount of memory.\n",
      "  \"Converting sparse IndexedSlices to a dense Tensor of unknown shape. \"\n"
     ]
    },
    {
     "name": "stdout",
     "output_type": "stream",
     "text": [
      "Model: \"sequential_168\"\n",
      "_________________________________________________________________\n",
      "Layer (type)                 Output Shape              Param #   \n",
      "=================================================================\n",
      "embedding_168 (Embedding)    (None, 100, 20)           2600      \n",
      "_________________________________________________________________\n",
      "flatten_168 (Flatten)        (None, 2000)              0         \n",
      "_________________________________________________________________\n",
      "dense_324 (Dense)            (None, 1)                 2001      \n",
      "_________________________________________________________________\n",
      "dense_325 (Dense)            (None, 1)                 2         \n",
      "=================================================================\n",
      "Total params: 4,603\n",
      "Trainable params: 4,603\n",
      "Non-trainable params: 0\n",
      "_________________________________________________________________\n",
      "None\n"
     ]
    },
    {
     "name": "stderr",
     "output_type": "stream",
     "text": [
      "C:\\Users\\33777\\Anaconda3\\lib\\site-packages\\tensorflow_core\\python\\framework\\indexed_slices.py:424: UserWarning: Converting sparse IndexedSlices to a dense Tensor of unknown shape. This may consume a large amount of memory.\n",
      "  \"Converting sparse IndexedSlices to a dense Tensor of unknown shape. \"\n"
     ]
    },
    {
     "name": "stdout",
     "output_type": "stream",
     "text": [
      "Model: \"sequential_169\"\n",
      "_________________________________________________________________\n",
      "Layer (type)                 Output Shape              Param #   \n",
      "=================================================================\n",
      "embedding_169 (Embedding)    (None, 100, 20)           2600      \n",
      "_________________________________________________________________\n",
      "flatten_169 (Flatten)        (None, 2000)              0         \n",
      "_________________________________________________________________\n",
      "dense_326 (Dense)            (None, 1)                 2001      \n",
      "_________________________________________________________________\n",
      "dense_327 (Dense)            (None, 1)                 2         \n",
      "=================================================================\n",
      "Total params: 4,603\n",
      "Trainable params: 4,603\n",
      "Non-trainable params: 0\n",
      "_________________________________________________________________\n",
      "None\n"
     ]
    },
    {
     "name": "stderr",
     "output_type": "stream",
     "text": [
      "C:\\Users\\33777\\Anaconda3\\lib\\site-packages\\tensorflow_core\\python\\framework\\indexed_slices.py:424: UserWarning: Converting sparse IndexedSlices to a dense Tensor of unknown shape. This may consume a large amount of memory.\n",
      "  \"Converting sparse IndexedSlices to a dense Tensor of unknown shape. \"\n"
     ]
    },
    {
     "name": "stdout",
     "output_type": "stream",
     "text": [
      "Model: \"sequential_170\"\n",
      "_________________________________________________________________\n",
      "Layer (type)                 Output Shape              Param #   \n",
      "=================================================================\n",
      "embedding_170 (Embedding)    (None, 100, 20)           2600      \n",
      "_________________________________________________________________\n",
      "flatten_170 (Flatten)        (None, 2000)              0         \n",
      "_________________________________________________________________\n",
      "dense_328 (Dense)            (None, 1)                 2001      \n",
      "_________________________________________________________________\n",
      "dense_329 (Dense)            (None, 1)                 2         \n",
      "=================================================================\n",
      "Total params: 4,603\n",
      "Trainable params: 4,603\n",
      "Non-trainable params: 0\n",
      "_________________________________________________________________\n",
      "None\n"
     ]
    },
    {
     "name": "stderr",
     "output_type": "stream",
     "text": [
      "C:\\Users\\33777\\Anaconda3\\lib\\site-packages\\tensorflow_core\\python\\framework\\indexed_slices.py:424: UserWarning: Converting sparse IndexedSlices to a dense Tensor of unknown shape. This may consume a large amount of memory.\n",
      "  \"Converting sparse IndexedSlices to a dense Tensor of unknown shape. \"\n"
     ]
    },
    {
     "name": "stdout",
     "output_type": "stream",
     "text": [
      "Model: \"sequential_171\"\n",
      "_________________________________________________________________\n",
      "Layer (type)                 Output Shape              Param #   \n",
      "=================================================================\n",
      "embedding_171 (Embedding)    (None, 100, 20)           2600      \n",
      "_________________________________________________________________\n",
      "flatten_171 (Flatten)        (None, 2000)              0         \n",
      "_________________________________________________________________\n",
      "dense_330 (Dense)            (None, 1)                 2001      \n",
      "_________________________________________________________________\n",
      "dense_331 (Dense)            (None, 1)                 2         \n",
      "=================================================================\n",
      "Total params: 4,603\n",
      "Trainable params: 4,603\n",
      "Non-trainable params: 0\n",
      "_________________________________________________________________\n",
      "None\n"
     ]
    },
    {
     "name": "stderr",
     "output_type": "stream",
     "text": [
      "C:\\Users\\33777\\Anaconda3\\lib\\site-packages\\tensorflow_core\\python\\framework\\indexed_slices.py:424: UserWarning: Converting sparse IndexedSlices to a dense Tensor of unknown shape. This may consume a large amount of memory.\n",
      "  \"Converting sparse IndexedSlices to a dense Tensor of unknown shape. \"\n"
     ]
    },
    {
     "name": "stdout",
     "output_type": "stream",
     "text": [
      "Model: \"sequential_172\"\n",
      "_________________________________________________________________\n",
      "Layer (type)                 Output Shape              Param #   \n",
      "=================================================================\n",
      "embedding_172 (Embedding)    (None, 100, 20)           2600      \n",
      "_________________________________________________________________\n",
      "flatten_172 (Flatten)        (None, 2000)              0         \n",
      "_________________________________________________________________\n",
      "dense_332 (Dense)            (None, 1)                 2001      \n",
      "_________________________________________________________________\n",
      "dense_333 (Dense)            (None, 1)                 2         \n",
      "=================================================================\n",
      "Total params: 4,603\n",
      "Trainable params: 4,603\n",
      "Non-trainable params: 0\n",
      "_________________________________________________________________\n",
      "None\n"
     ]
    },
    {
     "name": "stderr",
     "output_type": "stream",
     "text": [
      "C:\\Users\\33777\\Anaconda3\\lib\\site-packages\\tensorflow_core\\python\\framework\\indexed_slices.py:424: UserWarning: Converting sparse IndexedSlices to a dense Tensor of unknown shape. This may consume a large amount of memory.\n",
      "  \"Converting sparse IndexedSlices to a dense Tensor of unknown shape. \"\n"
     ]
    },
    {
     "name": "stdout",
     "output_type": "stream",
     "text": [
      "Model: \"sequential_173\"\n",
      "_________________________________________________________________\n",
      "Layer (type)                 Output Shape              Param #   \n",
      "=================================================================\n",
      "embedding_173 (Embedding)    (None, 100, 20)           2600      \n",
      "_________________________________________________________________\n",
      "flatten_173 (Flatten)        (None, 2000)              0         \n",
      "_________________________________________________________________\n",
      "dense_334 (Dense)            (None, 1)                 2001      \n",
      "_________________________________________________________________\n",
      "dense_335 (Dense)            (None, 1)                 2         \n",
      "=================================================================\n",
      "Total params: 4,603\n",
      "Trainable params: 4,603\n",
      "Non-trainable params: 0\n",
      "_________________________________________________________________\n",
      "None\n"
     ]
    },
    {
     "name": "stderr",
     "output_type": "stream",
     "text": [
      "C:\\Users\\33777\\Anaconda3\\lib\\site-packages\\tensorflow_core\\python\\framework\\indexed_slices.py:424: UserWarning: Converting sparse IndexedSlices to a dense Tensor of unknown shape. This may consume a large amount of memory.\n",
      "  \"Converting sparse IndexedSlices to a dense Tensor of unknown shape. \"\n"
     ]
    },
    {
     "name": "stdout",
     "output_type": "stream",
     "text": [
      "Model: \"sequential_174\"\n",
      "_________________________________________________________________\n",
      "Layer (type)                 Output Shape              Param #   \n",
      "=================================================================\n",
      "embedding_174 (Embedding)    (None, 100, 20)           2600      \n",
      "_________________________________________________________________\n",
      "flatten_174 (Flatten)        (None, 2000)              0         \n",
      "_________________________________________________________________\n",
      "dense_336 (Dense)            (None, 1)                 2001      \n",
      "_________________________________________________________________\n",
      "dense_337 (Dense)            (None, 1)                 2         \n",
      "=================================================================\n",
      "Total params: 4,603\n",
      "Trainable params: 4,603\n",
      "Non-trainable params: 0\n",
      "_________________________________________________________________\n",
      "None\n"
     ]
    },
    {
     "name": "stderr",
     "output_type": "stream",
     "text": [
      "C:\\Users\\33777\\Anaconda3\\lib\\site-packages\\tensorflow_core\\python\\framework\\indexed_slices.py:424: UserWarning: Converting sparse IndexedSlices to a dense Tensor of unknown shape. This may consume a large amount of memory.\n",
      "  \"Converting sparse IndexedSlices to a dense Tensor of unknown shape. \"\n"
     ]
    },
    {
     "name": "stdout",
     "output_type": "stream",
     "text": [
      "Model: \"sequential_175\"\n",
      "_________________________________________________________________\n",
      "Layer (type)                 Output Shape              Param #   \n",
      "=================================================================\n",
      "embedding_175 (Embedding)    (None, 100, 20)           2600      \n",
      "_________________________________________________________________\n",
      "flatten_175 (Flatten)        (None, 2000)              0         \n",
      "_________________________________________________________________\n",
      "dense_338 (Dense)            (None, 1)                 2001      \n",
      "_________________________________________________________________\n",
      "dense_339 (Dense)            (None, 1)                 2         \n",
      "=================================================================\n",
      "Total params: 4,603\n",
      "Trainable params: 4,603\n",
      "Non-trainable params: 0\n",
      "_________________________________________________________________\n",
      "None\n"
     ]
    },
    {
     "name": "stderr",
     "output_type": "stream",
     "text": [
      "C:\\Users\\33777\\Anaconda3\\lib\\site-packages\\tensorflow_core\\python\\framework\\indexed_slices.py:424: UserWarning: Converting sparse IndexedSlices to a dense Tensor of unknown shape. This may consume a large amount of memory.\n",
      "  \"Converting sparse IndexedSlices to a dense Tensor of unknown shape. \"\n"
     ]
    },
    {
     "name": "stdout",
     "output_type": "stream",
     "text": [
      "Model: \"sequential_176\"\n",
      "_________________________________________________________________\n",
      "Layer (type)                 Output Shape              Param #   \n",
      "=================================================================\n",
      "embedding_176 (Embedding)    (None, 100, 20)           2600      \n",
      "_________________________________________________________________\n",
      "flatten_176 (Flatten)        (None, 2000)              0         \n",
      "_________________________________________________________________\n",
      "dense_340 (Dense)            (None, 1)                 2001      \n",
      "_________________________________________________________________\n",
      "dense_341 (Dense)            (None, 1)                 2         \n",
      "=================================================================\n",
      "Total params: 4,603\n",
      "Trainable params: 4,603\n",
      "Non-trainable params: 0\n",
      "_________________________________________________________________\n",
      "None\n"
     ]
    },
    {
     "name": "stderr",
     "output_type": "stream",
     "text": [
      "C:\\Users\\33777\\Anaconda3\\lib\\site-packages\\tensorflow_core\\python\\framework\\indexed_slices.py:424: UserWarning: Converting sparse IndexedSlices to a dense Tensor of unknown shape. This may consume a large amount of memory.\n",
      "  \"Converting sparse IndexedSlices to a dense Tensor of unknown shape. \"\n"
     ]
    },
    {
     "name": "stdout",
     "output_type": "stream",
     "text": [
      "Model: \"sequential_177\"\n",
      "_________________________________________________________________\n",
      "Layer (type)                 Output Shape              Param #   \n",
      "=================================================================\n",
      "embedding_177 (Embedding)    (None, 100, 20)           2600      \n",
      "_________________________________________________________________\n",
      "flatten_177 (Flatten)        (None, 2000)              0         \n",
      "_________________________________________________________________\n",
      "dense_342 (Dense)            (None, 1)                 2001      \n",
      "_________________________________________________________________\n",
      "dense_343 (Dense)            (None, 1)                 2         \n",
      "=================================================================\n",
      "Total params: 4,603\n",
      "Trainable params: 4,603\n",
      "Non-trainable params: 0\n",
      "_________________________________________________________________\n",
      "None\n"
     ]
    },
    {
     "name": "stderr",
     "output_type": "stream",
     "text": [
      "C:\\Users\\33777\\Anaconda3\\lib\\site-packages\\tensorflow_core\\python\\framework\\indexed_slices.py:424: UserWarning: Converting sparse IndexedSlices to a dense Tensor of unknown shape. This may consume a large amount of memory.\n",
      "  \"Converting sparse IndexedSlices to a dense Tensor of unknown shape. \"\n"
     ]
    },
    {
     "name": "stdout",
     "output_type": "stream",
     "text": [
      "Model: \"sequential_178\"\n",
      "_________________________________________________________________\n",
      "Layer (type)                 Output Shape              Param #   \n",
      "=================================================================\n",
      "embedding_178 (Embedding)    (None, 100, 20)           2600      \n",
      "_________________________________________________________________\n",
      "flatten_178 (Flatten)        (None, 2000)              0         \n",
      "_________________________________________________________________\n",
      "dense_344 (Dense)            (None, 1)                 2001      \n",
      "_________________________________________________________________\n",
      "dense_345 (Dense)            (None, 1)                 2         \n",
      "=================================================================\n",
      "Total params: 4,603\n",
      "Trainable params: 4,603\n",
      "Non-trainable params: 0\n",
      "_________________________________________________________________\n",
      "None\n"
     ]
    },
    {
     "name": "stderr",
     "output_type": "stream",
     "text": [
      "C:\\Users\\33777\\Anaconda3\\lib\\site-packages\\tensorflow_core\\python\\framework\\indexed_slices.py:424: UserWarning: Converting sparse IndexedSlices to a dense Tensor of unknown shape. This may consume a large amount of memory.\n",
      "  \"Converting sparse IndexedSlices to a dense Tensor of unknown shape. \"\n"
     ]
    },
    {
     "name": "stdout",
     "output_type": "stream",
     "text": [
      "Model: \"sequential_179\"\n",
      "_________________________________________________________________\n",
      "Layer (type)                 Output Shape              Param #   \n",
      "=================================================================\n",
      "embedding_179 (Embedding)    (None, 100, 20)           2600      \n",
      "_________________________________________________________________\n",
      "flatten_179 (Flatten)        (None, 2000)              0         \n",
      "_________________________________________________________________\n",
      "dense_346 (Dense)            (None, 1)                 2001      \n",
      "_________________________________________________________________\n",
      "dense_347 (Dense)            (None, 1)                 2         \n",
      "=================================================================\n",
      "Total params: 4,603\n",
      "Trainable params: 4,603\n",
      "Non-trainable params: 0\n",
      "_________________________________________________________________\n",
      "None\n"
     ]
    },
    {
     "name": "stderr",
     "output_type": "stream",
     "text": [
      "C:\\Users\\33777\\Anaconda3\\lib\\site-packages\\tensorflow_core\\python\\framework\\indexed_slices.py:424: UserWarning: Converting sparse IndexedSlices to a dense Tensor of unknown shape. This may consume a large amount of memory.\n",
      "  \"Converting sparse IndexedSlices to a dense Tensor of unknown shape. \"\n"
     ]
    },
    {
     "name": "stdout",
     "output_type": "stream",
     "text": [
      "Model: \"sequential_180\"\n",
      "_________________________________________________________________\n",
      "Layer (type)                 Output Shape              Param #   \n",
      "=================================================================\n",
      "embedding_180 (Embedding)    (None, 100, 20)           2600      \n",
      "_________________________________________________________________\n",
      "flatten_180 (Flatten)        (None, 2000)              0         \n",
      "_________________________________________________________________\n",
      "dense_348 (Dense)            (None, 1)                 2001      \n",
      "_________________________________________________________________\n",
      "dense_349 (Dense)            (None, 1)                 2         \n",
      "=================================================================\n",
      "Total params: 4,603\n",
      "Trainable params: 4,603\n",
      "Non-trainable params: 0\n",
      "_________________________________________________________________\n",
      "None\n"
     ]
    },
    {
     "name": "stderr",
     "output_type": "stream",
     "text": [
      "C:\\Users\\33777\\Anaconda3\\lib\\site-packages\\tensorflow_core\\python\\framework\\indexed_slices.py:424: UserWarning: Converting sparse IndexedSlices to a dense Tensor of unknown shape. This may consume a large amount of memory.\n",
      "  \"Converting sparse IndexedSlices to a dense Tensor of unknown shape. \"\n"
     ]
    },
    {
     "name": "stdout",
     "output_type": "stream",
     "text": [
      "Model: \"sequential_181\"\n",
      "_________________________________________________________________\n",
      "Layer (type)                 Output Shape              Param #   \n",
      "=================================================================\n",
      "embedding_181 (Embedding)    (None, 100, 20)           2600      \n",
      "_________________________________________________________________\n",
      "flatten_181 (Flatten)        (None, 2000)              0         \n",
      "_________________________________________________________________\n",
      "dense_350 (Dense)            (None, 1)                 2001      \n",
      "_________________________________________________________________\n",
      "dense_351 (Dense)            (None, 1)                 2         \n",
      "=================================================================\n",
      "Total params: 4,603\n",
      "Trainable params: 4,603\n",
      "Non-trainable params: 0\n",
      "_________________________________________________________________\n",
      "None\n"
     ]
    },
    {
     "name": "stderr",
     "output_type": "stream",
     "text": [
      "C:\\Users\\33777\\Anaconda3\\lib\\site-packages\\tensorflow_core\\python\\framework\\indexed_slices.py:424: UserWarning: Converting sparse IndexedSlices to a dense Tensor of unknown shape. This may consume a large amount of memory.\n",
      "  \"Converting sparse IndexedSlices to a dense Tensor of unknown shape. \"\n"
     ]
    },
    {
     "name": "stdout",
     "output_type": "stream",
     "text": [
      "Model: \"sequential_182\"\n",
      "_________________________________________________________________\n",
      "Layer (type)                 Output Shape              Param #   \n",
      "=================================================================\n",
      "embedding_182 (Embedding)    (None, 100, 20)           2600      \n",
      "_________________________________________________________________\n",
      "flatten_182 (Flatten)        (None, 2000)              0         \n",
      "_________________________________________________________________\n",
      "dense_352 (Dense)            (None, 1)                 2001      \n",
      "_________________________________________________________________\n",
      "dense_353 (Dense)            (None, 1)                 2         \n",
      "=================================================================\n",
      "Total params: 4,603\n",
      "Trainable params: 4,603\n",
      "Non-trainable params: 0\n",
      "_________________________________________________________________\n",
      "None\n"
     ]
    }
   ],
   "source": [
    "import json\n",
    "import pandas as pd\n",
    "\n",
    "epochs=10\n",
    "batch_size=None\n",
    "perfs = {}\n",
    "perfs[\"epochs\"] = epochs\n",
    "perfs[\"batch_size\"] = batch_size\n",
    "perfs[\"number_files_used\"] = 12\n",
    "dropout = {}\n",
    "\n",
    "function_list = get_combinations(keras_bitcoin.available_activation_functions)\n",
    "#function_list = keras_bitcoin.available_activation_functions\n",
    "#function_list = [[\"softplus\", \"relu\", \"exponential\", \"softmax\"]]\n",
    "for function in function_list:\n",
    "    \n",
    "    if not isinstance(function, list):\n",
    "        function = [function]\n",
    "    else :\n",
    "        function = list(function)\n",
    "        dropout[function[0]] = 0.1\n",
    "        #dropout[function[2]] = 0.1\n",
    "    model = keras_bitcoin.get_model(texts_train, labels_train, vocab_length, max_sentence_size, epochs=epochs, batch_size=batch_size, activations_functions=function, verbose = 0)\n",
    "    loss, accuracy = model.evaluate(texts_test, labels_test, verbose=0)\n",
    "    perfs[\"_\".join(function)] = [accuracy]\n",
    "#with open(f\"./keras_stats/ep={epochs}_bats={batch_size}.json\", \"w\") as fp:\n",
    "#    json.dump(perfs, fp)"
   ]
  },
  {
   "cell_type": "code",
   "execution_count": 31,
   "metadata": {},
   "outputs": [
    {
     "data": {
      "text/plain": [
       "{'epochs': 10,\n",
       " 'batch_size': None,\n",
       " 'number_files_used': 12,\n",
       " 'tanh_elu': [1.0],\n",
       " 'tanh_softmax': [0.6521106362342834],\n",
       " 'tanh_selu': [1.0],\n",
       " 'tanh_softplus': [1.0],\n",
       " 'tanh_softsign': [0.34788936376571655],\n",
       " 'tanh_relu': [0.34788936376571655],\n",
       " 'tanh_sigmoid': [1.0],\n",
       " 'tanh_hard_sigmoid': [1.0],\n",
       " 'tanh_exponential': [0.7918485999107361],\n",
       " 'tanh_linear': [1.0],\n",
       " 'elu_softmax': [0.6521106362342834],\n",
       " 'elu_selu': [1.0],\n",
       " 'elu_softplus': [1.0],\n",
       " 'elu_softsign': [0.9985443949699402],\n",
       " 'elu_relu': [1.0],\n",
       " 'elu_sigmoid': [1.0],\n",
       " 'elu_hard_sigmoid': [1.0],\n",
       " 'elu_exponential': [0.45414847135543823],\n",
       " 'elu_linear': [0.34788936376571655],\n",
       " 'softmax_selu': [0.0],\n",
       " 'softmax_softplus': [0.6521106362342834],\n",
       " 'softmax_softsign': [0.0],\n",
       " 'softmax_relu': [0.0],\n",
       " 'softmax_sigmoid': [0.6521106362342834],\n",
       " 'softmax_hard_sigmoid': [0.6521106362342834],\n",
       " 'softmax_exponential': [0.6521106362342834],\n",
       " 'softmax_linear': [0.6521106362342834],\n",
       " 'selu_softplus': [0.4497816562652588],\n",
       " 'selu_softsign': [0.6564774513244629],\n",
       " 'selu_relu': [1.0],\n",
       " 'selu_sigmoid': [1.0],\n",
       " 'selu_hard_sigmoid': [1.0],\n",
       " 'selu_exponential': [0.4628821015357971],\n",
       " 'selu_linear': [1.0],\n",
       " 'softplus_softsign': [0.34788936376571655],\n",
       " 'softplus_relu': [0.4890829622745514],\n",
       " 'softplus_sigmoid': [1.0],\n",
       " 'softplus_hard_sigmoid': [1.0],\n",
       " 'softplus_exponential': [1.0],\n",
       " 'softplus_linear': [0.0],\n",
       " 'softsign_relu': [1.0],\n",
       " 'softsign_sigmoid': [1.0],\n",
       " 'softsign_hard_sigmoid': [1.0],\n",
       " 'softsign_exponential': [1.0],\n",
       " 'softsign_linear': [1.0],\n",
       " 'relu_sigmoid': [1.0],\n",
       " 'relu_hard_sigmoid': [1.0],\n",
       " 'relu_exponential': [1.0],\n",
       " 'relu_linear': [0.34788936376571655],\n",
       " 'sigmoid_hard_sigmoid': [0.6521106362342834],\n",
       " 'sigmoid_exponential': [0.6521106362342834],\n",
       " 'sigmoid_linear': [0.34788936376571655],\n",
       " 'hard_sigmoid_exponential': [0.0],\n",
       " 'hard_sigmoid_linear': [1.0],\n",
       " 'exponential_linear': [0.4002911150455475]}"
      ]
     },
     "execution_count": 31,
     "metadata": {},
     "output_type": "execute_result"
    }
   ],
   "source": [
    "perfs"
   ]
  },
  {
   "cell_type": "code",
   "execution_count": 107,
   "metadata": {
    "scrolled": true
   },
   "outputs": [
    {
     "name": "stdout",
     "output_type": "stream",
     "text": [
      "        function       min       max       avg\n",
      "0           tanh  0.000000  0.619942  0.382144\n",
      "1            elu  0.000000  0.589487  0.054955\n",
      "2        softmax  0.617438  0.617438  0.449046\n",
      "3           selu  0.000000  0.622862  0.267266\n",
      "4       softplus  0.415102  0.624948  0.409944\n",
      "5       softsign  0.574885  0.617856  0.441006\n",
      "6           relu  0.000000  0.622028  0.161262\n",
      "7        sigmoid  0.600334  0.626617  0.445102\n",
      "8   hard_sigmoid  0.592407  0.619942  0.445102\n",
      "9    exponential  0.000000  0.624531  0.320514\n",
      "10        linear  0.000000  0.618273  0.208367\n"
     ]
    }
   ],
   "source": [
    "import os\n",
    "import pandas as pd\n",
    "\n",
    "directory = \"./keras_stats/\"\n",
    "dicts = []\n",
    "for file in os.listdir(directory):\n",
    "    f = open(f'{directory}{file}')\n",
    "    dicts.append(json.load(f))\n",
    "\n",
    "functions = keras_bitcoin.available_activation_functions\n",
    "\n",
    "perfs_stats = {\"function\" : [], \"min\" : [], \"max\" : [], \"avg\" : []}\n",
    "for function in functions:\n",
    "    sum_perfs = 0\n",
    "    min_perfs = 1\n",
    "    max_perfs = -1\n",
    "    for dct in dicts:\n",
    "        value = dct[function]\n",
    "        sum_perfs += value\n",
    "        if value > max_perfs:\n",
    "            max_perfs = value\n",
    "        if value < min_perfs:\n",
    "            min_perfs = value\n",
    "    perfs_stats[\"function\"].append(function)\n",
    "    perfs_stats[\"avg\"].append(sum_perfs / len(functions))\n",
    "    perfs_stats[\"max\"].append(max_perfs)\n",
    "    perfs_stats[\"min\"].append(min_perfs)\n",
    "\n",
    "print(pd.DataFrame(perfs_stats))\n",
    "#softmax softplus softsign sigmoid hard_sigmoid  "
   ]
  },
  {
   "cell_type": "code",
   "execution_count": 59,
   "metadata": {},
   "outputs": [],
   "source": [
    "functions = [\"softmax\", \"softplus\", \"softsign\", \"sigmoid\", \"hard_sigmoid\"]"
   ]
  },
  {
   "cell_type": "code",
   "execution_count": 40,
   "metadata": {},
   "outputs": [
    {
     "name": "stdout",
     "output_type": "stream",
     "text": [
      "acc :  0.8165938854217529\n"
     ]
    }
   ],
   "source": [
    "import json\n",
    "from IPython.display import clear_output\n",
    "\n",
    "epochs = 8\n",
    "batch_size = None\n",
    "perfs = {}\n",
    "perfs[\"number_files_used\"] = 12\n",
    "functions_list = [[\"tanh\",\"exponential\"]]\n",
    "dropout_value = 0.2\n",
    "for functions in functions_list:\n",
    "    functions = list(functions)\n",
    "    dropouts = {}\n",
    "    #dropouts[functions[0]] = 0.1\n",
    "    #dropouts[functions[1]] = 0.08\n",
    "    model = keras_bitcoin.get_model(texts_train = texts_train, labels_train = labels_train, vocab_length = vocab_length, max_sentence_size = max_sentence_size, epochs = epochs, \n",
    "    batch_size = batch_size, activations_functions = functions, verbose = 0, dropouts = dropouts)\n",
    "    loss, accuracy = model.evaluate(texts_test, labels_test, verbose=0)\n",
    "    #perfs[\"_\".join(functions)] = accuracy\n",
    "    clear_output()\n",
    "    print(\"acc : \", accuracy)\n"
   ]
  },
  {
   "cell_type": "code",
   "execution_count": 96,
   "metadata": {},
   "outputs": [
    {
     "name": "stdout",
     "output_type": "stream",
     "text": [
      "Number Correct/Wrong Guess : 2938/448\n",
      "              Accuracy : 86.7690490253987\n",
      "Invalid sentences count 0\n",
      "Number Correct/Wrong Guess : 0/2560\n",
      "              Accuracy : 0.0\n",
      "Invalid sentences count 0\n",
      "Number Correct/Wrong Guess : 3020/1403\n",
      "              Accuracy : 68.27944833823197\n",
      "Invalid sentences count 0\n",
      "Number Correct/Wrong Guess : 1319/880\n",
      "              Accuracy : 59.9818099135971\n",
      "Invalid sentences count 0\n",
      "Number Correct/Wrong Guess : 853/1376\n",
      "              Accuracy : 38.26828174069089\n",
      "Invalid sentences count 0\n",
      "Number Correct/Wrong Guess : 1038/611\n",
      "              Accuracy : 62.94724075197089\n",
      "Invalid sentences count 0\n",
      "Number Correct/Wrong Guess : 693/574\n",
      "              Accuracy : 54.69613259668509\n",
      "Invalid sentences count 0\n",
      "Number Correct/Wrong Guess : 1418/332\n",
      "              Accuracy : 81.02857142857142\n",
      "Invalid sentences count 0\n",
      "Number Correct/Wrong Guess : 702/1022\n",
      "              Accuracy : 40.71925754060325\n",
      "Invalid sentences count 0\n",
      "Number Correct/Wrong Guess : 722/515\n",
      "              Accuracy : 58.36701697655619\n",
      "Invalid sentences count 2\n",
      "Number Correct/Wrong Guess : 194/956\n",
      "              Accuracy : 16.869565217391305\n",
      "Invalid sentences count 0\n",
      "Number Correct/Wrong Guess : 718/76\n",
      "              Accuracy : 90.42821158690177\n",
      "Invalid sentences count 0\n",
      "Number Correct/Wrong Guess : 3/478\n",
      "              Accuracy : 0.6237006237006237\n",
      "Invalid sentences count 0\n",
      "Number Correct/Wrong Guess : 714/228\n",
      "              Accuracy : 75.79617834394905\n",
      "Invalid sentences count 0\n",
      "Number Correct/Wrong Guess : 944/139\n",
      "              Accuracy : 87.16528162511543\n",
      "Invalid sentences count 0\n",
      "Number Correct/Wrong Guess : 247/346\n",
      "              Accuracy : 41.65261382799326\n",
      "Invalid sentences count 0\n",
      "Number Correct/Wrong Guess : 779/341\n",
      "              Accuracy : 69.55357142857143\n",
      "Invalid sentences count 0\n",
      "Number Correct/Wrong Guess : 477/153\n",
      "              Accuracy : 75.71428571428571\n",
      "Invalid sentences count 0\n",
      "Number Correct/Wrong Guess : 292/153\n",
      "              Accuracy : 65.61797752808988\n",
      "Invalid sentences count 0\n",
      "Number Correct/Wrong Guess : 1297/62\n",
      "              Accuracy : 95.43782192788815\n",
      "Invalid sentences count 0\n",
      "Number Correct/Wrong Guess : 211/448\n",
      "              Accuracy : 32.01820940819423\n",
      "Invalid sentences count 1\n",
      "Number Correct/Wrong Guess : 61/179\n",
      "              Accuracy : 25.416666666666664\n",
      "Invalid sentences count 0\n",
      "Number Correct/Wrong Guess : 274/752\n",
      "              Accuracy : 26.705653021442494\n",
      "Invalid sentences count 0\n",
      "Number Correct/Wrong Guess : 183/250\n",
      "              Accuracy : 42.263279445727484\n",
      "Invalid sentences count 0\n",
      "Number Correct/Wrong Guess : 892/362\n",
      "              Accuracy : 71.1323763955343\n",
      "Invalid sentences count 0\n",
      "Number Correct/Wrong Guess : 295/439\n",
      "              Accuracy : 40.19073569482289\n",
      "Invalid sentences count 0\n",
      "Number Correct/Wrong Guess : 396/99\n",
      "              Accuracy : 80.0\n",
      "Invalid sentences count 0\n",
      "Number Correct/Wrong Guess : 131/14\n",
      "              Accuracy : 90.3448275862069\n",
      "Invalid sentences count 0\n",
      "Number Correct/Wrong Guess : 154/114\n",
      "              Accuracy : 57.46268656716418\n",
      "Invalid sentences count 0\n",
      "Number Correct/Wrong Guess : 151/343\n",
      "              Accuracy : 30.5668016194332\n",
      "Invalid sentences count 0\n",
      "Number Correct/Wrong Guess : 332/227\n",
      "              Accuracy : 59.391771019677996\n",
      "Invalid sentences count 0\n",
      "Number Correct/Wrong Guess : 101/163\n",
      "              Accuracy : 38.25757575757576\n",
      "Invalid sentences count 0\n",
      "Number Correct/Wrong Guess : 304/11\n",
      "              Accuracy : 96.5079365079365\n",
      "Invalid sentences count 0\n",
      "Number Correct/Wrong Guess : 529/464\n",
      "              Accuracy : 53.272910372608266\n",
      "Invalid sentences count 0\n",
      "Number Correct/Wrong Guess : 7/139\n",
      "              Accuracy : 4.794520547945205\n",
      "Invalid sentences count 0\n",
      "Number Correct/Wrong Guess : 2/76\n",
      "              Accuracy : 2.564102564102564\n",
      "Invalid sentences count 0\n",
      "Number Correct/Wrong Guess : 42/271\n",
      "              Accuracy : 13.418530351437699\n",
      "Invalid sentences count 0\n",
      "Number Correct/Wrong Guess : 5/2\n",
      "              Accuracy : 71.42857142857143\n",
      "Invalid sentences count 0\n",
      "Number Correct/Wrong Guess : 5/231\n",
      "              Accuracy : 2.11864406779661\n",
      "Invalid sentences count 0\n",
      "Number Correct/Wrong Guess : 125/62\n",
      "              Accuracy : 66.84491978609626\n",
      "Invalid sentences count 0\n",
      "Number Correct/Wrong Guess : 8/204\n",
      "              Accuracy : 3.7735849056603774\n",
      "Invalid sentences count 0\n",
      "Number Correct/Wrong Guess : 10/158\n",
      "              Accuracy : 5.952380952380952\n",
      "Invalid sentences count 2\n",
      "Number Correct/Wrong Guess : 45/5\n",
      "              Accuracy : 90.0\n",
      "Invalid sentences count 0\n",
      "Number Correct/Wrong Guess : 313/66\n",
      "              Accuracy : 82.58575197889182\n",
      "Invalid sentences count 0\n",
      "Number Correct/Wrong Guess : 3/167\n",
      "              Accuracy : 1.7647058823529411\n",
      "Invalid sentences count 0\n",
      "Number Correct/Wrong Guess : 156/10\n",
      "              Accuracy : 93.97590361445783\n",
      "Invalid sentences count 0\n",
      "Number Correct/Wrong Guess : 22/46\n",
      "              Accuracy : 32.35294117647059\n",
      "Invalid sentences count 0\n",
      "Number Correct/Wrong Guess : 0/472\n",
      "              Accuracy : 0.0\n",
      "Invalid sentences count 0\n",
      "Number Correct/Wrong Guess : 106/1\n",
      "              Accuracy : 99.06542056074767\n",
      "Invalid sentences count 0\n",
      "Number Correct/Wrong Guess : 200/5\n",
      "              Accuracy : 97.5609756097561\n",
      "Invalid sentences count 0\n",
      "Number Correct/Wrong Guess : 2/18\n",
      "              Accuracy : 10.0\n",
      "Invalid sentences count 0\n",
      "Number Correct/Wrong Guess : 90/8\n",
      "              Accuracy : 91.83673469387756\n",
      "Invalid sentences count 0\n",
      "Number Correct/Wrong Guess : 338/90\n",
      "              Accuracy : 78.97196261682244\n",
      "Invalid sentences count 0\n",
      "Number Correct/Wrong Guess : 12/28\n",
      "              Accuracy : 30.0\n",
      "Invalid sentences count 0\n",
      "Number Correct/Wrong Guess : 118/2\n",
      "              Accuracy : 98.33333333333333\n",
      "Invalid sentences count 0\n",
      "Number Correct/Wrong Guess : 2/16\n",
      "              Accuracy : 11.11111111111111\n",
      "Invalid sentences count 0\n",
      "Number Correct/Wrong Guess : 6/158\n",
      "              Accuracy : 3.6585365853658534\n",
      "Invalid sentences count 0\n",
      "Number Correct/Wrong Guess : 41/10\n",
      "              Accuracy : 80.3921568627451\n",
      "Invalid sentences count 0\n",
      "Number Correct/Wrong Guess : 19/71\n",
      "              Accuracy : 21.11111111111111\n",
      "Invalid sentences count 0\n",
      "Number Correct/Wrong Guess : 57/2\n",
      "              Accuracy : 96.61016949152543\n",
      "Invalid sentences count 0\n",
      "Number Correct/Wrong Guess : 15/27\n",
      "              Accuracy : 35.714285714285715\n",
      "Invalid sentences count 0\n",
      "Number Correct/Wrong Guess : 212/5\n",
      "              Accuracy : 97.6958525345622\n",
      "Invalid sentences count 0\n",
      "Number Correct/Wrong Guess : 4/82\n",
      "              Accuracy : 4.651162790697675\n",
      "Invalid sentences count 0\n",
      "Number Correct/Wrong Guess : 6/51\n",
      "              Accuracy : 10.526315789473683\n",
      "Invalid sentences count 0\n",
      "Number Correct/Wrong Guess : 0/68\n",
      "              Accuracy : 0.0\n",
      "Invalid sentences count 0\n",
      "Number Correct/Wrong Guess : 8/98\n",
      "              Accuracy : 7.547169811320755\n",
      "Invalid sentences count 0\n",
      "Number Correct/Wrong Guess : 162/3\n",
      "              Accuracy : 98.18181818181819\n",
      "Invalid sentences count 0\n",
      "Number Correct/Wrong Guess : 94/3\n",
      "              Accuracy : 96.90721649484536\n",
      "Invalid sentences count 0\n"
     ]
    },
    {
     "ename": "ZeroDivisionError",
     "evalue": "division by zero",
     "output_type": "error",
     "traceback": [
      "\u001b[1;31m---------------------------------------------------------------------------\u001b[0m",
      "\u001b[1;31mZeroDivisionError\u001b[0m                         Traceback (most recent call last)",
      "\u001b[1;32m<ipython-input-96-eb2805cffdd4>\u001b[0m in \u001b[0;36m<module>\u001b[1;34m\u001b[0m\n\u001b[0;32m      5\u001b[0m     \u001b[0mdf_test\u001b[0m\u001b[1;33m[\u001b[0m\u001b[1;34m\"preds\"\u001b[0m\u001b[1;33m]\u001b[0m \u001b[1;33m=\u001b[0m \u001b[0mlist\u001b[0m\u001b[1;33m(\u001b[0m\u001b[0mmap\u001b[0m\u001b[1;33m(\u001b[0m\u001b[1;32mlambda\u001b[0m \u001b[0mx\u001b[0m \u001b[1;33m:\u001b[0m \u001b[0mint\u001b[0m\u001b[1;33m(\u001b[0m\u001b[0mx\u001b[0m\u001b[1;33m)\u001b[0m\u001b[1;33m,\u001b[0m \u001b[0mpreds\u001b[0m\u001b[1;33m)\u001b[0m\u001b[1;33m)\u001b[0m\u001b[1;33m\u001b[0m\u001b[1;33m\u001b[0m\u001b[0m\n\u001b[0;32m      6\u001b[0m     \u001b[0mdf_test\u001b[0m\u001b[1;33m[\u001b[0m\u001b[1;34m\"correct\"\u001b[0m\u001b[1;33m]\u001b[0m \u001b[1;33m=\u001b[0m \u001b[0mnp\u001b[0m\u001b[1;33m.\u001b[0m\u001b[0mequal\u001b[0m\u001b[1;33m(\u001b[0m\u001b[0mpreds\u001b[0m\u001b[1;33m,\u001b[0m \u001b[0mdf_test\u001b[0m\u001b[1;33m[\u001b[0m\u001b[1;34m\"label\"\u001b[0m\u001b[1;33m]\u001b[0m\u001b[1;33m)\u001b[0m\u001b[1;33m\u001b[0m\u001b[1;33m\u001b[0m\u001b[0m\n\u001b[1;32m----> 7\u001b[1;33m     \u001b[0mdataset\u001b[0m\u001b[1;33m.\u001b[0m\u001b[0mget_prediction_stats\u001b[0m\u001b[1;33m(\u001b[0m\u001b[0mdf_test\u001b[0m\u001b[1;33m)\u001b[0m\u001b[1;33m\u001b[0m\u001b[1;33m\u001b[0m\u001b[0m\n\u001b[0m\u001b[0;32m      8\u001b[0m     \u001b[0mlast_date\u001b[0m \u001b[1;33m=\u001b[0m \u001b[0mlist\u001b[0m\u001b[1;33m(\u001b[0m\u001b[0mdf_test\u001b[0m\u001b[1;33m[\u001b[0m\u001b[1;34m\"date\"\u001b[0m\u001b[1;33m]\u001b[0m\u001b[1;33m)\u001b[0m\u001b[1;33m[\u001b[0m\u001b[1;33m-\u001b[0m\u001b[1;36m1\u001b[0m\u001b[1;33m]\u001b[0m\u001b[1;33m\u001b[0m\u001b[1;33m\u001b[0m\u001b[0m\n",
      "\u001b[1;32m~\\Desktop\\ESILV\\A5\\FeelCrypt\\Valentin\\dataset.py\u001b[0m in \u001b[0;36mget_prediction_stats\u001b[1;34m(df_prediction)\u001b[0m\n\u001b[0;32m     67\u001b[0m \u001b[1;33m\u001b[0m\u001b[0m\n\u001b[0;32m     68\u001b[0m     print(f\"\"\"Number Correct/Wrong Guess : {correct_pred}/{wrong_pred}\n\u001b[1;32m---> 69\u001b[1;33m               Accuracy : {(correct_pred/(correct_pred + wrong_pred)) * 100}\"\"\" )\n\u001b[0m\u001b[0;32m     70\u001b[0m     \u001b[0mprint\u001b[0m\u001b[1;33m(\u001b[0m\u001b[1;34m\"Invalid sentences count\"\u001b[0m\u001b[1;33m,\u001b[0m \u001b[0mcollections\u001b[0m\u001b[1;33m.\u001b[0m\u001b[0mCounter\u001b[0m\u001b[1;33m(\u001b[0m\u001b[0mdf_prediction\u001b[0m\u001b[1;33m[\u001b[0m\u001b[1;34m\"preds\"\u001b[0m\u001b[1;33m]\u001b[0m\u001b[1;33m)\u001b[0m\u001b[1;33m[\u001b[0m\u001b[1;33m-\u001b[0m\u001b[1;36m1\u001b[0m\u001b[1;33m]\u001b[0m\u001b[1;33m)\u001b[0m\u001b[1;33m\u001b[0m\u001b[1;33m\u001b[0m\u001b[0m\n\u001b[0;32m     71\u001b[0m \u001b[1;33m\u001b[0m\u001b[0m\n",
      "\u001b[1;31mZeroDivisionError\u001b[0m: division by zero"
     ]
    }
   ],
   "source": [
    "last_date = \"2010-10-11\"\n",
    "for i in range(200):\n",
    "    df_test = dataset.get_labeled_dataset(number_of_file = 5, from_date = last_date, date_included = False)\n",
    "    preds = keras_bitcoin.get_predictions(list(df_test[\"text\"]), model, vocab_length, max_sentence_size)\n",
    "    df_test[\"preds\"] = list(map(lambda x : int(x), preds))\n",
    "    df_test[\"correct\"] = np.equal(preds, df_test[\"label\"])\n",
    "    #dataset.get_prediction_stats(df_test)\n",
    "    last_date = list(df_test[\"date\"])[-1]"
   ]
  },
  {
   "cell_type": "code",
   "execution_count": null,
   "metadata": {},
   "outputs": [],
   "source": [
    " functions = [\"softmax\", \"softplus\", \"softsign\", \"sigmoid\", \"hard_sigmoid\"]\n",
    "[[\"softplus\", \"sigmoid\"], [\"softsign\", \"sigmoid\"], [\"softsign\", \"hard_sigmoid\"], [\"sigmoid\", \"hard_sigmoid\"]]"
   ]
  },
  {
   "cell_type": "code",
   "execution_count": 7,
   "metadata": {},
   "outputs": [
    {
     "name": "stdout",
     "output_type": "stream",
     "text": [
      "3431/3431\n"
     ]
    }
   ],
   "source": [
    "df_idf = tfidf.get_tfidf_words(df, 100)"
   ]
  },
  {
   "cell_type": "code",
   "execution_count": 8,
   "metadata": {},
   "outputs": [
    {
     "data": {
      "text/html": [
       "<div>\n",
       "<style scoped>\n",
       "    .dataframe tbody tr th:only-of-type {\n",
       "        vertical-align: middle;\n",
       "    }\n",
       "\n",
       "    .dataframe tbody tr th {\n",
       "        vertical-align: top;\n",
       "    }\n",
       "\n",
       "    .dataframe thead th {\n",
       "        text-align: right;\n",
       "    }\n",
       "</style>\n",
       "<table border=\"1\" class=\"dataframe\">\n",
       "  <thead>\n",
       "    <tr style=\"text-align: right;\">\n",
       "      <th></th>\n",
       "      <th>text</th>\n",
       "      <th>label</th>\n",
       "      <th>date</th>\n",
       "      <th>score</th>\n",
       "      <th>nb_replies</th>\n",
       "      <th>stickied</th>\n",
       "      <th>tfidf</th>\n",
       "    </tr>\n",
       "  </thead>\n",
       "  <tbody>\n",
       "    <tr>\n",
       "      <th>0</th>\n",
       "      <td>might factual said firework sound wor explo te...</td>\n",
       "      <td>0</td>\n",
       "      <td>2015-12-16</td>\n",
       "      <td>-4</td>\n",
       "      <td>0</td>\n",
       "      <td>False</td>\n",
       "      <td>actual ad agr also back believ bitcoin block b...</td>\n",
       "    </tr>\n",
       "    <tr>\n",
       "      <th>1</th>\n",
       "      <td>opinion reddit built filter unpopular opinion ...</td>\n",
       "      <td>0</td>\n",
       "      <td>2015-12-16</td>\n",
       "      <td>15</td>\n",
       "      <td>0</td>\n",
       "      <td>False</td>\n",
       "      <td>actual ad agr also back believ bitcoin block b...</td>\n",
       "    </tr>\n",
       "    <tr>\n",
       "      <th>2</th>\n",
       "      <td>ind impress thin skin mod seem</td>\n",
       "      <td>0</td>\n",
       "      <td>2015-12-16</td>\n",
       "      <td>1</td>\n",
       "      <td>0</td>\n",
       "      <td>False</td>\n",
       "      <td>actual ad agr also back believ bitcoin block b...</td>\n",
       "    </tr>\n",
       "    <tr>\n",
       "      <th>3</th>\n",
       "      <td>welcom reddit u coloco odd account attack thro...</td>\n",
       "      <td>0</td>\n",
       "      <td>2015-12-16</td>\n",
       "      <td>1</td>\n",
       "      <td>1</td>\n",
       "      <td>False</td>\n",
       "      <td>actual ad agr also back believ bitcoin block b...</td>\n",
       "    </tr>\n",
       "    <tr>\n",
       "      <th>4</th>\n",
       "      <td>roger intent probabl hope pure untru made plen...</td>\n",
       "      <td>0</td>\n",
       "      <td>2015-12-16</td>\n",
       "      <td>3</td>\n",
       "      <td>0</td>\n",
       "      <td>False</td>\n",
       "      <td>actual ad agr also back believ bitcoin block b...</td>\n",
       "    </tr>\n",
       "  </tbody>\n",
       "</table>\n",
       "</div>"
      ],
      "text/plain": [
       "                                                text  label        date score  \\\n",
       "0  might factual said firework sound wor explo te...      0  2015-12-16    -4   \n",
       "1  opinion reddit built filter unpopular opinion ...      0  2015-12-16    15   \n",
       "2                     ind impress thin skin mod seem      0  2015-12-16     1   \n",
       "3  welcom reddit u coloco odd account attack thro...      0  2015-12-16     1   \n",
       "4  roger intent probabl hope pure untru made plen...      0  2015-12-16     3   \n",
       "\n",
       "  nb_replies stickied                                              tfidf  \n",
       "0          0    False  actual ad agr also back believ bitcoin block b...  \n",
       "1          0    False  actual ad agr also back believ bitcoin block b...  \n",
       "2          0    False  actual ad agr also back believ bitcoin block b...  \n",
       "3          1    False  actual ad agr also back believ bitcoin block b...  \n",
       "4          0    False  actual ad agr also back believ bitcoin block b...  "
      ]
     },
     "execution_count": 8,
     "metadata": {},
     "output_type": "execute_result"
    }
   ],
   "source": [
    "df_idf[\"tfidf\"] = [\" \".join(text) for text in df_idf[\"tfidf\"]]\n",
    "df_idf.head()"
   ]
  },
  {
   "cell_type": "code",
   "execution_count": 9,
   "metadata": {},
   "outputs": [],
   "source": [
    "texts = df_idf[\"tfidf\"]\n",
    "labels = df_idf[\"label\"]\n",
    "texts_train, texts_test , labels_train, labels_test, vocab_length, max_sentence_size = keras_bitcoin.get_train_test_data(texts, labels)"
   ]
  },
  {
   "cell_type": "code",
   "execution_count": 4,
   "metadata": {},
   "outputs": [
    {
     "ename": "NameError",
     "evalue": "name 'texts_train' is not defined",
     "output_type": "error",
     "traceback": [
      "\u001b[1;31m---------------------------------------------------------------------------\u001b[0m",
      "\u001b[1;31mNameError\u001b[0m                                 Traceback (most recent call last)",
      "\u001b[1;32m<ipython-input-4-4cea9de28ca6>\u001b[0m in \u001b[0;36m<module>\u001b[1;34m\u001b[0m\n\u001b[0;32m      2\u001b[0m \u001b[0mbatch_size\u001b[0m\u001b[1;33m=\u001b[0m\u001b[1;32mNone\u001b[0m\u001b[1;33m\u001b[0m\u001b[1;33m\u001b[0m\u001b[0m\n\u001b[0;32m      3\u001b[0m \u001b[0mactivations_functions\u001b[0m\u001b[1;33m=\u001b[0m\u001b[1;33m[\u001b[0m\u001b[1;34m\"softplus\"\u001b[0m\u001b[1;33m,\u001b[0m \u001b[1;34m\"sigmoid\"\u001b[0m\u001b[1;33m]\u001b[0m\u001b[1;33m\u001b[0m\u001b[1;33m\u001b[0m\u001b[0m\n\u001b[1;32m----> 4\u001b[1;33m \u001b[0mmodel\u001b[0m \u001b[1;33m=\u001b[0m \u001b[0mkeras_bitcoin\u001b[0m\u001b[1;33m.\u001b[0m\u001b[0mget_model\u001b[0m\u001b[1;33m(\u001b[0m\u001b[0mtexts_train\u001b[0m\u001b[1;33m,\u001b[0m \u001b[0mlabels_train\u001b[0m\u001b[1;33m,\u001b[0m \u001b[0mvocab_length\u001b[0m\u001b[1;33m,\u001b[0m \u001b[0mmax_sentence_size\u001b[0m\u001b[1;33m,\u001b[0m \u001b[0mepochs\u001b[0m\u001b[1;33m=\u001b[0m\u001b[0mepochs\u001b[0m\u001b[1;33m,\u001b[0m \u001b[0mbatch_size\u001b[0m\u001b[1;33m=\u001b[0m\u001b[0mbatch_size\u001b[0m\u001b[1;33m,\u001b[0m \u001b[0mactivations_functions\u001b[0m\u001b[1;33m=\u001b[0m\u001b[0mactivations_functions\u001b[0m\u001b[1;33m,\u001b[0m \u001b[0mverbose\u001b[0m\u001b[1;33m=\u001b[0m\u001b[1;36m0\u001b[0m\u001b[1;33m)\u001b[0m\u001b[1;33m\u001b[0m\u001b[1;33m\u001b[0m\u001b[0m\n\u001b[0m",
      "\u001b[1;31mNameError\u001b[0m: name 'texts_train' is not defined"
     ]
    }
   ],
   "source": [
    "epochs=5\n",
    "batch_size=None\n",
    "activations_functions=[\"sigmoid\", \"softsign\"]\n",
    "model = keras_bitcoin.get_model(texts_train, labels_train, vocab_length, max_sentence_size, epochs=epochs, batch_size=batch_size, activations_functions=activations_functions, verbose=0)"
   ]
  },
  {
   "cell_type": "code",
   "execution_count": 21,
   "metadata": {},
   "outputs": [
    {
     "name": "stdout",
     "output_type": "stream",
     "text": [
      "687/687 [==============================] - 0s 144us/step\n",
      "Accuracy: 100.000000\n"
     ]
    }
   ],
   "source": [
    "loss, accuracy = model.evaluate(texts_test, labels_test, verbose=1)\n",
    "print('Accuracy: %f' % (accuracy*100))"
   ]
  },
  {
   "cell_type": "code",
   "execution_count": null,
   "metadata": {},
   "outputs": [],
   "source": []
  }
 ],
 "metadata": {
  "kernelspec": {
   "display_name": "Python 3",
   "language": "python",
   "name": "python3"
  },
  "language_info": {
   "codemirror_mode": {
    "name": "ipython",
    "version": 3
   },
   "file_extension": ".py",
   "mimetype": "text/x-python",
   "name": "python",
   "nbconvert_exporter": "python",
   "pygments_lexer": "ipython3",
   "version": "3.7.3"
  }
 },
 "nbformat": 4,
 "nbformat_minor": 2
}
