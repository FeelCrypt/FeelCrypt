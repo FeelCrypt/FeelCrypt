{
 "cells": [
  {
   "cell_type": "markdown",
   "metadata": {},
   "source": [
    "### Import modules"
   ]
  },
  {
   "cell_type": "code",
   "execution_count": 1,
   "metadata": {},
   "outputs": [
    {
     "name": "stderr",
     "output_type": "stream",
     "text": [
      "Using TensorFlow backend.\n"
     ]
    }
   ],
   "source": [
    "import keras_bitcoin\n",
    "import dataset\n",
    "import collections\n",
    "import numpy as np"
   ]
  },
  {
   "cell_type": "markdown",
   "metadata": {},
   "source": [
    "### Create Train/Test Dataset"
   ]
  },
  {
   "cell_type": "code",
   "execution_count": 48,
   "metadata": {},
   "outputs": [
    {
     "name": "stdout",
     "output_type": "stream",
     "text": [
      "(11983, 3)\n",
      "Counter({1: 7392, 0: 4591})\n"
     ]
    }
   ],
   "source": [
    "df = dataset.get_labeled_dataset(number_of_file=12, from_date=\"2016-09-01\")\n",
    "print(df.shape)\n",
    "print(collections.Counter(df[\"label\"]))"
   ]
  },
  {
   "cell_type": "markdown",
   "metadata": {},
   "source": [
    "### Format Dataset"
   ]
  },
  {
   "cell_type": "code",
   "execution_count": 49,
   "metadata": {},
   "outputs": [],
   "source": [
    "texts = df[\"text\"]\n",
    "labels = df[\"label\"]\n",
    "texts_train, texts_test , labels_train, labels_test, vocab_length, max_sentence_size = keras_bitcoin.get_train_test_data(texts, labels)"
   ]
  },
  {
   "cell_type": "markdown",
   "metadata": {},
   "source": [
    "### Set Model Params"
   ]
  },
  {
   "cell_type": "code",
   "execution_count": 11,
   "metadata": {},
   "outputs": [
    {
     "data": {
      "text/plain": [
       "['tanh',\n",
       " 'elu',\n",
       " 'softmax',\n",
       " 'selu',\n",
       " 'softplus',\n",
       " 'softsign',\n",
       " 'relu',\n",
       " 'sigmoid',\n",
       " 'hard_sigmoid',\n",
       " 'exponential',\n",
       " 'linear']"
      ]
     },
     "execution_count": 11,
     "metadata": {},
     "output_type": "execute_result"
    }
   ],
   "source": [
    "keras_bitcoin.available_activation_functions"
   ]
  },
  {
   "cell_type": "code",
   "execution_count": 90,
   "metadata": {},
   "outputs": [],
   "source": [
    "#ignore output\n",
    "#bad result alone : relu, elu\n",
    "#good result alone : sigmoid\n",
    "#ep = 15, batch = 100 +  sig + relu + tanh = 0.32\n",
    "#ep = 15, batch = 100 +  sig + tanh        = 0.67\n",
    "#ep = 15, batch = 100 + tanh + sig         = 0.67\n",
    "epochs=5\n",
    "batch_size=None\n",
    "activations_functions=[\"sigmoid\"]"
   ]
  },
  {
   "cell_type": "markdown",
   "metadata": {},
   "source": [
    "### Train Mode"
   ]
  },
  {
   "cell_type": "code",
   "execution_count": 91,
   "metadata": {},
   "outputs": [
    {
     "name": "stderr",
     "output_type": "stream",
     "text": [
      "C:\\Users\\33777\\Anaconda3\\lib\\site-packages\\tensorflow_core\\python\\framework\\indexed_slices.py:424: UserWarning: Converting sparse IndexedSlices to a dense Tensor of unknown shape. This may consume a large amount of memory.\n",
      "  \"Converting sparse IndexedSlices to a dense Tensor of unknown shape. \"\n"
     ]
    },
    {
     "name": "stdout",
     "output_type": "stream",
     "text": [
      "Epoch 1/5\n",
      "9586/9586 [==============================] - 5s 553us/step - loss: 0.6670 - acc: 0.6153\n",
      "Epoch 2/5\n",
      "9586/9586 [==============================] - 5s 507us/step - loss: 0.6254 - acc: 0.6305\n",
      "Epoch 3/5\n",
      "9586/9586 [==============================] - 5s 507us/step - loss: 0.5021 - acc: 0.7818\n",
      "Epoch 4/5\n",
      "9586/9586 [==============================] - 5s 514us/step - loss: 0.3673 - acc: 0.8783\n",
      "Epoch 5/5\n",
      "9586/9586 [==============================] - 5s 509us/step - loss: 0.2670 - acc: 0.9244\n",
      "Model: \"sequential_95\"\n",
      "_________________________________________________________________\n",
      "Layer (type)                 Output Shape              Param #   \n",
      "=================================================================\n",
      "embedding_95 (Embedding)     (None, 1116, 20)          463600    \n",
      "_________________________________________________________________\n",
      "flatten_95 (Flatten)         (None, 22320)             0         \n",
      "_________________________________________________________________\n",
      "dense_100 (Dense)            (None, 1)                 22321     \n",
      "=================================================================\n",
      "Total params: 485,921\n",
      "Trainable params: 485,921\n",
      "Non-trainable params: 0\n",
      "_________________________________________________________________\n",
      "None\n"
     ]
    }
   ],
   "source": [
    "model = keras_bitcoin.get_model(texts_train, labels_train, vocab_length, max_sentence_size, epochs=epochs, batch_size=batch_size, activations_functions=activations_functions)"
   ]
  },
  {
   "cell_type": "markdown",
   "metadata": {},
   "source": [
    "###  Model Evaluation"
   ]
  },
  {
   "cell_type": "code",
   "execution_count": 86,
   "metadata": {},
   "outputs": [
    {
     "name": "stdout",
     "output_type": "stream",
     "text": [
      "2397/2397 [==============================] - 1s 217us/step\n",
      "Accuracy: 62.161034\n"
     ]
    }
   ],
   "source": [
    "loss, accuracy = model.evaluate(texts_test, labels_test, verbose=1)\n",
    "print('Accuracy: %f' % (accuracy*100))"
   ]
  },
  {
   "cell_type": "markdown",
   "metadata": {},
   "source": [
    "###  Get Predictions"
   ]
  },
  {
   "cell_type": "code",
   "execution_count": 30,
   "metadata": {},
   "outputs": [
    {
     "data": {
      "text/html": [
       "<div>\n",
       "<style scoped>\n",
       "    .dataframe tbody tr th:only-of-type {\n",
       "        vertical-align: middle;\n",
       "    }\n",
       "\n",
       "    .dataframe tbody tr th {\n",
       "        vertical-align: top;\n",
       "    }\n",
       "\n",
       "    .dataframe thead th {\n",
       "        text-align: right;\n",
       "    }\n",
       "</style>\n",
       "<table border=\"1\" class=\"dataframe\">\n",
       "  <thead>\n",
       "    <tr style=\"text-align: right;\">\n",
       "      <th></th>\n",
       "      <th>text</th>\n",
       "      <th>label</th>\n",
       "      <th>date</th>\n",
       "    </tr>\n",
       "  </thead>\n",
       "  <tbody>\n",
       "    <tr>\n",
       "      <th>0</th>\n",
       "      <td>Sorry to hijack... just two comments\\r\\n\\r\\n&gt;W...</td>\n",
       "      <td>1</td>\n",
       "      <td>2017-11-25</td>\n",
       "    </tr>\n",
       "    <tr>\n",
       "      <th>1</th>\n",
       "      <td>Whooaaaaa this shit is crazy! Great investigat...</td>\n",
       "      <td>1</td>\n",
       "      <td>2017-11-25</td>\n",
       "    </tr>\n",
       "  </tbody>\n",
       "</table>\n",
       "</div>"
      ],
      "text/plain": [
       "                                                text  label        date\n",
       "0  Sorry to hijack... just two comments\\r\\n\\r\\n>W...      1  2017-11-25\n",
       "1  Whooaaaaa this shit is crazy! Great investigat...      1  2017-11-25"
      ]
     },
     "execution_count": 30,
     "metadata": {},
     "output_type": "execute_result"
    }
   ],
   "source": [
    "df_test = dataset.get_labeled_dataset(number_of_file = 5, from_date = list(df[\"date\"])[-1], date_included = False)\n",
    "df_test.head(2)"
   ]
  },
  {
   "cell_type": "code",
   "execution_count": 39,
   "metadata": {},
   "outputs": [],
   "source": [
    "preds = keras_bitcoin.get_predictions(list(df_test[\"text\"]), model, vocab_length, max_sentence_size)\n",
    "df_test[\"preds\"] = list(map(lambda x : int(x), preds))\n",
    "df_test[\"correct\"] = np.equal(preds, df_test[\"label\"])"
   ]
  },
  {
   "cell_type": "markdown",
   "metadata": {},
   "source": [
    "### Predictions Stats"
   ]
  },
  {
   "cell_type": "code",
   "execution_count": 40,
   "metadata": {},
   "outputs": [
    {
     "name": "stdout",
     "output_type": "stream",
     "text": [
      "Number Correct/Wrong Guess : 0/3272\n",
      "              Accuracy : 0.0\n",
      "Invalid sentences count 0\n"
     ]
    }
   ],
   "source": [
    "dataset.get_prediction_stats(df_test)"
   ]
  },
  {
   "cell_type": "markdown",
   "metadata": {},
   "source": [
    "### Find best settings"
   ]
  },
  {
   "cell_type": "code",
   "execution_count": 92,
   "metadata": {},
   "outputs": [
    {
     "name": "stderr",
     "output_type": "stream",
     "text": [
      "C:\\Users\\33777\\Anaconda3\\lib\\site-packages\\tensorflow_core\\python\\framework\\indexed_slices.py:424: UserWarning: Converting sparse IndexedSlices to a dense Tensor of unknown shape. This may consume a large amount of memory.\n",
      "  \"Converting sparse IndexedSlices to a dense Tensor of unknown shape. \"\n"
     ]
    },
    {
     "name": "stdout",
     "output_type": "stream",
     "text": [
      "Epoch 1/5\n",
      "9586/9586 [==============================] - 5s 553us/step - loss: 9.5131 - acc: 0.0683\n",
      "Epoch 2/5\n",
      "9586/9586 [==============================] - 5s 520us/step - loss: 9.5131 - acc: 0.0000e+00\n",
      "Epoch 3/5\n",
      "9586/9586 [==============================] - 5s 510us/step - loss: 9.5131 - acc: 0.0000e+00\n",
      "Epoch 4/5\n",
      "9586/9586 [==============================] - 5s 511us/step - loss: 9.5131 - acc: 0.0000e+00\n",
      "Epoch 5/5\n",
      "9586/9586 [==============================] - 5s 517us/step - loss: 9.5131 - acc: 0.0000e+00\n",
      "Model: \"sequential_96\"\n",
      "_________________________________________________________________\n",
      "Layer (type)                 Output Shape              Param #   \n",
      "=================================================================\n",
      "embedding_96 (Embedding)     (None, 1116, 20)          463600    \n",
      "_________________________________________________________________\n",
      "flatten_96 (Flatten)         (None, 22320)             0         \n",
      "_________________________________________________________________\n",
      "dense_101 (Dense)            (None, 1)                 22321     \n",
      "=================================================================\n",
      "Total params: 485,921\n",
      "Trainable params: 485,921\n",
      "Non-trainable params: 0\n",
      "_________________________________________________________________\n",
      "None\n",
      "2397/2397 [==============================] - 0s 131us/step\n"
     ]
    },
    {
     "name": "stderr",
     "output_type": "stream",
     "text": [
      "C:\\Users\\33777\\Anaconda3\\lib\\site-packages\\tensorflow_core\\python\\framework\\indexed_slices.py:424: UserWarning: Converting sparse IndexedSlices to a dense Tensor of unknown shape. This may consume a large amount of memory.\n",
      "  \"Converting sparse IndexedSlices to a dense Tensor of unknown shape. \"\n"
     ]
    },
    {
     "name": "stdout",
     "output_type": "stream",
     "text": [
      "Epoch 1/5\n",
      "9586/9586 [==============================] - 5s 545us/step - loss: 0.8950 - acc: 0.5996\n",
      "Epoch 2/5\n",
      "9586/9586 [==============================] - 5s 501us/step - loss: 0.6331 - acc: 0.6264\n",
      "Epoch 3/5\n",
      "9586/9586 [==============================] - 5s 513us/step - loss: 0.4864 - acc: 0.7558\n",
      "Epoch 4/5\n",
      "9586/9586 [==============================] - 5s 504us/step - loss: 0.2744 - acc: 0.8965\n",
      "Epoch 5/5\n",
      "9586/9586 [==============================] - 5s 501us/step - loss: 0.1540 - acc: 0.8937\n",
      "Model: \"sequential_97\"\n",
      "_________________________________________________________________\n",
      "Layer (type)                 Output Shape              Param #   \n",
      "=================================================================\n",
      "embedding_97 (Embedding)     (None, 1116, 20)          463600    \n",
      "_________________________________________________________________\n",
      "flatten_97 (Flatten)         (None, 22320)             0         \n",
      "_________________________________________________________________\n",
      "dense_102 (Dense)            (None, 1)                 22321     \n",
      "=================================================================\n",
      "Total params: 485,921\n",
      "Trainable params: 485,921\n",
      "Non-trainable params: 0\n",
      "_________________________________________________________________\n",
      "None\n",
      "2397/2397 [==============================] - 0s 143us/step\n"
     ]
    },
    {
     "name": "stderr",
     "output_type": "stream",
     "text": [
      "C:\\Users\\33777\\Anaconda3\\lib\\site-packages\\tensorflow_core\\python\\framework\\indexed_slices.py:424: UserWarning: Converting sparse IndexedSlices to a dense Tensor of unknown shape. This may consume a large amount of memory.\n",
      "  \"Converting sparse IndexedSlices to a dense Tensor of unknown shape. \"\n"
     ]
    },
    {
     "name": "stdout",
     "output_type": "stream",
     "text": [
      "Epoch 1/5\n",
      "9586/9586 [==============================] - 6s 619us/step - loss: 5.8767 - acc: 0.6167\n",
      "Epoch 2/5\n",
      "9586/9586 [==============================] - 5s 536us/step - loss: 5.8767 - acc: 0.6167\n",
      "Epoch 3/5\n",
      "9586/9586 [==============================] - 5s 535us/step - loss: 5.8767 - acc: 0.6167\n",
      "Epoch 4/5\n",
      "9586/9586 [==============================] - 5s 568us/step - loss: 5.8767 - acc: 0.6167\n",
      "Epoch 5/5\n",
      "9586/9586 [==============================] - 6s 616us/step - loss: 5.8767 - acc: 0.6167\n",
      "Model: \"sequential_98\"\n",
      "_________________________________________________________________\n",
      "Layer (type)                 Output Shape              Param #   \n",
      "=================================================================\n",
      "embedding_98 (Embedding)     (None, 1116, 20)          463600    \n",
      "_________________________________________________________________\n",
      "flatten_98 (Flatten)         (None, 22320)             0         \n",
      "_________________________________________________________________\n",
      "dense_103 (Dense)            (None, 1)                 22321     \n",
      "=================================================================\n",
      "Total params: 485,921\n",
      "Trainable params: 485,921\n",
      "Non-trainable params: 0\n",
      "_________________________________________________________________\n",
      "None\n",
      "2397/2397 [==============================] - 0s 165us/step\n"
     ]
    },
    {
     "name": "stderr",
     "output_type": "stream",
     "text": [
      "C:\\Users\\33777\\Anaconda3\\lib\\site-packages\\tensorflow_core\\python\\framework\\indexed_slices.py:424: UserWarning: Converting sparse IndexedSlices to a dense Tensor of unknown shape. This may consume a large amount of memory.\n",
      "  \"Converting sparse IndexedSlices to a dense Tensor of unknown shape. \"\n"
     ]
    },
    {
     "name": "stdout",
     "output_type": "stream",
     "text": [
      "Epoch 1/5\n",
      "9586/9586 [==============================] - 6s 641us/step - loss: 4.0618 - acc: 0.2381\n",
      "Epoch 2/5\n",
      "9586/9586 [==============================] - 8s 787us/step - loss: 0.6397 - acc: 0.6295\n",
      "Epoch 3/5\n",
      "9586/9586 [==============================] - 6s 638us/step - loss: 0.4479 - acc: 0.7909\n",
      "Epoch 4/5\n",
      "9586/9586 [==============================] - 8s 818us/step - loss: 0.2561 - acc: 0.8548\n",
      "Epoch 5/5\n",
      "9586/9586 [==============================] - 8s 799us/step - loss: 0.1564 - acc: 0.8227\n",
      "Model: \"sequential_99\"\n",
      "_________________________________________________________________\n",
      "Layer (type)                 Output Shape              Param #   \n",
      "=================================================================\n",
      "embedding_99 (Embedding)     (None, 1116, 20)          463600    \n",
      "_________________________________________________________________\n",
      "flatten_99 (Flatten)         (None, 22320)             0         \n",
      "_________________________________________________________________\n",
      "dense_104 (Dense)            (None, 1)                 22321     \n",
      "=================================================================\n",
      "Total params: 485,921\n",
      "Trainable params: 485,921\n",
      "Non-trainable params: 0\n",
      "_________________________________________________________________\n",
      "None\n",
      "2397/2397 [==============================] - 0s 164us/step\n"
     ]
    },
    {
     "name": "stderr",
     "output_type": "stream",
     "text": [
      "C:\\Users\\33777\\Anaconda3\\lib\\site-packages\\tensorflow_core\\python\\framework\\indexed_slices.py:424: UserWarning: Converting sparse IndexedSlices to a dense Tensor of unknown shape. This may consume a large amount of memory.\n",
      "  \"Converting sparse IndexedSlices to a dense Tensor of unknown shape. \"\n"
     ]
    },
    {
     "name": "stdout",
     "output_type": "stream",
     "text": [
      "Epoch 1/5\n",
      "9586/9586 [==============================] - 8s 855us/step - loss: 0.6665 - acc: 0.6113\n",
      "Epoch 2/5\n",
      "9586/9586 [==============================] - 7s 780us/step - loss: 0.5951 - acc: 0.6408 0s - loss: 0.5968 - acc: - ETA: 0s - loss: 0.5950 - acc: 0.640\n",
      "Epoch 3/5\n",
      "9586/9586 [==============================] - 6s 606us/step - loss: 0.4298 - acc: 0.7688\n",
      "Epoch 4/5\n",
      "9586/9586 [==============================] - 5s 562us/step - loss: 0.3015 - acc: 0.8320\n",
      "Epoch 5/5\n",
      "9586/9586 [==============================] - 5s 521us/step - loss: 0.2204 - acc: 0.8314\n",
      "Model: \"sequential_100\"\n",
      "_________________________________________________________________\n",
      "Layer (type)                 Output Shape              Param #   \n",
      "=================================================================\n",
      "embedding_100 (Embedding)    (None, 1116, 20)          463600    \n",
      "_________________________________________________________________\n",
      "flatten_100 (Flatten)        (None, 22320)             0         \n",
      "_________________________________________________________________\n",
      "dense_105 (Dense)            (None, 1)                 22321     \n",
      "=================================================================\n",
      "Total params: 485,921\n",
      "Trainable params: 485,921\n",
      "Non-trainable params: 0\n",
      "_________________________________________________________________\n",
      "None\n",
      "2397/2397 [==============================] - 0s 145us/step\n"
     ]
    },
    {
     "name": "stderr",
     "output_type": "stream",
     "text": [
      "C:\\Users\\33777\\Anaconda3\\lib\\site-packages\\tensorflow_core\\python\\framework\\indexed_slices.py:424: UserWarning: Converting sparse IndexedSlices to a dense Tensor of unknown shape. This may consume a large amount of memory.\n",
      "  \"Converting sparse IndexedSlices to a dense Tensor of unknown shape. \"\n"
     ]
    },
    {
     "name": "stdout",
     "output_type": "stream",
     "text": [
      "Epoch 1/5\n",
      "9586/9586 [==============================] - 5s 545us/step - loss: 1.3326 - acc: 0.5925\n",
      "Epoch 2/5\n",
      "9586/9586 [==============================] - 5s 500us/step - loss: 0.6590 - acc: 0.6179\n",
      "Epoch 3/5\n",
      "9586/9586 [==============================] - 5s 526us/step - loss: 0.6050 - acc: 0.7057\n",
      "Epoch 4/5\n",
      "9586/9586 [==============================] - 6s 597us/step - loss: 0.4617 - acc: 0.8493\n",
      "Epoch 5/5\n",
      "9586/9586 [==============================] - 6s 609us/step - loss: 0.3526 - acc: 0.8758\n",
      "Model: \"sequential_101\"\n",
      "_________________________________________________________________\n",
      "Layer (type)                 Output Shape              Param #   \n",
      "=================================================================\n",
      "embedding_101 (Embedding)    (None, 1116, 20)          463600    \n",
      "_________________________________________________________________\n",
      "flatten_101 (Flatten)        (None, 22320)             0         \n",
      "_________________________________________________________________\n",
      "dense_106 (Dense)            (None, 1)                 22321     \n",
      "=================================================================\n",
      "Total params: 485,921\n",
      "Trainable params: 485,921\n",
      "Non-trainable params: 0\n",
      "_________________________________________________________________\n",
      "None\n",
      "2397/2397 [==============================] - 0s 146us/step\n"
     ]
    },
    {
     "name": "stderr",
     "output_type": "stream",
     "text": [
      "C:\\Users\\33777\\Anaconda3\\lib\\site-packages\\tensorflow_core\\python\\framework\\indexed_slices.py:424: UserWarning: Converting sparse IndexedSlices to a dense Tensor of unknown shape. This may consume a large amount of memory.\n",
      "  \"Converting sparse IndexedSlices to a dense Tensor of unknown shape. \"\n"
     ]
    },
    {
     "name": "stdout",
     "output_type": "stream",
     "text": [
      "Epoch 1/5\n",
      "9586/9586 [==============================] - 6s 638us/step - loss: 7.6874 - acc: 0.2012\n",
      "Epoch 2/5\n",
      "9586/9586 [==============================] - 5s 572us/step - loss: 5.8767 - acc: 0.0000e+00\n",
      "Epoch 3/5\n",
      "9586/9586 [==============================] - 7s 707us/step - loss: 5.8767 - acc: 0.0000e+00\n",
      "Epoch 4/5\n",
      "9586/9586 [==============================] - 6s 651us/step - loss: 5.8767 - acc: 0.0000e+00\n",
      "Epoch 5/5\n",
      "9586/9586 [==============================] - 5s 539us/step - loss: 5.8767 - acc: 0.0000e+00\n",
      "Model: \"sequential_102\"\n",
      "_________________________________________________________________\n",
      "Layer (type)                 Output Shape              Param #   \n",
      "=================================================================\n",
      "embedding_102 (Embedding)    (None, 1116, 20)          463600    \n",
      "_________________________________________________________________\n",
      "flatten_102 (Flatten)        (None, 22320)             0         \n",
      "_________________________________________________________________\n",
      "dense_107 (Dense)            (None, 1)                 22321     \n",
      "=================================================================\n",
      "Total params: 485,921\n",
      "Trainable params: 485,921\n",
      "Non-trainable params: 0\n",
      "_________________________________________________________________\n",
      "None\n",
      "2397/2397 [==============================] - 0s 120us/step\n"
     ]
    },
    {
     "name": "stderr",
     "output_type": "stream",
     "text": [
      "C:\\Users\\33777\\Anaconda3\\lib\\site-packages\\tensorflow_core\\python\\framework\\indexed_slices.py:424: UserWarning: Converting sparse IndexedSlices to a dense Tensor of unknown shape. This may consume a large amount of memory.\n",
      "  \"Converting sparse IndexedSlices to a dense Tensor of unknown shape. \"\n"
     ]
    },
    {
     "name": "stdout",
     "output_type": "stream",
     "text": [
      "Epoch 1/5\n",
      "9586/9586 [==============================] - 6s 587us/step - loss: 0.6672 - acc: 0.6158\n",
      "Epoch 2/5\n",
      "9586/9586 [==============================] - 5s 545us/step - loss: 0.6251 - acc: 0.6324\n",
      "Epoch 3/5\n",
      "9586/9586 [==============================] - 5s 535us/step - loss: 0.5003 - acc: 0.7855\n",
      "Epoch 4/5\n",
      "9586/9586 [==============================] - 5s 547us/step - loss: 0.3629 - acc: 0.8822\n",
      "Epoch 5/5\n",
      "9586/9586 [==============================] - 5s 544us/step - loss: 0.2646 - acc: 0.9225\n",
      "Model: \"sequential_103\"\n",
      "_________________________________________________________________\n",
      "Layer (type)                 Output Shape              Param #   \n",
      "=================================================================\n",
      "embedding_103 (Embedding)    (None, 1116, 20)          463600    \n",
      "_________________________________________________________________\n",
      "flatten_103 (Flatten)        (None, 22320)             0         \n",
      "_________________________________________________________________\n",
      "dense_108 (Dense)            (None, 1)                 22321     \n",
      "=================================================================\n",
      "Total params: 485,921\n",
      "Trainable params: 485,921\n",
      "Non-trainable params: 0\n",
      "_________________________________________________________________\n",
      "None\n",
      "2397/2397 [==============================] - 0s 136us/step\n"
     ]
    },
    {
     "name": "stderr",
     "output_type": "stream",
     "text": [
      "C:\\Users\\33777\\Anaconda3\\lib\\site-packages\\tensorflow_core\\python\\framework\\indexed_slices.py:424: UserWarning: Converting sparse IndexedSlices to a dense Tensor of unknown shape. This may consume a large amount of memory.\n",
      "  \"Converting sparse IndexedSlices to a dense Tensor of unknown shape. \"\n"
     ]
    },
    {
     "name": "stdout",
     "output_type": "stream",
     "text": [
      "Epoch 1/5\n",
      "9586/9586 [==============================] - 5s 567us/step - loss: 0.6671 - acc: 0.6168\n",
      "Epoch 2/5\n",
      "9586/9586 [==============================] - 5s 561us/step - loss: 0.6291 - acc: 0.6218\n",
      "Epoch 3/5\n",
      "9586/9586 [==============================] - 5s 535us/step - loss: 0.5070 - acc: 0.7401\n",
      "Epoch 4/5\n",
      "9586/9586 [==============================] - 5s 525us/step - loss: 0.3631 - acc: 0.8541\n",
      "Epoch 5/5\n",
      "9586/9586 [==============================] - 5s 548us/step - loss: 0.2552 - acc: 0.9098\n",
      "Model: \"sequential_104\"\n",
      "_________________________________________________________________\n",
      "Layer (type)                 Output Shape              Param #   \n",
      "=================================================================\n",
      "embedding_104 (Embedding)    (None, 1116, 20)          463600    \n",
      "_________________________________________________________________\n",
      "flatten_104 (Flatten)        (None, 22320)             0         \n",
      "_________________________________________________________________\n",
      "dense_109 (Dense)            (None, 1)                 22321     \n",
      "=================================================================\n",
      "Total params: 485,921\n",
      "Trainable params: 485,921\n",
      "Non-trainable params: 0\n",
      "_________________________________________________________________\n",
      "None\n",
      "2397/2397 [==============================] - 0s 125us/step\n"
     ]
    },
    {
     "name": "stderr",
     "output_type": "stream",
     "text": [
      "C:\\Users\\33777\\Anaconda3\\lib\\site-packages\\tensorflow_core\\python\\framework\\indexed_slices.py:424: UserWarning: Converting sparse IndexedSlices to a dense Tensor of unknown shape. This may consume a large amount of memory.\n",
      "  \"Converting sparse IndexedSlices to a dense Tensor of unknown shape. \"\n"
     ]
    },
    {
     "name": "stdout",
     "output_type": "stream",
     "text": [
      "Epoch 1/5\n",
      "9586/9586 [==============================] - 5s 562us/step - loss: 0.7179 - acc: 0.5896\n",
      "Epoch 2/5\n",
      "9586/9586 [==============================] - 5s 528us/step - loss: 0.6456 - acc: 0.6205\n",
      "Epoch 3/5\n",
      "9586/9586 [==============================] - 5s 549us/step - loss: 0.5603 - acc: 0.6352\n",
      "Epoch 4/5\n",
      "9586/9586 [==============================] - 5s 521us/step - loss: 0.4115 - acc: 0.7659\n",
      "Epoch 5/5\n",
      "9586/9586 [==============================] - 5s 545us/step - loss: 0.2952 - acc: 0.8326\n",
      "Model: \"sequential_105\"\n",
      "_________________________________________________________________\n",
      "Layer (type)                 Output Shape              Param #   \n",
      "=================================================================\n",
      "embedding_105 (Embedding)    (None, 1116, 20)          463600    \n",
      "_________________________________________________________________\n",
      "flatten_105 (Flatten)        (None, 22320)             0         \n",
      "_________________________________________________________________\n",
      "dense_110 (Dense)            (None, 1)                 22321     \n",
      "=================================================================\n",
      "Total params: 485,921\n",
      "Trainable params: 485,921\n",
      "Non-trainable params: 0\n",
      "_________________________________________________________________\n",
      "None\n",
      "2397/2397 [==============================] - 0s 131us/step\n"
     ]
    },
    {
     "name": "stderr",
     "output_type": "stream",
     "text": [
      "C:\\Users\\33777\\Anaconda3\\lib\\site-packages\\tensorflow_core\\python\\framework\\indexed_slices.py:424: UserWarning: Converting sparse IndexedSlices to a dense Tensor of unknown shape. This may consume a large amount of memory.\n",
      "  \"Converting sparse IndexedSlices to a dense Tensor of unknown shape. \"\n"
     ]
    },
    {
     "name": "stdout",
     "output_type": "stream",
     "text": [
      "Epoch 1/5\n",
      "9586/9586 [==============================] - 5s 570us/step - loss: 0.7323 - acc: 0.6019\n",
      "Epoch 2/5\n",
      "9586/9586 [==============================] - 5s 520us/step - loss: 0.6378 - acc: 0.6216\n",
      "Epoch 3/5\n",
      "9586/9586 [==============================] - 5s 524us/step - loss: 0.5416 - acc: 0.6891\n",
      "Epoch 4/5\n",
      "9586/9586 [==============================] - 5s 541us/step - loss: 0.3493 - acc: 0.8639\n",
      "Epoch 5/5\n",
      "9586/9586 [==============================] - 5s 523us/step - loss: 0.1991 - acc: 0.9065\n",
      "Model: \"sequential_106\"\n",
      "_________________________________________________________________\n",
      "Layer (type)                 Output Shape              Param #   \n",
      "=================================================================\n",
      "embedding_106 (Embedding)    (None, 1116, 20)          463600    \n",
      "_________________________________________________________________\n",
      "flatten_106 (Flatten)        (None, 22320)             0         \n",
      "_________________________________________________________________\n",
      "dense_111 (Dense)            (None, 1)                 22321     \n",
      "=================================================================\n",
      "Total params: 485,921\n",
      "Trainable params: 485,921\n",
      "Non-trainable params: 0\n",
      "_________________________________________________________________\n",
      "None\n",
      "2397/2397 [==============================] - 0s 137us/step\n"
     ]
    }
   ],
   "source": [
    "import json\n",
    "epochs=5\n",
    "batch_size=None\n",
    "perfs = {}\n",
    "perfs[\"epochs\"] = epochs\n",
    "perfs[\"batch_size\"] = batch_size\n",
    "perfs[\"number_files_used\"] = 12\n",
    "for function in keras_bitcoin.available_activation_functions:\n",
    "    model = keras_bitcoin.get_model(texts_train, labels_train, vocab_length, max_sentence_size, epochs=epochs, batch_size=batch_size, activations_functions=[function])\n",
    "    loss, accuracy = model.evaluate(texts_test, labels_test, verbose=1)\n",
    "    perfs[function] = accuracy\n",
    "    \n",
    "    \n",
    "with open(f\"./keras_stats/ep={epochs}_bats={batch_size}.json\", \"w\") as fp:\n",
    "    json.dump(perfs, fp)"
   ]
  },
  {
   "cell_type": "code",
   "execution_count": 107,
   "metadata": {},
   "outputs": [
    {
     "name": "stdout",
     "output_type": "stream",
     "text": [
      "        function       min       max       avg\n",
      "0           tanh  0.000000  0.619942  0.382144\n",
      "1            elu  0.000000  0.589487  0.054955\n",
      "2        softmax  0.617438  0.617438  0.449046\n",
      "3           selu  0.000000  0.622862  0.267266\n",
      "4       softplus  0.415102  0.624948  0.409944\n",
      "5       softsign  0.574885  0.617856  0.441006\n",
      "6           relu  0.000000  0.622028  0.161262\n",
      "7        sigmoid  0.600334  0.626617  0.445102\n",
      "8   hard_sigmoid  0.592407  0.619942  0.445102\n",
      "9    exponential  0.000000  0.624531  0.320514\n",
      "10        linear  0.000000  0.618273  0.208367\n"
     ]
    }
   ],
   "source": [
    "import os\n",
    "import pandas as pd\n",
    "\n",
    "directory = \"./keras_stats/\"\n",
    "dicts = []\n",
    "for file in os.listdir(directory):\n",
    "    f = open(f'{directory}{file}')\n",
    "    dicts.append(json.load(f))\n",
    "\n",
    "functions = keras_bitcoin.available_activation_functions\n",
    "\n",
    "perfs_stats = {\"function\" : [], \"min\" : [], \"max\" : [], \"avg\" : []}\n",
    "for function in functions:\n",
    "    sum_perfs = 0\n",
    "    min_perfs = 1\n",
    "    max_perfs = -1\n",
    "    for dct in dicts:\n",
    "        value = dct[function]\n",
    "        sum_perfs += value\n",
    "        if value > max_perfs:\n",
    "            max_perfs = value\n",
    "        if value < min_perfs:\n",
    "            min_perfs = value\n",
    "    perfs_stats[\"function\"].append(function)\n",
    "    perfs_stats[\"avg\"].append(sum_perfs / len(functions))\n",
    "    perfs_stats[\"max\"].append(max_perfs)\n",
    "    perfs_stats[\"min\"].append(min_perfs)\n",
    "\n",
    "print(pd.DataFrame(perfs_stats))"
   ]
  }
 ],
 "metadata": {
  "kernelspec": {
   "display_name": "Python 3",
   "language": "python",
   "name": "python3"
  },
  "language_info": {
   "codemirror_mode": {
    "name": "ipython",
    "version": 3
   },
   "file_extension": ".py",
   "mimetype": "text/x-python",
   "name": "python",
   "nbconvert_exporter": "python",
   "pygments_lexer": "ipython3",
   "version": "3.7.3"
  }
 },
 "nbformat": 4,
 "nbformat_minor": 2
}
