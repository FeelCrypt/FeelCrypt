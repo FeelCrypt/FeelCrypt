{
 "cells": [
  {
   "cell_type": "markdown",
   "metadata": {},
   "source": [
    "### Import modules"
   ]
  },
  {
   "cell_type": "code",
   "execution_count": 1,
   "metadata": {},
   "outputs": [
    {
     "name": "stderr",
     "output_type": "stream",
     "text": [
      "Using TensorFlow backend.\n"
     ]
    }
   ],
   "source": [
    "import keras_bitcoin\n",
    "import dataset\n",
    "import collections\n",
    "import numpy as np"
   ]
  },
  {
   "cell_type": "markdown",
   "metadata": {},
   "source": [
    "### Create Train/Test Dataset"
   ]
  },
  {
   "cell_type": "code",
   "execution_count": 2,
   "metadata": {},
   "outputs": [
    {
     "name": "stdout",
     "output_type": "stream",
     "text": [
      "Number of files loaded :  12\n",
      "Counter({0: 9621, 1: 4981})\n"
     ]
    }
   ],
   "source": [
    "df = dataset.get_labeled_dataset(number_of_file=12, from_date=\"2017-12-16\")\n",
    "print(collections.Counter(df[\"label\"]))"
   ]
  },
  {
   "cell_type": "markdown",
   "metadata": {},
   "source": [
    "### Format Dataset"
   ]
  },
  {
   "cell_type": "code",
   "execution_count": 5,
   "metadata": {},
   "outputs": [],
   "source": [
    "texts = df[\"text\"]\n",
    "labels = df[\"label\"]\n",
    "texts_train, texts_test , labels_train, labels_test, vocab_length, max_sentence_size = keras_bitcoin.get_train_test_data(texts, labels)"
   ]
  },
  {
   "cell_type": "markdown",
   "metadata": {},
   "source": [
    "### Set Model Params"
   ]
  },
  {
   "cell_type": "code",
   "execution_count": 8,
   "metadata": {},
   "outputs": [
    {
     "data": {
      "text/plain": [
       "['tanh',\n",
       " 'elu',\n",
       " 'softmax',\n",
       " 'selu',\n",
       " 'softplus',\n",
       " 'softsign',\n",
       " 'relu',\n",
       " 'sigmoid',\n",
       " 'hard_sigmoid',\n",
       " 'exponential',\n",
       " 'linear']"
      ]
     },
     "execution_count": 8,
     "metadata": {},
     "output_type": "execute_result"
    }
   ],
   "source": [
    "keras_bitcoin.available_activation_functions"
   ]
  },
  {
   "cell_type": "code",
   "execution_count": 45,
   "metadata": {},
   "outputs": [],
   "source": [
    "#\n",
    "#bad result alone : relu, elu\n",
    "#good result alone : sigmoid\n",
    "#ep = 15, batch = 100 +  sig + relu + tanh = 0.32\n",
    "#ep = 15, batch = 100 +  sig + tanh        = 0.67\n",
    "#ep = 15, batch = 100 + tanh + sig         = 0.67\n",
    "epochs=5\n",
    "batch_size=None\n",
    "activations_functions=[\"PReLU\"]\n",
    "dropouts = {}"
   ]
  },
  {
   "cell_type": "markdown",
   "metadata": {},
   "source": [
    "### Train Mode"
   ]
  },
  {
   "cell_type": "code",
   "execution_count": 46,
   "metadata": {},
   "outputs": [
    {
     "ename": "ValueError",
     "evalue": "Unknown activation function:PReLU",
     "output_type": "error",
     "traceback": [
      "\u001b[1;31m---------------------------------------------------------------------------\u001b[0m",
      "\u001b[1;31mValueError\u001b[0m                                Traceback (most recent call last)",
      "\u001b[1;32m<ipython-input-46-06ad5946dfa9>\u001b[0m in \u001b[0;36m<module>\u001b[1;34m\u001b[0m\n\u001b[1;32m----> 1\u001b[1;33m \u001b[0mmodel\u001b[0m \u001b[1;33m=\u001b[0m \u001b[0mkeras_bitcoin\u001b[0m\u001b[1;33m.\u001b[0m\u001b[0mget_model\u001b[0m\u001b[1;33m(\u001b[0m\u001b[0mtexts_train\u001b[0m\u001b[1;33m,\u001b[0m \u001b[0mlabels_train\u001b[0m\u001b[1;33m,\u001b[0m \u001b[0mvocab_length\u001b[0m\u001b[1;33m,\u001b[0m \u001b[0mmax_sentence_size\u001b[0m\u001b[1;33m,\u001b[0m \u001b[0mepochs\u001b[0m\u001b[1;33m=\u001b[0m\u001b[0mepochs\u001b[0m\u001b[1;33m,\u001b[0m \u001b[0mbatch_size\u001b[0m\u001b[1;33m=\u001b[0m\u001b[0mbatch_size\u001b[0m\u001b[1;33m,\u001b[0m \u001b[0mactivations_functions\u001b[0m\u001b[1;33m=\u001b[0m\u001b[0mactivations_functions\u001b[0m\u001b[1;33m)\u001b[0m\u001b[1;33m\u001b[0m\u001b[1;33m\u001b[0m\u001b[0m\n\u001b[0m",
      "\u001b[1;32m~\\Desktop\\ESILV\\A5\\FeelCrypt\\Valentin\\keras_bitcoin.py\u001b[0m in \u001b[0;36mget_model\u001b[1;34m(texts_train, labels_train, vocab_length, max_sentence_size, epochs, batch_size, activations_functions, verbose, dropouts)\u001b[0m\n\u001b[0;32m     40\u001b[0m     \u001b[0mmodel\u001b[0m\u001b[1;33m.\u001b[0m\u001b[0madd\u001b[0m\u001b[1;33m(\u001b[0m\u001b[0mFlatten\u001b[0m\u001b[1;33m(\u001b[0m\u001b[1;33m)\u001b[0m\u001b[1;33m)\u001b[0m\u001b[1;33m\u001b[0m\u001b[1;33m\u001b[0m\u001b[0m\n\u001b[0;32m     41\u001b[0m     \u001b[1;32mfor\u001b[0m \u001b[0mactivation_fun\u001b[0m \u001b[1;32min\u001b[0m \u001b[0mactivations_functions\u001b[0m\u001b[1;33m:\u001b[0m\u001b[1;33m\u001b[0m\u001b[1;33m\u001b[0m\u001b[0m\n\u001b[1;32m---> 42\u001b[1;33m         \u001b[0mmodel\u001b[0m\u001b[1;33m.\u001b[0m\u001b[0madd\u001b[0m\u001b[1;33m(\u001b[0m\u001b[0mDense\u001b[0m\u001b[1;33m(\u001b[0m\u001b[1;36m1\u001b[0m\u001b[1;33m,\u001b[0m \u001b[0mactivation\u001b[0m\u001b[1;33m=\u001b[0m\u001b[0mactivation_fun\u001b[0m\u001b[1;33m)\u001b[0m\u001b[1;33m)\u001b[0m\u001b[1;33m\u001b[0m\u001b[1;33m\u001b[0m\u001b[0m\n\u001b[0m\u001b[0;32m     43\u001b[0m         \u001b[1;32mif\u001b[0m \u001b[0mactivation_fun\u001b[0m \u001b[1;32min\u001b[0m \u001b[0mdropouts\u001b[0m\u001b[1;33m.\u001b[0m\u001b[0mkeys\u001b[0m\u001b[1;33m(\u001b[0m\u001b[1;33m)\u001b[0m\u001b[1;33m:\u001b[0m\u001b[1;33m\u001b[0m\u001b[1;33m\u001b[0m\u001b[0m\n\u001b[0;32m     44\u001b[0m             \u001b[0mmodel\u001b[0m\u001b[1;33m.\u001b[0m\u001b[0madd\u001b[0m\u001b[1;33m(\u001b[0m\u001b[0mDropout\u001b[0m\u001b[1;33m(\u001b[0m\u001b[0mdropouts\u001b[0m\u001b[1;33m[\u001b[0m\u001b[0mactivation_fun\u001b[0m\u001b[1;33m]\u001b[0m\u001b[1;33m)\u001b[0m\u001b[1;33m)\u001b[0m\u001b[1;33m\u001b[0m\u001b[1;33m\u001b[0m\u001b[0m\n",
      "\u001b[1;32m~\\Anaconda3\\lib\\site-packages\\keras\\legacy\\interfaces.py\u001b[0m in \u001b[0;36mwrapper\u001b[1;34m(*args, **kwargs)\u001b[0m\n\u001b[0;32m     89\u001b[0m                 warnings.warn('Update your `' + object_name + '` call to the ' +\n\u001b[0;32m     90\u001b[0m                               'Keras 2 API: ' + signature, stacklevel=2)\n\u001b[1;32m---> 91\u001b[1;33m             \u001b[1;32mreturn\u001b[0m \u001b[0mfunc\u001b[0m\u001b[1;33m(\u001b[0m\u001b[1;33m*\u001b[0m\u001b[0margs\u001b[0m\u001b[1;33m,\u001b[0m \u001b[1;33m**\u001b[0m\u001b[0mkwargs\u001b[0m\u001b[1;33m)\u001b[0m\u001b[1;33m\u001b[0m\u001b[1;33m\u001b[0m\u001b[0m\n\u001b[0m\u001b[0;32m     92\u001b[0m         \u001b[0mwrapper\u001b[0m\u001b[1;33m.\u001b[0m\u001b[0m_original_function\u001b[0m \u001b[1;33m=\u001b[0m \u001b[0mfunc\u001b[0m\u001b[1;33m\u001b[0m\u001b[1;33m\u001b[0m\u001b[0m\n\u001b[0;32m     93\u001b[0m         \u001b[1;32mreturn\u001b[0m \u001b[0mwrapper\u001b[0m\u001b[1;33m\u001b[0m\u001b[1;33m\u001b[0m\u001b[0m\n",
      "\u001b[1;32m~\\Anaconda3\\lib\\site-packages\\keras\\layers\\core.py\u001b[0m in \u001b[0;36m__init__\u001b[1;34m(self, units, activation, use_bias, kernel_initializer, bias_initializer, kernel_regularizer, bias_regularizer, activity_regularizer, kernel_constraint, bias_constraint, **kwargs)\u001b[0m\n\u001b[0;32m    873\u001b[0m         \u001b[0msuper\u001b[0m\u001b[1;33m(\u001b[0m\u001b[0mDense\u001b[0m\u001b[1;33m,\u001b[0m \u001b[0mself\u001b[0m\u001b[1;33m)\u001b[0m\u001b[1;33m.\u001b[0m\u001b[0m__init__\u001b[0m\u001b[1;33m(\u001b[0m\u001b[1;33m**\u001b[0m\u001b[0mkwargs\u001b[0m\u001b[1;33m)\u001b[0m\u001b[1;33m\u001b[0m\u001b[1;33m\u001b[0m\u001b[0m\n\u001b[0;32m    874\u001b[0m         \u001b[0mself\u001b[0m\u001b[1;33m.\u001b[0m\u001b[0munits\u001b[0m \u001b[1;33m=\u001b[0m \u001b[0munits\u001b[0m\u001b[1;33m\u001b[0m\u001b[1;33m\u001b[0m\u001b[0m\n\u001b[1;32m--> 875\u001b[1;33m         \u001b[0mself\u001b[0m\u001b[1;33m.\u001b[0m\u001b[0mactivation\u001b[0m \u001b[1;33m=\u001b[0m \u001b[0mactivations\u001b[0m\u001b[1;33m.\u001b[0m\u001b[0mget\u001b[0m\u001b[1;33m(\u001b[0m\u001b[0mactivation\u001b[0m\u001b[1;33m)\u001b[0m\u001b[1;33m\u001b[0m\u001b[1;33m\u001b[0m\u001b[0m\n\u001b[0m\u001b[0;32m    876\u001b[0m         \u001b[0mself\u001b[0m\u001b[1;33m.\u001b[0m\u001b[0muse_bias\u001b[0m \u001b[1;33m=\u001b[0m \u001b[0muse_bias\u001b[0m\u001b[1;33m\u001b[0m\u001b[1;33m\u001b[0m\u001b[0m\n\u001b[0;32m    877\u001b[0m         \u001b[0mself\u001b[0m\u001b[1;33m.\u001b[0m\u001b[0mkernel_initializer\u001b[0m \u001b[1;33m=\u001b[0m \u001b[0minitializers\u001b[0m\u001b[1;33m.\u001b[0m\u001b[0mget\u001b[0m\u001b[1;33m(\u001b[0m\u001b[0mkernel_initializer\u001b[0m\u001b[1;33m)\u001b[0m\u001b[1;33m\u001b[0m\u001b[1;33m\u001b[0m\u001b[0m\n",
      "\u001b[1;32m~\\Anaconda3\\lib\\site-packages\\keras\\activations.py\u001b[0m in \u001b[0;36mget\u001b[1;34m(identifier)\u001b[0m\n\u001b[0;32m    225\u001b[0m     \u001b[1;32mif\u001b[0m \u001b[0misinstance\u001b[0m\u001b[1;33m(\u001b[0m\u001b[0midentifier\u001b[0m\u001b[1;33m,\u001b[0m \u001b[0msix\u001b[0m\u001b[1;33m.\u001b[0m\u001b[0mstring_types\u001b[0m\u001b[1;33m)\u001b[0m\u001b[1;33m:\u001b[0m\u001b[1;33m\u001b[0m\u001b[1;33m\u001b[0m\u001b[0m\n\u001b[0;32m    226\u001b[0m         \u001b[0midentifier\u001b[0m \u001b[1;33m=\u001b[0m \u001b[0mstr\u001b[0m\u001b[1;33m(\u001b[0m\u001b[0midentifier\u001b[0m\u001b[1;33m)\u001b[0m\u001b[1;33m\u001b[0m\u001b[1;33m\u001b[0m\u001b[0m\n\u001b[1;32m--> 227\u001b[1;33m         \u001b[1;32mreturn\u001b[0m \u001b[0mdeserialize\u001b[0m\u001b[1;33m(\u001b[0m\u001b[0midentifier\u001b[0m\u001b[1;33m)\u001b[0m\u001b[1;33m\u001b[0m\u001b[1;33m\u001b[0m\u001b[0m\n\u001b[0m\u001b[0;32m    228\u001b[0m     \u001b[1;32melif\u001b[0m \u001b[0mcallable\u001b[0m\u001b[1;33m(\u001b[0m\u001b[0midentifier\u001b[0m\u001b[1;33m)\u001b[0m\u001b[1;33m:\u001b[0m\u001b[1;33m\u001b[0m\u001b[1;33m\u001b[0m\u001b[0m\n\u001b[0;32m    229\u001b[0m         \u001b[1;32mif\u001b[0m \u001b[0misinstance\u001b[0m\u001b[1;33m(\u001b[0m\u001b[0midentifier\u001b[0m\u001b[1;33m,\u001b[0m \u001b[0mLayer\u001b[0m\u001b[1;33m)\u001b[0m\u001b[1;33m:\u001b[0m\u001b[1;33m\u001b[0m\u001b[1;33m\u001b[0m\u001b[0m\n",
      "\u001b[1;32m~\\Anaconda3\\lib\\site-packages\\keras\\activations.py\u001b[0m in \u001b[0;36mdeserialize\u001b[1;34m(name, custom_objects)\u001b[0m\n\u001b[0;32m    206\u001b[0m         \u001b[0mmodule_objects\u001b[0m\u001b[1;33m=\u001b[0m\u001b[0mglobals\u001b[0m\u001b[1;33m(\u001b[0m\u001b[1;33m)\u001b[0m\u001b[1;33m,\u001b[0m\u001b[1;33m\u001b[0m\u001b[1;33m\u001b[0m\u001b[0m\n\u001b[0;32m    207\u001b[0m         \u001b[0mcustom_objects\u001b[0m\u001b[1;33m=\u001b[0m\u001b[0mcustom_objects\u001b[0m\u001b[1;33m,\u001b[0m\u001b[1;33m\u001b[0m\u001b[1;33m\u001b[0m\u001b[0m\n\u001b[1;32m--> 208\u001b[1;33m         printable_module_name='activation function')\n\u001b[0m\u001b[0;32m    209\u001b[0m \u001b[1;33m\u001b[0m\u001b[0m\n\u001b[0;32m    210\u001b[0m \u001b[1;33m\u001b[0m\u001b[0m\n",
      "\u001b[1;32m~\\Anaconda3\\lib\\site-packages\\keras\\utils\\generic_utils.py\u001b[0m in \u001b[0;36mdeserialize_keras_object\u001b[1;34m(identifier, module_objects, custom_objects, printable_module_name)\u001b[0m\n\u001b[0;32m    165\u001b[0m             \u001b[1;32mif\u001b[0m \u001b[0mfn\u001b[0m \u001b[1;32mis\u001b[0m \u001b[1;32mNone\u001b[0m\u001b[1;33m:\u001b[0m\u001b[1;33m\u001b[0m\u001b[1;33m\u001b[0m\u001b[0m\n\u001b[0;32m    166\u001b[0m                 raise ValueError('Unknown ' + printable_module_name +\n\u001b[1;32m--> 167\u001b[1;33m                                  ':' + function_name)\n\u001b[0m\u001b[0;32m    168\u001b[0m         \u001b[1;32mreturn\u001b[0m \u001b[0mfn\u001b[0m\u001b[1;33m\u001b[0m\u001b[1;33m\u001b[0m\u001b[0m\n\u001b[0;32m    169\u001b[0m     \u001b[1;32melse\u001b[0m\u001b[1;33m:\u001b[0m\u001b[1;33m\u001b[0m\u001b[1;33m\u001b[0m\u001b[0m\n",
      "\u001b[1;31mValueError\u001b[0m: Unknown activation function:PReLU"
     ]
    }
   ],
   "source": [
    "model = keras_bitcoin.get_model(texts_train, labels_train, vocab_length, max_sentence_size, epochs=epochs, batch_size=batch_size, activations_functions=activations_functions)"
   ]
  },
  {
   "cell_type": "markdown",
   "metadata": {},
   "source": [
    "###  Model Evaluation"
   ]
  },
  {
   "cell_type": "code",
   "execution_count": 86,
   "metadata": {},
   "outputs": [
    {
     "name": "stdout",
     "output_type": "stream",
     "text": [
      "2397/2397 [==============================] - 1s 217us/step\n",
      "Accuracy: 62.161034\n"
     ]
    }
   ],
   "source": [
    "loss, accuracy = model.evaluate(texts_test, labels_test, verbose=1)\n",
    "print('Accuracy: %f' % (accuracy*100))"
   ]
  },
  {
   "cell_type": "markdown",
   "metadata": {},
   "source": [
    "###  Get Predictions"
   ]
  },
  {
   "cell_type": "code",
   "execution_count": 7,
   "metadata": {},
   "outputs": [
    {
     "name": "stdout",
     "output_type": "stream",
     "text": [
      "Number of files loaded :  668\n",
      "(114664, 3)                                                 text  label        date\n",
      "0  Recent comment by him with regards to Gavin An...      1  2015-12-15\n",
      "1          I'm glad your trolling has come to an end      1  2015-12-15\n"
     ]
    }
   ],
   "source": [
    "df_test = dataset.get_labeled_dataset(number_of_file = 30, from_date = \"2017-02-10\", date_included = False, all_files=True)\n",
    "print(df_test.shape,df_test.head(2))"
   ]
  },
  {
   "cell_type": "code",
   "execution_count": 15,
   "metadata": {},
   "outputs": [],
   "source": [
    "preds = keras_bitcoin.get_predictions(list(df_test[\"text\"]), model, vocab_length, max_sentence_size)\n",
    "df_test[\"preds\"] = list(map(lambda x : int(x), preds))\n",
    "df_test[\"correct\"] = np.equal(preds, df_test[\"label\"])"
   ]
  },
  {
   "cell_type": "markdown",
   "metadata": {},
   "source": [
    "### Predictions Stats"
   ]
  },
  {
   "cell_type": "code",
   "execution_count": 16,
   "metadata": {},
   "outputs": [
    {
     "name": "stdout",
     "output_type": "stream",
     "text": [
      "Number Correct/Wrong Guess : 51984/62680\n",
      "              Accuracy : 45.33593804507082\n",
      "Invalid sentences count 10\n"
     ]
    }
   ],
   "source": [
    "dataset.get_prediction_stats(df_test)"
   ]
  },
  {
   "cell_type": "markdown",
   "metadata": {},
   "source": [
    "### Find best settings"
   ]
  },
  {
   "cell_type": "code",
   "execution_count": 92,
   "metadata": {},
   "outputs": [
    {
     "name": "stderr",
     "output_type": "stream",
     "text": [
      "C:\\Users\\33777\\Anaconda3\\lib\\site-packages\\tensorflow_core\\python\\framework\\indexed_slices.py:424: UserWarning: Converting sparse IndexedSlices to a dense Tensor of unknown shape. This may consume a large amount of memory.\n",
      "  \"Converting sparse IndexedSlices to a dense Tensor of unknown shape. \"\n"
     ]
    },
    {
     "name": "stdout",
     "output_type": "stream",
     "text": [
      "Epoch 1/5\n",
      "9586/9586 [==============================] - 5s 553us/step - loss: 9.5131 - acc: 0.0683\n",
      "Epoch 2/5\n",
      "9586/9586 [==============================] - 5s 520us/step - loss: 9.5131 - acc: 0.0000e+00\n",
      "Epoch 3/5\n",
      "9586/9586 [==============================] - 5s 510us/step - loss: 9.5131 - acc: 0.0000e+00\n",
      "Epoch 4/5\n",
      "9586/9586 [==============================] - 5s 511us/step - loss: 9.5131 - acc: 0.0000e+00\n",
      "Epoch 5/5\n",
      "9586/9586 [==============================] - 5s 517us/step - loss: 9.5131 - acc: 0.0000e+00\n",
      "Model: \"sequential_96\"\n",
      "_________________________________________________________________\n",
      "Layer (type)                 Output Shape              Param #   \n",
      "=================================================================\n",
      "embedding_96 (Embedding)     (None, 1116, 20)          463600    \n",
      "_________________________________________________________________\n",
      "flatten_96 (Flatten)         (None, 22320)             0         \n",
      "_________________________________________________________________\n",
      "dense_101 (Dense)            (None, 1)                 22321     \n",
      "=================================================================\n",
      "Total params: 485,921\n",
      "Trainable params: 485,921\n",
      "Non-trainable params: 0\n",
      "_________________________________________________________________\n",
      "None\n",
      "2397/2397 [==============================] - 0s 131us/step\n"
     ]
    },
    {
     "name": "stderr",
     "output_type": "stream",
     "text": [
      "C:\\Users\\33777\\Anaconda3\\lib\\site-packages\\tensorflow_core\\python\\framework\\indexed_slices.py:424: UserWarning: Converting sparse IndexedSlices to a dense Tensor of unknown shape. This may consume a large amount of memory.\n",
      "  \"Converting sparse IndexedSlices to a dense Tensor of unknown shape. \"\n"
     ]
    },
    {
     "name": "stdout",
     "output_type": "stream",
     "text": [
      "Epoch 1/5\n",
      "9586/9586 [==============================] - 5s 545us/step - loss: 0.8950 - acc: 0.5996\n",
      "Epoch 2/5\n",
      "9586/9586 [==============================] - 5s 501us/step - loss: 0.6331 - acc: 0.6264\n",
      "Epoch 3/5\n",
      "9586/9586 [==============================] - 5s 513us/step - loss: 0.4864 - acc: 0.7558\n",
      "Epoch 4/5\n",
      "9586/9586 [==============================] - 5s 504us/step - loss: 0.2744 - acc: 0.8965\n",
      "Epoch 5/5\n",
      "9586/9586 [==============================] - 5s 501us/step - loss: 0.1540 - acc: 0.8937\n",
      "Model: \"sequential_97\"\n",
      "_________________________________________________________________\n",
      "Layer (type)                 Output Shape              Param #   \n",
      "=================================================================\n",
      "embedding_97 (Embedding)     (None, 1116, 20)          463600    \n",
      "_________________________________________________________________\n",
      "flatten_97 (Flatten)         (None, 22320)             0         \n",
      "_________________________________________________________________\n",
      "dense_102 (Dense)            (None, 1)                 22321     \n",
      "=================================================================\n",
      "Total params: 485,921\n",
      "Trainable params: 485,921\n",
      "Non-trainable params: 0\n",
      "_________________________________________________________________\n",
      "None\n",
      "2397/2397 [==============================] - 0s 143us/step\n"
     ]
    },
    {
     "name": "stderr",
     "output_type": "stream",
     "text": [
      "C:\\Users\\33777\\Anaconda3\\lib\\site-packages\\tensorflow_core\\python\\framework\\indexed_slices.py:424: UserWarning: Converting sparse IndexedSlices to a dense Tensor of unknown shape. This may consume a large amount of memory.\n",
      "  \"Converting sparse IndexedSlices to a dense Tensor of unknown shape. \"\n"
     ]
    },
    {
     "name": "stdout",
     "output_type": "stream",
     "text": [
      "Epoch 1/5\n",
      "9586/9586 [==============================] - 6s 619us/step - loss: 5.8767 - acc: 0.6167\n",
      "Epoch 2/5\n",
      "9586/9586 [==============================] - 5s 536us/step - loss: 5.8767 - acc: 0.6167\n",
      "Epoch 3/5\n",
      "9586/9586 [==============================] - 5s 535us/step - loss: 5.8767 - acc: 0.6167\n",
      "Epoch 4/5\n",
      "9586/9586 [==============================] - 5s 568us/step - loss: 5.8767 - acc: 0.6167\n",
      "Epoch 5/5\n",
      "9586/9586 [==============================] - 6s 616us/step - loss: 5.8767 - acc: 0.6167\n",
      "Model: \"sequential_98\"\n",
      "_________________________________________________________________\n",
      "Layer (type)                 Output Shape              Param #   \n",
      "=================================================================\n",
      "embedding_98 (Embedding)     (None, 1116, 20)          463600    \n",
      "_________________________________________________________________\n",
      "flatten_98 (Flatten)         (None, 22320)             0         \n",
      "_________________________________________________________________\n",
      "dense_103 (Dense)            (None, 1)                 22321     \n",
      "=================================================================\n",
      "Total params: 485,921\n",
      "Trainable params: 485,921\n",
      "Non-trainable params: 0\n",
      "_________________________________________________________________\n",
      "None\n",
      "2397/2397 [==============================] - 0s 165us/step\n"
     ]
    },
    {
     "name": "stderr",
     "output_type": "stream",
     "text": [
      "C:\\Users\\33777\\Anaconda3\\lib\\site-packages\\tensorflow_core\\python\\framework\\indexed_slices.py:424: UserWarning: Converting sparse IndexedSlices to a dense Tensor of unknown shape. This may consume a large amount of memory.\n",
      "  \"Converting sparse IndexedSlices to a dense Tensor of unknown shape. \"\n"
     ]
    },
    {
     "name": "stdout",
     "output_type": "stream",
     "text": [
      "Epoch 1/5\n",
      "9586/9586 [==============================] - 6s 641us/step - loss: 4.0618 - acc: 0.2381\n",
      "Epoch 2/5\n",
      "9586/9586 [==============================] - 8s 787us/step - loss: 0.6397 - acc: 0.6295\n",
      "Epoch 3/5\n",
      "9586/9586 [==============================] - 6s 638us/step - loss: 0.4479 - acc: 0.7909\n",
      "Epoch 4/5\n",
      "9586/9586 [==============================] - 8s 818us/step - loss: 0.2561 - acc: 0.8548\n",
      "Epoch 5/5\n",
      "9586/9586 [==============================] - 8s 799us/step - loss: 0.1564 - acc: 0.8227\n",
      "Model: \"sequential_99\"\n",
      "_________________________________________________________________\n",
      "Layer (type)                 Output Shape              Param #   \n",
      "=================================================================\n",
      "embedding_99 (Embedding)     (None, 1116, 20)          463600    \n",
      "_________________________________________________________________\n",
      "flatten_99 (Flatten)         (None, 22320)             0         \n",
      "_________________________________________________________________\n",
      "dense_104 (Dense)            (None, 1)                 22321     \n",
      "=================================================================\n",
      "Total params: 485,921\n",
      "Trainable params: 485,921\n",
      "Non-trainable params: 0\n",
      "_________________________________________________________________\n",
      "None\n",
      "2397/2397 [==============================] - 0s 164us/step\n"
     ]
    },
    {
     "name": "stderr",
     "output_type": "stream",
     "text": [
      "C:\\Users\\33777\\Anaconda3\\lib\\site-packages\\tensorflow_core\\python\\framework\\indexed_slices.py:424: UserWarning: Converting sparse IndexedSlices to a dense Tensor of unknown shape. This may consume a large amount of memory.\n",
      "  \"Converting sparse IndexedSlices to a dense Tensor of unknown shape. \"\n"
     ]
    },
    {
     "name": "stdout",
     "output_type": "stream",
     "text": [
      "Epoch 1/5\n",
      "9586/9586 [==============================] - 8s 855us/step - loss: 0.6665 - acc: 0.6113\n",
      "Epoch 2/5\n",
      "9586/9586 [==============================] - 7s 780us/step - loss: 0.5951 - acc: 0.6408 0s - loss: 0.5968 - acc: - ETA: 0s - loss: 0.5950 - acc: 0.640\n",
      "Epoch 3/5\n",
      "9586/9586 [==============================] - 6s 606us/step - loss: 0.4298 - acc: 0.7688\n",
      "Epoch 4/5\n",
      "9586/9586 [==============================] - 5s 562us/step - loss: 0.3015 - acc: 0.8320\n",
      "Epoch 5/5\n",
      "9586/9586 [==============================] - 5s 521us/step - loss: 0.2204 - acc: 0.8314\n",
      "Model: \"sequential_100\"\n",
      "_________________________________________________________________\n",
      "Layer (type)                 Output Shape              Param #   \n",
      "=================================================================\n",
      "embedding_100 (Embedding)    (None, 1116, 20)          463600    \n",
      "_________________________________________________________________\n",
      "flatten_100 (Flatten)        (None, 22320)             0         \n",
      "_________________________________________________________________\n",
      "dense_105 (Dense)            (None, 1)                 22321     \n",
      "=================================================================\n",
      "Total params: 485,921\n",
      "Trainable params: 485,921\n",
      "Non-trainable params: 0\n",
      "_________________________________________________________________\n",
      "None\n",
      "2397/2397 [==============================] - 0s 145us/step\n"
     ]
    },
    {
     "name": "stderr",
     "output_type": "stream",
     "text": [
      "C:\\Users\\33777\\Anaconda3\\lib\\site-packages\\tensorflow_core\\python\\framework\\indexed_slices.py:424: UserWarning: Converting sparse IndexedSlices to a dense Tensor of unknown shape. This may consume a large amount of memory.\n",
      "  \"Converting sparse IndexedSlices to a dense Tensor of unknown shape. \"\n"
     ]
    },
    {
     "name": "stdout",
     "output_type": "stream",
     "text": [
      "Epoch 1/5\n",
      "9586/9586 [==============================] - 5s 545us/step - loss: 1.3326 - acc: 0.5925\n",
      "Epoch 2/5\n",
      "9586/9586 [==============================] - 5s 500us/step - loss: 0.6590 - acc: 0.6179\n",
      "Epoch 3/5\n",
      "9586/9586 [==============================] - 5s 526us/step - loss: 0.6050 - acc: 0.7057\n",
      "Epoch 4/5\n",
      "9586/9586 [==============================] - 6s 597us/step - loss: 0.4617 - acc: 0.8493\n",
      "Epoch 5/5\n",
      "9586/9586 [==============================] - 6s 609us/step - loss: 0.3526 - acc: 0.8758\n",
      "Model: \"sequential_101\"\n",
      "_________________________________________________________________\n",
      "Layer (type)                 Output Shape              Param #   \n",
      "=================================================================\n",
      "embedding_101 (Embedding)    (None, 1116, 20)          463600    \n",
      "_________________________________________________________________\n",
      "flatten_101 (Flatten)        (None, 22320)             0         \n",
      "_________________________________________________________________\n",
      "dense_106 (Dense)            (None, 1)                 22321     \n",
      "=================================================================\n",
      "Total params: 485,921\n",
      "Trainable params: 485,921\n",
      "Non-trainable params: 0\n",
      "_________________________________________________________________\n",
      "None\n",
      "2397/2397 [==============================] - 0s 146us/step\n"
     ]
    },
    {
     "name": "stderr",
     "output_type": "stream",
     "text": [
      "C:\\Users\\33777\\Anaconda3\\lib\\site-packages\\tensorflow_core\\python\\framework\\indexed_slices.py:424: UserWarning: Converting sparse IndexedSlices to a dense Tensor of unknown shape. This may consume a large amount of memory.\n",
      "  \"Converting sparse IndexedSlices to a dense Tensor of unknown shape. \"\n"
     ]
    },
    {
     "name": "stdout",
     "output_type": "stream",
     "text": [
      "Epoch 1/5\n",
      "9586/9586 [==============================] - 6s 638us/step - loss: 7.6874 - acc: 0.2012\n",
      "Epoch 2/5\n",
      "9586/9586 [==============================] - 5s 572us/step - loss: 5.8767 - acc: 0.0000e+00\n",
      "Epoch 3/5\n",
      "9586/9586 [==============================] - 7s 707us/step - loss: 5.8767 - acc: 0.0000e+00\n",
      "Epoch 4/5\n",
      "9586/9586 [==============================] - 6s 651us/step - loss: 5.8767 - acc: 0.0000e+00\n",
      "Epoch 5/5\n",
      "9586/9586 [==============================] - 5s 539us/step - loss: 5.8767 - acc: 0.0000e+00\n",
      "Model: \"sequential_102\"\n",
      "_________________________________________________________________\n",
      "Layer (type)                 Output Shape              Param #   \n",
      "=================================================================\n",
      "embedding_102 (Embedding)    (None, 1116, 20)          463600    \n",
      "_________________________________________________________________\n",
      "flatten_102 (Flatten)        (None, 22320)             0         \n",
      "_________________________________________________________________\n",
      "dense_107 (Dense)            (None, 1)                 22321     \n",
      "=================================================================\n",
      "Total params: 485,921\n",
      "Trainable params: 485,921\n",
      "Non-trainable params: 0\n",
      "_________________________________________________________________\n",
      "None\n",
      "2397/2397 [==============================] - 0s 120us/step\n"
     ]
    },
    {
     "name": "stderr",
     "output_type": "stream",
     "text": [
      "C:\\Users\\33777\\Anaconda3\\lib\\site-packages\\tensorflow_core\\python\\framework\\indexed_slices.py:424: UserWarning: Converting sparse IndexedSlices to a dense Tensor of unknown shape. This may consume a large amount of memory.\n",
      "  \"Converting sparse IndexedSlices to a dense Tensor of unknown shape. \"\n"
     ]
    },
    {
     "name": "stdout",
     "output_type": "stream",
     "text": [
      "Epoch 1/5\n",
      "9586/9586 [==============================] - 6s 587us/step - loss: 0.6672 - acc: 0.6158\n",
      "Epoch 2/5\n",
      "9586/9586 [==============================] - 5s 545us/step - loss: 0.6251 - acc: 0.6324\n",
      "Epoch 3/5\n",
      "9586/9586 [==============================] - 5s 535us/step - loss: 0.5003 - acc: 0.7855\n",
      "Epoch 4/5\n",
      "9586/9586 [==============================] - 5s 547us/step - loss: 0.3629 - acc: 0.8822\n",
      "Epoch 5/5\n",
      "9586/9586 [==============================] - 5s 544us/step - loss: 0.2646 - acc: 0.9225\n",
      "Model: \"sequential_103\"\n",
      "_________________________________________________________________\n",
      "Layer (type)                 Output Shape              Param #   \n",
      "=================================================================\n",
      "embedding_103 (Embedding)    (None, 1116, 20)          463600    \n",
      "_________________________________________________________________\n",
      "flatten_103 (Flatten)        (None, 22320)             0         \n",
      "_________________________________________________________________\n",
      "dense_108 (Dense)            (None, 1)                 22321     \n",
      "=================================================================\n",
      "Total params: 485,921\n",
      "Trainable params: 485,921\n",
      "Non-trainable params: 0\n",
      "_________________________________________________________________\n",
      "None\n",
      "2397/2397 [==============================] - 0s 136us/step\n"
     ]
    },
    {
     "name": "stderr",
     "output_type": "stream",
     "text": [
      "C:\\Users\\33777\\Anaconda3\\lib\\site-packages\\tensorflow_core\\python\\framework\\indexed_slices.py:424: UserWarning: Converting sparse IndexedSlices to a dense Tensor of unknown shape. This may consume a large amount of memory.\n",
      "  \"Converting sparse IndexedSlices to a dense Tensor of unknown shape. \"\n"
     ]
    },
    {
     "name": "stdout",
     "output_type": "stream",
     "text": [
      "Epoch 1/5\n",
      "9586/9586 [==============================] - 5s 567us/step - loss: 0.6671 - acc: 0.6168\n",
      "Epoch 2/5\n",
      "9586/9586 [==============================] - 5s 561us/step - loss: 0.6291 - acc: 0.6218\n",
      "Epoch 3/5\n",
      "9586/9586 [==============================] - 5s 535us/step - loss: 0.5070 - acc: 0.7401\n",
      "Epoch 4/5\n",
      "9586/9586 [==============================] - 5s 525us/step - loss: 0.3631 - acc: 0.8541\n",
      "Epoch 5/5\n",
      "9586/9586 [==============================] - 5s 548us/step - loss: 0.2552 - acc: 0.9098\n",
      "Model: \"sequential_104\"\n",
      "_________________________________________________________________\n",
      "Layer (type)                 Output Shape              Param #   \n",
      "=================================================================\n",
      "embedding_104 (Embedding)    (None, 1116, 20)          463600    \n",
      "_________________________________________________________________\n",
      "flatten_104 (Flatten)        (None, 22320)             0         \n",
      "_________________________________________________________________\n",
      "dense_109 (Dense)            (None, 1)                 22321     \n",
      "=================================================================\n",
      "Total params: 485,921\n",
      "Trainable params: 485,921\n",
      "Non-trainable params: 0\n",
      "_________________________________________________________________\n",
      "None\n",
      "2397/2397 [==============================] - 0s 125us/step\n"
     ]
    },
    {
     "name": "stderr",
     "output_type": "stream",
     "text": [
      "C:\\Users\\33777\\Anaconda3\\lib\\site-packages\\tensorflow_core\\python\\framework\\indexed_slices.py:424: UserWarning: Converting sparse IndexedSlices to a dense Tensor of unknown shape. This may consume a large amount of memory.\n",
      "  \"Converting sparse IndexedSlices to a dense Tensor of unknown shape. \"\n"
     ]
    },
    {
     "name": "stdout",
     "output_type": "stream",
     "text": [
      "Epoch 1/5\n",
      "9586/9586 [==============================] - 5s 562us/step - loss: 0.7179 - acc: 0.5896\n",
      "Epoch 2/5\n",
      "9586/9586 [==============================] - 5s 528us/step - loss: 0.6456 - acc: 0.6205\n",
      "Epoch 3/5\n",
      "9586/9586 [==============================] - 5s 549us/step - loss: 0.5603 - acc: 0.6352\n",
      "Epoch 4/5\n",
      "9586/9586 [==============================] - 5s 521us/step - loss: 0.4115 - acc: 0.7659\n",
      "Epoch 5/5\n",
      "9586/9586 [==============================] - 5s 545us/step - loss: 0.2952 - acc: 0.8326\n",
      "Model: \"sequential_105\"\n",
      "_________________________________________________________________\n",
      "Layer (type)                 Output Shape              Param #   \n",
      "=================================================================\n",
      "embedding_105 (Embedding)    (None, 1116, 20)          463600    \n",
      "_________________________________________________________________\n",
      "flatten_105 (Flatten)        (None, 22320)             0         \n",
      "_________________________________________________________________\n",
      "dense_110 (Dense)            (None, 1)                 22321     \n",
      "=================================================================\n",
      "Total params: 485,921\n",
      "Trainable params: 485,921\n",
      "Non-trainable params: 0\n",
      "_________________________________________________________________\n",
      "None\n",
      "2397/2397 [==============================] - 0s 131us/step\n"
     ]
    },
    {
     "name": "stderr",
     "output_type": "stream",
     "text": [
      "C:\\Users\\33777\\Anaconda3\\lib\\site-packages\\tensorflow_core\\python\\framework\\indexed_slices.py:424: UserWarning: Converting sparse IndexedSlices to a dense Tensor of unknown shape. This may consume a large amount of memory.\n",
      "  \"Converting sparse IndexedSlices to a dense Tensor of unknown shape. \"\n"
     ]
    },
    {
     "name": "stdout",
     "output_type": "stream",
     "text": [
      "Epoch 1/5\n",
      "9586/9586 [==============================] - 5s 570us/step - loss: 0.7323 - acc: 0.6019\n",
      "Epoch 2/5\n",
      "9586/9586 [==============================] - 5s 520us/step - loss: 0.6378 - acc: 0.6216\n",
      "Epoch 3/5\n",
      "9586/9586 [==============================] - 5s 524us/step - loss: 0.5416 - acc: 0.6891\n",
      "Epoch 4/5\n",
      "9586/9586 [==============================] - 5s 541us/step - loss: 0.3493 - acc: 0.8639\n",
      "Epoch 5/5\n",
      "9586/9586 [==============================] - 5s 523us/step - loss: 0.1991 - acc: 0.9065\n",
      "Model: \"sequential_106\"\n",
      "_________________________________________________________________\n",
      "Layer (type)                 Output Shape              Param #   \n",
      "=================================================================\n",
      "embedding_106 (Embedding)    (None, 1116, 20)          463600    \n",
      "_________________________________________________________________\n",
      "flatten_106 (Flatten)        (None, 22320)             0         \n",
      "_________________________________________________________________\n",
      "dense_111 (Dense)            (None, 1)                 22321     \n",
      "=================================================================\n",
      "Total params: 485,921\n",
      "Trainable params: 485,921\n",
      "Non-trainable params: 0\n",
      "_________________________________________________________________\n",
      "None\n",
      "2397/2397 [==============================] - 0s 137us/step\n"
     ]
    }
   ],
   "source": [
    "import json\n",
    "epochs=5\n",
    "batch_size=None\n",
    "perfs = {}\n",
    "perfs[\"epochs\"] = epochs\n",
    "perfs[\"batch_size\"] = batch_size\n",
    "perfs[\"number_files_used\"] = 12\n",
    "for function in keras_bitcoin.available_activation_functions:\n",
    "    model = keras_bitcoin.get_model(texts_train, labels_train, vocab_length, max_sentence_size, epochs=epochs, batch_size=batch_size, activations_functions=[function])\n",
    "    loss, accuracy = model.evaluate(texts_test, labels_test, verbose=1)\n",
    "    perfs[function] = accuracy\n",
    "    \n",
    "    \n",
    "with open(f\"./keras_stats/ep={epochs}_bats={batch_size}.json\", \"w\") as fp:\n",
    "    json.dump(perfs, fp)"
   ]
  },
  {
   "cell_type": "code",
   "execution_count": 107,
   "metadata": {
    "scrolled": true
   },
   "outputs": [
    {
     "name": "stdout",
     "output_type": "stream",
     "text": [
      "        function       min       max       avg\n",
      "0           tanh  0.000000  0.619942  0.382144\n",
      "1            elu  0.000000  0.589487  0.054955\n",
      "2        softmax  0.617438  0.617438  0.449046\n",
      "3           selu  0.000000  0.622862  0.267266\n",
      "4       softplus  0.415102  0.624948  0.409944\n",
      "5       softsign  0.574885  0.617856  0.441006\n",
      "6           relu  0.000000  0.622028  0.161262\n",
      "7        sigmoid  0.600334  0.626617  0.445102\n",
      "8   hard_sigmoid  0.592407  0.619942  0.445102\n",
      "9    exponential  0.000000  0.624531  0.320514\n",
      "10        linear  0.000000  0.618273  0.208367\n"
     ]
    }
   ],
   "source": [
    "import os\n",
    "import pandas as pd\n",
    "\n",
    "directory = \"./keras_stats/\"\n",
    "dicts = []\n",
    "for file in os.listdir(directory):\n",
    "    f = open(f'{directory}{file}')\n",
    "    dicts.append(json.load(f))\n",
    "\n",
    "functions = keras_bitcoin.available_activation_functions\n",
    "\n",
    "perfs_stats = {\"function\" : [], \"min\" : [], \"max\" : [], \"avg\" : []}\n",
    "for function in functions:\n",
    "    sum_perfs = 0\n",
    "    min_perfs = 1\n",
    "    max_perfs = -1\n",
    "    for dct in dicts:\n",
    "        value = dct[function]\n",
    "        sum_perfs += value\n",
    "        if value > max_perfs:\n",
    "            max_perfs = value\n",
    "        if value < min_perfs:\n",
    "            min_perfs = value\n",
    "    perfs_stats[\"function\"].append(function)\n",
    "    perfs_stats[\"avg\"].append(sum_perfs / len(functions))\n",
    "    perfs_stats[\"max\"].append(max_perfs)\n",
    "    perfs_stats[\"min\"].append(min_perfs)\n",
    "\n",
    "print(pd.DataFrame(perfs_stats))\n",
    "#softmax softplus softsign sigmoid hard_sigmoid  "
   ]
  },
  {
   "cell_type": "code",
   "execution_count": 6,
   "metadata": {},
   "outputs": [],
   "source": [
    "functions = [\"softmax\", \"softplus\", \"softsign\", \"sigmoid\", \"hard_sigmoid\"]\n",
    "def get_combinations(arr):\n",
    "    combinations = []\n",
    "    for i in range(len(arr)):\n",
    "        item = arr[i]\n",
    "        for j in range(i + 1, len(arr)):\n",
    "            combinations.append([item, arr[j]])\n",
    "    return combinations"
   ]
  },
  {
   "cell_type": "code",
   "execution_count": 14,
   "metadata": {},
   "outputs": [
    {
     "name": "stderr",
     "output_type": "stream",
     "text": [
      "C:\\Users\\33777\\Anaconda3\\lib\\site-packages\\tensorflow_core\\python\\framework\\indexed_slices.py:424: UserWarning: Converting sparse IndexedSlices to a dense Tensor of unknown shape. This may consume a large amount of memory.\n",
      "  \"Converting sparse IndexedSlices to a dense Tensor of unknown shape. \"\n"
     ]
    },
    {
     "name": "stdout",
     "output_type": "stream",
     "text": [
      "Model: \"sequential_4\"\n",
      "_________________________________________________________________\n",
      "Layer (type)                 Output Shape              Param #   \n",
      "=================================================================\n",
      "embedding_4 (Embedding)      (None, 1495, 20)          501200    \n",
      "_________________________________________________________________\n",
      "flatten_4 (Flatten)          (None, 29900)             0         \n",
      "_________________________________________________________________\n",
      "dense_10 (Dense)             (None, 1)                 29901     \n",
      "_________________________________________________________________\n",
      "dense_11 (Dense)             (None, 1)                 2         \n",
      "=================================================================\n",
      "Total params: 531,103\n",
      "Trainable params: 531,103\n",
      "Non-trainable params: 0\n",
      "_________________________________________________________________\n",
      "None\n",
      "acc :  0.6556636691093445\n"
     ]
    }
   ],
   "source": [
    "import json\n",
    "\n",
    "epochs = 5\n",
    "batch_size = None\n",
    "perfs = {}\n",
    "perfs[\"number_files_used\"] = 12\n",
    "functions_list = [[\"sigmoid\",\"hard_sigmoid\"]]\n",
    "dropout_value = 0.2\n",
    "for functions in functions_list:\n",
    "    functions = list(functions)\n",
    "    dropouts = {}\n",
    "    #dropouts[functions[0]] = 0.1\n",
    "    #dropouts[functions[1]] = 0.08\n",
    "    model = keras_bitcoin.get_model(texts_train = texts_train, labels_train = labels_train, vocab_length = vocab_length, max_sentence_size = max_sentence_size, epochs = epochs, \n",
    "    batch_size = batch_size, activations_functions = functions, verbose = 0, dropouts = dropouts)\n",
    "    loss, accuracy = model.evaluate(texts_test, labels_test, verbose=0)\n",
    "    #perfs[\"_\".join(functions)] = accuracy\n",
    "    print(\"acc : \", accuracy)\n"
   ]
  },
  {
   "cell_type": "code",
   "execution_count": 96,
   "metadata": {},
   "outputs": [
    {
     "name": "stdout",
     "output_type": "stream",
     "text": [
      "Number Correct/Wrong Guess : 2938/448\n",
      "              Accuracy : 86.7690490253987\n",
      "Invalid sentences count 0\n",
      "Number Correct/Wrong Guess : 0/2560\n",
      "              Accuracy : 0.0\n",
      "Invalid sentences count 0\n",
      "Number Correct/Wrong Guess : 3020/1403\n",
      "              Accuracy : 68.27944833823197\n",
      "Invalid sentences count 0\n",
      "Number Correct/Wrong Guess : 1319/880\n",
      "              Accuracy : 59.9818099135971\n",
      "Invalid sentences count 0\n",
      "Number Correct/Wrong Guess : 853/1376\n",
      "              Accuracy : 38.26828174069089\n",
      "Invalid sentences count 0\n",
      "Number Correct/Wrong Guess : 1038/611\n",
      "              Accuracy : 62.94724075197089\n",
      "Invalid sentences count 0\n",
      "Number Correct/Wrong Guess : 693/574\n",
      "              Accuracy : 54.69613259668509\n",
      "Invalid sentences count 0\n",
      "Number Correct/Wrong Guess : 1418/332\n",
      "              Accuracy : 81.02857142857142\n",
      "Invalid sentences count 0\n",
      "Number Correct/Wrong Guess : 702/1022\n",
      "              Accuracy : 40.71925754060325\n",
      "Invalid sentences count 0\n",
      "Number Correct/Wrong Guess : 722/515\n",
      "              Accuracy : 58.36701697655619\n",
      "Invalid sentences count 2\n",
      "Number Correct/Wrong Guess : 194/956\n",
      "              Accuracy : 16.869565217391305\n",
      "Invalid sentences count 0\n",
      "Number Correct/Wrong Guess : 718/76\n",
      "              Accuracy : 90.42821158690177\n",
      "Invalid sentences count 0\n",
      "Number Correct/Wrong Guess : 3/478\n",
      "              Accuracy : 0.6237006237006237\n",
      "Invalid sentences count 0\n",
      "Number Correct/Wrong Guess : 714/228\n",
      "              Accuracy : 75.79617834394905\n",
      "Invalid sentences count 0\n",
      "Number Correct/Wrong Guess : 944/139\n",
      "              Accuracy : 87.16528162511543\n",
      "Invalid sentences count 0\n",
      "Number Correct/Wrong Guess : 247/346\n",
      "              Accuracy : 41.65261382799326\n",
      "Invalid sentences count 0\n",
      "Number Correct/Wrong Guess : 779/341\n",
      "              Accuracy : 69.55357142857143\n",
      "Invalid sentences count 0\n",
      "Number Correct/Wrong Guess : 477/153\n",
      "              Accuracy : 75.71428571428571\n",
      "Invalid sentences count 0\n",
      "Number Correct/Wrong Guess : 292/153\n",
      "              Accuracy : 65.61797752808988\n",
      "Invalid sentences count 0\n",
      "Number Correct/Wrong Guess : 1297/62\n",
      "              Accuracy : 95.43782192788815\n",
      "Invalid sentences count 0\n",
      "Number Correct/Wrong Guess : 211/448\n",
      "              Accuracy : 32.01820940819423\n",
      "Invalid sentences count 1\n",
      "Number Correct/Wrong Guess : 61/179\n",
      "              Accuracy : 25.416666666666664\n",
      "Invalid sentences count 0\n",
      "Number Correct/Wrong Guess : 274/752\n",
      "              Accuracy : 26.705653021442494\n",
      "Invalid sentences count 0\n",
      "Number Correct/Wrong Guess : 183/250\n",
      "              Accuracy : 42.263279445727484\n",
      "Invalid sentences count 0\n",
      "Number Correct/Wrong Guess : 892/362\n",
      "              Accuracy : 71.1323763955343\n",
      "Invalid sentences count 0\n",
      "Number Correct/Wrong Guess : 295/439\n",
      "              Accuracy : 40.19073569482289\n",
      "Invalid sentences count 0\n",
      "Number Correct/Wrong Guess : 396/99\n",
      "              Accuracy : 80.0\n",
      "Invalid sentences count 0\n",
      "Number Correct/Wrong Guess : 131/14\n",
      "              Accuracy : 90.3448275862069\n",
      "Invalid sentences count 0\n",
      "Number Correct/Wrong Guess : 154/114\n",
      "              Accuracy : 57.46268656716418\n",
      "Invalid sentences count 0\n",
      "Number Correct/Wrong Guess : 151/343\n",
      "              Accuracy : 30.5668016194332\n",
      "Invalid sentences count 0\n",
      "Number Correct/Wrong Guess : 332/227\n",
      "              Accuracy : 59.391771019677996\n",
      "Invalid sentences count 0\n",
      "Number Correct/Wrong Guess : 101/163\n",
      "              Accuracy : 38.25757575757576\n",
      "Invalid sentences count 0\n",
      "Number Correct/Wrong Guess : 304/11\n",
      "              Accuracy : 96.5079365079365\n",
      "Invalid sentences count 0\n",
      "Number Correct/Wrong Guess : 529/464\n",
      "              Accuracy : 53.272910372608266\n",
      "Invalid sentences count 0\n",
      "Number Correct/Wrong Guess : 7/139\n",
      "              Accuracy : 4.794520547945205\n",
      "Invalid sentences count 0\n",
      "Number Correct/Wrong Guess : 2/76\n",
      "              Accuracy : 2.564102564102564\n",
      "Invalid sentences count 0\n",
      "Number Correct/Wrong Guess : 42/271\n",
      "              Accuracy : 13.418530351437699\n",
      "Invalid sentences count 0\n",
      "Number Correct/Wrong Guess : 5/2\n",
      "              Accuracy : 71.42857142857143\n",
      "Invalid sentences count 0\n",
      "Number Correct/Wrong Guess : 5/231\n",
      "              Accuracy : 2.11864406779661\n",
      "Invalid sentences count 0\n",
      "Number Correct/Wrong Guess : 125/62\n",
      "              Accuracy : 66.84491978609626\n",
      "Invalid sentences count 0\n",
      "Number Correct/Wrong Guess : 8/204\n",
      "              Accuracy : 3.7735849056603774\n",
      "Invalid sentences count 0\n",
      "Number Correct/Wrong Guess : 10/158\n",
      "              Accuracy : 5.952380952380952\n",
      "Invalid sentences count 2\n",
      "Number Correct/Wrong Guess : 45/5\n",
      "              Accuracy : 90.0\n",
      "Invalid sentences count 0\n",
      "Number Correct/Wrong Guess : 313/66\n",
      "              Accuracy : 82.58575197889182\n",
      "Invalid sentences count 0\n",
      "Number Correct/Wrong Guess : 3/167\n",
      "              Accuracy : 1.7647058823529411\n",
      "Invalid sentences count 0\n",
      "Number Correct/Wrong Guess : 156/10\n",
      "              Accuracy : 93.97590361445783\n",
      "Invalid sentences count 0\n",
      "Number Correct/Wrong Guess : 22/46\n",
      "              Accuracy : 32.35294117647059\n",
      "Invalid sentences count 0\n",
      "Number Correct/Wrong Guess : 0/472\n",
      "              Accuracy : 0.0\n",
      "Invalid sentences count 0\n",
      "Number Correct/Wrong Guess : 106/1\n",
      "              Accuracy : 99.06542056074767\n",
      "Invalid sentences count 0\n",
      "Number Correct/Wrong Guess : 200/5\n",
      "              Accuracy : 97.5609756097561\n",
      "Invalid sentences count 0\n",
      "Number Correct/Wrong Guess : 2/18\n",
      "              Accuracy : 10.0\n",
      "Invalid sentences count 0\n",
      "Number Correct/Wrong Guess : 90/8\n",
      "              Accuracy : 91.83673469387756\n",
      "Invalid sentences count 0\n",
      "Number Correct/Wrong Guess : 338/90\n",
      "              Accuracy : 78.97196261682244\n",
      "Invalid sentences count 0\n",
      "Number Correct/Wrong Guess : 12/28\n",
      "              Accuracy : 30.0\n",
      "Invalid sentences count 0\n",
      "Number Correct/Wrong Guess : 118/2\n",
      "              Accuracy : 98.33333333333333\n",
      "Invalid sentences count 0\n",
      "Number Correct/Wrong Guess : 2/16\n",
      "              Accuracy : 11.11111111111111\n",
      "Invalid sentences count 0\n",
      "Number Correct/Wrong Guess : 6/158\n",
      "              Accuracy : 3.6585365853658534\n",
      "Invalid sentences count 0\n",
      "Number Correct/Wrong Guess : 41/10\n",
      "              Accuracy : 80.3921568627451\n",
      "Invalid sentences count 0\n",
      "Number Correct/Wrong Guess : 19/71\n",
      "              Accuracy : 21.11111111111111\n",
      "Invalid sentences count 0\n",
      "Number Correct/Wrong Guess : 57/2\n",
      "              Accuracy : 96.61016949152543\n",
      "Invalid sentences count 0\n",
      "Number Correct/Wrong Guess : 15/27\n",
      "              Accuracy : 35.714285714285715\n",
      "Invalid sentences count 0\n",
      "Number Correct/Wrong Guess : 212/5\n",
      "              Accuracy : 97.6958525345622\n",
      "Invalid sentences count 0\n",
      "Number Correct/Wrong Guess : 4/82\n",
      "              Accuracy : 4.651162790697675\n",
      "Invalid sentences count 0\n",
      "Number Correct/Wrong Guess : 6/51\n",
      "              Accuracy : 10.526315789473683\n",
      "Invalid sentences count 0\n",
      "Number Correct/Wrong Guess : 0/68\n",
      "              Accuracy : 0.0\n",
      "Invalid sentences count 0\n",
      "Number Correct/Wrong Guess : 8/98\n",
      "              Accuracy : 7.547169811320755\n",
      "Invalid sentences count 0\n",
      "Number Correct/Wrong Guess : 162/3\n",
      "              Accuracy : 98.18181818181819\n",
      "Invalid sentences count 0\n",
      "Number Correct/Wrong Guess : 94/3\n",
      "              Accuracy : 96.90721649484536\n",
      "Invalid sentences count 0\n"
     ]
    },
    {
     "ename": "ZeroDivisionError",
     "evalue": "division by zero",
     "output_type": "error",
     "traceback": [
      "\u001b[1;31m---------------------------------------------------------------------------\u001b[0m",
      "\u001b[1;31mZeroDivisionError\u001b[0m                         Traceback (most recent call last)",
      "\u001b[1;32m<ipython-input-96-eb2805cffdd4>\u001b[0m in \u001b[0;36m<module>\u001b[1;34m\u001b[0m\n\u001b[0;32m      5\u001b[0m     \u001b[0mdf_test\u001b[0m\u001b[1;33m[\u001b[0m\u001b[1;34m\"preds\"\u001b[0m\u001b[1;33m]\u001b[0m \u001b[1;33m=\u001b[0m \u001b[0mlist\u001b[0m\u001b[1;33m(\u001b[0m\u001b[0mmap\u001b[0m\u001b[1;33m(\u001b[0m\u001b[1;32mlambda\u001b[0m \u001b[0mx\u001b[0m \u001b[1;33m:\u001b[0m \u001b[0mint\u001b[0m\u001b[1;33m(\u001b[0m\u001b[0mx\u001b[0m\u001b[1;33m)\u001b[0m\u001b[1;33m,\u001b[0m \u001b[0mpreds\u001b[0m\u001b[1;33m)\u001b[0m\u001b[1;33m)\u001b[0m\u001b[1;33m\u001b[0m\u001b[1;33m\u001b[0m\u001b[0m\n\u001b[0;32m      6\u001b[0m     \u001b[0mdf_test\u001b[0m\u001b[1;33m[\u001b[0m\u001b[1;34m\"correct\"\u001b[0m\u001b[1;33m]\u001b[0m \u001b[1;33m=\u001b[0m \u001b[0mnp\u001b[0m\u001b[1;33m.\u001b[0m\u001b[0mequal\u001b[0m\u001b[1;33m(\u001b[0m\u001b[0mpreds\u001b[0m\u001b[1;33m,\u001b[0m \u001b[0mdf_test\u001b[0m\u001b[1;33m[\u001b[0m\u001b[1;34m\"label\"\u001b[0m\u001b[1;33m]\u001b[0m\u001b[1;33m)\u001b[0m\u001b[1;33m\u001b[0m\u001b[1;33m\u001b[0m\u001b[0m\n\u001b[1;32m----> 7\u001b[1;33m     \u001b[0mdataset\u001b[0m\u001b[1;33m.\u001b[0m\u001b[0mget_prediction_stats\u001b[0m\u001b[1;33m(\u001b[0m\u001b[0mdf_test\u001b[0m\u001b[1;33m)\u001b[0m\u001b[1;33m\u001b[0m\u001b[1;33m\u001b[0m\u001b[0m\n\u001b[0m\u001b[0;32m      8\u001b[0m     \u001b[0mlast_date\u001b[0m \u001b[1;33m=\u001b[0m \u001b[0mlist\u001b[0m\u001b[1;33m(\u001b[0m\u001b[0mdf_test\u001b[0m\u001b[1;33m[\u001b[0m\u001b[1;34m\"date\"\u001b[0m\u001b[1;33m]\u001b[0m\u001b[1;33m)\u001b[0m\u001b[1;33m[\u001b[0m\u001b[1;33m-\u001b[0m\u001b[1;36m1\u001b[0m\u001b[1;33m]\u001b[0m\u001b[1;33m\u001b[0m\u001b[1;33m\u001b[0m\u001b[0m\n",
      "\u001b[1;32m~\\Desktop\\ESILV\\A5\\FeelCrypt\\Valentin\\dataset.py\u001b[0m in \u001b[0;36mget_prediction_stats\u001b[1;34m(df_prediction)\u001b[0m\n\u001b[0;32m     67\u001b[0m \u001b[1;33m\u001b[0m\u001b[0m\n\u001b[0;32m     68\u001b[0m     print(f\"\"\"Number Correct/Wrong Guess : {correct_pred}/{wrong_pred}\n\u001b[1;32m---> 69\u001b[1;33m               Accuracy : {(correct_pred/(correct_pred + wrong_pred)) * 100}\"\"\" )\n\u001b[0m\u001b[0;32m     70\u001b[0m     \u001b[0mprint\u001b[0m\u001b[1;33m(\u001b[0m\u001b[1;34m\"Invalid sentences count\"\u001b[0m\u001b[1;33m,\u001b[0m \u001b[0mcollections\u001b[0m\u001b[1;33m.\u001b[0m\u001b[0mCounter\u001b[0m\u001b[1;33m(\u001b[0m\u001b[0mdf_prediction\u001b[0m\u001b[1;33m[\u001b[0m\u001b[1;34m\"preds\"\u001b[0m\u001b[1;33m]\u001b[0m\u001b[1;33m)\u001b[0m\u001b[1;33m[\u001b[0m\u001b[1;33m-\u001b[0m\u001b[1;36m1\u001b[0m\u001b[1;33m]\u001b[0m\u001b[1;33m)\u001b[0m\u001b[1;33m\u001b[0m\u001b[1;33m\u001b[0m\u001b[0m\n\u001b[0;32m     71\u001b[0m \u001b[1;33m\u001b[0m\u001b[0m\n",
      "\u001b[1;31mZeroDivisionError\u001b[0m: division by zero"
     ]
    }
   ],
   "source": [
    "last_date = \"2010-10-11\"\n",
    "for i in range(200):\n",
    "    df_test = dataset.get_labeled_dataset(number_of_file = 5, from_date = last_date, date_included = False)\n",
    "    preds = keras_bitcoin.get_predictions(list(df_test[\"text\"]), model, vocab_length, max_sentence_size)\n",
    "    df_test[\"preds\"] = list(map(lambda x : int(x), preds))\n",
    "    df_test[\"correct\"] = np.equal(preds, df_test[\"label\"])\n",
    "    #dataset.get_prediction_stats(df_test)\n",
    "    last_date = list(df_test[\"date\"])[-1]"
   ]
  },
  {
   "cell_type": "code",
   "execution_count": null,
   "metadata": {},
   "outputs": [],
   "source": [
    " functions = [\"softmax\", \"softplus\", \"softsign\", \"sigmoid\", \"hard_sigmoid\"]\n",
    "    ''' \"softmax_softplus\": 0.6580958962440491,\n",
    "  \"softmax_softsign\": 0.6580958962440491,\n",
    "  \"softmax_sigmoid\": 0.6580958962440491,\n",
    "  \"softmax_hard_sigmoid\": 0.6580958962440491,\n",
    "  \"softplus_softsign\": 0.6580958962440491,\n",
    "  \"softplus_sigmoid\": 0.7466990947723389,\n",
    "  \"softplus_hard_sigmoid\": 0.6580958962440491,\n",
    "  \"softsign_sigmoid\": 0.7289784550666809,\n",
    "  \"softsign_hard_sigmoid\": 0.7338429689407349,\n",
    "  \"sigmoid_hard_sigmoid\": 0.7515636086463928'''\n",
    "    \n",
    "    {\n",
    "  \"softplus_sigmoid\": 0.7466990947723389,\n",
    "  \"softsign_sigmoid\": 0.7289784550666809,\n",
    "  \"softsign_hard_sigmoid\": 0.7338429689407349,\n",
    "  \"sigmoid_hard_sigmoid\": 0.7515636086463928\n",
    "}\n",
    "[[\"softplus\", \"sigmoid\"], [\"softsign\", \"sigmoid\"], [\"softsign\", \"hard_sigmoid\"], [\"sigmoid\", \"hard_sigmoid\"]]"
   ]
  }
 ],
 "metadata": {
  "kernelspec": {
   "display_name": "Python 3",
   "language": "python",
   "name": "python3"
  },
  "language_info": {
   "codemirror_mode": {
    "name": "ipython",
    "version": 3
   },
   "file_extension": ".py",
   "mimetype": "text/x-python",
   "name": "python",
   "nbconvert_exporter": "python",
   "pygments_lexer": "ipython3",
   "version": "3.7.3"
  }
 },
 "nbformat": 4,
 "nbformat_minor": 2
}
