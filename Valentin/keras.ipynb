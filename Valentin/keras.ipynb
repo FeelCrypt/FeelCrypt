{
 "cells": [
  {
   "cell_type": "code",
   "execution_count": 1,
   "metadata": {},
   "outputs": [
    {
     "name": "stderr",
     "output_type": "stream",
     "text": [
      "Using TensorFlow backend.\n"
     ]
    }
   ],
   "source": [
    "import keras_bitcoin\n",
    "import dataset"
   ]
  },
  {
   "cell_type": "code",
   "execution_count": 2,
   "metadata": {},
   "outputs": [],
   "source": [
    "df = dataset.get_labeled_dataset()"
   ]
  },
  {
   "cell_type": "code",
   "execution_count": 4,
   "metadata": {},
   "outputs": [],
   "source": [
    "texts = df[\"text\"]\n",
    "labels = df[\"label\"]"
   ]
  },
  {
   "cell_type": "code",
   "execution_count": 6,
   "metadata": {},
   "outputs": [
    {
     "name": "stderr",
     "output_type": "stream",
     "text": [
      "C:\\Users\\33777\\Anaconda3\\lib\\site-packages\\tensorflow_core\\python\\framework\\indexed_slices.py:424: UserWarning: Converting sparse IndexedSlices to a dense Tensor of unknown shape. This may consume a large amount of memory.\n",
      "  \"Converting sparse IndexedSlices to a dense Tensor of unknown shape. \"\n"
     ]
    },
    {
     "name": "stdout",
     "output_type": "stream",
     "text": [
      "Epoch 1/100\n",
      "770/770 [==============================] - 1s 804us/step - loss: 0.7033 - acc: 0.5065\n",
      "Epoch 2/100\n",
      "770/770 [==============================] - 0s 456us/step - loss: 0.6888 - acc: 0.5312\n",
      "Epoch 3/100\n",
      "770/770 [==============================] - 0s 384us/step - loss: 0.6860 - acc: 0.5260\n",
      "Epoch 4/100\n",
      "770/770 [==============================] - 0s 391us/step - loss: 0.6625 - acc: 0.6039\n",
      "Epoch 5/100\n",
      "770/770 [==============================] - 0s 396us/step - loss: 0.6349 - acc: 0.8351\n",
      "Epoch 6/100\n",
      "770/770 [==============================] - 0s 403us/step - loss: 0.5988 - acc: 0.8065\n",
      "Epoch 7/100\n",
      "770/770 [==============================] - 0s 371us/step - loss: 0.5434 - acc: 0.8571\n",
      "Epoch 8/100\n",
      "770/770 [==============================] - 0s 370us/step - loss: 0.4902 - acc: 0.9273\n",
      "Epoch 9/100\n",
      "770/770 [==============================] - 0s 378us/step - loss: 0.4351 - acc: 0.9532\n",
      "Epoch 10/100\n",
      "770/770 [==============================] - 0s 375us/step - loss: 0.3857 - acc: 0.9506\n",
      "Epoch 11/100\n",
      "770/770 [==============================] - 0s 399us/step - loss: 0.3401 - acc: 0.9610\n",
      "Epoch 12/100\n",
      "770/770 [==============================] - 0s 451us/step - loss: 0.3018 - acc: 0.9636\n",
      "Epoch 13/100\n",
      "770/770 [==============================] - 0s 453us/step - loss: 0.2693 - acc: 0.9636\n",
      "Epoch 14/100\n",
      "770/770 [==============================] - 0s 418us/step - loss: 0.2411 - acc: 0.9649\n",
      "Epoch 15/100\n",
      "770/770 [==============================] - 0s 462us/step - loss: 0.2166 - acc: 0.9688\n",
      "Epoch 16/100\n",
      "770/770 [==============================] - 0s 390us/step - loss: 0.1963 - acc: 0.9727\n",
      "Epoch 17/100\n",
      "770/770 [==============================] - 0s 425us/step - loss: 0.1787 - acc: 0.9740\n",
      "Epoch 18/100\n",
      "770/770 [==============================] - 0s 400us/step - loss: 0.1644 - acc: 0.9714\n",
      "Epoch 19/100\n",
      "770/770 [==============================] - 0s 387us/step - loss: 0.1513 - acc: 0.9753\n",
      "Epoch 20/100\n",
      "770/770 [==============================] - 0s 384us/step - loss: 0.1403 - acc: 0.9727\n",
      "Epoch 21/100\n",
      "770/770 [==============================] - 0s 410us/step - loss: 0.1306 - acc: 0.9779\n",
      "Epoch 22/100\n",
      "770/770 [==============================] - 0s 386us/step - loss: 0.1224 - acc: 0.9779\n",
      "Epoch 23/100\n",
      "770/770 [==============================] - 0s 381us/step - loss: 0.1150 - acc: 0.9766\n",
      "Epoch 24/100\n",
      "770/770 [==============================] - 0s 394us/step - loss: 0.1080 - acc: 0.9779\n",
      "Epoch 25/100\n",
      "770/770 [==============================] - 0s 395us/step - loss: 0.1020 - acc: 0.9779\n",
      "Epoch 26/100\n",
      "770/770 [==============================] - 0s 397us/step - loss: 0.0972 - acc: 0.9792\n",
      "Epoch 27/100\n",
      "770/770 [==============================] - 0s 455us/step - loss: 0.0920 - acc: 0.9779\n",
      "Epoch 28/100\n",
      "770/770 [==============================] - 0s 416us/step - loss: 0.0880 - acc: 0.9779\n",
      "Epoch 29/100\n",
      "770/770 [==============================] - 0s 409us/step - loss: 0.0839 - acc: 0.9805\n",
      "Epoch 30/100\n",
      "770/770 [==============================] - 0s 445us/step - loss: 0.0806 - acc: 0.9805\n",
      "Epoch 31/100\n",
      "770/770 [==============================] - 0s 394us/step - loss: 0.0772 - acc: 0.9805\n",
      "Epoch 32/100\n",
      "770/770 [==============================] - 0s 403us/step - loss: 0.0746 - acc: 0.9805\n",
      "Epoch 33/100\n",
      "770/770 [==============================] - 0s 407us/step - loss: 0.0719 - acc: 0.9818\n",
      "Epoch 34/100\n",
      "770/770 [==============================] - 0s 388us/step - loss: 0.0696 - acc: 0.9818\n",
      "Epoch 35/100\n",
      "770/770 [==============================] - 0s 392us/step - loss: 0.0674 - acc: 0.9818\n",
      "Epoch 36/100\n",
      "770/770 [==============================] - 0s 378us/step - loss: 0.0653 - acc: 0.9818\n",
      "Epoch 37/100\n",
      "770/770 [==============================] - 0s 401us/step - loss: 0.0646 - acc: 0.9818\n",
      "Epoch 38/100\n",
      "770/770 [==============================] - 0s 378us/step - loss: 0.0628 - acc: 0.9792\n",
      "Epoch 39/100\n",
      "770/770 [==============================] - 0s 369us/step - loss: 0.0607 - acc: 0.9792\n",
      "Epoch 40/100\n",
      "770/770 [==============================] - 0s 383us/step - loss: 0.0592 - acc: 0.9818\n",
      "Epoch 41/100\n",
      "770/770 [==============================] - 0s 365us/step - loss: 0.0578 - acc: 0.9818\n",
      "Epoch 42/100\n",
      "770/770 [==============================] - 0s 361us/step - loss: 0.0567 - acc: 0.9818\n",
      "Epoch 43/100\n",
      "770/770 [==============================] - 0s 362us/step - loss: 0.0549 - acc: 0.9818\n",
      "Epoch 44/100\n",
      "770/770 [==============================] - 0s 371us/step - loss: 0.0543 - acc: 0.9818\n",
      "Epoch 45/100\n",
      "770/770 [==============================] - 0s 371us/step - loss: 0.0533 - acc: 0.9818\n",
      "Epoch 46/100\n",
      "770/770 [==============================] - 0s 369us/step - loss: 0.0525 - acc: 0.9818\n",
      "Epoch 47/100\n",
      "770/770 [==============================] - 0s 412us/step - loss: 0.0515 - acc: 0.9818\n",
      "Epoch 48/100\n",
      "770/770 [==============================] - 0s 394us/step - loss: 0.0510 - acc: 0.9831\n",
      "Epoch 49/100\n",
      "770/770 [==============================] - 0s 387us/step - loss: 0.0503 - acc: 0.9831\n",
      "Epoch 50/100\n",
      "770/770 [==============================] - 0s 404us/step - loss: 0.0495 - acc: 0.9831\n",
      "Epoch 51/100\n",
      "770/770 [==============================] - 0s 397us/step - loss: 0.0488 - acc: 0.9831\n",
      "Epoch 52/100\n",
      "770/770 [==============================] - 0s 373us/step - loss: 0.0484 - acc: 0.9831\n",
      "Epoch 53/100\n",
      "770/770 [==============================] - 0s 365us/step - loss: 0.0478 - acc: 0.9831\n",
      "Epoch 54/100\n",
      "770/770 [==============================] - 0s 370us/step - loss: 0.0473 - acc: 0.9831\n",
      "Epoch 55/100\n",
      "770/770 [==============================] - 0s 399us/step - loss: 0.0468 - acc: 0.9831\n",
      "Epoch 56/100\n",
      "770/770 [==============================] - 0s 381us/step - loss: 0.0468 - acc: 0.9831\n",
      "Epoch 57/100\n",
      "770/770 [==============================] - 0s 383us/step - loss: 0.0465 - acc: 0.9805\n",
      "Epoch 58/100\n",
      "770/770 [==============================] - 0s 368us/step - loss: 0.0458 - acc: 0.9818\n",
      "Epoch 59/100\n",
      "770/770 [==============================] - 0s 453us/step - loss: 0.0452 - acc: 0.9831\n",
      "Epoch 60/100\n",
      "770/770 [==============================] - 0s 443us/step - loss: 0.0451 - acc: 0.9805\n",
      "Epoch 61/100\n",
      "770/770 [==============================] - 0s 413us/step - loss: 0.0447 - acc: 0.9805\n",
      "Epoch 62/100\n",
      "770/770 [==============================] - 0s 383us/step - loss: 0.0442 - acc: 0.9805\n",
      "Epoch 63/100\n",
      "770/770 [==============================] - 0s 416us/step - loss: 0.0440 - acc: 0.9831\n",
      "Epoch 64/100\n",
      "770/770 [==============================] - 0s 418us/step - loss: 0.0435 - acc: 0.9831\n",
      "Epoch 65/100\n",
      "770/770 [==============================] - 0s 431us/step - loss: 0.0435 - acc: 0.9831\n",
      "Epoch 66/100\n",
      "770/770 [==============================] - 0s 474us/step - loss: 0.0428 - acc: 0.9831 0s - loss: 0.0511 - acc: 0.\n",
      "Epoch 67/100\n",
      "770/770 [==============================] - 0s 451us/step - loss: 0.0426 - acc: 0.9831\n",
      "Epoch 68/100\n",
      "770/770 [==============================] - 0s 420us/step - loss: 0.0425 - acc: 0.9831\n",
      "Epoch 69/100\n",
      "770/770 [==============================] - 0s 401us/step - loss: 0.0421 - acc: 0.9831 0s - loss: 0.0589 - acc: 0.\n",
      "Epoch 70/100\n",
      "770/770 [==============================] - 0s 396us/step - loss: 0.0418 - acc: 0.9831\n",
      "Epoch 71/100\n",
      "770/770 [==============================] - 0s 400us/step - loss: 0.0417 - acc: 0.9831\n",
      "Epoch 72/100\n",
      "770/770 [==============================] - 0s 429us/step - loss: 0.0414 - acc: 0.9831\n",
      "Epoch 73/100\n",
      "770/770 [==============================] - 0s 405us/step - loss: 0.0413 - acc: 0.9831\n",
      "Epoch 74/100\n",
      "770/770 [==============================] - 0s 417us/step - loss: 0.0411 - acc: 0.9831\n",
      "Epoch 75/100\n",
      "770/770 [==============================] - 0s 405us/step - loss: 0.0410 - acc: 0.9831\n",
      "Epoch 76/100\n",
      "770/770 [==============================] - 0s 405us/step - loss: 0.0407 - acc: 0.9831\n",
      "Epoch 77/100\n",
      "770/770 [==============================] - 0s 397us/step - loss: 0.0407 - acc: 0.9831\n",
      "Epoch 78/100\n",
      "770/770 [==============================] - 0s 404us/step - loss: 0.0404 - acc: 0.9831\n",
      "Epoch 79/100\n",
      "770/770 [==============================] - 0s 408us/step - loss: 0.0402 - acc: 0.9831\n",
      "Epoch 80/100\n",
      "770/770 [==============================] - 0s 400us/step - loss: 0.0400 - acc: 0.9831\n",
      "Epoch 81/100\n",
      "770/770 [==============================] - 0s 416us/step - loss: 0.0398 - acc: 0.9831\n",
      "Epoch 82/100\n",
      "770/770 [==============================] - 0s 395us/step - loss: 0.0401 - acc: 0.9831\n",
      "Epoch 83/100\n"
     ]
    },
    {
     "name": "stdout",
     "output_type": "stream",
     "text": [
      "770/770 [==============================] - 0s 382us/step - loss: 0.0401 - acc: 0.9831\n",
      "Epoch 84/100\n",
      "770/770 [==============================] - 0s 387us/step - loss: 0.0395 - acc: 0.9831\n",
      "Epoch 85/100\n",
      "770/770 [==============================] - 0s 370us/step - loss: 0.0395 - acc: 0.9831\n",
      "Epoch 86/100\n",
      "770/770 [==============================] - 0s 364us/step - loss: 0.0394 - acc: 0.9831\n",
      "Epoch 87/100\n",
      "770/770 [==============================] - 0s 361us/step - loss: 0.0395 - acc: 0.9831\n",
      "Epoch 88/100\n",
      "770/770 [==============================] - 0s 377us/step - loss: 0.0409 - acc: 0.9805\n",
      "Epoch 89/100\n",
      "770/770 [==============================] - 0s 382us/step - loss: 0.0394 - acc: 0.9818 0s - loss: 0.0347 - acc: 0.98\n",
      "Epoch 90/100\n",
      "770/770 [==============================] - 0s 381us/step - loss: 0.0395 - acc: 0.9831\n",
      "Epoch 91/100\n",
      "770/770 [==============================] - 0s 375us/step - loss: 0.0388 - acc: 0.9831\n",
      "Epoch 92/100\n",
      "770/770 [==============================] - 0s 368us/step - loss: 0.0387 - acc: 0.9831\n",
      "Epoch 93/100\n",
      "770/770 [==============================] - 0s 405us/step - loss: 0.0388 - acc: 0.9831\n",
      "Epoch 94/100\n",
      "770/770 [==============================] - 0s 471us/step - loss: 0.0389 - acc: 0.9831\n",
      "Epoch 95/100\n",
      "770/770 [==============================] - 0s 357us/step - loss: 0.0387 - acc: 0.9831\n",
      "Epoch 96/100\n",
      "770/770 [==============================] - 0s 392us/step - loss: 0.0391 - acc: 0.9831\n",
      "Epoch 97/100\n",
      "770/770 [==============================] - 0s 394us/step - loss: 0.0384 - acc: 0.9831\n",
      "Epoch 98/100\n",
      "770/770 [==============================] - 0s 377us/step - loss: 0.0393 - acc: 0.9831\n",
      "Epoch 99/100\n",
      "770/770 [==============================] - 0s 386us/step - loss: 0.0391 - acc: 0.9831 0s - loss: 0.0290 - acc: 0.9\n",
      "Epoch 100/100\n",
      "770/770 [==============================] - 0s 382us/step - loss: 0.0387 - acc: 0.9831\n"
     ]
    }
   ],
   "source": [
    "texts_train, texts_test , labels_train, labels_test, vocab_length, max_sentence_size = keras_bitcoin.get_train_test_data(texts, labels)\n",
    "model = keras_bitcoin.get_model(texts_train, labels_train, vocab_length, max_sentence_size)"
   ]
  },
  {
   "cell_type": "markdown",
   "metadata": {},
   "source": [
    "### 4) Get Predictions"
   ]
  },
  {
   "cell_type": "code",
   "execution_count": 14,
   "metadata": {},
   "outputs": [],
   "source": [
    "new_text = [\n",
    "    \"bitcoins sucks\",\n",
    "    \"yip yip\"\n",
    "]"
   ]
  },
  {
   "cell_type": "code",
   "execution_count": 15,
   "metadata": {},
   "outputs": [
    {
     "data": {
      "text/plain": [
       "{'bitcoins sucks': 0.0}"
      ]
     },
     "execution_count": 15,
     "metadata": {},
     "output_type": "execute_result"
    }
   ],
   "source": [
    "keras_bitcoin.get_predictions(new_text, model, vocab_length, max_sentence_size)"
   ]
  },
  {
   "cell_type": "markdown",
   "metadata": {},
   "source": [
    "### 5) Model Evaluation"
   ]
  },
  {
   "cell_type": "code",
   "execution_count": 7,
   "metadata": {},
   "outputs": [
    {
     "name": "stdout",
     "output_type": "stream",
     "text": [
      "193/193 [==============================] - 0s 404us/step\n",
      "Accuracy: 69.948184\n"
     ]
    }
   ],
   "source": [
    "loss, accuracy = model.evaluate(texts_test, labels_test, verbose=1)\n",
    "print('Accuracy: %f' % (accuracy*100))"
   ]
  }
 ],
 "metadata": {
  "kernelspec": {
   "display_name": "Python 3",
   "language": "python",
   "name": "python3"
  },
  "language_info": {
   "codemirror_mode": {
    "name": "ipython",
    "version": 3
   },
   "file_extension": ".py",
   "mimetype": "text/x-python",
   "name": "python",
   "nbconvert_exporter": "python",
   "pygments_lexer": "ipython3",
   "version": "3.7.3"
  }
 },
 "nbformat": 4,
 "nbformat_minor": 2
}
