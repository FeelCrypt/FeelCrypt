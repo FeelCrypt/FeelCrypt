{
 "cells": [
  {
   "cell_type": "code",
   "execution_count": 1,
   "metadata": {},
   "outputs": [
    {
     "name": "stderr",
     "output_type": "stream",
     "text": [
      "Using TensorFlow backend.\n"
     ]
    }
   ],
   "source": [
    "import keras_bitcoin\n",
    "import dataset\n",
    "import collections\n",
    "import pandas as pd\n",
    "from itertools import permutations, combinations\n",
    "from sklearn.model_selection import train_test_split"
   ]
  },
  {
   "cell_type": "code",
   "execution_count": 14,
   "metadata": {},
   "outputs": [
    {
     "name": "stdout",
     "output_type": "stream",
     "text": [
      "Number of files loaded :  202\n",
      "Counter({4: 12161, 2: 9441, 1: 7535, 5: 5394, 3: 1868})\n",
      "(36399, 8)\n",
      "                                                text  label        date  \\\n",
      "0          So how does that make it not a currency?       3  2018-01-03   \n",
      "1  I didn't say it wasn't a currency, I'm just sa...      3  2018-01-03   \n",
      "2  I don't think spam has ever been a problem in ...      3  2018-01-03   \n",
      "3  It was electrum wallet bro ._.\\r\\nMy transacti...      3  2018-01-03   \n",
      "4  My laptop has 4 GB Ram, I think it can handle ...      3  2018-01-03   \n",
      "\n",
      "   score  nb_replies  stickied  label_m1  label_m2  \n",
      "0      2           1     False         4         5  \n",
      "1      1           0     False         4         5  \n",
      "2      1           1     False         4         5  \n",
      "3      1           0     False         4         5  \n",
      "4      1           0     False         4         5  \n"
     ]
    }
   ],
   "source": [
    "#df = pd.read_csv(\"../Data/LDA_Data/reduceData3.csv\")\n",
    "#df = dataset.put_on_label_dataset(df, \"day\", binary=False, values = [-0.5, -0.2, 0.2, 0.5])\n",
    "\n",
    "df = dataset.get_labeled_dataset(number_of_file=200, binary= False, values = [-5, -0.2, 0.2, 5], from_date = \"2018-01-01\")\n",
    "print(collections.Counter(df[\"label\"]))\n",
    "\n",
    "#df = dataset.put_on_label_dataset(df, \"date\")\n",
    "df.head()\n",
    "print(df.shape)\n",
    "print(df.head())"
   ]
  },
  {
   "cell_type": "code",
   "execution_count": 15,
   "metadata": {},
   "outputs": [],
   "source": [
    "texts = df[\"text\"]\n",
    "labels = df[\"label\"]\n",
    "texts_train, texts_test , labels_train, labels_test, vocab_length, max_sentence_size\\\n",
    "= keras_bitcoin.get_train_test_data(texts, labels)"
   ]
  },
  {
   "cell_type": "code",
   "execution_count": 16,
   "metadata": {},
   "outputs": [
    {
     "name": "stdout",
     "output_type": "stream",
     "text": [
      "0.33145604395604394\n"
     ]
    }
   ],
   "source": [
    "from xgboost import XGBClassifier\n",
    "from sklearn.metrics import accuracy_score\n",
    "\n",
    "xg_class = XGBClassifier(objective ='reg:tweedie',\n",
    "                         max_depth = 8,\n",
    "                         n_estimators = 100,\n",
    "                         eta = 0.5,\n",
    "                         )\n",
    "xg_class.fit(texts_train,labels_train)\n",
    "preds = xg_class.predict(texts_test)\n",
    "accuracy = accuracy_score(labels_test, preds)\n",
    "print(accuracy)"
   ]
  },
  {
   "cell_type": "code",
   "execution_count": 17,
   "metadata": {},
   "outputs": [
    {
     "data": {
      "text/plain": [
       "3.1414835164835164"
      ]
     },
     "execution_count": 17,
     "metadata": {},
     "output_type": "execute_result"
    }
   ],
   "source": [
    "from sklearn.metrics import mean_squared_error\n",
    "mean_squared_error(labels_test, preds)"
   ]
  },
  {
   "cell_type": "code",
   "execution_count": 18,
   "metadata": {},
   "outputs": [],
   "source": [
    "import pickle\n",
    "pickle.dump(xg_class, open(\"xgboost_bitcoin.dat\", \"wb\"))"
   ]
  },
  {
   "cell_type": "code",
   "execution_count": 20,
   "metadata": {},
   "outputs": [
    {
     "name": "stdout",
     "output_type": "stream",
     "text": [
      "0.33145604395604394\n"
     ]
    }
   ],
   "source": [
    "loaded_model = pickle.load(open(\"xgboost_bitcoin.dat\", \"rb\"))\n",
    "\n",
    "preds = loaded_model.predict(texts_test)\n",
    "accuracy = accuracy_score(labels_test, preds)\n",
    "print(accuracy)"
   ]
  },
  {
   "cell_type": "code",
   "execution_count": null,
   "metadata": {},
   "outputs": [],
   "source": [
    "res = {\"0\" : 0, \"1\" : 0, \"2\" : 0, \"3\" : 0, \"4\" : 0}\n",
    "for i in range(len(labels_test)):\n",
    "    val = abs(list(labels_test)[i] - list(preds)[i])\n",
    "    res[str(val)] += 1\n"
   ]
  },
  {
   "cell_type": "code",
   "execution_count": 260,
   "metadata": {},
   "outputs": [
    {
     "data": {
      "text/plain": [
       "{'0': 0.328021978021978,\n",
       " '1': 0.2087912087912088,\n",
       " '2': 0.2567307692307692,\n",
       " '3': 0.20357142857142857,\n",
       " '4': 0.0028846153846153848}"
      ]
     },
     "execution_count": 260,
     "metadata": {},
     "output_type": "execute_result"
    }
   ],
   "source": [
    "for k in res.keys():\n",
    "    res[k] /= len(preds) \n",
    "res"
   ]
  },
  {
   "cell_type": "code",
   "execution_count": 265,
   "metadata": {},
   "outputs": [
    {
     "ename": "TypeError",
     "evalue": "hist() got multiple values for argument 'bins'",
     "output_type": "error",
     "traceback": [
      "\u001b[1;31m---------------------------------------------------------------------------\u001b[0m",
      "\u001b[1;31mTypeError\u001b[0m                                 Traceback (most recent call last)",
      "\u001b[1;32m<ipython-input-265-5fdcdcc6cd93>\u001b[0m in \u001b[0;36m<module>\u001b[1;34m\u001b[0m\n\u001b[0;32m      1\u001b[0m \u001b[1;32mimport\u001b[0m \u001b[0mmatplotlib\u001b[0m\u001b[1;33m.\u001b[0m\u001b[0mpyplot\u001b[0m \u001b[1;32mas\u001b[0m \u001b[0mplt\u001b[0m\u001b[1;33m\u001b[0m\u001b[1;33m\u001b[0m\u001b[0m\n\u001b[0;32m      2\u001b[0m \u001b[0mx\u001b[0m \u001b[1;33m=\u001b[0m \u001b[1;33m[\u001b[0m\u001b[0mres\u001b[0m\u001b[1;33m[\u001b[0m\u001b[0mk\u001b[0m\u001b[1;33m]\u001b[0m \u001b[1;32mfor\u001b[0m \u001b[0mk\u001b[0m \u001b[1;32min\u001b[0m \u001b[0mres\u001b[0m\u001b[1;33m.\u001b[0m\u001b[0mkeys\u001b[0m\u001b[1;33m(\u001b[0m\u001b[1;33m)\u001b[0m\u001b[1;33m]\u001b[0m\u001b[1;33m\u001b[0m\u001b[1;33m\u001b[0m\u001b[0m\n\u001b[1;32m----> 3\u001b[1;33m \u001b[0mplt\u001b[0m\u001b[1;33m.\u001b[0m\u001b[0mhist\u001b[0m\u001b[1;33m(\u001b[0m\u001b[1;33m[\u001b[0m\u001b[1;36m0\u001b[0m\u001b[1;33m,\u001b[0m\u001b[1;36m1\u001b[0m\u001b[1;33m,\u001b[0m\u001b[1;36m2\u001b[0m\u001b[1;33m,\u001b[0m\u001b[1;36m3\u001b[0m\u001b[1;33m,\u001b[0m\u001b[1;36m4\u001b[0m\u001b[1;33m]\u001b[0m\u001b[1;33m,\u001b[0m\u001b[0mx\u001b[0m\u001b[1;33m,\u001b[0m \u001b[0mbins\u001b[0m \u001b[1;33m=\u001b[0m \u001b[1;36m5\u001b[0m\u001b[1;33m)\u001b[0m\u001b[1;33m\u001b[0m\u001b[1;33m\u001b[0m\u001b[0m\n\u001b[0m",
      "\u001b[1;31mTypeError\u001b[0m: hist() got multiple values for argument 'bins'"
     ]
    }
   ],
   "source": [
    "import matplotlib.pyplot as plt\n",
    "x = [res[k] for k in res.keys()]\n",
    "plt.hist([0,1,2,3,4],x, bins = 5)"
   ]
  },
  {
   "cell_type": "code",
   "execution_count": 276,
   "metadata": {},
   "outputs": [
    {
     "data": {
      "text/plain": [
       "3.9578296703296703"
      ]
     },
     "execution_count": 276,
     "metadata": {},
     "output_type": "execute_result"
    }
   ],
   "source": [
    "from sklearn.metrics import mean_squared_error\n",
    "import random\n",
    "\n",
    "mean_squared_error(labels_test, [random.randint(1, 5) for x in labels_test])"
   ]
  },
  {
   "cell_type": "code",
   "execution_count": 285,
   "metadata": {},
   "outputs": [
    {
     "name": "stdout",
     "output_type": "stream",
     "text": [
      "1 1\n"
     ]
    },
    {
     "name": "stderr",
     "output_type": "stream",
     "text": [
      "C:\\Users\\33777\\Anaconda3\\lib\\site-packages\\tensorflow_core\\python\\framework\\indexed_slices.py:424: UserWarning: Converting sparse IndexedSlices to a dense Tensor of unknown shape. This may consume a large amount of memory.\n",
      "  \"Converting sparse IndexedSlices to a dense Tensor of unknown shape. \"\n"
     ]
    }
   ],
   "source": [
    "epochs=5\n",
    "batch_size=None\n",
    "perfs = {}\n",
    "dropouts = []\n",
    "\n",
    "\n",
    "#reducedata2\n",
    "#function_list = ['tanh', 'softmax', 'softsign', 'hard_sigmoid']\n",
    "#function_list =  list(combinations(function_list, 3))\n",
    "#function_list = ['softmax', 'softplus', 'sigmoid', 'hard_sigmoid', 'exponential']\n",
    "#function_list =  list(combinations(function_list, 2))\n",
    "\n",
    "\n",
    "\n",
    "#stem only\n",
    "function_list = [['softsign', 'relu', 'sigmoid', \"tanh\"]]\n",
    "#no dropout\n",
    "#function_list = [['tanh', 'softmax'], ['tanh', 'softplus'], ['tanh', 'sigmoid'], ['tanh', 'hard_sigmoid'], ['tanh', 'exponential'], ['softmax', 'sigmoid'], ['softmax', 'hard_sigmoid'], 'softmax', 'exponential'], ['softplus', 'softsign'], ['softplus', 'sigmoid'], ['softplus', 'hard_sigmoid'], ['softplus', 'exponential'], ['softsign', 'sigmoid'], ['softsign', 'hard_sigmoid'], ['softsign', 'exponential'], ['sigmoid', 'hard_sigmoid'], ['hard_sigmoid', 'exponential']]\n",
    "#function_list =  list(combinations(function_list, 2))\n",
    "temp = []\n",
    "\n",
    "\n",
    "#function_list =  list(combinations([\"softmax\", \"softplus\", \"softsign\", \"sigmoid\", \"hard_sigmoid\"], ))\n",
    "#scrambled_list = [ 'tanh', 'softmax' ,'softplus', 'sigmoid', 'hard_sigmoid', 'exponential','linear']\n",
    "#random.shuffle(scrambled_list)\n",
    "#function_list =  list(combinations(scrambled_list, 3))\n",
    "#function_list =  list(combinations(keras_bitcoin.available_activation_functions, 3))\n",
    "\n",
    "size = len(function_list)\n",
    "count = 0\n",
    "for function in function_list:\n",
    "    count += 1\n",
    "    print(count, size)\n",
    "    if isinstance(function, str):\n",
    "        function = [function]\n",
    "    else :\n",
    "        function = list(function)\n",
    "        dropouts = [0.1, 0.1]\n",
    "    model = keras_bitcoin.get_model(texts_train, labels_train, vocab_length,\\\n",
    "                                    max_sentence_size, epochs=epochs,\\\n",
    "                                    batch_size=batch_size, activations_functions=function,\\\n",
    "                                    dropouts=dropouts, verbose = 0)\n",
    "    loss, accuracy = model.evaluate(texts_test, labels_test, verbose=0)\n",
    "    preds = model.predict(texts_test)\n",
    "    if accuracy >= 0.5:\n",
    "        temp.append(function)\n",
    "    perfs[\"_\".join(function)] = [accuracy, mean_squared_error(labels_test, preds)]"
   ]
  },
  {
   "cell_type": "code",
   "execution_count": 288,
   "metadata": {
    "scrolled": true
   },
   "outputs": [
    {
     "data": {
      "text/plain": [
       "{'softsign_relu_sigmoid_tanh': [0.0, 15.333236874968053]}"
      ]
     },
     "execution_count": 288,
     "metadata": {},
     "output_type": "execute_result"
    }
   ],
   "source": [
    "perfs"
   ]
  },
  {
   "cell_type": "code",
   "execution_count": 19,
   "metadata": {},
   "outputs": [
    {
     "name": "stdout",
     "output_type": "stream",
     "text": [
      "Number of files loaded :  10\n"
     ]
    }
   ],
   "source": [
    "df_test = dataset.get_labeled_dataset(number_of_file = 10, from_date = \"2017-02-10\", date_included = False)"
   ]
  },
  {
   "cell_type": "code",
   "execution_count": 20,
   "metadata": {},
   "outputs": [],
   "source": [
    "preds = keras_bitcoin.get_predictions(list(df_test[\"text\"]), model, vocab_length, max_sentence_size)\n",
    "df_test[\"preds\"] = list(map(lambda x : int(x), preds))\n",
    "df_test[\"correct\"] = np.equal(preds, df_test[\"label\"])"
   ]
  },
  {
   "cell_type": "code",
   "execution_count": 21,
   "metadata": {},
   "outputs": [
    {
     "name": "stdout",
     "output_type": "stream",
     "text": [
      "Number Correct/Wrong Guess : 5/363\n",
      "              Accuracy : 1.358695652173913\n",
      "Invalid sentences count 0\n"
     ]
    }
   ],
   "source": [
    "dataset.get_prediction_stats(df_test)"
   ]
  },
  {
   "cell_type": "code",
   "execution_count": null,
   "metadata": {},
   "outputs": [],
   "source": [
    "scrambled_list = list(random.shuffle([ 'tanh', 'softmax' ,'softplus', 'sigmoid', 'hard_sigmoid', 'exponential','linear']))\n"
   ]
  },
  {
   "cell_type": "code",
   "execution_count": 14,
   "metadata": {},
   "outputs": [
    {
     "data": {
      "text/plain": [
       "array([[2, 0, 0],\n",
       "       [0, 0, 1],\n",
       "       [1, 0, 2]], dtype=int64)"
      ]
     },
     "execution_count": 14,
     "metadata": {},
     "output_type": "execute_result"
    }
   ],
   "source": [
    "from sklearn.metrics import confusion_matrix\n",
    "y_true = [2, 0, 2, 2, 0, 1]\n",
    "y_pred = [0, 0, 2, 2, 0, 2]\n",
    "confusion_matrix(y_true, y_pred)"
   ]
  }
 ],
 "metadata": {
  "kernelspec": {
   "display_name": "Python 3",
   "language": "python",
   "name": "python3"
  },
  "language_info": {
   "codemirror_mode": {
    "name": "ipython",
    "version": 3
   },
   "file_extension": ".py",
   "mimetype": "text/x-python",
   "name": "python",
   "nbconvert_exporter": "python",
   "pygments_lexer": "ipython3",
   "version": "3.7.3"
  }
 },
 "nbformat": 4,
 "nbformat_minor": 2
}
