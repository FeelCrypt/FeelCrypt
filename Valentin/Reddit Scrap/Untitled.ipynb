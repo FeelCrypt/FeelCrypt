{
 "cells": [
  {
   "cell_type": "code",
   "execution_count": 4,
   "metadata": {},
   "outputs": [],
   "source": [
    "import praw"
   ]
  },
  {
   "cell_type": "code",
   "execution_count": 6,
   "metadata": {},
   "outputs": [],
   "source": [
    "reddit = praw.Reddit(client_id = \"BEjar6X3GYV5Vw\",\n",
    "                     client_secret = \"lg6D6DXG14FH4kHtGVt7cins5OY\", \n",
    "                     username = \"feelcrypt\", \n",
    "                     password = \"spiderminute38\", \n",
    "                     user_agent = \"feelcrypt\")"
   ]
  },
  {
   "cell_type": "code",
   "execution_count": 7,
   "metadata": {},
   "outputs": [
    {
     "name": "stdout",
     "output_type": "stream",
     "text": [
      "Python Discord Hacktoberfest 2019!\n",
      "What's everyone working on this week?\n",
      "Made a genetic algorithm with the task of recreating an image using triangles. Used the pillow library for the image work and the rest was just math :)\n",
      "Building my Own Fantasy OS, Pecanos!\n",
      "Python WallPaper\n"
     ]
    }
   ],
   "source": [
    "sub = reddit.subreddit(\"python\")\n",
    "hot = sub.hot(limit = 5)\n",
    "\n",
    "for post in hot:\n",
    "    print(post.title)"
   ]
  }
 ],
 "metadata": {
  "kernelspec": {
   "display_name": "Python 3",
   "language": "python",
   "name": "python3"
  },
  "language_info": {
   "codemirror_mode": {
    "name": "ipython",
    "version": 3
   },
   "file_extension": ".py",
   "mimetype": "text/x-python",
   "name": "python",
   "nbconvert_exporter": "python",
   "pygments_lexer": "ipython3",
   "version": "3.7.3"
  }
 },
 "nbformat": 4,
 "nbformat_minor": 2
}
