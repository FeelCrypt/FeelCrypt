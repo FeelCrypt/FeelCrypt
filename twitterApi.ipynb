{
 "cells": [
  {
   "cell_type": "code",
   "execution_count": 7,
   "metadata": {},
   "outputs": [],
   "source": [
    "import twitter"
   ]
  },
  {
   "cell_type": "code",
   "execution_count": 8,
   "metadata": {},
   "outputs": [],
   "source": [
    "api = twitter.Api(consumer_key='WfQELhZV1qiIvYVfBc5wqO5xr',\n",
    "                      consumer_secret='wdldaj2Hw6h7nRp2KTYYOLk7kkmkPA6SfXdwAppYoIQa5Z19P1',\n",
    "                      access_token_key='1174300508384911365-U8PxqaeUtfyy7jV4Rwtc9DTU2IQj7L',\n",
    "                      access_token_secret='zIoV392S1t062tFprvGhWwkqtCla5iMSRJdzYZa8VO7at')"
   ]
  },
  {
   "cell_type": "code",
   "execution_count": 6,
   "metadata": {},
   "outputs": [
    {
     "name": "stdout",
     "output_type": "stream",
     "text": [
      "100\n"
     ]
    }
   ],
   "source": [
    "print(len(search))"
   ]
  },
  {
   "cell_type": "code",
   "execution_count": 9,
   "metadata": {},
   "outputs": [
    {
     "name": "stdout",
     "output_type": "stream",
     "text": [
      "9967\n"
     ]
    }
   ],
   "source": [
    "searchTweets = api.GetSearch(term='Bitcoin', lang='en', result_type='recent', count=100, max_id='')\n",
    "lowerCurrentID = searchTweets[len(searchTweets)-1].id\n",
    "for i in range(100):\n",
    "    searchTweets += api.GetSearch(term='Bitcoin', lang='en', result_type='recent', count=100, max_id=lowerCurrentID)\n",
    "    lowerCurrentID = searchTweets[len(searchTweets)-1].id\n",
    "print(len(searchTweets))"
   ]
  },
  {
   "cell_type": "code",
   "execution_count": 12,
   "metadata": {},
   "outputs": [],
   "source": [
    "mon_fichier = open(\"tweets2.txt\",\"w\")\n",
    "for tweet in searchTweets:\n",
    "    mon_fichier.write(str(tweet))\n",
    "    mon_fichier.write(\"\\n\")\n",
    "mon_fichier.close()"
   ]
  },
  {
   "cell_type": "code",
   "execution_count": 13,
   "metadata": {},
   "outputs": [],
   "source": [
    "import re"
   ]
  },
  {
   "cell_type": "code",
   "execution_count": 14,
   "metadata": {},
   "outputs": [],
   "source": [
    "def clean_tweet(tweet, pattern):\n",
    "    occurence = re.findall(pattern, tweet)\n",
    "    tweetClean = ''\n",
    "    for element in occurence:\n",
    "        tweetClean = re.sub(element,'',tweet)\n",
    "    return tweetClean"
   ]
  },
  {
   "cell_type": "markdown",
   "metadata": {},
   "source": [
    "Clean datas"
   ]
  },
  {
   "cell_type": "code",
   "execution_count": 44,
   "metadata": {},
   "outputs": [],
   "source": [
    "results = api.GetSearch(raw_query=\"q=Bitcoin&lang=en&result_type=recent&count=10&tweet_mode=extended\")"
   ]
  },
  {
   "cell_type": "code",
   "execution_count": 50,
   "metadata": {},
   "outputs": [],
   "source": [
    "import numpy as np"
   ]
  },
  {
   "cell_type": "code",
   "execution_count": 54,
   "metadata": {},
   "outputs": [
    {
     "name": "stdout",
     "output_type": "stream",
     "text": [
      "WTS #EXCALIBUR $asset for 100K #Ravencoin $RVN. Escrow will take place from https://t.co/vy6HOxhhbt.\n",
      "Anyone interested send me a pm to acquire the most powerful #sword.\n",
      "\n",
      "#ravencoin $RVN #bitcoin #blockchain #cryptocurrency\n",
      "#cash #crypto #p2p #fintech #asset #europe #gaming #RPG https://t.co/Dz6Q9iXLy6\n",
      "\n",
      "\n",
      "\n",
      "clean : \n",
      "\n",
      "\n"
     ]
    }
   ],
   "source": [
    "tweetCleanArray = []\n",
    "\n",
    "# clean @ reference\n",
    "string = results[0].full_text\n",
    "print(string)\n",
    "print(\"\\n\\n\")\n",
    "print(\"clean : \\n\")\n",
    "#clean = clean_tweet(string, \"@[\\w]*\")\n",
    "# clean URL reference\n",
    "#print(clean)\n",
    "#clean = clean_tweet(clean, \"https?://[A-Za-z0-9./]+\")\n",
    "#print(clean)\n",
    "# Clean hashtag\n",
    "#clean = clean_tweet(clean, \"#\")\n",
    "#print(clean)\n",
    "#tweetCleanArray.append(clean)"
   ]
  },
  {
   "cell_type": "code",
   "execution_count": 24,
   "metadata": {},
   "outputs": [
    {
     "name": "stdout",
     "output_type": "stream",
     "text": [
      "\n"
     ]
    }
   ],
   "source": []
  },
  {
   "cell_type": "code",
   "execution_count": 17,
   "metadata": {},
   "outputs": [],
   "source": [
    "from vaderSentiment.vaderSentiment import SentimentIntensityAnalyzer"
   ]
  },
  {
   "cell_type": "code",
   "execution_count": 18,
   "metadata": {},
   "outputs": [],
   "source": [
    "analyser = SentimentIntensityAnalyzer()"
   ]
  },
  {
   "cell_type": "markdown",
   "metadata": {},
   "source": [
    "polarity_score donne la propertion dans le texte de positif, negatif et neutre.\n",
    "Compound utilise un lexique de notations de tous les mots COMPOUND INDIQUE SI LE SENTIMENT EST POSITIF OU NEGATIF"
   ]
  },
  {
   "cell_type": "code",
   "execution_count": 19,
   "metadata": {},
   "outputs": [],
   "source": [
    "sentiment = []\n",
    "for tweetText in tweetCleanArray:\n",
    "    score = analyser.polarity_scores(tweetText)\n",
    "    sentiment.append(score)"
   ]
  },
  {
   "cell_type": "code",
   "execution_count": 20,
   "metadata": {},
   "outputs": [],
   "source": [
    "import pandas as pd\n",
    "tweetScore = pd.DataFrame(sentiment)"
   ]
  },
  {
   "cell_type": "code",
   "execution_count": 21,
   "metadata": {},
   "outputs": [
    {
     "name": "stdout",
     "output_type": "stream",
     "text": [
      "compound    0.013412\n",
      "neg         0.002315\n",
      "neu         0.061040\n",
      "pos         0.008282\n",
      "dtype: float64\n"
     ]
    }
   ],
   "source": [
    "print(tweetScore.mean())"
   ]
  },
  {
   "cell_type": "code",
   "execution_count": 49,
   "metadata": {},
   "outputs": [
    {
     "name": "stdout",
     "output_type": "stream",
     "text": [
      "#Bitcoin 🇮🇪 #Ireland \n",
      "\n",
      "1 BTC = €7,590.23\n",
      "\n",
      "$BTC Dominance = 67.5%\n",
      "\n",
      "24-hour Change (%) =  +2.82%\n",
      "\n",
      "24-Hour Volume = €14,845,603,636 (2 Billion More)\n",
      "\n",
      "Learn More:\n",
      "\n",
      "https://t.co/ufQQoq7yqr\n",
      "RT @gautamchhugani: All the bear talk is ploy to shake you out of your Bitcoin. Don’t listen.\n",
      "RT @rektcapital: Timing the #Bitcoin bottom was tough because price could’ve technically kept going lower \n",
      "\n",
      "But now that the bottom is in…\n",
      "RT @Cointelegraph: Billionaire technology investor Mark Cuban says that he would be happier owning bananas than Bitcoin https://t.co/tA69x9…\n",
      "@Fullbeerbottle No jokes this could be one of the best ideas out there. Bitcoin AAA rates asset with all other large caps and shitcoins rated accordingly.\n",
      "RT @pulte: I’ll give $8,112 or a Bitcoin to someone random who retweets this in the next 72 hours (must be following so I can dm you, 18+,…\n",
      ".@joinrepublic just launched a new digital token — the Note! Learn more &amp; sign up today to earn bonus Notes: https://t.co/yesvGtGBpF?… https://t.co/yesvGtGBpF?… #earn #invest #reward #startup $btc $bsv $eth $etc $ltc $xrp #bitcoin #crypto #SundayMotivation #Sunday #wework\n",
      "Binance Introduces Its Market Maker Program for High Volume Users https://t.co/t4u1oE0IX4  #XBT #BTC #Bitcoin\n",
      "RT @dandabek: Bitcoin was never intended to last but be eclipsed by a pure and powerful form of crypto currency. \n",
      "\n",
      "If you scoff shame on yo…\n",
      "it's actually riskier to not own any bitcoin than it is to own some\n",
      "\n",
      "this one usually gets em\n"
     ]
    }
   ],
   "source": [
    "results = api.GetSearch(raw_query=\"q=Bitcoin&lang=en&result_type=recent&count=10&tweet_mode=extended\")"
   ]
  },
  {
   "cell_type": "code",
   "execution_count": 50,
   "metadata": {},
   "outputs": [
    {
     "name": "stdout",
     "output_type": "stream",
     "text": [
      "TWEET TO BE DISPLAYED\n",
      "#Bitcoin 🇮🇪 #Ireland \n",
      "\n",
      "1 BTC = €7,590.23\n",
      "\n",
      "$BTC Dominance = 67.5%\n",
      "\n",
      "24-hour Change (%) =  +2.82%\n",
      "\n",
      "24-Hour Volume = €14,845,603,636 (2 Billion More)\n",
      "\n",
      "Learn More:\n",
      "\n",
      "https://t.co/ufQQoq7yqr\n",
      "TWEET TO BE DISPLAYED\n",
      "RT @gautamchhugani: All the bear talk is ploy to shake you out of your Bitcoin. Don’t listen.\n",
      "TWEET TO BE DISPLAYED\n",
      "RT @rektcapital: Timing the #Bitcoin bottom was tough because price could’ve technically kept going lower \n",
      "\n",
      "But now that the bottom is in…\n",
      "TWEET TO BE DISPLAYED\n",
      "RT @Cointelegraph: Billionaire technology investor Mark Cuban says that he would be happier owning bananas than Bitcoin https://t.co/tA69x9…\n",
      "TWEET TO BE DISPLAYED\n",
      "@Fullbeerbottle No jokes this could be one of the best ideas out there. Bitcoin AAA rates asset with all other large caps and shitcoins rated accordingly.\n",
      "TWEET TO BE DISPLAYED\n",
      "RT @pulte: I’ll give $8,112 or a Bitcoin to someone random who retweets this in the next 72 hours (must be following so I can dm you, 18+,…\n",
      "TWEET TO BE DISPLAYED\n",
      ".@joinrepublic just launched a new digital token — the Note! Learn more &amp; sign up today to earn bonus Notes: https://t.co/yesvGtGBpF?… https://t.co/yesvGtGBpF?… #earn #invest #reward #startup $btc $bsv $eth $etc $ltc $xrp #bitcoin #crypto #SundayMotivation #Sunday #wework\n",
      "TWEET TO BE DISPLAYED\n",
      "Binance Introduces Its Market Maker Program for High Volume Users https://t.co/t4u1oE0IX4  #XBT #BTC #Bitcoin\n",
      "TWEET TO BE DISPLAYED\n",
      "RT @dandabek: Bitcoin was never intended to last but be eclipsed by a pure and powerful form of crypto currency. \n",
      "\n",
      "If you scoff shame on yo…\n",
      "TWEET TO BE DISPLAYED\n",
      "it's actually riskier to not own any bitcoin than it is to own some\n",
      "\n",
      "this one usually gets em\n"
     ]
    }
   ],
   "source": [
    "for t in results:\n",
    "        print('TWEET TO BE DISPLAYED')\n",
    "        print(str(t.full_text)"
   ]
  },
  {
   "cell_type": "code",
   "execution_count": 5,
   "metadata": {},
   "outputs": [],
   "source": [
    "string = 'tweet @RT idiot is #awesome https://github.com/s/'"
   ]
  },
  {
   "cell_type": "code",
   "execution_count": 27,
   "metadata": {},
   "outputs": [],
   "source": [
    "results = api.GetSearch(raw_query=\"q=Bitcoin&lang=en&result_type=recent&count=10\")"
   ]
  },
  {
   "cell_type": "code",
   "execution_count": 2,
   "metadata": {},
   "outputs": [],
   "source": [
    "import re   "
   ]
  },
  {
   "cell_type": "code",
   "execution_count": 3,
   "metadata": {},
   "outputs": [],
   "source": [
    "def clean_tweet(tweet, pattern):\n",
    "    occurence = re.findall(pattern, tweet)\n",
    "    tweetClean = ''\n",
    "    for element in occurence:\n",
    "        tweetClean = re.sub(element,'',tweet)\n",
    "    return tweetClean"
   ]
  },
  {
   "cell_type": "markdown",
   "metadata": {},
   "source": [
    "[] : character class match any of the character inside\n",
    "\\w : word or non word characters (any alphanumeric) : a-zA-Z0-9_\n",
    "* : quantifier : 0 or more times"
   ]
  },
  {
   "cell_type": "code",
   "execution_count": 6,
   "metadata": {},
   "outputs": [
    {
     "name": "stdout",
     "output_type": "stream",
     "text": [
      "tweet  idiot is awesome \n"
     ]
    }
   ],
   "source": [
    "# clean @ reference\n",
    "stringClean = clean_tweet(string, \"@[\\w]*\")\n",
    "# clean URL reference\n",
    "stringClean = clean_tweet(stringClean, \"https?://[A-Za-z0-9./]+\")\n",
    "# Clean hashtag\n",
    "stringClean = clean_tweet(stringClean, \"#\")\n",
    "print(stringClean)"
   ]
  },
  {
   "cell_type": "code",
   "execution_count": null,
   "metadata": {},
   "outputs": [],
   "source": []
  }
 ],
 "metadata": {
  "kernelspec": {
   "display_name": "Python 3",
   "language": "python",
   "name": "python3"
  },
  "language_info": {
   "codemirror_mode": {
    "name": "ipython",
    "version": 3
   },
   "file_extension": ".py",
   "mimetype": "text/x-python",
   "name": "python",
   "nbconvert_exporter": "python",
   "pygments_lexer": "ipython3",
   "version": "3.7.3"
  }
 },
 "nbformat": 4,
 "nbformat_minor": 2
}
