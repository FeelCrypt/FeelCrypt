{
 "cells": [
  {
   "cell_type": "code",
   "execution_count": 2,
   "metadata": {},
   "outputs": [
    {
     "name": "stdout",
     "output_type": "stream",
     "text": [
      "Requirement already satisfied: python-twitter in d:\\anaconda3\\lib\\site-packages (3.5)\n",
      "Requirement already satisfied: requests in d:\\anaconda3\\lib\\site-packages (from python-twitter) (2.22.0)\n",
      "Requirement already satisfied: future in d:\\anaconda3\\lib\\site-packages (from python-twitter) (0.17.1)\n",
      "Requirement already satisfied: requests-oauthlib in d:\\anaconda3\\lib\\site-packages (from python-twitter) (1.2.0)\n",
      "Requirement already satisfied: urllib3!=1.25.0,!=1.25.1,<1.26,>=1.21.1 in d:\\anaconda3\\lib\\site-packages (from requests->python-twitter) (1.24.2)\n",
      "Requirement already satisfied: chardet<3.1.0,>=3.0.2 in d:\\anaconda3\\lib\\site-packages (from requests->python-twitter) (3.0.4)\n",
      "Requirement already satisfied: certifi>=2017.4.17 in d:\\anaconda3\\lib\\site-packages (from requests->python-twitter) (2019.6.16)\n",
      "Requirement already satisfied: idna<2.9,>=2.5 in d:\\anaconda3\\lib\\site-packages (from requests->python-twitter) (2.8)\n",
      "Requirement already satisfied: oauthlib>=3.0.0 in d:\\anaconda3\\lib\\site-packages (from requests-oauthlib->python-twitter) (3.1.0)\n",
      "Note: you may need to restart the kernel to use updated packages.\n"
     ]
    }
   ],
   "source": [
    "pip install python-twitter"
   ]
  },
  {
   "cell_type": "code",
   "execution_count": 3,
   "metadata": {},
   "outputs": [],
   "source": [
    "import twitter"
   ]
  },
  {
   "cell_type": "code",
   "execution_count": 4,
   "metadata": {},
   "outputs": [],
   "source": [
    "api = twitter.Api(consumer_key='WfQELhZV1qiIvYVfBc5wqO5xr',\n",
    "                      consumer_secret='wdldaj2Hw6h7nRp2KTYYOLk7kkmkPA6SfXdwAppYoIQa5Z19P1',\n",
    "                      access_token_key='1174300508384911365-U8PxqaeUtfyy7jV4Rwtc9DTU2IQj7L',\n",
    "                      access_token_secret='zIoV392S1t062tFprvGhWwkqtCla5iMSRJdzYZa8VO7at')"
   ]
  },
  {
   "cell_type": "code",
   "execution_count": 14,
   "metadata": {},
   "outputs": [
    {
     "data": {
      "text/plain": [
       "'USDCHF, Sell on H4. - #USDCHF TradingView https://t.co/SMswMBQAT0 #fx #fxsignals #fxtrader #fxtrading #forex  #forexsignals #forextrader #forextraders #forextrading #forextrade #technicalanalysis #priceaction #dattong #broker #crypto #bitcoin'"
      ]
     },
     "execution_count": 14,
     "metadata": {},
     "output_type": "execute_result"
    }
   ],
   "source": [
    "results = api.GetSearch(\n",
    "    raw_query=\"q=bitcoin&result_type=recent&since=2019-07-19&count=10000&lang=en&tweet_mode=extended\")\n",
    "test = results[0].full_text\n",
    "test"
   ]
  },
  {
   "cell_type": "code",
   "execution_count": 28,
   "metadata": {},
   "outputs": [
    {
     "data": {
      "text/plain": [
       "[Status(ID=1176506988223557634, ScreenName=atlasisalive, Created=Tue Sep 24 14:41:39 +0000 2019, Text='I know more people that think bitcoin is worth zero because they didn’t buy than people that didn’t buy because they think it is worth zero. $btc'),\n",
       " Status(ID=1176506980560769024, ScreenName=bitcoinagile, Created=Tue Sep 24 14:41:37 +0000 2019, Text='ETH WELCOME 180 for BITMEX:ETHUSD by LadyMexTrader #bitcoin #ethereum $eth $btc https://t.co/yejXAHqv9x https://t.co/luRnThz5ly'),\n",
       " Status(ID=1176506979008692225, ScreenName=z3rdan, Created=Tue Sep 24 14:41:36 +0000 2019, Text='RT @bitangler: Whoever retweets this post, and predicts the price of 1 Bitcoin on the day of October 31st, will win 3 Bitcoins!\\n\\nComment be…'),\n",
       " Status(ID=1176506953406799872, ScreenName=Edenherrera85, Created=Tue Sep 24 14:41:30 +0000 2019, Text='RT @_blockandchain_: There are 63 #Bitcoin on #Bakkt now. There were 17 BTC 12h ago - progress is evident.  Looks like there will be the bi…'),\n",
       " Status(ID=1176506953302007808, ScreenName=LadyMexTrading, Created=Tue Sep 24 14:41:30 +0000 2019, Text='$eth welcome 180 🤔😳\\n\\n#ethereum $btc #bitcoin\\n\\nhttps://t.co/1XoMKluqaR'),\n",
       " Status(ID=1176506946200977408, ScreenName=TeeleTeel, Created=Tue Sep 24 14:41:29 +0000 2019, Text='RT @cryptofancolle1: 🎇🎇NEW SPECIAL GIVEAWAY 🎇🎇\\n💎1000USD in BTC💎 \\n⌚️⌚️⌚️ ENDs 48hours ⌚️⌚️⌚️\\n\\nTo enter \\n➡️, do this:\\n👍Like, \\n🔔Retweet, Follo…'),\n",
       " Status(ID=1176506941532622850, ScreenName=bascule, Created=Tue Sep 24 14:41:27 +0000 2019, Text='RT @el33th4xor: Bitcoin hashrate down by 30%. Anyone know why? Looks very unhealthy.\\nhttps://t.co/WADNwZ76ui'),\n",
       " Status(ID=1176506932850503680, ScreenName=coinratecap, Created=Tue Sep 24 14:41:25 +0000 2019, Text='RT @coinratecap: BTC-predict - Coinratecap just launched Bitcoin Predictions Game https://t.co/WzBlsHoSvX'),\n",
       " Status(ID=1176506930786906116, ScreenName=rumorsmatrix, Created=Tue Sep 24 14:41:25 +0000 2019, Text=\"@lewenburg @thedicemechanic @benjamilt if mining bitcoin is a thing I don't see why rolling a perfect +6s PC shouldn't be too\"),\n",
       " Status(ID=1176506927594926080, ScreenName=CoinfomaniaNews, Created=Tue Sep 24 14:41:24 +0000 2019, Text='Payment firm Global POS will through a new partnership allow over 30 retail brands in France to accept #Bitcoin payments.\\n\\nAdoption?\\n\\nhttps://t.co/zPw9IBfpH3'),\n",
       " Status(ID=1176506927473295360, ScreenName=Rev_Douglass, Created=Tue Sep 24 14:41:24 +0000 2019, Text='RT @eraser: Blockchain Technology and Decentralized Governance: Is the State Still Necessary?. Marcella Atzori, Ph. D.* https://t.co/6LAAye…'),\n",
       " Status(ID=1176506925179183104, ScreenName=DITOCANDELA, Created=Tue Sep 24 14:41:24 +0000 2019, Text='RT @zerohedge: S&amp;P Falls Back Below 3,000; Bitcoin &amp; Bond Yields Tumble As Trump Taunts China At UN https://t.co/yp6uoZYgGp'),\n",
       " Status(ID=1176506916425670656, ScreenName=superfatherb, Created=Tue Sep 24 14:41:21 +0000 2019, Text='@RobHackneyEsq Heard there were several big bitcoin accounts that went 20-30% all in the past 24 hours.'),\n",
       " Status(ID=1176506911358779392, ScreenName=give_bitcoin, Created=Tue Sep 24 14:41:20 +0000 2019, Text='RT @thebitcoinrabbi: Last night was an amazing opening to @CryptoSprings. Today at around 2 PM I’m going to be speaking on a panel about “b…'),\n",
       " Status(ID=1176506910843052033, ScreenName=MSkieller, Created=Tue Sep 24 14:41:20 +0000 2019, Text='RT @PandaofBinance: Second day of @Bakkt, trading volume = 4 #bitcoin $btc\\n\\nBAKKT = REKKT\\n\\nNo one gives a shit'),\n",
       " Status(ID=1176506904585150465, ScreenName=coinratecap, Created=Tue Sep 24 14:41:19 +0000 2019, Text='RT @coinratecap: We are happy to announce that BTC-predict - a simple &amp; new modern way of trading is finally launched.  Earn 50% of ur pled…'),\n",
       " Status(ID=1176506899304312832, ScreenName=origintokyo, Created=Tue Sep 24 14:41:17 +0000 2019, Text='RT @Lionel46294550: Bitcoiners right now, what idiot suggested we put #bitcoin on BAKKT https://t.co/ByftRC5aCT'),\n",
       " Status(ID=1176506875459719168, ScreenName=wpeace4886, Created=Tue Sep 24 14:41:12 +0000 2019, Text='7My daughter, the burden I bear on my shoulders is for all, students and teachers alike. Be wary, there are many teachers #mod411Block #Bitcoin Block:596361'),\n",
       " Status(ID=1176506875082432512, ScreenName=AlexMoralesUSA, Created=Tue Sep 24 14:41:12 +0000 2019, Text='RT @APompliano: Important message as we enter the next Bitcoin bull market:\\n\\n- BTC is very volatile\\n- You can lose all of your money\\n- Only…'),\n",
       " Status(ID=1176506872846790656, ScreenName=patricio_crypto, Created=Tue Sep 24 14:41:11 +0000 2019, Text='RT @misir_mahmudov: % of world using the Internet in 1995 = 0.4%\\n\\n% of world using the Internet in 2019 = 58.8%\\n\\nBitcoin is to money what t…'),\n",
       " Status(ID=1176506871701823489, ScreenName=IAM__Network, Created=Tue Sep 24 14:41:11 +0000 2019, Text='IAM Platform Curated Tweet:\\n\\nThe Economic Plan of the Marshall Islands: Cryptocurrency SOV as a Legal Tender – AllStocks \\n\\nhttps://t.co/81hdKehwME\\n\\n#AirDrop #Altcoin #Bitcoin #blockchain #BTC #Coin #TopInfluence #IAMPlatform'),\n",
       " Status(ID=1176506860318416901, ScreenName=InvestCrypForex, Created=Tue Sep 24 14:41:08 +0000 2019, Text='Bolt News Auto Clicker) \\nBitcoin - Investment - Investor - Cryptocurrency - Forex - Trade - Entrepreneur - @InvestCrypForex - @Marketing_1jl4 - @Health14Fitness &gt; https://t.co/2Cf3E5VRb7'),\n",
       " Status(ID=1176506851711733761, ScreenName=Blockchain_Soft, Created=Tue Sep 24 14:41:06 +0000 2019, Text='#Verizon, the leading #American #telecommunications conglomerate is gearing up to come up with the creation of #virtual #SIM cards focused around the #blockchain #technology\\n\\nhttps://t.co/pk4fdnRCUg\\n\\n#TuesdayThoughts #TuesdayMotivation #Blockchain #Crypto #Bitcoin #Digital #Money'),\n",
       " Status(ID=1176506851174879232, ScreenName=InvestCrypForex, Created=Tue Sep 24 14:41:06 +0000 2019, Text='Want To Make $500 Everyday? | Simple Forex Strategy) \\nBitcoin - Investment - Investor - Cryptocurrency - Forex - Trade - Entrepreneur - @InvestCrypForex - @Marketing_1jl4 - @Health14Fitness &gt; https://t.co/pm2gE0gNSb'),\n",
       " Status(ID=1176506849954160640, ScreenName=CryptoOz, Created=Tue Sep 24 14:41:06 +0000 2019, Text='RT @Krypticrooks: Crypto so bad, even the influencers are going Crazy. #bitcoin #btc https://t.co/r7cg3sY9uW'),\n",
       " Status(ID=1176506847882350594, ScreenName=WaltonchainUSA, Created=Tue Sep 24 14:41:05 +0000 2019, Text='RT @APompliano: Important message as we enter the next Bitcoin bull market:\\n\\n- BTC is very volatile\\n- You can lose all of your money\\n- Only…'),\n",
       " Status(ID=1176506838268948487, ScreenName=devnullius, Created=Tue Sep 24 14:41:03 +0000 2019, Text='Token Tech firm Securitize Raises $14 Million from Santander, MUFG https://t.co/yt1kKPloPy'),\n",
       " Status(ID=1176506835572068354, ScreenName=naijagym, Created=Tue Sep 24 14:41:02 +0000 2019, Text='Reasons to Include More Kale in Your Diet\\n\\nhttps://t.co/dHbKgve9U0\\n\\nRelationship Status Femi Falana Samson Siasia Nigeria #bitcoin Ivanovic Satan for 990 #TuesdayThoughts #TuesdayMorning #TuesdayMotivation #FIFAFootballAwards #BBNaijaparty #Bbnaija #BBNajia2019'),\n",
       " Status(ID=1176506830903762944, ScreenName=krugerclassic, Created=Tue Sep 24 14:41:01 +0000 2019, Text='Institutional buy wall on Bakkt at 9500.\\n\\nSomeone is bidding 10 bitcoin there.'),\n",
       " Status(ID=1176506826344607744, ScreenName=CryptoTroika, Created=Tue Sep 24 14:41:00 +0000 2019, Text='#cryptofund #bitcoin https://t.co/7hd0HYfK1W\\n\\nKik fires staff and shuts down messaging app but won’t stop fighting the SEC over its ICO'),\n",
       " Status(ID=1176506823827841027, ScreenName=AirdropQuin6, Created=Tue Sep 24 14:40:59 +0000 2019, Text='RT @CryptoPussyCash: I give a prize to those who correctly predict the BITCOIN price in 8 hours from now! \\n\\n🔮\\n\\n📍Leave a comment and retweet…'),\n",
       " Status(ID=1176506815313522689, ScreenName=haydentiff, Created=Tue Sep 24 14:40:57 +0000 2019, Text='RT @haydentiff: @gubatron I said it was Bitcoin’s predecessor, nothing about it being “the same.”\\n https://t.co/vRZyGHNfcj'),\n",
       " Status(ID=1176506807763779584, ScreenName=DTradingAcademy, Created=Tue Sep 24 14:40:56 +0000 2019, Text='Cryptocurrency Bitcoin -2.2% at $9,725.00 before U.S. Tuesday market open, then moves lower to $9,533.00 in mid-morning trading on 09/24/2019.'),\n",
       " Status(ID=1176506799303905281, ScreenName=oldschoolvalue, Created=Tue Sep 24 14:40:54 +0000 2019, Text='When Money Dies (Of Dollars and Data) - “It’s not that Bitcoin won’t rise in price if the US dollar fails, but that its rise in price doesn’t imply a rise in value.” https://t.co/B3T6KQYr83'),\n",
       " Status(ID=1176506787673051138, ScreenName=MajorCryptopayn, Created=Tue Sep 24 14:40:51 +0000 2019, Text=\"Fake out or break out?? We'll find out today! #BTC #bitcoin https://t.co/qtlUq3yH1T\"),\n",
       " Status(ID=1176506746136866817, ScreenName=BitcoinHayek, Created=Tue Sep 24 14:40:41 +0000 2019, Text='RT @100trillionUSD: Stock-to-Flow chart on CNBC!\\n\\n@JoeSquawk explains #bitcoin S2F and Szabo fundamentals very well: \"I understand the math…'),\n",
       " Status(ID=1176506744681447425, ScreenName=helpaliveNGO, Created=Tue Sep 24 14:40:41 +0000 2019, Text='Start a giving back method\\nOur every day sustenance and survival is definitely an act of Grace and as rational beings we must strike a balance.\\nGiving back is pivotal and a sure way to stay engaged and responsible in our chosen community.\\n#helpalivengo #TuesdayMotivation #bitcoin https://t.co/L8kTaEoPAj'),\n",
       " Status(ID=1176506738964488192, ScreenName=Lesliedeng7, Created=Tue Sep 24 14:40:39 +0000 2019, Text='RT @crypto_rand: BREAKING: \\n\\nSportswear giant Decathlon to accept #Bitcoin by 2020\\n\\n https://t.co/CKKTk34qSj'),\n",
       " Status(ID=1176506738377482240, ScreenName=MobileEdgar, Created=Tue Sep 24 14:40:39 +0000 2019, Text='RT @crypto_rand: BREAKING: \\n\\nSportswear giant Decathlon to accept #Bitcoin by 2020\\n\\n https://t.co/CKKTk34qSj'),\n",
       " Status(ID=1176506732014534658, ScreenName=wpeace4886, Created=Tue Sep 24 14:40:38 +0000 2019, Text='6Jill cries out, Father, my peers discovered another teacher who promises better rewards than you, many injustices continue when prayers go unanswered, why can I not devote to others instead? #mod411Block #Bitcoin Block:596361'),\n",
       " Status(ID=1176506731846877185, ScreenName=Keenan2703, Created=Tue Sep 24 14:40:37 +0000 2019, Text='RT @curateproject: Curate, where Crypto meets Fashion! 😎\\n\\n#Curate #Style #Fashion #Crypto #CryptoCurrency #Bitcoin #Ethereum #Token #ERC20…'),\n",
       " Status(ID=1176506731683340288, ScreenName=diasimdianao1, Created=Tue Sep 24 14:40:37 +0000 2019, Text='RT @zerohedge: S&amp;P Falls Back Below 3,000; Bitcoin &amp; Bond Yields Tumble As Trump Taunts China At UN https://t.co/yp6uoZYgGp'),\n",
       " Status(ID=1176506731456843778, ScreenName=bitcoinagile, Created=Tue Sep 24 14:40:37 +0000 2019, Text='LTC clearly a bearish retest for BINANCE:LTCBTC by LadyMexTrader #bitcoin #litecoin $ltc $btc $xrp https://t.co/wgaZ527hT3 https://t.co/V9BeiWEFOG'),\n",
       " Status(ID=1176506730919776256, ScreenName=SecOfBitcoin, Created=Tue Sep 24 14:40:37 +0000 2019, Text='The best time to sell #Bitcoin is right now.\\n\\nThe second best time to sell Bitcoin is this afternoon.'),\n",
       " Status(ID=1176506725538549760, ScreenName=cindygallop, Created=Tue Sep 24 14:40:36 +0000 2019, Text='RT @CryptoSprings: The HOTTEST conference in bitcoin is in full swing. The early rising &amp; jet lagged have had their morning coffee. The ene…'),\n",
       " Status(ID=1176506724016107520, ScreenName=RokoMijicUK, Created=Tue Sep 24 14:40:36 +0000 2019, Text='@mikekelly85 @samphilipd Hard to tell whether it\\'s priced in. \\n\\nBut let\\'s get this straight: gold is currently 40 times more \"expensive\" that bitcoin \\n\\n$7.5 ×10^12  in gold \\nvs  \\n$0.2×10^12 in BTC'),\n",
       " Status(ID=1176506712070791168, ScreenName=RealTimeCrypto, Created=Tue Sep 24 14:40:33 +0000 2019, Text='30 Brands and Thousands of Stores to Accept Bitcoin https://t.co/xUCxbMeo6J'),\n",
       " Status(ID=1176506711072374784, ScreenName=TasochiKanatomo, Created=Tue Sep 24 14:40:33 +0000 2019, Text='RT @Cointelegraph: Bitcoin will be accepted at over 25,000 retail locations at stores such as Decathlon and Sephora in France by early next…'),\n",
       " Status(ID=1176506704554549248, ScreenName=LadyMexTrading, Created=Tue Sep 24 14:40:31 +0000 2019, Text='#litecoin $ltc new lows? \\n\\n$btc #bitcoin $xrp \\n\\nhttps://t.co/DV4HGQIsU1'),\n",
       " Status(ID=1176506691573166080, ScreenName=coinpath, Created=Tue Sep 24 14:40:28 +0000 2019, Text='#OKEx CEO Bets BTI 100 BTC to Prove Wash Trading\\n\\nRead here: https://t.co/YsdrTOTVZ6\\n\\n#Bitcoin #BlockchainTransparencyAlliance #News #NewsTeaser #WashTrading https://t.co/vBWv5lUjjH'),\n",
       " Status(ID=1176506691287838729, ScreenName=kikieprasetya92, Created=Tue Sep 24 14:40:28 +0000 2019, Text='RT @diagonio: PRIVATE SALE IS ON LIVE!\\nTo participate:\\nMail: ico@diagon.io\\nDISCOUNT: 30%\\n\\n~Diagon a decentralized eSports platform ~\\n\\n#Diag…'),\n",
       " Status(ID=1176506685982007299, ScreenName=TasochiKanatomo, Created=Tue Sep 24 14:40:27 +0000 2019, Text='RT @crypterium: #Binance US 🗽available in Alabama, Alaska, Connecticut, Florida, Georgia, Hawaii, Idaho, Louisiana, New York, North Carolin…'),\n",
       " Status(ID=1176506684115755008, ScreenName=zU8QRkz5adIbnEA, Created=Tue Sep 24 14:40:26 +0000 2019, Text=\"RT @crypto_blkbeard: Shoutout to @OKCoin who is donating up to $1,000 $BTC to developers of $BTC $BCH or $BSV. According to the motto 'let'…\"),\n",
       " Status(ID=1176506676209283078, ScreenName=bitstreetbets, Created=Tue Sep 24 14:40:24 +0000 2019, Text='RT @zerohedge: S&amp;P Falls Back Below 3,000; Bitcoin &amp; Bond Yields Tumble As Trump Taunts China At UN https://t.co/yp6uoZYgGp'),\n",
       " Status(ID=1176506672539426816, ScreenName=BackStTrader, Created=Tue Sep 24 14:40:23 +0000 2019, Text='RT @BTCTN: Major German Stock Exchange Group Launches Crypto Trading https://t.co/vY5bUWJIyI https://t.co/COy7h3kriX'),\n",
       " Status(ID=1176506667707424771, ScreenName=RenzMcKey, Created=Tue Sep 24 14:40:22 +0000 2019, Text=\"RT @aXpire_official: We're hosting a $500 Bitcoin #giveaway/#contest with \\n@MartiniGuyYT! \\n\\nThis #bounty will run until the 30th of Septemb…\"),\n",
       " Status(ID=1176506664209604608, ScreenName=XRPNews_, Created=Tue Sep 24 14:40:21 +0000 2019, Text='RT @Crypto__Daz: @Lionel46294550 @XRPNews_ @BakkupBradley @digitalassetbuy @BankXRP Bitcoin'),\n",
       " Status(ID=1176506661835616260, ScreenName=kilkinyox, Created=Tue Sep 24 14:40:21 +0000 2019, Text='RT @el33th4xor: Bitcoin hashrate down by 30%. Anyone know why? Looks very unhealthy.\\nhttps://t.co/WADNwZ76ui'),\n",
       " Status(ID=1176506645423149056, ScreenName=I_AmCrypto_King, Created=Tue Sep 24 14:40:17 +0000 2019, Text='RT @TheBlock__: ICYMI: Team behind Bottle Pay raises $2M to bring Bitcoin Lightning Network payments to the masses\\nhttps://t.co/6qrffOj89j'),\n",
       " Status(ID=1176506644286582786, ScreenName=naijagym, Created=Tue Sep 24 14:40:17 +0000 2019, Text='8 Breastfeeding Superfoods to Try\\n\\nhttps://t.co/1dNkjy6qeD\\n\\nRelationship Status Femi Falana Samson Siasia Nigeria #bitcoin Ivanovic Satan for 990 #TuesdayThoughts #TuesdayMorning #TuesdayMotivation #FIFAFootballAwards #BBNaijaparty #Bbnaija #BBNajia2019'),\n",
       " Status(ID=1176506640591282177, ScreenName=JakariaHossin2, Created=Tue Sep 24 14:40:16 +0000 2019, Text='RT @diagonio: PRIVATE SALE IS ON LIVE!\\nTo participate:\\nMail: ico@diagon.io\\nDISCOUNT: 30%\\n\\n~Diagon a decentralized eSports platform ~\\n\\n#Diag…'),\n",
       " Status(ID=1176506640515903489, ScreenName=CryptoPhineas, Created=Tue Sep 24 14:40:16 +0000 2019, Text='RT @misir_mahmudov: % of world using the Internet in 1995 = 0.4%\\n\\n% of world using the Internet in 2019 = 58.8%\\n\\nBitcoin is to money what t…'),\n",
       " Status(ID=1176506638506708994, ScreenName=BREAKOU87843491, Created=Tue Sep 24 14:40:15 +0000 2019, Text=\"RT @SatoshiFlipper: If it's going to bounce, this would be the spot \\n\\n$BTC #Bitcoin https://t.co/D9RBoJLEBe\"),\n",
       " Status(ID=1176506636011069440, ScreenName=I_AmCrypto_King, Created=Tue Sep 24 14:40:15 +0000 2019, Text='RT @MiguelCuneta: In about 60 years, #Bitcoin block rewards will be in Satoshis. \\n\\nHow big will the Bitcoin network be in 2080? What will t…'),\n",
       " Status(ID=1176506634216136706, ScreenName=CryptoEuclid, Created=Tue Sep 24 14:40:14 +0000 2019, Text='Last time to buy Bitcoin below.... Oh fuck it nevermind!'),\n",
       " Status(ID=1176506633880576000, ScreenName=sandoly, Created=Tue Sep 24 14:40:14 +0000 2019, Text='RT @zerohedge: S&amp;P Falls Back Below 3,000; Bitcoin &amp; Bond Yields Tumble As Trump Taunts China At UN https://t.co/yp6uoZYgGp'),\n",
       " Status(ID=1176506628385988608, ScreenName=coinpath, Created=Tue Sep 24 14:40:13 +0000 2019, Text='Just How Bad Is Craig Wright At #Plagiarism?\\n\\nRead here: https://t.co/1upOImD9KL\\n\\n#Bitcoin #CraigWright #News #NewsTeaser https://t.co/2NErQUP179'),\n",
       " Status(ID=1176506617929568257, ScreenName=jonlundgren13, Created=Tue Sep 24 14:40:10 +0000 2019, Text='If you own @netflix you may want to consider that they have about reached their cap in market growth and with newer and better streaming services coming out, their subscribers will be starting to bail like many already have. \\nReminder, #bitcoin is attractive at 9-24 price.\\n#maga https://t.co/uEBe2Z6uA3'),\n",
       " Status(ID=1176506615123468288, ScreenName=kimsalsan, Created=Tue Sep 24 14:40:10 +0000 2019, Text='RT @BuyersBitcoin: Odds ready 225.75 total\\nInteresting client dm right away\\nBuyers only\\n#sportspesa #bitcoin\\n#Betfair #bet365 #betting #bet…'),\n",
       " Status(ID=1176506613022306305, ScreenName=BarrioBitcoin, Created=Tue Sep 24 14:40:09 +0000 2019, Text='WATCH THIS KID POSING FOR THE PEACEFUL REVOLUTION @dash_text @Anypay_ @realBitcoinClub @BarrioBitcoin #dashtext #anypay #realbitcoinclub #bitcoinmap #bitcoinadoption #Bitcoin #BitcoinCash #Dash #dashnews #dashpay… https://t.co/TZRbfqUEPG'),\n",
       " Status(ID=1176506612795625472, ScreenName=TasochiKanatomo, Created=Tue Sep 24 14:40:09 +0000 2019, Text='RT @PhillipNunnUK: If you buy into #Bitcoin at the top of the cycle, then you absolutely must wait and not show a weak hand. \\n\\nOne day the…'),\n",
       " Status(ID=1176506608056197120, ScreenName=SharkOfFedCourt, Created=Tue Sep 24 14:40:08 +0000 2019, Text=\"@Realnaz_ @BLOCKTVnews @TimDraper A great comment by Warrent Buffet on 'charlatans around bitcoin' pimping and pumping the scam\\nhttps://t.co/0FROHmX8Lg\"),\n",
       " Status(ID=1176506602175651841, ScreenName=P0jE9Eoi9e2LBAV, Created=Tue Sep 24 14:40:07 +0000 2019, Text='RT @el33th4xor: Bitcoin hashrate down by 30%. Anyone know why? Looks very unhealthy.\\nhttps://t.co/WADNwZ76ui'),\n",
       " Status(ID=1176506600636502016, ScreenName=GeorgeLaech, Created=Tue Sep 24 14:40:06 +0000 2019, Text=\"Love is like money..Hard to find easy to loose.. smell someone's success Invest and Earn some fucking shit. With a little investment capital of $1,000 I can assure you of earning $22,000 weekly. Message me now to get started. #forex #bitcoin #broker #tradeforex #tradehomedad https://t.co/Cs2I6cKZVC\"),\n",
       " Status(ID=1176506599206076419, ScreenName=ccexapp, Created=Tue Sep 24 14:40:06 +0000 2019, Text=\"Tomorrow's Peercoin(PPC) forecast is\\n        \\n△UP 0% \\n▼DOWN 0%\\n\\n#Peercoin, #PPC\\n\\nBitcoin Forecast (iOS)\\nhttps://t.co/mGv869Ccp6 https://t.co/hoLFVkrtyl\"),\n",
       " Status(ID=1176506598707085312, ScreenName=BitcoinTina, Created=Tue Sep 24 14:40:06 +0000 2019, Text='@MartyBent There is very strong evidence that many dumb as rock traders sell #bitcoin at stupid low prices.\\n\\nSome so called maximalists can not get out of their own way not predicting constant falls in price, while loudly proclaiming maximalist views. This is just another form of scamming.'),\n",
       " Status(ID=1176506598472192001, ScreenName=kenny99011937, Created=Tue Sep 24 14:40:06 +0000 2019, Text='RT @jaredctate: And yes, #DigiByte is 40x faster than #bitcoin and 10x Faster than Litecoin.'),\n",
       " Status(ID=1176506595339055110, ScreenName=josephsuarez112, Created=Tue Sep 24 14:40:05 +0000 2019, Text='RT @Cointelegraph: Bitcoin will be accepted at over 25,000 retail locations at stores such as Decathlon and Sephora in France by early next…'),\n",
       " Status(ID=1176506591211737088, ScreenName=wpeace4886, Created=Tue Sep 24 14:40:04 +0000 2019, Text='5Sloth is what made Jack careless. For if he #TransactPurposefully , his keys would not be lost or given to another , his reward will never return for he was sinful #mod411Block #Bitcoin Block:596361'),\n",
       " Status(ID=1176506591119597568, ScreenName=devnullius, Created=Tue Sep 24 14:40:04 +0000 2019, Text='GrainChain’s Smart Contracts Unite Honduras Coffee Business https://t.co/p5VZmyhZAe'),\n",
       " Status(ID=1176506590297563136, ScreenName=eraser, Created=Tue Sep 24 14:40:04 +0000 2019, Text='Blockchain Technology and Decentralized Governance: Is the State Still Necessary?. Marcella Atzori, Ph. D.* https://t.co/6LAAyeBi9l  #blockchain #crypto #cryptocurrency #ethereum #bitcoin #GIGeconomy #opengov #government #decentralized #opengovernment #liberalism #capitalism'),\n",
       " Status(ID=1176506584429748224, ScreenName=Coinboard, Created=Tue Sep 24 14:40:02 +0000 2019, Text='Token Tech firm Securitize Raises $14 Million from Santander, MUFG https://t.co/j2DPEQ0ybA via @coindesk #Bitcoin #cryptocurrency https://t.co/SzzSdQ8VfN'),\n",
       " Status(ID=1176506577483812864, ScreenName=Ryan0Walker, Created=Tue Sep 24 14:40:01 +0000 2019, Text='RT @100trillionUSD: Stock-to-Flow chart on CNBC!\\n\\n@JoeSquawk explains #bitcoin S2F and Szabo fundamentals very well: \"I understand the math…'),\n",
       " Status(ID=1176506557493895173, ScreenName=Blockchain_Soft, Created=Tue Sep 24 14:39:56 +0000 2019, Text='As #bitcoin, #crypto’s largest #asset, continues to consolidate in #price, numerous other non-#bitcoin #crypto #assets, known as “#altcoins,” are showing a little bit of life in the #price department after months of losing #value.\\n\\nhttps://t.co/stl2pWejUA\\n\\n#TuesdayThoughts #Coin'),\n",
       " Status(ID=1176506551508430851, ScreenName=DC8313, Created=Tue Sep 24 14:39:54 +0000 2019, Text='RT @NautilusCap: $XBT #Bitcoin -- 1-year overlay with 2/24/2014. https://t.co/OGyAiDlaKi'),\n",
       " Status(ID=1176506547670851584, ScreenName=ErgoBTC, Created=Tue Sep 24 14:39:54 +0000 2019, Text='RT @100trillionUSD: Stock-to-Flow chart on CNBC!\\n\\n@JoeSquawk explains #bitcoin S2F and Szabo fundamentals very well: \"I understand the math…'),\n",
       " Status(ID=1176506547486121984, ScreenName=masterbtcltc, Created=Tue Sep 24 14:39:54 +0000 2019, Text='Keep it simple buy, use &amp; HODL the proof of work, fixed supply, no premine, 4 year halving....\\n\\nBitcoin and litecoin \\n\\n&amp; between the two one of them is undervalued at the moment https://t.co/q1ow3y9N9W'),\n",
       " Status(ID=1176506536623054848, ScreenName=webnowcompany, Created=Tue Sep 24 14:39:51 +0000 2019, Text='An article published in Korea Times on Sept 23 has revealed that an international body of accounting &amp;#8211; the International Financial Reporting Interpre...Read more: https://t.co/TL2KJ5T19w'),\n",
       " Status(ID=1176506536446709760, ScreenName=2001_IJM_T4R, Created=Tue Sep 24 14:39:51 +0000 2019, Text='RT @el33th4xor: Bitcoin hashrate down by 30%. Anyone know why? Looks very unhealthy.\\nhttps://t.co/WADNwZ76ui'),\n",
       " Status(ID=1176506534198677504, ScreenName=pswmusik, Created=Tue Sep 24 14:39:50 +0000 2019, Text=\"Got scammed to top up this moneysite's bitcoin same address 1LDu9UNH8deKZSQCerpU8f6uJdke5JswMF - Google Search. #moneysitescam @moneysite @anmoney.host @help #help handle this 1LDu9UNH8deKZSQCerpU8f6uJdke5JswMF https://t.co/O4Ybsr0jpM\"),\n",
       " Status(ID=1176506533192065024, ScreenName=webnowcompany, Created=Tue Sep 24 14:39:50 +0000 2019, Text='France is going bitcoin with thousands of stores, including 30 prominent French brands like Boulanger, Foot Locker, Decathlon, Conforama, Maison du Monde, ...Read more: https://t.co/jFXe8x3XYC'),\n",
       " Status(ID=1176506530629218305, ScreenName=Tuan6421430, Created=Tue Sep 24 14:39:49 +0000 2019, Text='RT @CryptoTownEU: 🚀 Airdrop : Diagonio\\n💰 Value : $ 15 + $ 5\\n💸 75 + 25 Diagon\\n🛡 Bot ETH  \\n⏰ 4 minutes\\n\\n1. Talk with the Telegram bot: https:…'),\n",
       " Status(ID=1176506527039066112, ScreenName=David_CCOO, Created=Tue Sep 24 14:39:49 +0000 2019, Text='RT @zerohedge: S&amp;P Falls Back Below 3,000; Bitcoin &amp; Bond Yields Tumble As Trump Taunts China At UN https://t.co/yp6uoZYgGp'),\n",
       " Status(ID=1176506510748372992, ScreenName=BekZokirov, Created=Tue Sep 24 14:39:45 +0000 2019, Text='RT @ExorOfficial: Join #Exor and get a chance to win 15,000 Exor Coins #giveaway - Follow + Retweet + join TELEGRAM channel https://t.co/Je…'),\n",
       " Status(ID=1176506506709262337, ScreenName=diffandrep, Created=Tue Sep 24 14:39:44 +0000 2019, Text=\"RT @0xADADA: What's on your list?\\n\\nShort:\\n☞ Consumer credit\\n☞ Nation states\\n☞ Hegel\\n\\nHold:\\n☞ Bitcoin\\n☞ Municipalities\\n☞ Deleuze &amp; Guattari…\"),\n",
       " Status(ID=1176506484244516864, ScreenName=Stocktrader, Created=Tue Sep 24 14:39:38 +0000 2019, Text='Great Bitcoin podcast. https://t.co/IORakMFey0'),\n",
       " Status(ID=1176506478510952448, ScreenName=naijagym, Created=Tue Sep 24 14:39:37 +0000 2019, Text='Health Benefits of Drinking Zobo a.k.a Hibiscus Tea\\n\\nhttps://t.co/EMzscdlK60\\n\\nRelationship Status Femi Falana Samson Siasia Nigeria #bitcoin Ivanovic Satan for 990 #TuesdayThoughts #TuesdayMorning #TuesdayMotivation #FIFAFootballAwards #BBNaijaparty #Bbnaija #BBNajia2019'),\n",
       " Status(ID=1176506478406119424, ScreenName=webnowcompany, Created=Tue Sep 24 14:39:37 +0000 2019, Text='#BTC As the global adoption of Bitcoin (BTC) as a means of payment intensifies, retailers in France have chosen not to be left behind by accepting a chance to a...Read more: https://t.co/fxGUpVbXsQ'),\n",
       " Status(ID=1176506469962809344, ScreenName=bookbootdotcom, Created=Tue Sep 24 14:39:35 +0000 2019, Text='RT @BuyersBitcoin: Odds ready 225.75 total\\nInteresting client dm right away\\nBuyers only\\n#sportspesa #bitcoin\\n#Betfair #bet365 #betting #bet…'),\n",
       " Status(ID=1176506464682356736, ScreenName=m_sleigh, Created=Tue Sep 24 14:39:34 +0000 2019, Text='RT @m_sleigh: i ❤️ bitcoin')]"
      ]
     },
     "execution_count": 28,
     "metadata": {},
     "output_type": "execute_result"
    }
   ],
   "source": [
    "results = api.GetSearch(\n",
    "    raw_query=\"q=bitcoin&result_type=recent&since=2019-07-19&count=10000&lang=en&tweet_mode=extended&max_id=1286441619499296500&since_id=108644161\")\n",
    "test = results\n",
    "test"
   ]
  },
  {
   "cell_type": "code",
   "execution_count": 29,
   "metadata": {},
   "outputs": [
    {
     "data": {
      "text/plain": [
       "100"
      ]
     },
     "execution_count": 29,
     "metadata": {},
     "output_type": "execute_result"
    }
   ],
   "source": [
    "len(test)"
   ]
  },
  {
   "cell_type": "code",
   "execution_count": 48,
   "metadata": {},
   "outputs": [
    {
     "ename": "TwitterError",
     "evalue": "[{'message': 'Rate limit exceeded', 'code': 88}]",
     "output_type": "error",
     "traceback": [
      "\u001b[1;31m---------------------------------------------------------------------------\u001b[0m",
      "\u001b[1;31mTwitterError\u001b[0m                              Traceback (most recent call last)",
      "\u001b[1;32m<ipython-input-48-9cdc1c94aff5>\u001b[0m in \u001b[0;36m<module>\u001b[1;34m\u001b[0m\n\u001b[0;32m      4\u001b[0m     \u001b[0mnext_id\u001b[0m \u001b[1;33m=\u001b[0m \u001b[0mprevious_id\u001b[0m \u001b[1;33m+\u001b[0m \u001b[1;36m10000000\u001b[0m\u001b[1;33m\u001b[0m\u001b[1;33m\u001b[0m\u001b[0m\n\u001b[0;32m      5\u001b[0m     results = api.GetSearch(\n\u001b[1;32m----> 6\u001b[1;33m         raw_query=f\"q=bitcoin&result_type=recent&since=2019-09-02&count=10000&lang=en&tweet_mode=extended&max_id={next_id}&since_id={previous_id}\")\n\u001b[0m\u001b[0;32m      7\u001b[0m     \u001b[1;32mfor\u001b[0m \u001b[0mj\u001b[0m \u001b[1;32min\u001b[0m \u001b[0mresults\u001b[0m\u001b[1;33m:\u001b[0m\u001b[1;33m\u001b[0m\u001b[1;33m\u001b[0m\u001b[0m\n\u001b[0;32m      8\u001b[0m         \u001b[0mresult\u001b[0m\u001b[1;33m.\u001b[0m\u001b[0mappend\u001b[0m\u001b[1;33m(\u001b[0m\u001b[0mj\u001b[0m\u001b[1;33m.\u001b[0m\u001b[0mfull_text\u001b[0m\u001b[1;33m)\u001b[0m\u001b[1;33m\u001b[0m\u001b[1;33m\u001b[0m\u001b[0m\n",
      "\u001b[1;32mD:\\Anaconda3\\lib\\site-packages\\twitter\\api.py\u001b[0m in \u001b[0;36mGetSearch\u001b[1;34m(self, term, raw_query, geocode, since_id, max_id, until, since, count, lang, locale, result_type, include_entities, return_json)\u001b[0m\n\u001b[0;32m    528\u001b[0m             \u001b[0mresp\u001b[0m \u001b[1;33m=\u001b[0m \u001b[0mself\u001b[0m\u001b[1;33m.\u001b[0m\u001b[0m_RequestUrl\u001b[0m\u001b[1;33m(\u001b[0m\u001b[0murl\u001b[0m\u001b[1;33m,\u001b[0m \u001b[1;34m'GET'\u001b[0m\u001b[1;33m,\u001b[0m \u001b[0mdata\u001b[0m\u001b[1;33m=\u001b[0m\u001b[0mparameters\u001b[0m\u001b[1;33m)\u001b[0m\u001b[1;33m\u001b[0m\u001b[1;33m\u001b[0m\u001b[0m\n\u001b[0;32m    529\u001b[0m \u001b[1;33m\u001b[0m\u001b[0m\n\u001b[1;32m--> 530\u001b[1;33m         \u001b[0mdata\u001b[0m \u001b[1;33m=\u001b[0m \u001b[0mself\u001b[0m\u001b[1;33m.\u001b[0m\u001b[0m_ParseAndCheckTwitter\u001b[0m\u001b[1;33m(\u001b[0m\u001b[0mresp\u001b[0m\u001b[1;33m.\u001b[0m\u001b[0mcontent\u001b[0m\u001b[1;33m.\u001b[0m\u001b[0mdecode\u001b[0m\u001b[1;33m(\u001b[0m\u001b[1;34m'utf-8'\u001b[0m\u001b[1;33m)\u001b[0m\u001b[1;33m)\u001b[0m\u001b[1;33m\u001b[0m\u001b[1;33m\u001b[0m\u001b[0m\n\u001b[0m\u001b[0;32m    531\u001b[0m         \u001b[1;32mif\u001b[0m \u001b[0mreturn_json\u001b[0m\u001b[1;33m:\u001b[0m\u001b[1;33m\u001b[0m\u001b[1;33m\u001b[0m\u001b[0m\n\u001b[0;32m    532\u001b[0m             \u001b[1;32mreturn\u001b[0m \u001b[0mdata\u001b[0m\u001b[1;33m\u001b[0m\u001b[1;33m\u001b[0m\u001b[0m\n",
      "\u001b[1;32mD:\\Anaconda3\\lib\\site-packages\\twitter\\api.py\u001b[0m in \u001b[0;36m_ParseAndCheckTwitter\u001b[1;34m(self, json_data)\u001b[0m\n\u001b[0;32m   4906\u001b[0m                 \u001b[1;32mraise\u001b[0m \u001b[0mTwitterError\u001b[0m\u001b[1;33m(\u001b[0m\u001b[1;33m{\u001b[0m\u001b[1;34m'message'\u001b[0m\u001b[1;33m:\u001b[0m \u001b[1;34m\"Unauthorized\"\u001b[0m\u001b[1;33m}\u001b[0m\u001b[1;33m)\u001b[0m\u001b[1;33m\u001b[0m\u001b[1;33m\u001b[0m\u001b[0m\n\u001b[0;32m   4907\u001b[0m             \u001b[1;32mraise\u001b[0m \u001b[0mTwitterError\u001b[0m\u001b[1;33m(\u001b[0m\u001b[1;33m{\u001b[0m\u001b[1;34m'Unknown error'\u001b[0m\u001b[1;33m:\u001b[0m \u001b[1;34m'{0}'\u001b[0m\u001b[1;33m.\u001b[0m\u001b[0mformat\u001b[0m\u001b[1;33m(\u001b[0m\u001b[0mjson_data\u001b[0m\u001b[1;33m)\u001b[0m\u001b[1;33m}\u001b[0m\u001b[1;33m)\u001b[0m\u001b[1;33m\u001b[0m\u001b[1;33m\u001b[0m\u001b[0m\n\u001b[1;32m-> 4908\u001b[1;33m         \u001b[0mself\u001b[0m\u001b[1;33m.\u001b[0m\u001b[0m_CheckForTwitterError\u001b[0m\u001b[1;33m(\u001b[0m\u001b[0mdata\u001b[0m\u001b[1;33m)\u001b[0m\u001b[1;33m\u001b[0m\u001b[1;33m\u001b[0m\u001b[0m\n\u001b[0m\u001b[0;32m   4909\u001b[0m         \u001b[1;32mreturn\u001b[0m \u001b[0mdata\u001b[0m\u001b[1;33m\u001b[0m\u001b[1;33m\u001b[0m\u001b[0m\n\u001b[0;32m   4910\u001b[0m \u001b[1;33m\u001b[0m\u001b[0m\n",
      "\u001b[1;32mD:\\Anaconda3\\lib\\site-packages\\twitter\\api.py\u001b[0m in \u001b[0;36m_CheckForTwitterError\u001b[1;34m(data)\u001b[0m\n\u001b[0;32m   4926\u001b[0m             \u001b[1;32mraise\u001b[0m \u001b[0mTwitterError\u001b[0m\u001b[1;33m(\u001b[0m\u001b[0mdata\u001b[0m\u001b[1;33m[\u001b[0m\u001b[1;34m'error'\u001b[0m\u001b[1;33m]\u001b[0m\u001b[1;33m)\u001b[0m\u001b[1;33m\u001b[0m\u001b[1;33m\u001b[0m\u001b[0m\n\u001b[0;32m   4927\u001b[0m         \u001b[1;32mif\u001b[0m \u001b[1;34m'errors'\u001b[0m \u001b[1;32min\u001b[0m \u001b[0mdata\u001b[0m\u001b[1;33m:\u001b[0m\u001b[1;33m\u001b[0m\u001b[1;33m\u001b[0m\u001b[0m\n\u001b[1;32m-> 4928\u001b[1;33m             \u001b[1;32mraise\u001b[0m \u001b[0mTwitterError\u001b[0m\u001b[1;33m(\u001b[0m\u001b[0mdata\u001b[0m\u001b[1;33m[\u001b[0m\u001b[1;34m'errors'\u001b[0m\u001b[1;33m]\u001b[0m\u001b[1;33m)\u001b[0m\u001b[1;33m\u001b[0m\u001b[1;33m\u001b[0m\u001b[0m\n\u001b[0m\u001b[0;32m   4929\u001b[0m \u001b[1;33m\u001b[0m\u001b[0m\n\u001b[0;32m   4930\u001b[0m     \u001b[1;32mdef\u001b[0m \u001b[0m_RequestChunkedUpload\u001b[0m\u001b[1;33m(\u001b[0m\u001b[0mself\u001b[0m\u001b[1;33m,\u001b[0m \u001b[0murl\u001b[0m\u001b[1;33m,\u001b[0m \u001b[0mheaders\u001b[0m\u001b[1;33m,\u001b[0m \u001b[0mdata\u001b[0m\u001b[1;33m)\u001b[0m\u001b[1;33m:\u001b[0m\u001b[1;33m\u001b[0m\u001b[1;33m\u001b[0m\u001b[0m\n",
      "\u001b[1;31mTwitterError\u001b[0m: [{'message': 'Rate limit exceeded', 'code': 88}]"
     ]
    }
   ],
   "source": [
    "previous_id = 1176441612492296192\n",
    "result = []\n",
    "for i in range(1,99):\n",
    "    next_id = previous_id + 10000000\n",
    "    results = api.GetSearch(\n",
    "        raw_query=f\"q=bitcoin&result_type=recent&since=2019-09-02&count=10000&lang=en&tweet_mode=extended&max_id={next_id}&since_id={previous_id}\")\n",
    "    for j in results:\n",
    "        result.append(j.full_text)\n",
    "    previous_id = next_id"
   ]
  },
  {
   "cell_type": "code",
   "execution_count": null,
   "metadata": {},
   "outputs": [],
   "source": []
  }
 ],
 "metadata": {
  "kernelspec": {
   "display_name": "Python 3",
   "language": "python",
   "name": "python3"
  },
  "language_info": {
   "codemirror_mode": {
    "name": "ipython",
    "version": 3
   },
   "file_extension": ".py",
   "mimetype": "text/x-python",
   "name": "python",
   "nbconvert_exporter": "python",
   "pygments_lexer": "ipython3",
   "version": "3.7.3"
  }
 },
 "nbformat": 4,
 "nbformat_minor": 2
}
