{
 "cells": [
  {
   "cell_type": "code",
   "execution_count": 2,
   "metadata": {},
   "outputs": [
    {
     "name": "stdout",
     "output_type": "stream",
     "text": [
      "Requirement already satisfied: googletrans in d:\\programmes\\anacondapython\\lib\\site-packages (2.4.0)\n",
      "Requirement already satisfied: requests in d:\\programmes\\anacondapython\\lib\\site-packages (from googletrans) (2.22.0)\n",
      "Requirement already satisfied: certifi>=2017.4.17 in d:\\programmes\\anacondapython\\lib\\site-packages (from requests->googletrans) (2019.6.16)\n",
      "Requirement already satisfied: idna<2.9,>=2.5 in d:\\programmes\\anacondapython\\lib\\site-packages (from requests->googletrans) (2.8)\n",
      "Requirement already satisfied: chardet<3.1.0,>=3.0.2 in d:\\programmes\\anacondapython\\lib\\site-packages (from requests->googletrans) (3.0.4)\n",
      "Requirement already satisfied: urllib3!=1.25.0,!=1.25.1,<1.26,>=1.21.1 in d:\\programmes\\anacondapython\\lib\\site-packages (from requests->googletrans) (1.24.2)\n"
     ]
    }
   ],
   "source": [
    "!pip install googletrans"
   ]
  },
  {
   "cell_type": "code",
   "execution_count": 3,
   "metadata": {},
   "outputs": [],
   "source": [
    "from googletrans import Translator"
   ]
  },
  {
   "cell_type": "code",
   "execution_count": 5,
   "metadata": {},
   "outputs": [],
   "source": [
    "fichierText = open(\"bitcoin_texte.txt\", encoding='utf-8' )\n",
    "text = fichierText.read()"
   ]
  },
  {
   "cell_type": "code",
   "execution_count": 6,
   "metadata": {},
   "outputs": [],
   "source": [
    "translator = Translator()"
   ]
  },
  {
   "cell_type": "code",
   "execution_count": 20,
   "metadata": {},
   "outputs": [],
   "source": [
    "traduction_texte = translator.translate(text, dest='en')"
   ]
  },
  {
   "cell_type": "code",
   "execution_count": 23,
   "metadata": {},
   "outputs": [],
   "source": [
    "file = open('bitcoin_texte_en.txt',\"w\", encoding='utf-8')\n",
    "file.write(traduction_texte.text)\n",
    "file.close()"
   ]
  },
  {
   "cell_type": "code",
   "execution_count": 17,
   "metadata": {},
   "outputs": [],
   "source": [
    "import nltk\n",
    "from nltk.tag import UnigramTagger\n",
    "from nltk.corpus import treebank\n",
    "train_sents = treebank.tagged_sents()[:3000]\n",
    "tagger = UnigramTagger(train_sents)\n",
    "from nltk.corpus import sentiwordnet as swn"
   ]
  },
  {
   "cell_type": "code",
   "execution_count": 18,
   "metadata": {},
   "outputs": [],
   "source": [
    "def EtudierEmotionTexteOnlyAdvAndAdj(url) :\n",
    "    fichierTexte = open(f\"{url}\",encoding='utf-8' )\n",
    "    text = fichierTexte.read()\n",
    "    text = text.replace('.','')\n",
    "    text = text.replace('!','')\n",
    "    text = text.replace(',','')\n",
    "    text = text.replace('?','')\n",
    "    text = text.replace('#','')\n",
    "    text = text.replace('@','')\n",
    "    text = text.split(' ')\n",
    "    result_type_text = tagger.tag(text)\n",
    "    liste_mots_a_conserver = []\n",
    "    for i in range(len(result_type_text)) :\n",
    "        if result_type_text[i][1] in [\"JJ\", \"JJR\", \"JJS\", \"RBR\", \"RBS\"] :\n",
    "            liste_mots_a_conserver.append(result_type_text[i][0])\n",
    "    \n",
    "    sentiments_par_mots = []\n",
    "    for i in liste_mots_a_conserver :\n",
    "        sentiments_par_mots.append(swn.senti_synsets(i))\n",
    "    \n",
    "    keepFirstOne = []\n",
    "    for i in sentiments_par_mots :\n",
    "        keepInMemory = i\n",
    "        listI = list(i)\n",
    "        if(len(listI) != 0) :\n",
    "            keepFirstOne.append(listI[0])\n",
    "        i = keepInMemory\n",
    "    \n",
    "    sommePos = 0\n",
    "    sommeNeg = 0\n",
    "    for i in keepFirstOne :\n",
    "        if(i.pos_score()>i.neg_score()) :\n",
    "            sommePos = sommePos + i.pos_score()\n",
    "        sommeNeg = sommeNeg + i.neg_score()\n",
    "    print(f\"{sommePos} {sommeNeg}\")\n",
    "    if sommePos > sommeNeg : \n",
    "        return \"Pos\"\n",
    "    else :\n",
    "        return \"Neg\""
   ]
  },
  {
   "cell_type": "code",
   "execution_count": 24,
   "metadata": {},
   "outputs": [
    {
     "name": "stdout",
     "output_type": "stream",
     "text": [
      "3.375 0.875\n",
      "Pos\n"
     ]
    }
   ],
   "source": [
    "print(EtudierEmotionTexteOnlyAdvAndAdj(\"bitcoin_texte_en.txt\"))"
   ]
  },
  {
   "cell_type": "code",
   "execution_count": 25,
   "metadata": {},
   "outputs": [],
   "source": [
    "from vaderSentiment.vaderSentiment import SentimentIntensityAnalyzer\n",
    "analyser = SentimentIntensityAnalyzer()\n",
    "import pandas as pd"
   ]
  },
  {
   "cell_type": "code",
   "execution_count": 26,
   "metadata": {},
   "outputs": [],
   "source": [
    "def EtudierEmotionTexteR(url) :\n",
    "    sentiment = []\n",
    "    tes = open(f\"{url}\",encoding='utf-8' )\n",
    "    text = tes.read()\n",
    "    text = text.replace('.','')\n",
    "    text = text.replace('!','')\n",
    "    text = text.replace(',','')\n",
    "    text = text.replace('?','')\n",
    "    text = text.replace('#','')\n",
    "    text = text.split(' ')\n",
    "    #result_type_text = tagger.tag(text)\n",
    "    #resul = []\n",
    "    #for i in range(len(result_type_text)) :\n",
    "    #    if result_type_text[i][1] in [\"JJ\", \"JJR\", \"JJS\", \"RBR\", \"RBS\"] :\n",
    "    #        resul.append(result_type_text[i][0])\n",
    "    #tes = []\n",
    "    for tweet in text :\n",
    "        score = analyser.polarity_scores(tweet)\n",
    "        sentiment.append(score)\n",
    "    tweetScore = pd.DataFrame(sentiment)\n",
    "    print(tweetScore.pos.sum())\n",
    "    print(tweetScore.neg.sum())\n",
    "    print(tweetScore.mean())"
   ]
  },
  {
   "cell_type": "code",
   "execution_count": 27,
   "metadata": {},
   "outputs": [
    {
     "name": "stdout",
     "output_type": "stream",
     "text": [
      "17.0\n",
      "10.0\n",
      "compound    0.005061\n",
      "neg         0.029674\n",
      "neu         0.893175\n",
      "pos         0.050445\n",
      "dtype: float64\n"
     ]
    }
   ],
   "source": [
    "EtudierEmotionTexteR(\"bitcoin_texte_en.txt\")"
   ]
  },
  {
   "cell_type": "code",
   "execution_count": null,
   "metadata": {},
   "outputs": [],
   "source": []
  },
  {
   "cell_type": "code",
   "execution_count": null,
   "metadata": {},
   "outputs": [],
   "source": []
  },
  {
   "cell_type": "code",
   "execution_count": null,
   "metadata": {},
   "outputs": [],
   "source": []
  }
 ],
 "metadata": {
  "kernelspec": {
   "display_name": "Python 3",
   "language": "python",
   "name": "python3"
  },
  "language_info": {
   "codemirror_mode": {
    "name": "ipython",
    "version": 3
   },
   "file_extension": ".py",
   "mimetype": "text/x-python",
   "name": "python",
   "nbconvert_exporter": "python",
   "pygments_lexer": "ipython3",
   "version": "3.7.3"
  }
 },
 "nbformat": 4,
 "nbformat_minor": 2
}
